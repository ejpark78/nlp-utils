{
 "cells": [
  {
   "cell_type": "code",
   "execution_count": null,
   "metadata": {},
   "outputs": [],
   "source": [
    "%load_ext autoreload\n",
    "%autoreload 2"
   ]
  },
  {
   "cell_type": "code",
   "execution_count": 1,
   "metadata": {
    "ExecuteTime": {
     "end_time": "2020-01-09T04:37:38.062682Z",
     "start_time": "2020-01-09T04:37:37.746038Z"
    }
   },
   "outputs": [
    {
     "name": "stderr",
     "output_type": "stream",
     "text": [
      "/home/.local/lib/python3.6/site-packages/ipykernel_launcher.py:8: TqdmExperimentalWarning: Using `tqdm.autonotebook.tqdm` in notebook mode. Use `tqdm.tqdm` instead to force console mode (e.g. in jupyter console)\n",
      "  \n"
     ]
    }
   ],
   "source": [
    "import pytz\n",
    "import pandas as pd\n",
    "import requests\n",
    "from os import listdir\n",
    "from os.path import isfile, isdir\n",
    "from datetime import datetime\n",
    "from urllib.parse import unquote\n",
    "from tqdm.autonotebook import tqdm\n",
    "from module.elasticsearch_utils import ElasticSearchUtils"
   ]
  },
  {
   "cell_type": "code",
   "execution_count": 2,
   "metadata": {
    "ExecuteTime": {
     "end_time": "2020-01-09T04:37:38.164422Z",
     "start_time": "2020-01-09T04:37:38.161097Z"
    }
   },
   "outputs": [
    {
     "name": "stderr",
     "output_type": "stream",
     "text": [
      "/home/.local/lib/python3.6/site-packages/elasticsearch/connection/http_urllib3.py:147: UserWarning: When using `ssl_context`, all other SSL related kwargs are ignored\n",
      "  \"When using `ssl_context`, all other SSL related kwargs are ignored\"\n"
     ]
    }
   ],
   "source": [
    "host_info = {\n",
    "    'host': 'https://corpus.ncsoft.com:9200',\n",
    "    'http_auth': 'crawler:crawler2019',\n",
    "    'index': 'crawler-youtube-live-chat',\n",
    "    'split_index': True,\n",
    "}\n",
    "\n",
    "utils = ElasticSearchUtils(**host_info)"
   ]
  },
  {
   "cell_type": "code",
   "execution_count": 44,
   "metadata": {
    "ExecuteTime": {
     "end_time": "2020-01-09T05:16:24.198691Z",
     "start_time": "2020-01-09T05:16:24.191578Z"
    }
   },
   "outputs": [],
   "source": [
    "def simplify(doc, title):\n",
    "    \"\"\" \"\"\"\n",
    "    try:\n",
    "        chat_list = doc['response']['continuationContents']['liveChatContinuation']['actions']\n",
    "    except Exception as e:\n",
    "        return []\n",
    "    \n",
    "    tz = pytz.timezone('Asia/Seoul')\n",
    "\n",
    "    result = []\n",
    "    for act_item in chat_list:\n",
    "        if 'replayChatItemAction' not in act_item:\n",
    "            return []\n",
    "\n",
    "        for act in act_item['replayChatItemAction']['actions']:\n",
    "            try:\n",
    "                chat_text = act['addChatItemAction']['item']['liveChatTextMessageRenderer']\n",
    "            except Exception as e:\n",
    "                continue\n",
    "                \n",
    "            item = {\n",
    "                '_id': unquote(chat_text['id']),\n",
    "                'title': title,\n",
    "                'video_offset': int(act_item['replayChatItemAction']['videoOffsetTimeMsec']),\n",
    "                'time_stamp': chat_text['timestampText']['simpleText'],\n",
    "                'author': chat_text['authorName']['simpleText'],\n",
    "                'text': '\\n'.join([v['text'].strip() for v in chat_text['message']['runs'] if 'text' in v]),\n",
    "            }\n",
    "\n",
    "            try:\n",
    "                timestemp = int(chat_text['timestampUsec'][0:-3]) / 1000.0\n",
    "\n",
    "                dt = datetime.fromtimestamp(timestemp)\n",
    "                item['date'] = dt.astimezone(tz).isoformat()\n",
    "            except Exception as e:\n",
    "                print('error at parse date', [timestemp, e])\n",
    "\n",
    "            result.append(item)\n",
    "\n",
    "    return result\n",
    "\n",
    "\n",
    "def extract_chat_text(data_path, title):\n",
    "    \"\"\" \"\"\"\n",
    "    doc_list = []\n",
    "    for f_name in listdir('{}/{}'.format(data_path, title)):\n",
    "        f = '{}/{}/{}'.format(data_path, title, f_name)\n",
    "        \n",
    "        if isdir(f):\n",
    "            continue\n",
    "\n",
    "        with open(f, 'r') as fp:\n",
    "            doc = json.load(fp)\n",
    "\n",
    "        doc_list += simplify(doc=doc, title=title)\n",
    "\n",
    "    return doc_list"
   ]
  },
  {
   "cell_type": "code",
   "execution_count": 45,
   "metadata": {
    "ExecuteTime": {
     "end_time": "2020-01-09T05:17:59.431782Z",
     "start_time": "2020-01-09T05:16:26.390110Z"
    }
   },
   "outputs": [
    {
     "data": {
      "application/vnd.jupyter.widget-view+json": {
       "model_id": "97c3215022dd4fd7beaa7350fe776e67",
       "version_major": 2,
       "version_minor": 0
      },
      "text/plain": [
       "HBox(children=(FloatProgress(value=0.0, max=21.0), HTML(value='')))"
      ]
     },
     "metadata": {},
     "output_type": "display_data"
    },
    {
     "name": "stdout",
     "output_type": "stream",
     "text": [
      "\n"
     ]
    }
   ],
   "source": [
    "data_path = 'data/youtube-live-chat'\n",
    "data_path = 'data/youtube-live-chat/[똘끼 풀영상]모음'\n",
    "\n",
    "pbar = tqdm(listdir(data_path))\n",
    "for d in pbar:\n",
    "    if isfile('{}/{}'.format(data_path, d)):\n",
    "        continue\n",
    "        \n",
    "    pbar.set_description(d)\n",
    "    \n",
    "    doc_list = extract_chat_text(data_path=data_path, title=d)\n",
    "    if len(doc_list) == 0:\n",
    "        continue\n",
    "        \n",
    "    for doc in doc_list:\n",
    "        utils.save_document(document=doc)\n",
    "    utils.flush()\n",
    "    \n",
    "    df = pd.DataFrame(doc_list)\n",
    "\n",
    "    df.sort_values('video_offset', inplace=True)\n",
    "    df.to_excel('{}/{}.xlsx'.format(data_path, d), index=False)"
   ]
  },
  {
   "cell_type": "code",
   "execution_count": null,
   "metadata": {},
   "outputs": [],
   "source": []
  }
 ],
 "metadata": {
  "kernelspec": {
   "display_name": "Python 3",
   "language": "python",
   "name": "python3"
  },
  "language_info": {
   "codemirror_mode": {
    "name": "ipython",
    "version": 3
   },
   "file_extension": ".py",
   "mimetype": "text/x-python",
   "name": "python",
   "nbconvert_exporter": "python",
   "pygments_lexer": "ipython3",
   "version": "3.6.9"
  }
 },
 "nbformat": 4,
 "nbformat_minor": 2
}
