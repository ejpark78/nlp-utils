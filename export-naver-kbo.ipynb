{
 "cells": [
  {
   "cell_type": "code",
   "execution_count": null,
   "metadata": {
    "ExecuteTime": {
     "end_time": "2019-09-26T00:54:08.953342Z",
     "start_time": "2019-09-26T00:53:15.169349Z"
    }
   },
   "outputs": [],
   "source": [
    "import bz2\n",
    "import json\n",
    "from tqdm.autonotebook import tqdm\n",
    "\n",
    "filename = 'corpus_process-naver-sports-kbo-2019.json'\n",
    "with open(filename, 'r') as fp:\n",
    "    kbo = []\n",
    "    for line in tqdm(fp.readlines()):\n",
    "        doc = json.loads(line)\n",
    "\n",
    "        nlu_wrapper = doc['nlu_wrapper']\n",
    "        for location in nlu_wrapper:\n",
    "            if location == 'option':\n",
    "                continue\n",
    "                \n",
    "            buf = {  \n",
    "                'type': location\n",
    "            }\n",
    "            \n",
    "            for k in ['document_id', 'date', 'url']:\n",
    "                if k in doc:\n",
    "                    buf[k] = doc[k]\n",
    "                \n",
    "            for item in nlu_wrapper[location]:\n",
    "                for k in item:\n",
    "                    buf[k] = item[k]\n",
    "                    \n",
    "            if 'depen_str' in buf and buf['depen_str'] != '':\n",
    "                depen = json.loads(buf['depen_str'])\n",
    "                \n",
    "                buf['depen_str'] = ''\n",
    "                for d in depen:\n",
    "                    buf['depen_str'] += '{index}\\t{head}\\t{morp}\\t{func}\\n'.format(**d)\n",
    "                    \n",
    "            kbo.append(buf)"
   ]
  },
  {
   "cell_type": "code",
   "execution_count": null,
   "metadata": {
    "ExecuteTime": {
     "end_time": "2019-09-26T00:54:10.529244Z",
     "start_time": "2019-09-26T00:54:09.551224Z"
    },
    "scrolled": true
   },
   "outputs": [],
   "source": [
    "import pandas as pd\n",
    "\n",
    "df = pd.DataFrame(kbo)\n",
    "\n",
    "df.fillna('', inplace=True)\n",
    "df.head()"
   ]
  },
  {
   "cell_type": "code",
   "execution_count": null,
   "metadata": {
    "ExecuteTime": {
     "end_time": "2019-09-26T00:54:10.732264Z",
     "start_time": "2019-09-26T00:54:10.530573Z"
    }
   },
   "outputs": [],
   "source": [
    "df.info()"
   ]
  },
  {
   "cell_type": "code",
   "execution_count": null,
   "metadata": {
    "ExecuteTime": {
     "end_time": "2019-09-26T00:55:14.473292Z",
     "start_time": "2019-09-26T00:54:10.733494Z"
    }
   },
   "outputs": [],
   "source": [
    "df.to_excel('corpus_process-naver-sports-kbo-2019.xlsx', index=False)"
   ]
  },
  {
   "cell_type": "code",
   "execution_count": null,
   "metadata": {},
   "outputs": [],
   "source": []
  }
 ],
 "metadata": {
  "kernelspec": {
   "display_name": "Python 3",
   "language": "python",
   "name": "python3"
  },
  "language_info": {
   "codemirror_mode": {
    "name": "ipython",
    "version": 3
   },
   "file_extension": ".py",
   "mimetype": "text/x-python",
   "name": "python",
   "nbconvert_exporter": "python",
   "pygments_lexer": "ipython3",
   "version": "3.6.8"
  }
 },
 "nbformat": 4,
 "nbformat_minor": 2
}
