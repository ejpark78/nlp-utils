{
 "cells": [
  {
   "cell_type": "code",
   "execution_count": 5,
   "metadata": {
    "ExecuteTime": {
     "end_time": "2019-12-17T06:32:52.050342Z",
     "start_time": "2019-12-17T06:32:50.680667Z"
    }
   },
   "outputs": [],
   "source": [
    "import re\n",
    "import pandas as pd\n",
    "from glob import glob"
   ]
  },
  {
   "cell_type": "code",
   "execution_count": 35,
   "metadata": {
    "ExecuteTime": {
     "end_time": "2019-12-17T06:49:55.484287Z",
     "start_time": "2019-12-17T06:49:55.432201Z"
    }
   },
   "outputs": [],
   "source": [
    "from copy import deepcopy\n",
    "\n",
    "chat_list = []\n",
    "for f in glob('data/mc/qq/*.txt'):\n",
    "    lines = []\n",
    "    with open(f, 'r') as fp:\n",
    "        lines = fp.readlines()\n",
    "\n",
    "    \n",
    "    buf = {\n",
    "        'filename': f.split('/')[-1],\n",
    "        'user_id': '',\n",
    "        'user_name': '',\n",
    "        'date': '',\n",
    "        'text': [],\n",
    "    }\n",
    "    for line in lines:\n",
    "        line = line.strip()\n",
    "        \n",
    "        if line == '' and buf['user_id'] != '':\n",
    "            chat_list.append(deepcopy(buf))\n",
    "\n",
    "        m = re.search(\n",
    "            '^(\\d{4,4}-\\d{2,2}-\\d{2,2} (오전|오후) \\d{1,2}:\\d{1,2}:\\d{1,2}) ([^)]*)\\(([^)]+)\\)$', line)\n",
    "        if m is None:\n",
    "            if buf['user_id'] != '':\n",
    "                buf['text'].append(line)\n",
    "\n",
    "            continue\n",
    "\n",
    "        if buf['user_id'] != m.group(4):\n",
    "            buf['text'] = []\n",
    "            \n",
    "        buf['date'] = m.group(1)\n",
    "        buf['user_name'] = m.group(3)\n",
    "        buf['user_id'] = m.group(4)        "
   ]
  },
  {
   "cell_type": "code",
   "execution_count": 36,
   "metadata": {
    "ExecuteTime": {
     "end_time": "2019-12-17T06:49:57.062484Z",
     "start_time": "2019-12-17T06:49:57.051585Z"
    }
   },
   "outputs": [
    {
     "data": {
      "text/html": [
       "<div>\n",
       "<style scoped>\n",
       "    .dataframe tbody tr th:only-of-type {\n",
       "        vertical-align: middle;\n",
       "    }\n",
       "\n",
       "    .dataframe tbody tr th {\n",
       "        vertical-align: top;\n",
       "    }\n",
       "\n",
       "    .dataframe thead th {\n",
       "        text-align: right;\n",
       "    }\n",
       "</style>\n",
       "<table border=\"1\" class=\"dataframe\">\n",
       "  <thead>\n",
       "    <tr style=\"text-align: right;\">\n",
       "      <th></th>\n",
       "      <th>filename</th>\n",
       "      <th>user_id</th>\n",
       "      <th>user_name</th>\n",
       "      <th>date</th>\n",
       "      <th>text</th>\n",
       "    </tr>\n",
       "  </thead>\n",
       "  <tbody>\n",
       "    <tr>\n",
       "      <th>0</th>\n",
       "      <td>리니지2 (5).txt</td>\n",
       "      <td>859333176</td>\n",
       "      <td>Asa-王恩宝</td>\n",
       "      <td>2019-12-10 오후 6:51:38</td>\n",
       "      <td>[法师能打够蛋钱就不错了]</td>\n",
       "    </tr>\n",
       "    <tr>\n",
       "      <th>1</th>\n",
       "      <td>리니지2 (5).txt</td>\n",
       "      <td>605962891</td>\n",
       "      <td></td>\n",
       "      <td>2019-12-10 오후 6:53:37</td>\n",
       "      <td>[不可能]</td>\n",
       "    </tr>\n",
       "    <tr>\n",
       "      <th>2</th>\n",
       "      <td>리니지2 (5).txt</td>\n",
       "      <td>605962891</td>\n",
       "      <td></td>\n",
       "      <td>2019-12-10 오후 6:53:55</td>\n",
       "      <td>[不可能, , 蛋钱这辈子不可能啦]</td>\n",
       "    </tr>\n",
       "    <tr>\n",
       "      <th>3</th>\n",
       "      <td>리니지2 (5).txt</td>\n",
       "      <td>605962891</td>\n",
       "      <td></td>\n",
       "      <td>2019-12-10 오후 6:54:27</td>\n",
       "      <td>[不可能, , 蛋钱这辈子不可能啦, , 现在还是觉得战士得劲，有打击感 续航好 蛋钱便宜]</td>\n",
       "    </tr>\n",
       "    <tr>\n",
       "      <th>4</th>\n",
       "      <td>리니지2 (5).txt</td>\n",
       "      <td>448715802</td>\n",
       "      <td>小狼</td>\n",
       "      <td>2019-12-10 오후 6:57:56</td>\n",
       "      <td>[近战越到后面越猛]</td>\n",
       "    </tr>\n",
       "    <tr>\n",
       "      <th>...</th>\n",
       "      <td>...</td>\n",
       "      <td>...</td>\n",
       "      <td>...</td>\n",
       "      <td>...</td>\n",
       "      <td>...</td>\n",
       "    </tr>\n",
       "    <tr>\n",
       "      <th>1484</th>\n",
       "      <td>리니지2 (3).txt</td>\n",
       "      <td>2478348322</td>\n",
       "      <td>艺瑟</td>\n",
       "      <td>2019-12-16 오전 11:23:29</td>\n",
       "      <td>[[表情]]</td>\n",
       "    </tr>\n",
       "    <tr>\n",
       "      <th>1485</th>\n",
       "      <td>리니지2 (3).txt</td>\n",
       "      <td>254368653</td>\n",
       "      <td>【群主】专业摸鱼-icychimera</td>\n",
       "      <td>2019-12-16 오전 11:23:40</td>\n",
       "      <td>[时差大概6小时]</td>\n",
       "    </tr>\n",
       "    <tr>\n",
       "      <th>1486</th>\n",
       "      <td>리니지2 (3).txt</td>\n",
       "      <td>254368653</td>\n",
       "      <td>专业摸鱼-icychimera</td>\n",
       "      <td>2019-12-16 오전 11:24:37</td>\n",
       "      <td>[时差大概6小时, , [图片]看这漫山遍野的怪]</td>\n",
       "    </tr>\n",
       "    <tr>\n",
       "      <th>1487</th>\n",
       "      <td>리니지2 (3).txt</td>\n",
       "      <td>254368653</td>\n",
       "      <td>专业摸鱼-icychimera</td>\n",
       "      <td>2019-12-16 오전 11:24:51</td>\n",
       "      <td>[时差大概6小时, , [图片]看这漫山遍野的怪, , 国服差不多是把怪换成工作室的号]</td>\n",
       "    </tr>\n",
       "    <tr>\n",
       "      <th>1488</th>\n",
       "      <td>리니지2 (3).txt</td>\n",
       "      <td>2478348322</td>\n",
       "      <td>艺瑟</td>\n",
       "      <td>2019-12-16 오전 11:25:43</td>\n",
       "      <td>[哦哦、、]</td>\n",
       "    </tr>\n",
       "  </tbody>\n",
       "</table>\n",
       "<p>1489 rows × 5 columns</p>\n",
       "</div>"
      ],
      "text/plain": [
       "          filename     user_id            user_name                    date  \\\n",
       "0     리니지2 (5).txt   859333176              Asa-王恩宝   2019-12-10 오후 6:51:38   \n",
       "1     리니지2 (5).txt   605962891                        2019-12-10 오후 6:53:37   \n",
       "2     리니지2 (5).txt   605962891                        2019-12-10 오후 6:53:55   \n",
       "3     리니지2 (5).txt   605962891                        2019-12-10 오후 6:54:27   \n",
       "4     리니지2 (5).txt   448715802                   小狼   2019-12-10 오후 6:57:56   \n",
       "...            ...         ...                  ...                     ...   \n",
       "1484  리니지2 (3).txt  2478348322                   艺瑟  2019-12-16 오전 11:23:29   \n",
       "1485  리니지2 (3).txt   254368653  【群主】专业摸鱼-icychimera  2019-12-16 오전 11:23:40   \n",
       "1486  리니지2 (3).txt   254368653      专业摸鱼-icychimera  2019-12-16 오전 11:24:37   \n",
       "1487  리니지2 (3).txt   254368653      专业摸鱼-icychimera  2019-12-16 오전 11:24:51   \n",
       "1488  리니지2 (3).txt  2478348322                   艺瑟  2019-12-16 오전 11:25:43   \n",
       "\n",
       "                                                text  \n",
       "0                                      [法师能打够蛋钱就不错了]  \n",
       "1                                              [不可能]  \n",
       "2                                 [不可能, , 蛋钱这辈子不可能啦]  \n",
       "3     [不可能, , 蛋钱这辈子不可能啦, , 现在还是觉得战士得劲，有打击感 续航好 蛋钱便宜]  \n",
       "4                                         [近战越到后面越猛]  \n",
       "...                                              ...  \n",
       "1484                                          [[表情]]  \n",
       "1485                                       [时差大概6小时]  \n",
       "1486                       [时差大概6小时, , [图片]看这漫山遍野的怪]  \n",
       "1487    [时差大概6小时, , [图片]看这漫山遍野的怪, , 国服差不多是把怪换成工作室的号]  \n",
       "1488                                          [哦哦、、]  \n",
       "\n",
       "[1489 rows x 5 columns]"
      ]
     },
     "execution_count": 36,
     "metadata": {},
     "output_type": "execute_result"
    }
   ],
   "source": [
    "df = pd.DataFrame(chat_list)\n",
    "df"
   ]
  },
  {
   "cell_type": "code",
   "execution_count": 37,
   "metadata": {
    "ExecuteTime": {
     "end_time": "2019-12-17T06:49:58.999112Z",
     "start_time": "2019-12-17T06:49:58.852613Z"
    }
   },
   "outputs": [],
   "source": [
    "df.to_excel('data/mc/qq/리니지2_중국어(간체)_QQ.xlsx', index=False)"
   ]
  }
 ],
 "metadata": {
  "kernelspec": {
   "display_name": "Python 3",
   "language": "python",
   "name": "python3"
  },
  "language_info": {
   "codemirror_mode": {
    "name": "ipython",
    "version": 3
   },
   "file_extension": ".py",
   "mimetype": "text/x-python",
   "name": "python",
   "nbconvert_exporter": "python",
   "pygments_lexer": "ipython3",
   "version": "3.6.9"
  }
 },
 "nbformat": 4,
 "nbformat_minor": 2
}
