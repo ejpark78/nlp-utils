{
 "cells": [
  {
   "cell_type": "code",
   "execution_count": 10,
   "metadata": {
    "ExecuteTime": {
     "end_time": "2019-11-08T01:36:41.647143Z",
     "start_time": "2019-11-08T01:36:41.641243Z"
    }
   },
   "outputs": [
    {
     "name": "stdout",
     "output_type": "stream",
     "text": [
      "585\n"
     ]
    }
   ],
   "source": [
    "num = 11\n",
    "\n",
    "while True:\n",
    "    num_10 = str(num)\n",
    "    num_8 = oct(num).replace('0o', '')\n",
    "    num_2 = bin(num).replace('0b', '')\n",
    "    \n",
    "    if num_10 == num_10[::-1] and num_8 == num_8[::-1] and num_2 == num_2[::-1]:\n",
    "        print(num)\n",
    "        break\n",
    "        \n",
    "    num += 2"
   ]
  },
  {
   "cell_type": "code",
   "execution_count": null,
   "metadata": {},
   "outputs": [],
   "source": []
  }
 ],
 "metadata": {
  "kernelspec": {
   "display_name": "Python 3",
   "language": "python",
   "name": "python3"
  },
  "language_info": {
   "codemirror_mode": {
    "name": "ipython",
    "version": 3
   },
   "file_extension": ".py",
   "mimetype": "text/x-python",
   "name": "python",
   "nbconvert_exporter": "python",
   "pygments_lexer": "ipython3",
   "version": "3.6.8"
  }
 },
 "nbformat": 4,
 "nbformat_minor": 2
}
