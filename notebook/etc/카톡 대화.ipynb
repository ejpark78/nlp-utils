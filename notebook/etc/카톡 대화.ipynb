{
 "cells": [
  {
   "cell_type": "code",
   "execution_count": 6,
   "metadata": {
    "ExecuteTime": {
     "end_time": "2019-12-12T01:10:36.659160Z",
     "start_time": "2019-12-12T01:10:36.657124Z"
    }
   },
   "outputs": [],
   "source": [
    "import re\n",
    "import pandas as pd\n",
    "from copy import deepcopy"
   ]
  },
  {
   "cell_type": "code",
   "execution_count": 3,
   "metadata": {
    "ExecuteTime": {
     "end_time": "2019-12-12T01:00:17.446185Z",
     "start_time": "2019-12-12T01:00:17.443281Z"
    }
   },
   "outputs": [],
   "source": [
    "filename = 'data/KakaoTalk_20191212_0914_47_100_group.txt'\n",
    "\n",
    "files = []\n",
    "with open(filename, 'r') as fp:\n",
    "    files = fp.readlines()"
   ]
  },
  {
   "cell_type": "code",
   "execution_count": 4,
   "metadata": {
    "ExecuteTime": {
     "end_time": "2019-12-12T01:00:23.173117Z",
     "start_time": "2019-12-12T01:00:23.167156Z"
    }
   },
   "outputs": [
    {
     "data": {
      "text/plain": [
       "['1.[플펀]리니지2m 정보공유, 시세정보 다계정 토론방 님과 카카오톡 대화\\n',\n",
       " '저장한 날짜 : 2019-12-12 09:15:09\\n',\n",
       " '\\n',\n",
       " '--------------- 2019년 12월 11일 수요일 ---------------\\n',\n",
       " '소다님이 들어왔습니다.운영정책을 위반한 메시지로 신고 접수 시 카카오톡 이용에 제한이 있을 수 있습니다. \\n',\n",
       " '[ㅗㅗ] [오후 5:39] 6천이면 졸라 비싼거 같은데\\n',\n",
       " '[ㅗㅗ] [오후 5:39] 섭 어디신데여\\n',\n",
       " '[플펀] [오후 5:40] 새로오신분!★ 오른쪽상단 ★알람★ 끄기누르시면 소리방해 없이 이용하실수있습니다  왼쪽 상단 ♥ 좋아요도 한번씩 눌러주세요^^ 공지필독  \\n',\n",
       " '도배/욕설은 강퇴입니다\\n',\n",
       " '[쏘우] [오후 5:41] 출젤 1200이면 싼건가요?\\n',\n",
       " '이즈백님이 나갔습니다.\\n',\n",
       " '[호시호] [오후 5:47] 오필 10섭분 계신가여\\n',\n",
       " '[플펀] [오후 5:47] 방활성화를 위해 다들 채팅방 상단에 (하트표) 많이 눌러주세요\\n',\n",
       " '[이리스(티케)] [오후 5:49] 넹\\n',\n",
       " '리오나09님이 들어왔습니다.\\n',\n",
       " '[리오나09] [오후 5:50] 리오나09 9실레보우 ㅍㅍ\\n',\n",
       " '[트트] [오후 5:52] 두번누르겠습니다\\n',\n",
       " '[이리스(티케)] [오후 5:54] 두번 누르면 취소...ㄷ\\n',\n",
       " '[린2] [오후 5:59] ㄷㄷ\\n',\n",
       " 'ㅌ님이 들어왔습니다.\\n']"
      ]
     },
     "execution_count": 4,
     "metadata": {},
     "output_type": "execute_result"
    }
   ],
   "source": [
    "files[:20]"
   ]
  },
  {
   "cell_type": "code",
   "execution_count": 15,
   "metadata": {
    "ExecuteTime": {
     "end_time": "2019-12-12T01:13:38.283191Z",
     "start_time": "2019-12-12T01:13:38.272364Z"
    }
   },
   "outputs": [],
   "source": [
    "chat_list = []\n",
    "\n",
    "buf = {\n",
    "    'date': '',\n",
    "    'user_name': '',\n",
    "    'time': '',\n",
    "    'text': '',\n",
    "}\n",
    "\n",
    "for line in files:\n",
    "    line = line.strip()\n",
    "    \n",
    "    if line.find('------') == 0:\n",
    "        buf['date'] = line.replace('-', '')\n",
    "        continue\n",
    "    \n",
    "    if line.find('님이 나갔습니다.') > 0:\n",
    "        continue\n",
    "        \n",
    "    if line.find('님이 들어왔습니다.') > 0:\n",
    "        continue    \n",
    "        \n",
    "    if buf['date'] == '':\n",
    "        continue\n",
    "        \n",
    "    m = re.search('\\[([^]]+)\\]\\s+\\[([^]]+)\\](.+)$', line)\n",
    "    if m is not None:\n",
    "        buf['user_name'] = m.group(1)\n",
    "        buf['time'] = m.group(2)\n",
    "        buf['text'] = m.group(3)\n",
    "    elif len(chat_list) > 0:\n",
    "        buf['text'] = line\n",
    "\n",
    "    chat_list.append(deepcopy(buf))"
   ]
  },
  {
   "cell_type": "code",
   "execution_count": 18,
   "metadata": {
    "ExecuteTime": {
     "end_time": "2019-12-12T01:14:18.338631Z",
     "start_time": "2019-12-12T01:14:18.318660Z"
    }
   },
   "outputs": [
    {
     "data": {
      "text/html": [
       "<div>\n",
       "<style scoped>\n",
       "    .dataframe tbody tr th:only-of-type {\n",
       "        vertical-align: middle;\n",
       "    }\n",
       "\n",
       "    .dataframe tbody tr th {\n",
       "        vertical-align: top;\n",
       "    }\n",
       "\n",
       "    .dataframe thead th {\n",
       "        text-align: right;\n",
       "    }\n",
       "</style>\n",
       "<table border=\"1\" class=\"dataframe\">\n",
       "  <thead>\n",
       "    <tr style=\"text-align: right;\">\n",
       "      <th></th>\n",
       "      <th>date</th>\n",
       "      <th>user_name</th>\n",
       "      <th>time</th>\n",
       "      <th>text</th>\n",
       "    </tr>\n",
       "  </thead>\n",
       "  <tbody>\n",
       "    <tr>\n",
       "      <th>0</th>\n",
       "      <td>2019년 12월 11일 수요일</td>\n",
       "      <td>ㅗㅗ</td>\n",
       "      <td>오후 5:39</td>\n",
       "      <td>6천이면 졸라 비싼거 같은데</td>\n",
       "    </tr>\n",
       "    <tr>\n",
       "      <th>1</th>\n",
       "      <td>2019년 12월 11일 수요일</td>\n",
       "      <td>ㅗㅗ</td>\n",
       "      <td>오후 5:39</td>\n",
       "      <td>섭 어디신데여</td>\n",
       "    </tr>\n",
       "    <tr>\n",
       "      <th>2</th>\n",
       "      <td>2019년 12월 11일 수요일</td>\n",
       "      <td>플펀</td>\n",
       "      <td>오후 5:40</td>\n",
       "      <td>새로오신분!★ 오른쪽상단 ★알람★ 끄기누르시면 소리방해 없이 이용하실수있습니다  ...</td>\n",
       "    </tr>\n",
       "    <tr>\n",
       "      <th>3</th>\n",
       "      <td>2019년 12월 11일 수요일</td>\n",
       "      <td>플펀</td>\n",
       "      <td>오후 5:40</td>\n",
       "      <td>도배/욕설은 강퇴입니다</td>\n",
       "    </tr>\n",
       "    <tr>\n",
       "      <th>4</th>\n",
       "      <td>2019년 12월 11일 수요일</td>\n",
       "      <td>쏘우</td>\n",
       "      <td>오후 5:41</td>\n",
       "      <td>출젤 1200이면 싼건가요?</td>\n",
       "    </tr>\n",
       "    <tr>\n",
       "      <th>...</th>\n",
       "      <td>...</td>\n",
       "      <td>...</td>\n",
       "      <td>...</td>\n",
       "      <td>...</td>\n",
       "    </tr>\n",
       "    <tr>\n",
       "      <th>1094</th>\n",
       "      <td>2019년 12월 12일 목요일</td>\n",
       "      <td>-</td>\n",
       "      <td>오전 9:09</td>\n",
       "      <td>걍 등록하세요 그럼 되요</td>\n",
       "    </tr>\n",
       "    <tr>\n",
       "      <th>1095</th>\n",
       "      <td>2019년 12월 12일 목요일</td>\n",
       "      <td>-</td>\n",
       "      <td>오전 9:10</td>\n",
       "      <td>이번건 어짜피 꽁짜니깐 좋구나하시고</td>\n",
       "    </tr>\n",
       "    <tr>\n",
       "      <th>1096</th>\n",
       "      <td>2019년 12월 12일 목요일</td>\n",
       "      <td>-</td>\n",
       "      <td>오전 9:10</td>\n",
       "      <td>깔꼼하당</td>\n",
       "    </tr>\n",
       "    <tr>\n",
       "      <th>1097</th>\n",
       "      <td>2019년 12월 12일 목요일</td>\n",
       "      <td>ㅇ</td>\n",
       "      <td>오전 9:10</td>\n",
       "      <td>역시모르는사람이 잘못된정보 우기면 이렇게 혼란해짐</td>\n",
       "    </tr>\n",
       "    <tr>\n",
       "      <th>1098</th>\n",
       "      <td>2019년 12월 12일 목요일</td>\n",
       "      <td>미느</td>\n",
       "      <td>오전 9:11</td>\n",
       "      <td>저 테온5입니다</td>\n",
       "    </tr>\n",
       "  </tbody>\n",
       "</table>\n",
       "<p>1099 rows × 4 columns</p>\n",
       "</div>"
      ],
      "text/plain": [
       "                     date user_name     time  \\\n",
       "0      2019년 12월 11일 수요일         ㅗㅗ  오후 5:39   \n",
       "1      2019년 12월 11일 수요일         ㅗㅗ  오후 5:39   \n",
       "2      2019년 12월 11일 수요일         플펀  오후 5:40   \n",
       "3      2019년 12월 11일 수요일         플펀  오후 5:40   \n",
       "4      2019년 12월 11일 수요일         쏘우  오후 5:41   \n",
       "...                   ...       ...      ...   \n",
       "1094   2019년 12월 12일 목요일          -  오전 9:09   \n",
       "1095   2019년 12월 12일 목요일          -  오전 9:10   \n",
       "1096   2019년 12월 12일 목요일          -  오전 9:10   \n",
       "1097   2019년 12월 12일 목요일          ㅇ  오전 9:10   \n",
       "1098   2019년 12월 12일 목요일         미느  오전 9:11   \n",
       "\n",
       "                                                   text  \n",
       "0                                       6천이면 졸라 비싼거 같은데  \n",
       "1                                               섭 어디신데여  \n",
       "2      새로오신분!★ 오른쪽상단 ★알람★ 끄기누르시면 소리방해 없이 이용하실수있습니다  ...  \n",
       "3                                          도배/욕설은 강퇴입니다  \n",
       "4                                       출젤 1200이면 싼건가요?  \n",
       "...                                                 ...  \n",
       "1094                                      걍 등록하세요 그럼 되요  \n",
       "1095                                이번건 어짜피 꽁짜니깐 좋구나하시고  \n",
       "1096                                               깔꼼하당  \n",
       "1097                        역시모르는사람이 잘못된정보 우기면 이렇게 혼란해짐  \n",
       "1098                                           저 테온5입니다  \n",
       "\n",
       "[1099 rows x 4 columns]"
      ]
     },
     "execution_count": 18,
     "metadata": {},
     "output_type": "execute_result"
    }
   ],
   "source": [
    "df = pd.DataFrame(chat_list)\n",
    "\n",
    "df.fillna('', inplace=True)\n",
    "df"
   ]
  },
  {
   "cell_type": "code",
   "execution_count": 21,
   "metadata": {
    "ExecuteTime": {
     "end_time": "2019-12-12T01:15:38.585425Z",
     "start_time": "2019-12-12T01:15:38.491777Z"
    }
   },
   "outputs": [],
   "source": [
    "df.to_excel('data/[플펀]리니지2m 정보공유, 시세정보 다계정 토론방 - 2019-12-12 091509.xlsx', index=False)"
   ]
  }
 ],
 "metadata": {
  "kernelspec": {
   "display_name": "Python 3",
   "language": "python",
   "name": "python3"
  },
  "language_info": {
   "codemirror_mode": {
    "name": "ipython",
    "version": 3
   },
   "file_extension": ".py",
   "mimetype": "text/x-python",
   "name": "python",
   "nbconvert_exporter": "python",
   "pygments_lexer": "ipython3",
   "version": "3.6.9"
  }
 },
 "nbformat": 4,
 "nbformat_minor": 2
}
