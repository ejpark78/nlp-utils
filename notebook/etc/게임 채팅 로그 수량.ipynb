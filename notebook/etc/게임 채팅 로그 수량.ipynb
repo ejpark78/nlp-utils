{
 "cells": [
  {
   "cell_type": "code",
   "execution_count": 1,
   "metadata": {
    "ExecuteTime": {
     "end_time": "2020-02-11T04:34:27.595312Z",
     "start_time": "2020-02-11T04:34:27.585243Z"
    }
   },
   "outputs": [],
   "source": [
    "%load_ext autoreload\n",
    "%autoreload 2"
   ]
  },
  {
   "cell_type": "code",
   "execution_count": 4,
   "metadata": {
    "ExecuteTime": {
     "end_time": "2020-02-11T04:34:37.418592Z",
     "start_time": "2020-02-11T04:34:37.388447Z"
    }
   },
   "outputs": [],
   "source": [
    "import pandas as pd\n",
    "from tqdm import tqdm\n",
    "from datetime import datetime\n",
    "from utils.elasticsearch_utils import ElasticSearchUtils"
   ]
  },
  {
   "cell_type": "code",
   "execution_count": 5,
   "metadata": {
    "ExecuteTime": {
     "end_time": "2020-02-11T04:34:38.312914Z",
     "start_time": "2020-02-11T04:34:38.303538Z"
    }
   },
   "outputs": [],
   "source": [
    "def dump_data(index, sources):\n",
    "    \"\"\" \"\"\"\n",
    "    host_info = {\n",
    "        'host': 'https://corpus.ncsoft.com:9200',\n",
    "        'http_auth': 'elastic:nlplab',\n",
    "    }\n",
    "\n",
    "    utils = ElasticSearchUtils(**host_info)\n",
    "\n",
    "    query = {\n",
    "        '_source': sources\n",
    "    }\n",
    "\n",
    "    doc_list = []\n",
    "    utils.export(index=index, result=doc_list, query=query)\n",
    "\n",
    "    return doc_list"
   ]
  },
  {
   "cell_type": "code",
   "execution_count": 24,
   "metadata": {
    "ExecuteTime": {
     "end_time": "2020-02-11T05:46:54.990335Z",
     "start_time": "2020-02-11T05:40:46.099456Z"
    }
   },
   "outputs": [
    {
     "data": {
      "application/vnd.jupyter.widget-view+json": {
       "model_id": "3f32c25bb148433cb7a5d567d255c197",
       "version_major": 2,
       "version_minor": 0
      },
      "text/plain": [
       "HBox(children=(FloatProgress(value=0.0, description='dump: corpus-game-chatting-logs', layout=Layout(flex='2')…"
      ]
     },
     "metadata": {},
     "output_type": "display_data"
    },
    {
     "name": "stdout",
     "output_type": "stream",
     "text": [
      "\n"
     ]
    }
   ],
   "source": [
    "index = 'corpus-game-chatting-logs'\n",
    "sources = ['game_name', 'lang']\n",
    "\n",
    "doc_list = dump_data(index, sources=sources)"
   ]
  },
  {
   "cell_type": "code",
   "execution_count": 25,
   "metadata": {
    "ExecuteTime": {
     "end_time": "2020-02-11T05:47:08.077592Z",
     "start_time": "2020-02-11T05:46:54.992412Z"
    }
   },
   "outputs": [],
   "source": [
    "df = pd.DataFrame(doc_list).fillna('').groupby(by=sources).size().to_frame('수량')"
   ]
  },
  {
   "cell_type": "code",
   "execution_count": 26,
   "metadata": {
    "ExecuteTime": {
     "end_time": "2020-02-11T05:47:08.097617Z",
     "start_time": "2020-02-11T05:47:08.078806Z"
    }
   },
   "outputs": [
    {
     "data": {
      "text/html": [
       "<style  type=\"text/css\" >\n",
       "    #T_f0ba9342_4c91_11ea_8e16_b42e99c32101row0_col0 {\n",
       "            text-align:  right;\n",
       "        }    #T_f0ba9342_4c91_11ea_8e16_b42e99c32101row1_col0 {\n",
       "            text-align:  right;\n",
       "        }    #T_f0ba9342_4c91_11ea_8e16_b42e99c32101row2_col0 {\n",
       "            text-align:  right;\n",
       "        }    #T_f0ba9342_4c91_11ea_8e16_b42e99c32101row3_col0 {\n",
       "            text-align:  right;\n",
       "        }    #T_f0ba9342_4c91_11ea_8e16_b42e99c32101row4_col0 {\n",
       "            text-align:  right;\n",
       "        }</style><table id=\"T_f0ba9342_4c91_11ea_8e16_b42e99c32101\" ><thead>    <tr>        <th class=\"blank\" ></th>        <th class=\"blank level0\" ></th>        <th class=\"col_heading level0 col0\" >수량</th>    </tr>    <tr>        <th class=\"index_name level0\" >game_name</th>        <th class=\"index_name level1\" >lang</th>        <th class=\"blank\" ></th>    </tr></thead><tbody>\n",
       "                <tr>\n",
       "                        <th id=\"T_f0ba9342_4c91_11ea_8e16_b42e99c32101level0_row0\" class=\"row_heading level0 row0\" >BS</th>\n",
       "                        <th id=\"T_f0ba9342_4c91_11ea_8e16_b42e99c32101level1_row0\" class=\"row_heading level1 row0\" >ko</th>\n",
       "                        <td id=\"T_f0ba9342_4c91_11ea_8e16_b42e99c32101row0_col0\" class=\"data row0 col0\" >3000</td>\n",
       "            </tr>\n",
       "            <tr>\n",
       "                        <th id=\"T_f0ba9342_4c91_11ea_8e16_b42e99c32101level0_row1\" class=\"row_heading level0 row1\" rowspan=2>L2</th>\n",
       "                        <th id=\"T_f0ba9342_4c91_11ea_8e16_b42e99c32101level1_row1\" class=\"row_heading level1 row1\" >cn</th>\n",
       "                        <td id=\"T_f0ba9342_4c91_11ea_8e16_b42e99c32101row1_col0\" class=\"data row1 col0\" >50161</td>\n",
       "            </tr>\n",
       "            <tr>\n",
       "                                <th id=\"T_f0ba9342_4c91_11ea_8e16_b42e99c32101level1_row2\" class=\"row_heading level1 row2\" >tw</th>\n",
       "                        <td id=\"T_f0ba9342_4c91_11ea_8e16_b42e99c32101row2_col0\" class=\"data row2 col0\" >424804</td>\n",
       "            </tr>\n",
       "            <tr>\n",
       "                        <th id=\"T_f0ba9342_4c91_11ea_8e16_b42e99c32101level0_row3\" class=\"row_heading level0 row3\" >L2M</th>\n",
       "                        <th id=\"T_f0ba9342_4c91_11ea_8e16_b42e99c32101level1_row3\" class=\"row_heading level1 row3\" >ko</th>\n",
       "                        <td id=\"T_f0ba9342_4c91_11ea_8e16_b42e99c32101row3_col0\" class=\"data row3 col0\" >40010</td>\n",
       "            </tr>\n",
       "            <tr>\n",
       "                        <th id=\"T_f0ba9342_4c91_11ea_8e16_b42e99c32101level0_row4\" class=\"row_heading level0 row4\" >LM</th>\n",
       "                        <th id=\"T_f0ba9342_4c91_11ea_8e16_b42e99c32101level1_row4\" class=\"row_heading level1 row4\" >ko</th>\n",
       "                        <td id=\"T_f0ba9342_4c91_11ea_8e16_b42e99c32101row4_col0\" class=\"data row4 col0\" >14998598</td>\n",
       "            </tr>\n",
       "    </tbody></table>"
      ],
      "text/plain": [
       "<pandas.io.formats.style.Styler at 0x7f9642041358>"
      ]
     },
     "execution_count": 26,
     "metadata": {},
     "output_type": "execute_result"
    }
   ],
   "source": [
    "pd.options.display.float_format = '{:,}'.format\n",
    "\n",
    "df.style.set_properties(**{'text-align': 'right'})"
   ]
  },
  {
   "cell_type": "code",
   "execution_count": null,
   "metadata": {},
   "outputs": [],
   "source": []
  }
 ],
 "metadata": {
  "kernelspec": {
   "display_name": "Python 3",
   "language": "python",
   "name": "python3"
  },
  "language_info": {
   "codemirror_mode": {
    "name": "ipython",
    "version": 3
   },
   "file_extension": ".py",
   "mimetype": "text/x-python",
   "name": "python",
   "nbconvert_exporter": "python",
   "pygments_lexer": "ipython3",
   "version": "3.6.9"
  }
 },
 "nbformat": 4,
 "nbformat_minor": 2
}
