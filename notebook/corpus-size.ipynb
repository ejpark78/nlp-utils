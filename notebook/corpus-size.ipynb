{
 "cells": [
  {
   "cell_type": "markdown",
   "metadata": {},
   "source": [
    "# 중복 문서 점검"
   ]
  },
  {
   "cell_type": "code",
   "execution_count": 6,
   "metadata": {
    "ExecuteTime": {
     "end_time": "2021-04-29T06:44:39.475991Z",
     "start_time": "2021-04-29T06:44:39.464432Z"
    }
   },
   "outputs": [],
   "source": [
    "%load_ext autoreload\n",
    "%autoreload 2"
   ]
  },
  {
   "cell_type": "code",
   "execution_count": 7,
   "metadata": {
    "ExecuteTime": {
     "end_time": "2021-04-29T06:44:39.889882Z",
     "start_time": "2021-04-29T06:44:39.863680Z"
    }
   },
   "outputs": [],
   "source": [
    "import re\n",
    "import bz2\n",
    "import json\n",
    "import pandas as pd\n",
    "from tqdm import tqdm\n",
    "from glob import glob\n",
    "from collections import defaultdict\n",
    "from IPython.display import display\n",
    "from crawler.utils.es import ElasticSearchUtils"
   ]
  },
  {
   "cell_type": "code",
   "execution_count": null,
   "metadata": {},
   "outputs": [],
   "source": [
    "es = ElasticSearchUtils(host='https://corpus.ncsoft.com:9200', encoded_auth='ZWxhc3RpYzpubHBsYWI=')"
   ]
  },
  {
   "cell_type": "code",
   "execution_count": 8,
   "metadata": {
    "ExecuteTime": {
     "end_time": "2021-04-29T06:44:43.527057Z",
     "start_time": "2021-04-29T06:44:43.519184Z"
    }
   },
   "outputs": [],
   "source": [
    "def read_ids(path: str) -> list:\n",
    "    result = []\n",
    "    for filename in tqdm(glob(path)):\n",
    "        with bz2.open(filename, 'r') as fp:\n",
    "            result += [x.decode('utf-8').rstrip().split('\\t') for x in fp if x.decode('utf-8').strip() != '']\n",
    "            \n",
    "    return result"
   ]
  },
  {
   "cell_type": "code",
   "execution_count": 9,
   "metadata": {
    "ExecuteTime": {
     "end_time": "2021-04-29T06:44:44.046686Z",
     "start_time": "2021-04-29T06:44:44.038863Z"
    }
   },
   "outputs": [],
   "source": [
    "def get_doc_id(url: str) -> str or None:\n",
    "    oid = re.search('oid=(\\d+)', url)\n",
    "    aid = re.search('aid=(\\d+)', url)\n",
    "    \n",
    "    if oid is None and aid is None:\n",
    "        return None\n",
    "        \n",
    "    return f'{oid.groups()[0]}-{aid.groups()[0]}'"
   ]
  },
  {
   "cell_type": "code",
   "execution_count": 5,
   "metadata": {
    "ExecuteTime": {
     "end_time": "2021-04-29T06:33:54.694508Z",
     "start_time": "2021-04-29T06:31:55.765432Z"
    }
   },
   "outputs": [
    {
     "name": "stderr",
     "output_type": "stream",
     "text": [
      "100%|██████████| 9/9 [00:54<00:00,  6.03s/it]\n",
      "100%|██████████| 9/9 [01:04<00:00,  7.17s/it]\n"
     ]
    },
    {
     "data": {
      "text/plain": [
       "([['crawler-naver-society-2020',\n",
       "   '001-0012087169',\n",
       "   \"교육박물관, 내년 3월까지 '대구문화재 톺아보기' 기획전\",\n",
       "   'https://news.naver.com/main/read.nhn?mode=LS2D&mid=shm&sid1=102&sid2=256&oid=001&aid=0012087169'],\n",
       "  ['crawler-naver-society-2020',\n",
       "   '421-0005056094',\n",
       "   '부안군, 취약계층 1421세대에 에너지 홈닥터 사업 추진',\n",
       "   'https://news.naver.com/main/read.nhn?mode=LS2D&mid=shm&sid1=102&sid2=256&oid=421&aid=0005056094'],\n",
       "  ['crawler-naver-society-2020',\n",
       "   '014-0004548991',\n",
       "   '대구신세계 산타원정대, 4개 종합병원에 선물 전달',\n",
       "   'https://news.naver.com/main/read.nhn?mode=LS2D&mid=shm&sid1=102&sid2=256&oid=014&aid=0004548991']],\n",
       " [['crawler-naver-society-2020',\n",
       "   '2020-01-24T17:43:10.766633+09:00',\n",
       "   '결혼 발표한 엑소 첸, 탈퇴 촉구하는 팬들',\n",
       "   'https://news.naver.com/main/read.nhn?mode=LS2D&mid=shm&sid1=102&sid2=256&oid=001&aid=0011344370'],\n",
       "  ['crawler-naver-society-2020',\n",
       "   '2020-01-24T17:42:38.831473+09:00',\n",
       "   '결혼 발표한 엑소 첸, 탈퇴 촉구하는 팬들',\n",
       "   'https://news.naver.com/main/read.nhn?mode=LS2D&mid=shm&sid1=102&sid2=256&oid=001&aid=0011344373'],\n",
       "  ['crawler-naver-society-2020',\n",
       "   '029-0002583301',\n",
       "   '[속보]검찰, 최강욱 비서관 업무방해 혐의 불구속 기소',\n",
       "   'https://news.naver.com/main/read.nhn?mode=LS2D&mid=shm&sid1=102&sid2=257&oid=029&aid=0002583301']])"
      ]
     },
     "execution_count": 5,
     "metadata": {},
     "output_type": "execute_result"
    }
   ],
   "source": [
    "ids = {\n",
    "    'backfill': read_ids(path='../data/es_dump/backfill/crawler-naver-*-2020.*.ids.tsv.bz2'),\n",
    "    'corpus': read_ids(path='../data/es_dump/corpus/crawler-naver-*-2020.*.ids.tsv.bz2')\n",
    "}\n",
    "\n",
    "ids['backfill'][:3], ids['corpus'][:3]"
   ]
  },
  {
   "cell_type": "code",
   "execution_count": 6,
   "metadata": {
    "ExecuteTime": {
     "end_time": "2021-04-29T06:34:00.554413Z",
     "start_time": "2021-04-29T06:33:54.695487Z"
    }
   },
   "outputs": [
    {
     "data": {
      "text/html": [
       "<div>\n",
       "<style scoped>\n",
       "    .dataframe tbody tr th:only-of-type {\n",
       "        vertical-align: middle;\n",
       "    }\n",
       "\n",
       "    .dataframe tbody tr th {\n",
       "        vertical-align: top;\n",
       "    }\n",
       "\n",
       "    .dataframe thead th {\n",
       "        text-align: right;\n",
       "    }\n",
       "</style>\n",
       "<table border=\"1\" class=\"dataframe\">\n",
       "  <thead>\n",
       "    <tr style=\"text-align: right;\">\n",
       "      <th></th>\n",
       "      <th>index</th>\n",
       "      <th>id</th>\n",
       "      <th>title</th>\n",
       "      <th>url</th>\n",
       "    </tr>\n",
       "  </thead>\n",
       "  <tbody>\n",
       "    <tr>\n",
       "      <th>0</th>\n",
       "      <td>crawler-naver-society-2020</td>\n",
       "      <td>001-0012087169</td>\n",
       "      <td>교육박물관, 내년 3월까지 '대구문화재 톺아보기' 기획전</td>\n",
       "      <td>https://news.naver.com/main/read.nhn?mode=LS2D...</td>\n",
       "    </tr>\n",
       "    <tr>\n",
       "      <th>1</th>\n",
       "      <td>crawler-naver-society-2020</td>\n",
       "      <td>421-0005056094</td>\n",
       "      <td>부안군, 취약계층 1421세대에 에너지 홈닥터 사업 추진</td>\n",
       "      <td>https://news.naver.com/main/read.nhn?mode=LS2D...</td>\n",
       "    </tr>\n",
       "    <tr>\n",
       "      <th>2</th>\n",
       "      <td>crawler-naver-society-2020</td>\n",
       "      <td>014-0004548991</td>\n",
       "      <td>대구신세계 산타원정대, 4개 종합병원에 선물 전달</td>\n",
       "      <td>https://news.naver.com/main/read.nhn?mode=LS2D...</td>\n",
       "    </tr>\n",
       "    <tr>\n",
       "      <th>3</th>\n",
       "      <td>crawler-naver-society-2020</td>\n",
       "      <td>008-0004515856</td>\n",
       "      <td>집에서 몰래 대마초 재배…얼마나 벌었길래</td>\n",
       "      <td>https://news.naver.com/main/read.nhn?mode=LS2D...</td>\n",
       "    </tr>\n",
       "    <tr>\n",
       "      <th>4</th>\n",
       "      <td>crawler-naver-society-2020</td>\n",
       "      <td>079-0003444869</td>\n",
       "      <td>충남도교육청, 제 32회 충남교육상 수상자 8명 선정 시상</td>\n",
       "      <td>https://news.naver.com/main/read.nhn?mode=LS2D...</td>\n",
       "    </tr>\n",
       "  </tbody>\n",
       "</table>\n",
       "</div>"
      ],
      "text/plain": [
       "                        index              id  \\\n",
       "0  crawler-naver-society-2020  001-0012087169   \n",
       "1  crawler-naver-society-2020  421-0005056094   \n",
       "2  crawler-naver-society-2020  014-0004548991   \n",
       "3  crawler-naver-society-2020  008-0004515856   \n",
       "4  crawler-naver-society-2020  079-0003444869   \n",
       "\n",
       "                              title  \\\n",
       "0   교육박물관, 내년 3월까지 '대구문화재 톺아보기' 기획전   \n",
       "1   부안군, 취약계층 1421세대에 에너지 홈닥터 사업 추진   \n",
       "2       대구신세계 산타원정대, 4개 종합병원에 선물 전달   \n",
       "3            집에서 몰래 대마초 재배…얼마나 벌었길래   \n",
       "4  충남도교육청, 제 32회 충남교육상 수상자 8명 선정 시상   \n",
       "\n",
       "                                                 url  \n",
       "0  https://news.naver.com/main/read.nhn?mode=LS2D...  \n",
       "1  https://news.naver.com/main/read.nhn?mode=LS2D...  \n",
       "2  https://news.naver.com/main/read.nhn?mode=LS2D...  \n",
       "3  https://news.naver.com/main/read.nhn?mode=LS2D...  \n",
       "4  https://news.naver.com/main/read.nhn?mode=LS2D...  "
      ]
     },
     "metadata": {},
     "output_type": "display_data"
    },
    {
     "data": {
      "text/html": [
       "<div>\n",
       "<style scoped>\n",
       "    .dataframe tbody tr th:only-of-type {\n",
       "        vertical-align: middle;\n",
       "    }\n",
       "\n",
       "    .dataframe tbody tr th {\n",
       "        vertical-align: top;\n",
       "    }\n",
       "\n",
       "    .dataframe thead th {\n",
       "        text-align: right;\n",
       "    }\n",
       "</style>\n",
       "<table border=\"1\" class=\"dataframe\">\n",
       "  <thead>\n",
       "    <tr style=\"text-align: right;\">\n",
       "      <th></th>\n",
       "      <th>index</th>\n",
       "      <th>id</th>\n",
       "      <th>title</th>\n",
       "      <th>url</th>\n",
       "    </tr>\n",
       "  </thead>\n",
       "  <tbody>\n",
       "    <tr>\n",
       "      <th>0</th>\n",
       "      <td>crawler-naver-society-2020</td>\n",
       "      <td>2020-01-24T17:43:10.766633+09:00</td>\n",
       "      <td>결혼 발표한 엑소 첸, 탈퇴 촉구하는 팬들</td>\n",
       "      <td>https://news.naver.com/main/read.nhn?mode=LS2D...</td>\n",
       "    </tr>\n",
       "    <tr>\n",
       "      <th>1</th>\n",
       "      <td>crawler-naver-society-2020</td>\n",
       "      <td>2020-01-24T17:42:38.831473+09:00</td>\n",
       "      <td>결혼 발표한 엑소 첸, 탈퇴 촉구하는 팬들</td>\n",
       "      <td>https://news.naver.com/main/read.nhn?mode=LS2D...</td>\n",
       "    </tr>\n",
       "    <tr>\n",
       "      <th>2</th>\n",
       "      <td>crawler-naver-society-2020</td>\n",
       "      <td>029-0002583301</td>\n",
       "      <td>[속보]검찰, 최강욱 비서관 업무방해 혐의 불구속 기소</td>\n",
       "      <td>https://news.naver.com/main/read.nhn?mode=LS2D...</td>\n",
       "    </tr>\n",
       "    <tr>\n",
       "      <th>3</th>\n",
       "      <td>crawler-naver-society-2020</td>\n",
       "      <td>2020-01-24T17:43:21.342272+09:00</td>\n",
       "      <td>결혼 발표한 엑소 첸, 탈퇴 촉구하는 팬들</td>\n",
       "      <td>https://news.naver.com/main/read.nhn?mode=LS2D...</td>\n",
       "    </tr>\n",
       "    <tr>\n",
       "      <th>4</th>\n",
       "      <td>crawler-naver-society-2020</td>\n",
       "      <td>2020-01-24T17:47:44.031344+09:00</td>\n",
       "      <td>문성민의 서브</td>\n",
       "      <td>https://news.naver.com/main/read.nhn?mode=LS2D...</td>\n",
       "    </tr>\n",
       "  </tbody>\n",
       "</table>\n",
       "</div>"
      ],
      "text/plain": [
       "                        index                                id  \\\n",
       "0  crawler-naver-society-2020  2020-01-24T17:43:10.766633+09:00   \n",
       "1  crawler-naver-society-2020  2020-01-24T17:42:38.831473+09:00   \n",
       "2  crawler-naver-society-2020                    029-0002583301   \n",
       "3  crawler-naver-society-2020  2020-01-24T17:43:21.342272+09:00   \n",
       "4  crawler-naver-society-2020  2020-01-24T17:47:44.031344+09:00   \n",
       "\n",
       "                            title  \\\n",
       "0         결혼 발표한 엑소 첸, 탈퇴 촉구하는 팬들   \n",
       "1         결혼 발표한 엑소 첸, 탈퇴 촉구하는 팬들   \n",
       "2  [속보]검찰, 최강욱 비서관 업무방해 혐의 불구속 기소   \n",
       "3         결혼 발표한 엑소 첸, 탈퇴 촉구하는 팬들   \n",
       "4                         문성민의 서브   \n",
       "\n",
       "                                                 url  \n",
       "0  https://news.naver.com/main/read.nhn?mode=LS2D...  \n",
       "1  https://news.naver.com/main/read.nhn?mode=LS2D...  \n",
       "2  https://news.naver.com/main/read.nhn?mode=LS2D...  \n",
       "3  https://news.naver.com/main/read.nhn?mode=LS2D...  \n",
       "4  https://news.naver.com/main/read.nhn?mode=LS2D...  "
      ]
     },
     "metadata": {},
     "output_type": "display_data"
    },
    {
     "data": {
      "text/plain": [
       "(7593493, 8618401, None, None)"
      ]
     },
     "execution_count": 6,
     "metadata": {},
     "output_type": "execute_result"
    }
   ],
   "source": [
    "columns = ['index', 'id', 'title', 'url']\n",
    "\n",
    "df = {\n",
    "    'backfill': pd.DataFrame(ids['backfill'], columns=columns),\n",
    "    'corpus': pd.DataFrame(ids['corpus'], columns=columns)\n",
    "}\n",
    "\n",
    "len(df['backfill']), len(df['corpus']), display(df['backfill'].head()), display(df['corpus'].head())"
   ]
  },
  {
   "cell_type": "code",
   "execution_count": 7,
   "metadata": {
    "ExecuteTime": {
     "end_time": "2021-04-29T06:34:30.725649Z",
     "start_time": "2021-04-29T06:34:00.556026Z"
    }
   },
   "outputs": [
    {
     "data": {
      "text/html": [
       "<div>\n",
       "<style scoped>\n",
       "    .dataframe tbody tr th:only-of-type {\n",
       "        vertical-align: middle;\n",
       "    }\n",
       "\n",
       "    .dataframe tbody tr th {\n",
       "        vertical-align: top;\n",
       "    }\n",
       "\n",
       "    .dataframe thead th {\n",
       "        text-align: right;\n",
       "    }\n",
       "</style>\n",
       "<table border=\"1\" class=\"dataframe\">\n",
       "  <thead>\n",
       "    <tr style=\"text-align: right;\">\n",
       "      <th></th>\n",
       "      <th>0</th>\n",
       "    </tr>\n",
       "    <tr>\n",
       "      <th>id</th>\n",
       "      <th></th>\n",
       "    </tr>\n",
       "  </thead>\n",
       "  <tbody>\n",
       "    <tr>\n",
       "      <th>001-0011308126</th>\n",
       "      <td>2</td>\n",
       "    </tr>\n",
       "    <tr>\n",
       "      <th>001-0011308128</th>\n",
       "      <td>2</td>\n",
       "    </tr>\n",
       "    <tr>\n",
       "      <th>001-0011308198</th>\n",
       "      <td>2</td>\n",
       "    </tr>\n",
       "    <tr>\n",
       "      <th>001-0011308231</th>\n",
       "      <td>2</td>\n",
       "    </tr>\n",
       "    <tr>\n",
       "      <th>001-0011308232</th>\n",
       "      <td>2</td>\n",
       "    </tr>\n",
       "    <tr>\n",
       "      <th>...</th>\n",
       "      <td>...</td>\n",
       "    </tr>\n",
       "    <tr>\n",
       "      <th>469-0000567812</th>\n",
       "      <td>2</td>\n",
       "    </tr>\n",
       "    <tr>\n",
       "      <th>469-0000567835</th>\n",
       "      <td>2</td>\n",
       "    </tr>\n",
       "    <tr>\n",
       "      <th>586-0000014727</th>\n",
       "      <td>2</td>\n",
       "    </tr>\n",
       "    <tr>\n",
       "      <th>586-0000016742</th>\n",
       "      <td>2</td>\n",
       "    </tr>\n",
       "    <tr>\n",
       "      <th>629-0000052746</th>\n",
       "      <td>2</td>\n",
       "    </tr>\n",
       "  </tbody>\n",
       "</table>\n",
       "<p>953460 rows × 1 columns</p>\n",
       "</div>"
      ],
      "text/plain": [
       "                0\n",
       "id               \n",
       "001-0011308126  2\n",
       "001-0011308128  2\n",
       "001-0011308198  2\n",
       "001-0011308231  2\n",
       "001-0011308232  2\n",
       "...            ..\n",
       "469-0000567812  2\n",
       "469-0000567835  2\n",
       "586-0000014727  2\n",
       "586-0000016742  2\n",
       "629-0000052746  2\n",
       "\n",
       "[953460 rows x 1 columns]"
      ]
     },
     "execution_count": 7,
     "metadata": {},
     "output_type": "execute_result"
    }
   ],
   "source": [
    "doc_count = {\n",
    "    'backfill': df['backfill'].groupby(by='id').size().to_frame(),\n",
    "    'corpus': df['corpus'].groupby(by='id').size().to_frame()\n",
    "}\n",
    "\n",
    "doc_count['backfill'][ doc_count['backfill'][0] > 1 ]"
   ]
  },
  {
   "cell_type": "code",
   "execution_count": 8,
   "metadata": {
    "ExecuteTime": {
     "end_time": "2021-04-29T06:34:31.061199Z",
     "start_time": "2021-04-29T06:34:30.726581Z"
    }
   },
   "outputs": [
    {
     "data": {
      "text/html": [
       "<div>\n",
       "<style scoped>\n",
       "    .dataframe tbody tr th:only-of-type {\n",
       "        vertical-align: middle;\n",
       "    }\n",
       "\n",
       "    .dataframe tbody tr th {\n",
       "        vertical-align: top;\n",
       "    }\n",
       "\n",
       "    .dataframe thead th {\n",
       "        text-align: right;\n",
       "    }\n",
       "</style>\n",
       "<table border=\"1\" class=\"dataframe\">\n",
       "  <thead>\n",
       "    <tr style=\"text-align: right;\">\n",
       "      <th></th>\n",
       "      <th>index</th>\n",
       "      <th>id</th>\n",
       "      <th>title</th>\n",
       "      <th>url</th>\n",
       "    </tr>\n",
       "  </thead>\n",
       "  <tbody>\n",
       "    <tr>\n",
       "      <th>2556569</th>\n",
       "      <td>crawler-naver-society-2020</td>\n",
       "      <td>001-0011308126</td>\n",
       "      <td>정경두 \"안보 상황 녹록지 않아…힘을 통한 평화 뒷받침할 것\"</td>\n",
       "      <td>https://news.naver.com/main/read.nhn?mode=LS2D...</td>\n",
       "    </tr>\n",
       "    <tr>\n",
       "      <th>4010032</th>\n",
       "      <td>crawler-naver-politics-2020</td>\n",
       "      <td>001-0011308126</td>\n",
       "      <td>정경두 \"안보 상황 녹록지 않아…힘을 통한 평화 뒷받침할 것\"</td>\n",
       "      <td>https://news.naver.com/main/read.nhn?mode=LS2D...</td>\n",
       "    </tr>\n",
       "  </tbody>\n",
       "</table>\n",
       "</div>"
      ],
      "text/plain": [
       "                               index              id  \\\n",
       "2556569   crawler-naver-society-2020  001-0011308126   \n",
       "4010032  crawler-naver-politics-2020  001-0011308126   \n",
       "\n",
       "                                      title  \\\n",
       "2556569  정경두 \"안보 상황 녹록지 않아…힘을 통한 평화 뒷받침할 것\"   \n",
       "4010032  정경두 \"안보 상황 녹록지 않아…힘을 통한 평화 뒷받침할 것\"   \n",
       "\n",
       "                                                       url  \n",
       "2556569  https://news.naver.com/main/read.nhn?mode=LS2D...  \n",
       "4010032  https://news.naver.com/main/read.nhn?mode=LS2D...  "
      ]
     },
     "execution_count": 8,
     "metadata": {},
     "output_type": "execute_result"
    }
   ],
   "source": [
    "df['backfill'][ df['backfill']['id'] == '001-0011308126' ]"
   ]
  },
  {
   "cell_type": "code",
   "execution_count": 9,
   "metadata": {
    "ExecuteTime": {
     "end_time": "2021-04-29T06:34:31.542655Z",
     "start_time": "2021-04-29T06:34:31.062141Z"
    }
   },
   "outputs": [
    {
     "data": {
      "text/plain": [
       "array(['https://news.naver.com/main/read.nhn?mode=LS2D&mid=shm&sid1=102&sid2=256&oid=001&aid=0011344370'],\n",
       "      dtype=object)"
      ]
     },
     "execution_count": 9,
     "metadata": {},
     "output_type": "execute_result"
    }
   ],
   "source": [
    "df['corpus'][ df['corpus']['id'] == '2020-01-24T17:43:10.766633+09:00' ]['url'].values"
   ]
  },
  {
   "cell_type": "code",
   "execution_count": 10,
   "metadata": {
    "ExecuteTime": {
     "end_time": "2021-04-29T06:34:32.068444Z",
     "start_time": "2021-04-29T06:34:31.543552Z"
    }
   },
   "outputs": [
    {
     "data": {
      "text/html": [
       "<div>\n",
       "<style scoped>\n",
       "    .dataframe tbody tr th:only-of-type {\n",
       "        vertical-align: middle;\n",
       "    }\n",
       "\n",
       "    .dataframe tbody tr th {\n",
       "        vertical-align: top;\n",
       "    }\n",
       "\n",
       "    .dataframe thead th {\n",
       "        text-align: right;\n",
       "    }\n",
       "</style>\n",
       "<table border=\"1\" class=\"dataframe\">\n",
       "  <thead>\n",
       "    <tr style=\"text-align: right;\">\n",
       "      <th></th>\n",
       "      <th>index</th>\n",
       "      <th>id</th>\n",
       "      <th>title</th>\n",
       "      <th>url</th>\n",
       "    </tr>\n",
       "  </thead>\n",
       "  <tbody>\n",
       "  </tbody>\n",
       "</table>\n",
       "</div>"
      ],
      "text/plain": [
       "Empty DataFrame\n",
       "Columns: [index, id, title, url]\n",
       "Index: []"
      ]
     },
     "execution_count": 10,
     "metadata": {},
     "output_type": "execute_result"
    }
   ],
   "source": [
    "df['corpus'][ df['corpus']['id'] == '001-0011344370' ]"
   ]
  },
  {
   "cell_type": "code",
   "execution_count": 11,
   "metadata": {
    "ExecuteTime": {
     "end_time": "2021-04-29T06:34:32.598306Z",
     "start_time": "2021-04-29T06:34:32.069301Z"
    }
   },
   "outputs": [
    {
     "data": {
      "text/html": [
       "<div>\n",
       "<style scoped>\n",
       "    .dataframe tbody tr th:only-of-type {\n",
       "        vertical-align: middle;\n",
       "    }\n",
       "\n",
       "    .dataframe tbody tr th {\n",
       "        vertical-align: top;\n",
       "    }\n",
       "\n",
       "    .dataframe thead th {\n",
       "        text-align: right;\n",
       "    }\n",
       "</style>\n",
       "<table border=\"1\" class=\"dataframe\">\n",
       "  <thead>\n",
       "    <tr style=\"text-align: right;\">\n",
       "      <th></th>\n",
       "      <th>index</th>\n",
       "      <th>id</th>\n",
       "      <th>title</th>\n",
       "      <th>url</th>\n",
       "    </tr>\n",
       "  </thead>\n",
       "  <tbody>\n",
       "    <tr>\n",
       "      <th>0</th>\n",
       "      <td>crawler-naver-society-2020</td>\n",
       "      <td>2020-01-24T17:43:10.766633+09:00</td>\n",
       "      <td>결혼 발표한 엑소 첸, 탈퇴 촉구하는 팬들</td>\n",
       "      <td>https://news.naver.com/main/read.nhn?mode=LS2D...</td>\n",
       "    </tr>\n",
       "    <tr>\n",
       "      <th>183</th>\n",
       "      <td>crawler-naver-society-2020</td>\n",
       "      <td>2020-01-25T11:50:41.256649+09:00</td>\n",
       "      <td>결혼 발표한 엑소 첸, 탈퇴 촉구하는 팬들</td>\n",
       "      <td>https://news.naver.com/main/read.nhn?mode=LS2D...</td>\n",
       "    </tr>\n",
       "    <tr>\n",
       "      <th>438</th>\n",
       "      <td>crawler-naver-society-2020</td>\n",
       "      <td>2020-01-25T18:27:26.526313+09:00</td>\n",
       "      <td>결혼 발표한 엑소 첸, 탈퇴 촉구하는 팬들</td>\n",
       "      <td>https://news.naver.com/main/read.nhn?mode=LS2D...</td>\n",
       "    </tr>\n",
       "    <tr>\n",
       "      <th>1199</th>\n",
       "      <td>crawler-naver-society-2020</td>\n",
       "      <td>2020-01-26T09:18:24.246056+09:00</td>\n",
       "      <td>결혼 발표한 엑소 첸, 탈퇴 촉구하는 팬들</td>\n",
       "      <td>https://news.naver.com/main/read.nhn?mode=LS2D...</td>\n",
       "    </tr>\n",
       "    <tr>\n",
       "      <th>1466</th>\n",
       "      <td>crawler-naver-society-2020</td>\n",
       "      <td>2020-01-26T15:03:46.020621+09:00</td>\n",
       "      <td>결혼 발표한 엑소 첸, 탈퇴 촉구하는 팬들</td>\n",
       "      <td>https://news.naver.com/main/read.nhn?mode=LS2D...</td>\n",
       "    </tr>\n",
       "    <tr>\n",
       "      <th>1596</th>\n",
       "      <td>crawler-naver-society-2020</td>\n",
       "      <td>2020-01-26T04:58:35.459265+09:00</td>\n",
       "      <td>결혼 발표한 엑소 첸, 탈퇴 촉구하는 팬들</td>\n",
       "      <td>https://news.naver.com/main/read.nhn?mode=LS2D...</td>\n",
       "    </tr>\n",
       "    <tr>\n",
       "      <th>8700</th>\n",
       "      <td>crawler-naver-society-2020</td>\n",
       "      <td>2020-01-23T16:26:36.492574+09:00</td>\n",
       "      <td>결혼 발표한 엑소 첸, 탈퇴 촉구하는 팬들</td>\n",
       "      <td>https://news.naver.com/main/read.nhn?mode=LS2D...</td>\n",
       "    </tr>\n",
       "    <tr>\n",
       "      <th>9223</th>\n",
       "      <td>crawler-naver-society-2020</td>\n",
       "      <td>2020-01-22T09:57:48.246415+09:00</td>\n",
       "      <td>결혼 발표한 엑소 첸, 탈퇴 촉구하는 팬들</td>\n",
       "      <td>https://news.naver.com/main/read.nhn?mode=LS2D...</td>\n",
       "    </tr>\n",
       "    <tr>\n",
       "      <th>9528</th>\n",
       "      <td>crawler-naver-society-2020</td>\n",
       "      <td>2020-01-26T00:09:30.896730+09:00</td>\n",
       "      <td>결혼 발표한 엑소 첸, 탈퇴 촉구하는 팬들</td>\n",
       "      <td>https://news.naver.com/main/read.nhn?mode=LS2D...</td>\n",
       "    </tr>\n",
       "    <tr>\n",
       "      <th>9978</th>\n",
       "      <td>crawler-naver-society-2020</td>\n",
       "      <td>2020-01-26T21:36:23.224705+09:00</td>\n",
       "      <td>결혼 발표한 엑소 첸, 탈퇴 촉구하는 팬들</td>\n",
       "      <td>https://news.naver.com/main/read.nhn?mode=LS2D...</td>\n",
       "    </tr>\n",
       "    <tr>\n",
       "      <th>25224</th>\n",
       "      <td>crawler-naver-society-2020</td>\n",
       "      <td>2020-01-19T20:17:25.600284+09:00</td>\n",
       "      <td>결혼 발표한 엑소 첸, 탈퇴 촉구하는 팬들</td>\n",
       "      <td>https://news.naver.com/main/read.nhn?mode=LS2D...</td>\n",
       "    </tr>\n",
       "    <tr>\n",
       "      <th>27014</th>\n",
       "      <td>crawler-naver-society-2020</td>\n",
       "      <td>2020-01-21T07:54:16.466365+09:00</td>\n",
       "      <td>결혼 발표한 엑소 첸, 탈퇴 촉구하는 팬들</td>\n",
       "      <td>https://news.naver.com/main/read.nhn?mode=LS2D...</td>\n",
       "    </tr>\n",
       "    <tr>\n",
       "      <th>27311</th>\n",
       "      <td>crawler-naver-society-2020</td>\n",
       "      <td>2020-01-20T11:10:40.591597+09:00</td>\n",
       "      <td>결혼 발표한 엑소 첸, 탈퇴 촉구하는 팬들</td>\n",
       "      <td>https://news.naver.com/main/read.nhn?mode=LS2D...</td>\n",
       "    </tr>\n",
       "    <tr>\n",
       "      <th>27424</th>\n",
       "      <td>crawler-naver-society-2020</td>\n",
       "      <td>2020-01-20T04:46:19.567185+09:00</td>\n",
       "      <td>결혼 발표한 엑소 첸, 탈퇴 촉구하는 팬들</td>\n",
       "      <td>https://news.naver.com/main/read.nhn?mode=LS2D...</td>\n",
       "    </tr>\n",
       "    <tr>\n",
       "      <th>1288579</th>\n",
       "      <td>crawler-naver-society-2020</td>\n",
       "      <td>2020-11-22T04:33:19.876901+09:00</td>\n",
       "      <td>결혼 발표한 엑소 첸, 탈퇴 촉구하는 팬들</td>\n",
       "      <td>https://news.naver.com/main/read.nhn?mode=LS2D...</td>\n",
       "    </tr>\n",
       "  </tbody>\n",
       "</table>\n",
       "</div>"
      ],
      "text/plain": [
       "                              index                                id  \\\n",
       "0        crawler-naver-society-2020  2020-01-24T17:43:10.766633+09:00   \n",
       "183      crawler-naver-society-2020  2020-01-25T11:50:41.256649+09:00   \n",
       "438      crawler-naver-society-2020  2020-01-25T18:27:26.526313+09:00   \n",
       "1199     crawler-naver-society-2020  2020-01-26T09:18:24.246056+09:00   \n",
       "1466     crawler-naver-society-2020  2020-01-26T15:03:46.020621+09:00   \n",
       "1596     crawler-naver-society-2020  2020-01-26T04:58:35.459265+09:00   \n",
       "8700     crawler-naver-society-2020  2020-01-23T16:26:36.492574+09:00   \n",
       "9223     crawler-naver-society-2020  2020-01-22T09:57:48.246415+09:00   \n",
       "9528     crawler-naver-society-2020  2020-01-26T00:09:30.896730+09:00   \n",
       "9978     crawler-naver-society-2020  2020-01-26T21:36:23.224705+09:00   \n",
       "25224    crawler-naver-society-2020  2020-01-19T20:17:25.600284+09:00   \n",
       "27014    crawler-naver-society-2020  2020-01-21T07:54:16.466365+09:00   \n",
       "27311    crawler-naver-society-2020  2020-01-20T11:10:40.591597+09:00   \n",
       "27424    crawler-naver-society-2020  2020-01-20T04:46:19.567185+09:00   \n",
       "1288579  crawler-naver-society-2020  2020-11-22T04:33:19.876901+09:00   \n",
       "\n",
       "                           title  \\\n",
       "0        결혼 발표한 엑소 첸, 탈퇴 촉구하는 팬들   \n",
       "183      결혼 발표한 엑소 첸, 탈퇴 촉구하는 팬들   \n",
       "438      결혼 발표한 엑소 첸, 탈퇴 촉구하는 팬들   \n",
       "1199     결혼 발표한 엑소 첸, 탈퇴 촉구하는 팬들   \n",
       "1466     결혼 발표한 엑소 첸, 탈퇴 촉구하는 팬들   \n",
       "1596     결혼 발표한 엑소 첸, 탈퇴 촉구하는 팬들   \n",
       "8700     결혼 발표한 엑소 첸, 탈퇴 촉구하는 팬들   \n",
       "9223     결혼 발표한 엑소 첸, 탈퇴 촉구하는 팬들   \n",
       "9528     결혼 발표한 엑소 첸, 탈퇴 촉구하는 팬들   \n",
       "9978     결혼 발표한 엑소 첸, 탈퇴 촉구하는 팬들   \n",
       "25224    결혼 발표한 엑소 첸, 탈퇴 촉구하는 팬들   \n",
       "27014    결혼 발표한 엑소 첸, 탈퇴 촉구하는 팬들   \n",
       "27311    결혼 발표한 엑소 첸, 탈퇴 촉구하는 팬들   \n",
       "27424    결혼 발표한 엑소 첸, 탈퇴 촉구하는 팬들   \n",
       "1288579  결혼 발표한 엑소 첸, 탈퇴 촉구하는 팬들   \n",
       "\n",
       "                                                       url  \n",
       "0        https://news.naver.com/main/read.nhn?mode=LS2D...  \n",
       "183      https://news.naver.com/main/read.nhn?mode=LS2D...  \n",
       "438      https://news.naver.com/main/read.nhn?mode=LS2D...  \n",
       "1199     https://news.naver.com/main/read.nhn?mode=LS2D...  \n",
       "1466     https://news.naver.com/main/read.nhn?mode=LS2D...  \n",
       "1596     https://news.naver.com/main/read.nhn?mode=LS2D...  \n",
       "8700     https://news.naver.com/main/read.nhn?mode=LS2D...  \n",
       "9223     https://news.naver.com/main/read.nhn?mode=LS2D...  \n",
       "9528     https://news.naver.com/main/read.nhn?mode=LS2D...  \n",
       "9978     https://news.naver.com/main/read.nhn?mode=LS2D...  \n",
       "25224    https://news.naver.com/main/read.nhn?mode=LS2D...  \n",
       "27014    https://news.naver.com/main/read.nhn?mode=LS2D...  \n",
       "27311    https://news.naver.com/main/read.nhn?mode=LS2D...  \n",
       "27424    https://news.naver.com/main/read.nhn?mode=LS2D...  \n",
       "1288579  https://news.naver.com/main/read.nhn?mode=LS2D...  "
      ]
     },
     "execution_count": 11,
     "metadata": {},
     "output_type": "execute_result"
    }
   ],
   "source": [
    "url = 'https://news.naver.com/main/read.nhn?mode=LS2D&mid=shm&sid1=102&sid2=256&oid=001&aid=0011344370'\n",
    "df['corpus'][ df['corpus']['url'] == url ]"
   ]
  },
  {
   "cell_type": "code",
   "execution_count": 12,
   "metadata": {
    "ExecuteTime": {
     "end_time": "2021-04-29T06:34:49.752784Z",
     "start_time": "2021-04-29T06:34:32.599181Z"
    }
   },
   "outputs": [
    {
     "data": {
      "text/html": [
       "<div>\n",
       "<style scoped>\n",
       "    .dataframe tbody tr th:only-of-type {\n",
       "        vertical-align: middle;\n",
       "    }\n",
       "\n",
       "    .dataframe tbody tr th {\n",
       "        vertical-align: top;\n",
       "    }\n",
       "\n",
       "    .dataframe thead th {\n",
       "        text-align: right;\n",
       "    }\n",
       "</style>\n",
       "<table border=\"1\" class=\"dataframe\">\n",
       "  <thead>\n",
       "    <tr style=\"text-align: right;\">\n",
       "      <th></th>\n",
       "      <th>0</th>\n",
       "    </tr>\n",
       "    <tr>\n",
       "      <th>url</th>\n",
       "      <th></th>\n",
       "    </tr>\n",
       "  </thead>\n",
       "  <tbody>\n",
       "    <tr>\n",
       "      <th>https://news.naver.com/main/read.nhn?mode=LS2D&amp;mid=shm&amp;sid1=100&amp;sid2=264&amp;oid=001&amp;aid=0011308233</th>\n",
       "      <td>1</td>\n",
       "    </tr>\n",
       "    <tr>\n",
       "      <th>https://news.naver.com/main/read.nhn?mode=LS2D&amp;mid=shm&amp;sid1=100&amp;sid2=264&amp;oid=001&amp;aid=0011308287</th>\n",
       "      <td>1</td>\n",
       "    </tr>\n",
       "    <tr>\n",
       "      <th>https://news.naver.com/main/read.nhn?mode=LS2D&amp;mid=shm&amp;sid1=100&amp;sid2=264&amp;oid=001&amp;aid=0011309042</th>\n",
       "      <td>1</td>\n",
       "    </tr>\n",
       "    <tr>\n",
       "      <th>https://news.naver.com/main/read.nhn?mode=LS2D&amp;mid=shm&amp;sid1=100&amp;sid2=264&amp;oid=001&amp;aid=0011309044</th>\n",
       "      <td>1</td>\n",
       "    </tr>\n",
       "    <tr>\n",
       "      <th>https://news.naver.com/main/read.nhn?mode=LS2D&amp;mid=shm&amp;sid1=100&amp;sid2=264&amp;oid=001&amp;aid=0011309045</th>\n",
       "      <td>1</td>\n",
       "    </tr>\n",
       "    <tr>\n",
       "      <th>...</th>\n",
       "      <td>...</td>\n",
       "    </tr>\n",
       "    <tr>\n",
       "      <th>https://sports.news.naver.com/wfootball/news/read.nhn?oid=640&amp;aid=0000006708</th>\n",
       "      <td>1</td>\n",
       "    </tr>\n",
       "    <tr>\n",
       "      <th>https://sports.news.naver.com/wfootball/news/read.nhn?oid=640&amp;aid=0000006998</th>\n",
       "      <td>1</td>\n",
       "    </tr>\n",
       "    <tr>\n",
       "      <th>https://sports.news.naver.com/wfootball/news/read.nhn?oid=640&amp;aid=0000007100</th>\n",
       "      <td>1</td>\n",
       "    </tr>\n",
       "    <tr>\n",
       "      <th>https://sports.news.naver.com/wfootball/news/read.nhn?oid=640&amp;aid=0000007140</th>\n",
       "      <td>1</td>\n",
       "    </tr>\n",
       "    <tr>\n",
       "      <th>https://sports.news.naver.com/wfootball/news/read.nhn?oid=640&amp;aid=0000007489</th>\n",
       "      <td>1</td>\n",
       "    </tr>\n",
       "  </tbody>\n",
       "</table>\n",
       "<p>7368473 rows × 1 columns</p>\n",
       "</div>"
      ],
      "text/plain": [
       "                                                    0\n",
       "url                                                  \n",
       "https://news.naver.com/main/read.nhn?mode=LS2D&...  1\n",
       "https://news.naver.com/main/read.nhn?mode=LS2D&...  1\n",
       "https://news.naver.com/main/read.nhn?mode=LS2D&...  1\n",
       "https://news.naver.com/main/read.nhn?mode=LS2D&...  1\n",
       "https://news.naver.com/main/read.nhn?mode=LS2D&...  1\n",
       "...                                                ..\n",
       "https://sports.news.naver.com/wfootball/news/re...  1\n",
       "https://sports.news.naver.com/wfootball/news/re...  1\n",
       "https://sports.news.naver.com/wfootball/news/re...  1\n",
       "https://sports.news.naver.com/wfootball/news/re...  1\n",
       "https://sports.news.naver.com/wfootball/news/re...  1\n",
       "\n",
       "[7368473 rows x 1 columns]"
      ]
     },
     "execution_count": 12,
     "metadata": {},
     "output_type": "execute_result"
    }
   ],
   "source": [
    "freq = df['corpus'].groupby(by='url').size().to_frame()\n",
    "freq[freq[0] > 1]"
   ]
  },
  {
   "cell_type": "code",
   "execution_count": 14,
   "metadata": {
    "ExecuteTime": {
     "end_time": "2021-04-29T06:34:50.402275Z",
     "start_time": "2021-04-29T06:34:49.775005Z"
    }
   },
   "outputs": [
    {
     "data": {
      "text/html": [
       "<div>\n",
       "<style scoped>\n",
       "    .dataframe tbody tr th:only-of-type {\n",
       "        vertical-align: middle;\n",
       "    }\n",
       "\n",
       "    .dataframe tbody tr th {\n",
       "        vertical-align: top;\n",
       "    }\n",
       "\n",
       "    .dataframe thead th {\n",
       "        text-align: right;\n",
       "    }\n",
       "</style>\n",
       "<table border=\"1\" class=\"dataframe\">\n",
       "  <thead>\n",
       "    <tr style=\"text-align: right;\">\n",
       "      <th></th>\n",
       "      <th>index</th>\n",
       "      <th>id</th>\n",
       "      <th>title</th>\n",
       "      <th>url</th>\n",
       "    </tr>\n",
       "  </thead>\n",
       "  <tbody>\n",
       "    <tr>\n",
       "      <th>0</th>\n",
       "      <td>crawler-naver-society-2020</td>\n",
       "      <td>2020-01-24T17:43:10.766633+09:00</td>\n",
       "      <td>결혼 발표한 엑소 첸, 탈퇴 촉구하는 팬들</td>\n",
       "      <td>https://news.naver.com/main/read.nhn?mode=LS2D...</td>\n",
       "    </tr>\n",
       "    <tr>\n",
       "      <th>1</th>\n",
       "      <td>crawler-naver-society-2020</td>\n",
       "      <td>2020-01-24T17:42:38.831473+09:00</td>\n",
       "      <td>결혼 발표한 엑소 첸, 탈퇴 촉구하는 팬들</td>\n",
       "      <td>https://news.naver.com/main/read.nhn?mode=LS2D...</td>\n",
       "    </tr>\n",
       "    <tr>\n",
       "      <th>3</th>\n",
       "      <td>crawler-naver-society-2020</td>\n",
       "      <td>2020-01-24T17:43:21.342272+09:00</td>\n",
       "      <td>결혼 발표한 엑소 첸, 탈퇴 촉구하는 팬들</td>\n",
       "      <td>https://news.naver.com/main/read.nhn?mode=LS2D...</td>\n",
       "    </tr>\n",
       "    <tr>\n",
       "      <th>17</th>\n",
       "      <td>crawler-naver-society-2020</td>\n",
       "      <td>2020-01-24T17:43:31.966230+09:00</td>\n",
       "      <td>결혼 발표한 엑소 첸, 탈퇴 촉구하는 팬들</td>\n",
       "      <td>https://news.naver.com/main/read.nhn?mode=LS2D...</td>\n",
       "    </tr>\n",
       "    <tr>\n",
       "      <th>23</th>\n",
       "      <td>crawler-naver-society-2020</td>\n",
       "      <td>2020-01-24T17:43:00.158291+09:00</td>\n",
       "      <td>결혼 발표한 엑소 첸, 탈퇴 촉구하는 팬들</td>\n",
       "      <td>https://news.naver.com/main/read.nhn?mode=LS2D...</td>\n",
       "    </tr>\n",
       "    <tr>\n",
       "      <th>...</th>\n",
       "      <td>...</td>\n",
       "      <td>...</td>\n",
       "      <td>...</td>\n",
       "      <td>...</td>\n",
       "    </tr>\n",
       "    <tr>\n",
       "      <th>1719787</th>\n",
       "      <td>crawler-naver-society-2020</td>\n",
       "      <td>2020-11-23T04:12:03.308412+09:00</td>\n",
       "      <td>결혼 발표한 엑소 첸, 탈퇴 촉구하는 팬들</td>\n",
       "      <td>https://news.naver.com/main/read.nhn?mode=LS2D...</td>\n",
       "    </tr>\n",
       "    <tr>\n",
       "      <th>1719837</th>\n",
       "      <td>crawler-naver-society-2020</td>\n",
       "      <td>2020-11-23T04:11:30.101082+09:00</td>\n",
       "      <td>결혼 발표한 엑소 첸, 탈퇴 촉구하는 팬들</td>\n",
       "      <td>https://news.naver.com/main/read.nhn?mode=LS2D...</td>\n",
       "    </tr>\n",
       "    <tr>\n",
       "      <th>1719839</th>\n",
       "      <td>crawler-naver-society-2020</td>\n",
       "      <td>2020-11-23T04:11:52.300355+09:00</td>\n",
       "      <td>결혼 발표한 엑소 첸, 탈퇴 촉구하는 팬들</td>\n",
       "      <td>https://news.naver.com/main/read.nhn?mode=LS2D...</td>\n",
       "    </tr>\n",
       "    <tr>\n",
       "      <th>1719894</th>\n",
       "      <td>crawler-naver-society-2020</td>\n",
       "      <td>2020-11-23T04:11:18.997006+09:00</td>\n",
       "      <td>결혼 발표한 엑소 첸, 탈퇴 촉구하는 팬들</td>\n",
       "      <td>https://news.naver.com/main/read.nhn?mode=LS2D...</td>\n",
       "    </tr>\n",
       "    <tr>\n",
       "      <th>1719975</th>\n",
       "      <td>crawler-naver-society-2020</td>\n",
       "      <td>2020-11-23T04:11:41.093818+09:00</td>\n",
       "      <td>결혼 발표한 엑소 첸, 탈퇴 촉구하는 팬들</td>\n",
       "      <td>https://news.naver.com/main/read.nhn?mode=LS2D...</td>\n",
       "    </tr>\n",
       "  </tbody>\n",
       "</table>\n",
       "<p>96 rows × 4 columns</p>\n",
       "</div>"
      ],
      "text/plain": [
       "                              index                                id  \\\n",
       "0        crawler-naver-society-2020  2020-01-24T17:43:10.766633+09:00   \n",
       "1        crawler-naver-society-2020  2020-01-24T17:42:38.831473+09:00   \n",
       "3        crawler-naver-society-2020  2020-01-24T17:43:21.342272+09:00   \n",
       "17       crawler-naver-society-2020  2020-01-24T17:43:31.966230+09:00   \n",
       "23       crawler-naver-society-2020  2020-01-24T17:43:00.158291+09:00   \n",
       "...                             ...                               ...   \n",
       "1719787  crawler-naver-society-2020  2020-11-23T04:12:03.308412+09:00   \n",
       "1719837  crawler-naver-society-2020  2020-11-23T04:11:30.101082+09:00   \n",
       "1719839  crawler-naver-society-2020  2020-11-23T04:11:52.300355+09:00   \n",
       "1719894  crawler-naver-society-2020  2020-11-23T04:11:18.997006+09:00   \n",
       "1719975  crawler-naver-society-2020  2020-11-23T04:11:41.093818+09:00   \n",
       "\n",
       "                           title  \\\n",
       "0        결혼 발표한 엑소 첸, 탈퇴 촉구하는 팬들   \n",
       "1        결혼 발표한 엑소 첸, 탈퇴 촉구하는 팬들   \n",
       "3        결혼 발표한 엑소 첸, 탈퇴 촉구하는 팬들   \n",
       "17       결혼 발표한 엑소 첸, 탈퇴 촉구하는 팬들   \n",
       "23       결혼 발표한 엑소 첸, 탈퇴 촉구하는 팬들   \n",
       "...                          ...   \n",
       "1719787  결혼 발표한 엑소 첸, 탈퇴 촉구하는 팬들   \n",
       "1719837  결혼 발표한 엑소 첸, 탈퇴 촉구하는 팬들   \n",
       "1719839  결혼 발표한 엑소 첸, 탈퇴 촉구하는 팬들   \n",
       "1719894  결혼 발표한 엑소 첸, 탈퇴 촉구하는 팬들   \n",
       "1719975  결혼 발표한 엑소 첸, 탈퇴 촉구하는 팬들   \n",
       "\n",
       "                                                       url  \n",
       "0        https://news.naver.com/main/read.nhn?mode=LS2D...  \n",
       "1        https://news.naver.com/main/read.nhn?mode=LS2D...  \n",
       "3        https://news.naver.com/main/read.nhn?mode=LS2D...  \n",
       "17       https://news.naver.com/main/read.nhn?mode=LS2D...  \n",
       "23       https://news.naver.com/main/read.nhn?mode=LS2D...  \n",
       "...                                                    ...  \n",
       "1719787  https://news.naver.com/main/read.nhn?mode=LS2D...  \n",
       "1719837  https://news.naver.com/main/read.nhn?mode=LS2D...  \n",
       "1719839  https://news.naver.com/main/read.nhn?mode=LS2D...  \n",
       "1719894  https://news.naver.com/main/read.nhn?mode=LS2D...  \n",
       "1719975  https://news.naver.com/main/read.nhn?mode=LS2D...  \n",
       "\n",
       "[96 rows x 4 columns]"
      ]
     },
     "execution_count": 14,
     "metadata": {},
     "output_type": "execute_result"
    }
   ],
   "source": [
    "df['corpus'][ df['corpus']['title'] == '결혼 발표한 엑소 첸, 탈퇴 촉구하는 팬들' ]"
   ]
  },
  {
   "cell_type": "markdown",
   "metadata": {},
   "source": [
    "# corpus 문서 아이디가 잘못된 것"
   ]
  },
  {
   "cell_type": "code",
   "execution_count": 15,
   "metadata": {
    "ExecuteTime": {
     "end_time": "2021-04-29T06:34:53.885824Z",
     "start_time": "2021-04-29T06:34:50.403200Z"
    }
   },
   "outputs": [
    {
     "data": {
      "text/html": [
       "<div>\n",
       "<style scoped>\n",
       "    .dataframe tbody tr th:only-of-type {\n",
       "        vertical-align: middle;\n",
       "    }\n",
       "\n",
       "    .dataframe tbody tr th {\n",
       "        vertical-align: top;\n",
       "    }\n",
       "\n",
       "    .dataframe thead th {\n",
       "        text-align: right;\n",
       "    }\n",
       "</style>\n",
       "<table border=\"1\" class=\"dataframe\">\n",
       "  <thead>\n",
       "    <tr style=\"text-align: right;\">\n",
       "      <th></th>\n",
       "      <th>index</th>\n",
       "      <th>id</th>\n",
       "      <th>title</th>\n",
       "      <th>url</th>\n",
       "    </tr>\n",
       "  </thead>\n",
       "  <tbody>\n",
       "    <tr>\n",
       "      <th>0</th>\n",
       "      <td>crawler-naver-society-2020</td>\n",
       "      <td>2020-01-24T17:43:10.766633+09:00</td>\n",
       "      <td>결혼 발표한 엑소 첸, 탈퇴 촉구하는 팬들</td>\n",
       "      <td>https://news.naver.com/main/read.nhn?mode=LS2D...</td>\n",
       "    </tr>\n",
       "    <tr>\n",
       "      <th>1</th>\n",
       "      <td>crawler-naver-society-2020</td>\n",
       "      <td>2020-01-24T17:42:38.831473+09:00</td>\n",
       "      <td>결혼 발표한 엑소 첸, 탈퇴 촉구하는 팬들</td>\n",
       "      <td>https://news.naver.com/main/read.nhn?mode=LS2D...</td>\n",
       "    </tr>\n",
       "    <tr>\n",
       "      <th>3</th>\n",
       "      <td>crawler-naver-society-2020</td>\n",
       "      <td>2020-01-24T17:43:21.342272+09:00</td>\n",
       "      <td>결혼 발표한 엑소 첸, 탈퇴 촉구하는 팬들</td>\n",
       "      <td>https://news.naver.com/main/read.nhn?mode=LS2D...</td>\n",
       "    </tr>\n",
       "    <tr>\n",
       "      <th>4</th>\n",
       "      <td>crawler-naver-society-2020</td>\n",
       "      <td>2020-01-24T17:47:44.031344+09:00</td>\n",
       "      <td>문성민의 서브</td>\n",
       "      <td>https://news.naver.com/main/read.nhn?mode=LS2D...</td>\n",
       "    </tr>\n",
       "    <tr>\n",
       "      <th>5</th>\n",
       "      <td>crawler-naver-society-2020</td>\n",
       "      <td>2020-01-24T17:47:12.787994+09:00</td>\n",
       "      <td>다우디 '공격'</td>\n",
       "      <td>https://news.naver.com/main/read.nhn?mode=LS2D...</td>\n",
       "    </tr>\n",
       "  </tbody>\n",
       "</table>\n",
       "</div>"
      ],
      "text/plain": [
       "                        index                                id  \\\n",
       "0  crawler-naver-society-2020  2020-01-24T17:43:10.766633+09:00   \n",
       "1  crawler-naver-society-2020  2020-01-24T17:42:38.831473+09:00   \n",
       "3  crawler-naver-society-2020  2020-01-24T17:43:21.342272+09:00   \n",
       "4  crawler-naver-society-2020  2020-01-24T17:47:44.031344+09:00   \n",
       "5  crawler-naver-society-2020  2020-01-24T17:47:12.787994+09:00   \n",
       "\n",
       "                     title                                                url  \n",
       "0  결혼 발표한 엑소 첸, 탈퇴 촉구하는 팬들  https://news.naver.com/main/read.nhn?mode=LS2D...  \n",
       "1  결혼 발표한 엑소 첸, 탈퇴 촉구하는 팬들  https://news.naver.com/main/read.nhn?mode=LS2D...  \n",
       "3  결혼 발표한 엑소 첸, 탈퇴 촉구하는 팬들  https://news.naver.com/main/read.nhn?mode=LS2D...  \n",
       "4                  문성민의 서브  https://news.naver.com/main/read.nhn?mode=LS2D...  \n",
       "5                 다우디 '공격'  https://news.naver.com/main/read.nhn?mode=LS2D...  "
      ]
     },
     "execution_count": 15,
     "metadata": {},
     "output_type": "execute_result"
    }
   ],
   "source": [
    "error_df = df['corpus'][ df['corpus']['id'].str.find('2020-') >= 0 ]\n",
    "error_df.head()"
   ]
  },
  {
   "cell_type": "markdown",
   "metadata": {},
   "source": [
    "# 문서 아이디 변경"
   ]
  },
  {
   "cell_type": "code",
   "execution_count": 16,
   "metadata": {
    "ExecuteTime": {
     "end_time": "2021-04-29T06:36:17.821498Z",
     "start_time": "2021-04-29T06:34:53.886814Z"
    }
   },
   "outputs": [],
   "source": [
    "doc_id_list = []\n",
    "for no, row in error_df.iterrows():\n",
    "    doc_id_list.append((get_doc_id(url=row['url']), row))"
   ]
  },
  {
   "cell_type": "code",
   "execution_count": 17,
   "metadata": {
    "ExecuteTime": {
     "end_time": "2021-04-29T06:36:18.628708Z",
     "start_time": "2021-04-29T06:36:17.822472Z"
    }
   },
   "outputs": [
    {
     "data": {
      "text/html": [
       "<div>\n",
       "<style scoped>\n",
       "    .dataframe tbody tr th:only-of-type {\n",
       "        vertical-align: middle;\n",
       "    }\n",
       "\n",
       "    .dataframe tbody tr th {\n",
       "        vertical-align: top;\n",
       "    }\n",
       "\n",
       "    .dataframe thead th {\n",
       "        text-align: right;\n",
       "    }\n",
       "</style>\n",
       "<table border=\"1\" class=\"dataframe\">\n",
       "  <thead>\n",
       "    <tr style=\"text-align: right;\">\n",
       "      <th></th>\n",
       "      <th>index</th>\n",
       "      <th>id</th>\n",
       "      <th>title</th>\n",
       "      <th>url</th>\n",
       "    </tr>\n",
       "  </thead>\n",
       "  <tbody>\n",
       "    <tr>\n",
       "      <th>143509</th>\n",
       "      <td>crawler-naver-society-2020</td>\n",
       "      <td>001-0011853147</td>\n",
       "      <td>집합금지 명령에도 대면 예배 순복음대전우리교회서 11명 확진(종합2보)</td>\n",
       "      <td>https://news.naver.com/main/read.nhn?mode=LS2D...</td>\n",
       "    </tr>\n",
       "    <tr>\n",
       "      <th>306994</th>\n",
       "      <td>crawler-naver-society-2020</td>\n",
       "      <td>001-0011599424</td>\n",
       "      <td>[영화 속 그곳] 찬실이는 복도 많지</td>\n",
       "      <td>https://news.naver.com/main/read.nhn?mode=LS2D...</td>\n",
       "    </tr>\n",
       "    <tr>\n",
       "      <th>513193</th>\n",
       "      <td>crawler-naver-society-2020</td>\n",
       "      <td>214-0001038073</td>\n",
       "      <td>[권순표의 작심마이크] 코로나19 블루 극복…최정원이 추천하는 뮤지컬은?</td>\n",
       "      <td>https://news.naver.com/main/read.nhn?mode=LS2D...</td>\n",
       "    </tr>\n",
       "    <tr>\n",
       "      <th>539032</th>\n",
       "      <td>crawler-naver-society-2020</td>\n",
       "      <td>001-0011743582</td>\n",
       "      <td>백두대간 고갯길, 하늘재 길</td>\n",
       "      <td>https://news.naver.com/main/read.nhn?mode=LS2D...</td>\n",
       "    </tr>\n",
       "    <tr>\n",
       "      <th>539058</th>\n",
       "      <td>crawler-naver-society-2020</td>\n",
       "      <td>001-0011743575</td>\n",
       "      <td>순한 고갯길, 하늘재길</td>\n",
       "      <td>https://news.naver.com/main/read.nhn?mode=LS2D...</td>\n",
       "    </tr>\n",
       "    <tr>\n",
       "      <th>...</th>\n",
       "      <td>...</td>\n",
       "      <td>...</td>\n",
       "      <td>...</td>\n",
       "      <td>...</td>\n",
       "    </tr>\n",
       "    <tr>\n",
       "      <th>8608584</th>\n",
       "      <td>crawler-naver-living-2020</td>\n",
       "      <td>001-0012018680</td>\n",
       "      <td>울산국제영화제 프레 페스티벌 공식 트레일러 2편 공개</td>\n",
       "      <td>https://news.naver.com/main/read.nhn?mode=LS2D...</td>\n",
       "    </tr>\n",
       "    <tr>\n",
       "      <th>8611582</th>\n",
       "      <td>crawler-naver-living-2020</td>\n",
       "      <td>001-0012111805</td>\n",
       "      <td>코로나19 시대 속 세계 곳곳에 윤동주의 시가 던지는 위로</td>\n",
       "      <td>https://news.naver.com/main/read.nhn?mode=LS2D...</td>\n",
       "    </tr>\n",
       "    <tr>\n",
       "      <th>8615285</th>\n",
       "      <td>crawler-naver-living-2020</td>\n",
       "      <td>001-0012101238</td>\n",
       "      <td>\"여경래·진화가 소개합니다\" 목포MBC '바다한상 시즌2'</td>\n",
       "      <td>https://news.naver.com/main/read.nhn?mode=LS2D...</td>\n",
       "    </tr>\n",
       "    <tr>\n",
       "      <th>8616890</th>\n",
       "      <td>crawler-naver-living-2020</td>\n",
       "      <td>001-0012109556</td>\n",
       "      <td>넷플릭스 '인간수업' 진한새 작가와 '글리치' 만든다</td>\n",
       "      <td>https://news.naver.com/main/read.nhn?mode=LS2D...</td>\n",
       "    </tr>\n",
       "    <tr>\n",
       "      <th>8617112</th>\n",
       "      <td>crawler-naver-living-2020</td>\n",
       "      <td>003-0010268602</td>\n",
       "      <td>[인터뷰]추다혜차지스 \"굿에 매력...무속음악 펑키함 보여주고 싶었다\"</td>\n",
       "      <td>https://news.naver.com/main/read.nhn?mode=LS2D...</td>\n",
       "    </tr>\n",
       "  </tbody>\n",
       "</table>\n",
       "<p>10884 rows × 4 columns</p>\n",
       "</div>"
      ],
      "text/plain": [
       "                              index              id  \\\n",
       "143509   crawler-naver-society-2020  001-0011853147   \n",
       "306994   crawler-naver-society-2020  001-0011599424   \n",
       "513193   crawler-naver-society-2020  214-0001038073   \n",
       "539032   crawler-naver-society-2020  001-0011743582   \n",
       "539058   crawler-naver-society-2020  001-0011743575   \n",
       "...                             ...             ...   \n",
       "8608584   crawler-naver-living-2020  001-0012018680   \n",
       "8611582   crawler-naver-living-2020  001-0012111805   \n",
       "8615285   crawler-naver-living-2020  001-0012101238   \n",
       "8616890   crawler-naver-living-2020  001-0012109556   \n",
       "8617112   crawler-naver-living-2020  003-0010268602   \n",
       "\n",
       "                                            title  \\\n",
       "143509    집합금지 명령에도 대면 예배 순복음대전우리교회서 11명 확진(종합2보)   \n",
       "306994                       [영화 속 그곳] 찬실이는 복도 많지   \n",
       "513193   [권순표의 작심마이크] 코로나19 블루 극복…최정원이 추천하는 뮤지컬은?   \n",
       "539032                            백두대간 고갯길, 하늘재 길   \n",
       "539058                               순한 고갯길, 하늘재길   \n",
       "...                                           ...   \n",
       "8608584             울산국제영화제 프레 페스티벌 공식 트레일러 2편 공개   \n",
       "8611582          코로나19 시대 속 세계 곳곳에 윤동주의 시가 던지는 위로   \n",
       "8615285          \"여경래·진화가 소개합니다\" 목포MBC '바다한상 시즌2'   \n",
       "8616890             넷플릭스 '인간수업' 진한새 작가와 '글리치' 만든다   \n",
       "8617112   [인터뷰]추다혜차지스 \"굿에 매력...무속음악 펑키함 보여주고 싶었다\"   \n",
       "\n",
       "                                                       url  \n",
       "143509   https://news.naver.com/main/read.nhn?mode=LS2D...  \n",
       "306994   https://news.naver.com/main/read.nhn?mode=LS2D...  \n",
       "513193   https://news.naver.com/main/read.nhn?mode=LS2D...  \n",
       "539032   https://news.naver.com/main/read.nhn?mode=LS2D...  \n",
       "539058   https://news.naver.com/main/read.nhn?mode=LS2D...  \n",
       "...                                                    ...  \n",
       "8608584  https://news.naver.com/main/read.nhn?mode=LS2D...  \n",
       "8611582  https://news.naver.com/main/read.nhn?mode=LS2D...  \n",
       "8615285  https://news.naver.com/main/read.nhn?mode=LS2D...  \n",
       "8616890  https://news.naver.com/main/read.nhn?mode=LS2D...  \n",
       "8617112  https://news.naver.com/main/read.nhn?mode=LS2D...  \n",
       "\n",
       "[10884 rows x 4 columns]"
      ]
     },
     "execution_count": 17,
     "metadata": {},
     "output_type": "execute_result"
    }
   ],
   "source": [
    "df['corpus'][ df['corpus']['id'].isin([x[0] for x in doc_id_list]) ]"
   ]
  },
  {
   "cell_type": "code",
   "execution_count": 18,
   "metadata": {
    "ExecuteTime": {
     "end_time": "2021-04-29T06:53:54.960480Z",
     "start_time": "2021-04-29T06:53:54.923191Z"
    },
    "scrolled": true
   },
   "outputs": [
    {
     "data": {
      "text/plain": [
       "(1249417,\n",
       " [('001-0011344370',\n",
       "   index                           crawler-naver-society-2020\n",
       "   id                        2020-01-24T17:43:10.766633+09:00\n",
       "   title                              결혼 발표한 엑소 첸, 탈퇴 촉구하는 팬들\n",
       "   url      https://news.naver.com/main/read.nhn?mode=LS2D...\n",
       "   Name: 0, dtype: object),\n",
       "  ('001-0011344373',\n",
       "   index                           crawler-naver-society-2020\n",
       "   id                        2020-01-24T17:42:38.831473+09:00\n",
       "   title                              결혼 발표한 엑소 첸, 탈퇴 촉구하는 팬들\n",
       "   url      https://news.naver.com/main/read.nhn?mode=LS2D...\n",
       "   Name: 1, dtype: object),\n",
       "  ('001-0011344369',\n",
       "   index                           crawler-naver-society-2020\n",
       "   id                        2020-01-24T17:43:21.342272+09:00\n",
       "   title                              결혼 발표한 엑소 첸, 탈퇴 촉구하는 팬들\n",
       "   url      https://news.naver.com/main/read.nhn?mode=LS2D...\n",
       "   Name: 3, dtype: object)])"
      ]
     },
     "execution_count": 18,
     "metadata": {},
     "output_type": "execute_result"
    }
   ],
   "source": [
    "len(doc_id_list), doc_id_list[:3]"
   ]
  },
  {
   "cell_type": "code",
   "execution_count": 21,
   "metadata": {
    "ExecuteTime": {
     "end_time": "2021-04-29T18:25:24.663199Z",
     "start_time": "2021-04-29T06:58:27.113294Z"
    }
   },
   "outputs": [
    {
     "name": "stderr",
     "output_type": "stream",
     "text": [
      "100%|██████████| 1249417/1249417 [11:26:57<00:00, 30.31it/s]  \n"
     ]
    }
   ],
   "source": [
    "def change_doc_id(id_list: list, index: str) -> None:\n",
    "    doc_list = []\n",
    "    es.get_by_ids(index=index, id_list=id_list, result=doc_list)\n",
    "\n",
    "    bulk = []\n",
    "    for doc in doc_list:\n",
    "        prev_id = doc['document_id']\n",
    "        for k in '_index,_id,document_id'.split(','):\n",
    "            if k not in doc:\n",
    "                continue\n",
    "            del doc[k]\n",
    "\n",
    "        doc_id = get_doc_id(url=doc['url'])\n",
    "        bulk += [{\n",
    "            'delete': {\n",
    "                '_id': prev_id,\n",
    "                '_index': index,\n",
    "            }\n",
    "        }, {\n",
    "            'update': {\n",
    "                '_id': doc_id,\n",
    "                '_index': index,\n",
    "            }\n",
    "        }, {\n",
    "            'doc': doc,\n",
    "            'doc_as_upsert': True,\n",
    "        }]\n",
    "        \n",
    "    if len(bulk) == 0:\n",
    "        return\n",
    "        \n",
    "    es.conn.bulk(\n",
    "        index=index,\n",
    "        body=bulk,\n",
    "        refresh=True,\n",
    "        params={'request_timeout': 620},\n",
    "    )\n",
    "    return\n",
    "\n",
    "\n",
    "buf = defaultdict(list)\n",
    "for doc_id, row in tqdm(doc_id_list):\n",
    "    index = row['index']\n",
    "    buf[index].append(row['id'])\n",
    "\n",
    "    if len(buf[index]) > 100:\n",
    "        change_doc_id(id_list=buf[index], index=index)\n",
    "        del buf[index]"
   ]
  },
  {
   "cell_type": "code",
   "execution_count": 22,
   "metadata": {
    "ExecuteTime": {
     "end_time": "2021-04-29T18:25:42.333795Z",
     "start_time": "2021-04-29T18:25:24.665269Z"
    }
   },
   "outputs": [],
   "source": [
    "for index, id_list in buf.items():\n",
    "    change_doc_id(id_list=id_list, index=index)"
   ]
  },
  {
   "cell_type": "code",
   "execution_count": null,
   "metadata": {},
   "outputs": [],
   "source": []
  }
 ],
 "metadata": {
  "kernelspec": {
   "display_name": "Python 3",
   "language": "python",
   "name": "python3"
  },
  "language_info": {
   "codemirror_mode": {
    "name": "ipython",
    "version": 3
   },
   "file_extension": ".py",
   "mimetype": "text/x-python",
   "name": "python",
   "nbconvert_exporter": "python",
   "pygments_lexer": "ipython3",
   "version": "3.8.5"
  },
  "latex_envs": {
   "LaTeX_envs_menu_present": true,
   "autoclose": false,
   "autocomplete": true,
   "bibliofile": "biblio.bib",
   "cite_by": "apalike",
   "current_citInitial": 1,
   "eqLabelWithNumbers": true,
   "eqNumInitial": 1,
   "hotkeys": {
    "equation": "Ctrl-E",
    "itemize": "Ctrl-I"
   },
   "labels_anchors": false,
   "latex_user_defs": false,
   "report_style_numbering": false,
   "user_envs_cfg": false
  },
  "toc": {
   "base_numbering": 1,
   "nav_menu": {},
   "number_sections": false,
   "sideBar": false,
   "skip_h1_title": false,
   "title_cell": "Table of Contents",
   "title_sidebar": "Contents",
   "toc_cell": false,
   "toc_position": {},
   "toc_section_display": false,
   "toc_window_display": false
  },
  "varInspector": {
   "cols": {
    "lenName": 16,
    "lenType": 16,
    "lenVar": 40
   },
   "kernels_config": {
    "python": {
     "delete_cmd_postfix": "",
     "delete_cmd_prefix": "del ",
     "library": "var_list.py",
     "varRefreshCmd": "print(var_dic_list())"
    },
    "r": {
     "delete_cmd_postfix": ") ",
     "delete_cmd_prefix": "rm(",
     "library": "var_list.r",
     "varRefreshCmd": "cat(var_dic_list()) "
    }
   },
   "types_to_exclude": [
    "module",
    "function",
    "builtin_function_or_method",
    "instance",
    "_Feature"
   ],
   "window_display": false
  }
 },
 "nbformat": 4,
 "nbformat_minor": 2
}
