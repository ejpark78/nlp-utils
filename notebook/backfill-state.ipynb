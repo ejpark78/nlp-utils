{
 "cells": [
  {
   "cell_type": "code",
   "execution_count": 1,
   "metadata": {
    "ExecuteTime": {
     "end_time": "2021-04-06T01:52:19.066527Z",
     "start_time": "2021-04-06T01:52:19.059509Z"
    },
    "execution": {
     "iopub.execute_input": "2021-03-22T01:49:58.161453Z",
     "iopub.status.busy": "2021-03-22T01:49:58.161159Z",
     "iopub.status.idle": "2021-03-22T01:49:58.166315Z",
     "shell.execute_reply": "2021-03-22T01:49:58.165957Z"
    }
   },
   "outputs": [],
   "source": [
    "%load_ext autoreload\n",
    "%autoreload 2"
   ]
  },
  {
   "cell_type": "code",
   "execution_count": 2,
   "metadata": {
    "ExecuteTime": {
     "end_time": "2021-04-06T01:52:20.088747Z",
     "start_time": "2021-04-06T01:52:19.601888Z"
    },
    "execution": {
     "iopub.execute_input": "2021-03-22T01:49:58.168890Z",
     "iopub.status.busy": "2021-03-22T01:49:58.168605Z",
     "iopub.status.idle": "2021-03-22T01:49:58.500847Z",
     "shell.execute_reply": "2021-03-22T01:49:58.501106Z"
    },
    "scrolled": true
   },
   "outputs": [],
   "source": [
    "import warnings\n",
    "import pandas as pd\n",
    "from time import sleep\n",
    "from collections import defaultdict\n",
    "\n",
    "warnings.filterwarnings(action='ignore')\n",
    "\n",
    "from tqdm import tqdm\n",
    "from crawler.utils.daily_reports import DailyReports\n",
    "\n",
    "%matplotlib inline"
   ]
  },
  {
   "cell_type": "code",
   "execution_count": 3,
   "metadata": {
    "ExecuteTime": {
     "end_time": "2021-04-06T01:52:20.561147Z",
     "start_time": "2021-04-06T01:52:20.443465Z"
    },
    "execution": {
     "iopub.execute_input": "2021-03-22T01:49:58.503143Z",
     "iopub.status.busy": "2021-03-22T01:49:58.502829Z",
     "iopub.status.idle": "2021-03-22T01:49:58.588743Z",
     "shell.execute_reply": "2021-03-22T01:49:58.588975Z"
    }
   },
   "outputs": [
    {
     "data": {
      "text/plain": [
       "<Figure size 1440x1440 with 0 Axes>"
      ]
     },
     "metadata": {},
     "output_type": "display_data"
    }
   ],
   "source": [
    "elastic_info = {\n",
    "    'host': 'https://crawler-es.cloud.ncsoft.com:9200', \n",
    "    'auth': 'ZWxhc3RpYzpzZWFyY2hUMjAyMA=='\n",
    "}\n",
    "\n",
    "reports = DailyReports(**elastic_info, encoded_auth='ZWxhc3RpYzpzZWFyY2hUMjAyMA==')\n",
    "\n",
    "reports.set_plt_font()"
   ]
  },
  {
   "cell_type": "markdown",
   "metadata": {},
   "source": [
    "# 인덱스 수량"
   ]
  },
  {
   "cell_type": "code",
   "execution_count": 4,
   "metadata": {
    "ExecuteTime": {
     "end_time": "2021-04-06T01:53:04.346645Z",
     "start_time": "2021-04-06T01:53:04.338323Z"
    }
   },
   "outputs": [],
   "source": [
    "date_range = '2021-01-01~2021-03-31'\n",
    "date_range = '2020-01-01~2020-12-31'\n",
    "date_range = '2018-01-01~2018-12-31'\n",
    "\n",
    "year = date_range.split('-')[0]\n",
    "\n",
    "neddle = set([\n",
    "    'nate', \n",
    "    year, \n",
    "    date_range.split('~')[1].split('-')[0]\n",
    "])"
   ]
  },
  {
   "cell_type": "code",
   "execution_count": 5,
   "metadata": {
    "ExecuteTime": {
     "end_time": "2021-04-06T01:53:07.729830Z",
     "start_time": "2021-04-06T01:53:07.720014Z"
    },
    "execution": {
     "iopub.execute_input": "2021-03-22T01:49:58.591100Z",
     "iopub.status.busy": "2021-03-22T01:49:58.590813Z",
     "iopub.status.idle": "2021-03-22T01:49:58.597628Z",
     "shell.execute_reply": "2021-03-22T01:49:58.597327Z"
    }
   },
   "outputs": [],
   "source": [
    "index_size = [x for x in reports.state['size'] if set(x['index'].split('-')).intersection(neddle) == neddle]"
   ]
  },
  {
   "cell_type": "code",
   "execution_count": 6,
   "metadata": {
    "ExecuteTime": {
     "end_time": "2021-04-06T01:53:08.922956Z",
     "start_time": "2021-04-06T01:53:08.562621Z"
    },
    "execution": {
     "iopub.execute_input": "2021-03-22T01:49:58.599635Z",
     "iopub.status.busy": "2021-03-22T01:49:58.599347Z",
     "iopub.status.idle": "2021-03-22T01:49:58.727717Z",
     "shell.execute_reply": "2021-03-22T01:49:58.727391Z"
    },
    "scrolled": true
   },
   "outputs": [
    {
     "data": {
      "text/html": [
       "<style  type=\"text/css\" >\n",
       "#T_d638e0da_967a_11eb_b299_31e70dcf76edrow0_col0,#T_d638e0da_967a_11eb_b299_31e70dcf76edrow0_col1,#T_d638e0da_967a_11eb_b299_31e70dcf76edrow0_col2,#T_d638e0da_967a_11eb_b299_31e70dcf76edrow0_col3,#T_d638e0da_967a_11eb_b299_31e70dcf76edrow0_col4,#T_d638e0da_967a_11eb_b299_31e70dcf76edrow0_col5,#T_d638e0da_967a_11eb_b299_31e70dcf76edrow0_col6,#T_d638e0da_967a_11eb_b299_31e70dcf76edrow0_col7{\n",
       "            text-align:  right;\n",
       "            background-color:  white;\n",
       "            border-color:  white;\n",
       "            color:  black;\n",
       "        }</style><table id=\"T_d638e0da_967a_11eb_b299_31e70dcf76ed\" ><thead>    <tr>        <th class=\"blank level0\" ></th>        <th class=\"col_heading level0 col0\" >count</th>        <th class=\"col_heading level0 col1\" >mean</th>        <th class=\"col_heading level0 col2\" >std</th>        <th class=\"col_heading level0 col3\" >min</th>        <th class=\"col_heading level0 col4\" >25%</th>        <th class=\"col_heading level0 col5\" >50%</th>        <th class=\"col_heading level0 col6\" >75%</th>        <th class=\"col_heading level0 col7\" >max</th>    </tr></thead><tbody>\n",
       "                <tr>\n",
       "                        <th id=\"T_d638e0da_967a_11eb_b299_31e70dcf76edlevel0_row0\" class=\"row_heading level0 row0\" >count</th>\n",
       "                        <td id=\"T_d638e0da_967a_11eb_b299_31e70dcf76edrow0_col0\" class=\"data row0 col0\" >7</td>\n",
       "                        <td id=\"T_d638e0da_967a_11eb_b299_31e70dcf76edrow0_col1\" class=\"data row0 col1\" >772916</td>\n",
       "                        <td id=\"T_d638e0da_967a_11eb_b299_31e70dcf76edrow0_col2\" class=\"data row0 col2\" >554317</td>\n",
       "                        <td id=\"T_d638e0da_967a_11eb_b299_31e70dcf76edrow0_col3\" class=\"data row0 col3\" >90141</td>\n",
       "                        <td id=\"T_d638e0da_967a_11eb_b299_31e70dcf76edrow0_col4\" class=\"data row0 col4\" >403330</td>\n",
       "                        <td id=\"T_d638e0da_967a_11eb_b299_31e70dcf76edrow0_col5\" class=\"data row0 col5\" >651544</td>\n",
       "                        <td id=\"T_d638e0da_967a_11eb_b299_31e70dcf76edrow0_col6\" class=\"data row0 col6\" >1099168</td>\n",
       "                        <td id=\"T_d638e0da_967a_11eb_b299_31e70dcf76edrow0_col7\" class=\"data row0 col7\" >1663729</td>\n",
       "            </tr>\n",
       "    </tbody></table>"
      ],
      "text/plain": [
       "<pandas.io.formats.style.Styler at 0x7fd2fdecef40>"
      ]
     },
     "metadata": {},
     "output_type": "display_data"
    }
   ],
   "source": [
    "df_size = pd.DataFrame(index_size).set_index('index')\n",
    "\n",
    "df_size['count'] = df_size['count'].astype(float)\n",
    "\n",
    "reports.custom_display(df_size.describe().T)"
   ]
  },
  {
   "cell_type": "code",
   "execution_count": 7,
   "metadata": {
    "ExecuteTime": {
     "end_time": "2021-04-06T01:53:11.906629Z",
     "start_time": "2021-04-06T01:53:11.634017Z"
    },
    "execution": {
     "iopub.execute_input": "2021-03-22T01:49:58.730060Z",
     "iopub.status.busy": "2021-03-22T01:49:58.729760Z",
     "iopub.status.idle": "2021-03-22T01:49:58.819727Z",
     "shell.execute_reply": "2021-03-22T01:49:58.819410Z"
    }
   },
   "outputs": [
    {
     "data": {
      "text/plain": [
       "<AxesSubplot:>"
      ]
     },
     "execution_count": 7,
     "metadata": {},
     "output_type": "execute_result"
    },
    {
     "data": {
      "image/png": "[encoded data removed]",
      "text/plain": [
       "<Figure size 864x288 with 1 Axes>"
      ]
     },
     "metadata": {},
     "output_type": "display_data"
    }
   ],
   "source": [
    "df_size.describe().boxplot(figsize=(12, 4), vert=False)"
   ]
  },
  {
   "cell_type": "code",
   "execution_count": 8,
   "metadata": {
    "ExecuteTime": {
     "end_time": "2021-04-06T01:53:16.141672Z",
     "start_time": "2021-04-06T01:53:16.129474Z"
    },
    "execution": {
     "iopub.execute_input": "2021-03-22T01:49:58.821860Z",
     "iopub.status.busy": "2021-03-22T01:49:58.821559Z",
     "iopub.status.idle": "2021-03-22T01:49:58.831927Z",
     "shell.execute_reply": "2021-03-22T01:49:58.832166Z"
    }
   },
   "outputs": [
    {
     "data": {
      "text/html": [
       "<style  type=\"text/css\" >\n",
       "#T_da86e9e8_967a_11eb_b299_31e70dcf76edrow0_col0,#T_da86e9e8_967a_11eb_b299_31e70dcf76edrow1_col0,#T_da86e9e8_967a_11eb_b299_31e70dcf76edrow2_col0,#T_da86e9e8_967a_11eb_b299_31e70dcf76edrow3_col0,#T_da86e9e8_967a_11eb_b299_31e70dcf76edrow4_col0,#T_da86e9e8_967a_11eb_b299_31e70dcf76edrow5_col0,#T_da86e9e8_967a_11eb_b299_31e70dcf76edrow6_col0{\n",
       "            text-align:  right;\n",
       "            background-color:  white;\n",
       "            border-color:  white;\n",
       "            color:  black;\n",
       "        }</style><table id=\"T_da86e9e8_967a_11eb_b299_31e70dcf76ed\" ><thead>    <tr>        <th class=\"blank level0\" ></th>        <th class=\"col_heading level0 col0\" >count</th>    </tr>    <tr>        <th class=\"index_name level0\" >index</th>        <th class=\"blank\" ></th>    </tr></thead><tbody>\n",
       "                <tr>\n",
       "                        <th id=\"T_da86e9e8_967a_11eb_b299_31e70dcf76edlevel0_row0\" class=\"row_heading level0 row0\" >crawler-nate-economy-2018</th>\n",
       "                        <td id=\"T_da86e9e8_967a_11eb_b299_31e70dcf76edrow0_col0\" class=\"data row0 col0\" >1053008</td>\n",
       "            </tr>\n",
       "            <tr>\n",
       "                        <th id=\"T_da86e9e8_967a_11eb_b299_31e70dcf76edlevel0_row1\" class=\"row_heading level0 row1\" >crawler-nate-entertainment-2018</th>\n",
       "                        <td id=\"T_da86e9e8_967a_11eb_b299_31e70dcf76edrow1_col0\" class=\"data row1 col0\" >1663729</td>\n",
       "            </tr>\n",
       "            <tr>\n",
       "                        <th id=\"T_da86e9e8_967a_11eb_b299_31e70dcf76edlevel0_row2\" class=\"row_heading level0 row2\" >crawler-nate-international-2018</th>\n",
       "                        <td id=\"T_da86e9e8_967a_11eb_b299_31e70dcf76edrow2_col0\" class=\"data row2 col0\" >204823</td>\n",
       "            </tr>\n",
       "            <tr>\n",
       "                        <th id=\"T_da86e9e8_967a_11eb_b299_31e70dcf76edlevel0_row3\" class=\"row_heading level0 row3\" >crawler-nate-it-2018</th>\n",
       "                        <td id=\"T_da86e9e8_967a_11eb_b299_31e70dcf76edrow3_col0\" class=\"data row3 col0\" >90141</td>\n",
       "            </tr>\n",
       "            <tr>\n",
       "                        <th id=\"T_da86e9e8_967a_11eb_b299_31e70dcf76edlevel0_row4\" class=\"row_heading level0 row4\" >crawler-nate-politics-2018</th>\n",
       "                        <td id=\"T_da86e9e8_967a_11eb_b299_31e70dcf76edrow4_col0\" class=\"data row4 col0\" >601836</td>\n",
       "            </tr>\n",
       "            <tr>\n",
       "                        <th id=\"T_da86e9e8_967a_11eb_b299_31e70dcf76edlevel0_row5\" class=\"row_heading level0 row5\" >crawler-nate-society-2018</th>\n",
       "                        <td id=\"T_da86e9e8_967a_11eb_b299_31e70dcf76edrow5_col0\" class=\"data row5 col0\" >1145329</td>\n",
       "            </tr>\n",
       "            <tr>\n",
       "                        <th id=\"T_da86e9e8_967a_11eb_b299_31e70dcf76edlevel0_row6\" class=\"row_heading level0 row6\" >crawler-nate-sports-2018</th>\n",
       "                        <td id=\"T_da86e9e8_967a_11eb_b299_31e70dcf76edrow6_col0\" class=\"data row6 col0\" >651544</td>\n",
       "            </tr>\n",
       "    </tbody></table>"
      ],
      "text/plain": [
       "<pandas.io.formats.style.Styler at 0x7fd2fba55280>"
      ]
     },
     "metadata": {},
     "output_type": "display_data"
    }
   ],
   "source": [
    "reports.custom_display(df_size)"
   ]
  },
  {
   "cell_type": "code",
   "execution_count": 9,
   "metadata": {
    "ExecuteTime": {
     "end_time": "2021-04-06T01:53:21.365781Z",
     "start_time": "2021-04-06T01:53:21.222936Z"
    },
    "execution": {
     "iopub.execute_input": "2021-03-22T01:49:58.834342Z",
     "iopub.status.busy": "2021-03-22T01:49:58.834045Z",
     "iopub.status.idle": "2021-03-22T01:49:59.022140Z",
     "shell.execute_reply": "2021-03-22T01:49:59.022393Z"
    }
   },
   "outputs": [
    {
     "data": {
      "text/plain": [
       "<AxesSubplot:xlabel='index'>"
      ]
     },
     "execution_count": 9,
     "metadata": {},
     "output_type": "execute_result"
    },
    {
     "data": {
      "image/png": "[encoded data removed]",
      "text/plain": [
       "<Figure size 1080x720 with 1 Axes>"
      ]
     },
     "metadata": {},
     "output_type": "display_data"
    }
   ],
   "source": [
    "df_size.plot(kind='bar', figsize=(15, 10))"
   ]
  },
  {
   "cell_type": "markdown",
   "metadata": {},
   "source": [
    "# 날짜별 기사 "
   ]
  },
  {
   "cell_type": "code",
   "execution_count": null,
   "metadata": {
    "ExecuteTime": {
     "end_time": "2021-03-23T01:46:24.926483Z",
     "start_time": "2021-03-23T01:46:24.716081Z"
    },
    "execution": {
     "iopub.execute_input": "2021-03-22T01:49:59.038656Z",
     "iopub.status.busy": "2021-03-22T01:49:59.038320Z",
     "iopub.status.idle": "2021-03-22T01:50:26.131122Z",
     "shell.execute_reply": "2021-03-22T01:50:26.130812Z"
    }
   },
   "outputs": [],
   "source": [
    "index_list = [x for x in reports.state['list'] if set(x.split('-')).intersection(neddle) == neddle]\n",
    "\n",
    "data = reports.get_index_histogram(index_list=','.join(index_list), date_range=date_range)\n",
    "    \n",
    "df_date = pd.DataFrame(data).fillna(0)"
   ]
  },
  {
   "cell_type": "code",
   "execution_count": null,
   "metadata": {
    "ExecuteTime": {
     "end_time": "2021-03-23T01:46:25.044881Z",
     "start_time": "2021-03-23T01:46:24.927633Z"
    },
    "execution": {
     "iopub.execute_input": "2021-03-22T01:50:26.133047Z",
     "iopub.status.busy": "2021-03-22T01:50:26.132746Z",
     "iopub.status.idle": "2021-03-22T01:50:26.157047Z",
     "shell.execute_reply": "2021-03-22T01:50:26.156730Z"
    }
   },
   "outputs": [],
   "source": [
    "reports.custom_display(df_date)"
   ]
  },
  {
   "cell_type": "code",
   "execution_count": null,
   "metadata": {
    "ExecuteTime": {
     "end_time": "2021-03-23T01:46:25.103717Z",
     "start_time": "2021-03-23T01:46:25.045836Z"
    },
    "execution": {
     "iopub.execute_input": "2021-03-22T01:50:26.159249Z",
     "iopub.status.busy": "2021-03-22T01:50:26.158948Z",
     "iopub.status.idle": "2021-03-22T01:50:26.343175Z",
     "shell.execute_reply": "2021-03-22T01:50:26.342857Z"
    }
   },
   "outputs": [],
   "source": [
    "reports.custom_display(df_date.describe())"
   ]
  },
  {
   "cell_type": "code",
   "execution_count": null,
   "metadata": {
    "ExecuteTime": {
     "end_time": "2021-03-23T01:46:25.450474Z",
     "start_time": "2021-03-23T01:46:25.104944Z"
    }
   },
   "outputs": [],
   "source": [
    "order = df_date.describe().median().sort_values(ascending=False)\n",
    "df_date.describe()[order.index].boxplot(figsize=(15, 7))"
   ]
  },
  {
   "cell_type": "code",
   "execution_count": null,
   "metadata": {
    "ExecuteTime": {
     "end_time": "2021-03-23T01:46:26.174086Z",
     "start_time": "2021-03-23T01:46:25.454874Z"
    },
    "execution": {
     "iopub.execute_input": "2021-03-22T01:50:26.345349Z",
     "iopub.status.busy": "2021-03-22T01:50:26.345046Z",
     "iopub.status.idle": "2021-03-22T01:50:26.788961Z",
     "shell.execute_reply": "2021-03-22T01:50:26.788659Z"
    }
   },
   "outputs": [],
   "source": [
    "# TODO: 한달 단위 그래프 표시 \n",
    "month_st, month_en = 11, 12\n",
    "\n",
    "mask = (f'{year}-{month_st:02}-01' <= df_date.index) & (df_date.index < f'{year}-{month_en:02}-01')\n",
    "display(df_date[ mask ].plot(kind='barh', stacked=True, figsize=(15, 15)))"
   ]
  },
  {
   "cell_type": "markdown",
   "metadata": {},
   "source": [
    "# 백필 현재 위치 "
   ]
  },
  {
   "cell_type": "code",
   "execution_count": 18,
   "metadata": {
    "ExecuteTime": {
     "end_time": "2021-04-06T01:57:42.242228Z",
     "start_time": "2021-04-06T01:57:42.232084Z"
    }
   },
   "outputs": [
    {
     "data": {
      "text/plain": [
       "['crawler-nate-economy-2020',\n",
       " 'crawler-nate-entertainment-2020',\n",
       " 'crawler-nate-international-2020',\n",
       " 'crawler-nate-it-2020',\n",
       " 'crawler-nate-politics-2020',\n",
       " 'crawler-nate-society-2020',\n",
       " 'crawler-nate-sports-2020']"
      ]
     },
     "execution_count": 18,
     "metadata": {},
     "output_type": "execute_result"
    }
   ],
   "source": [
    "date_range = '2020-01-01~2020-12-31'\n",
    "\n",
    "year = date_range.split('-')[0]\n",
    "\n",
    "neddle = set([\n",
    "    'nate', \n",
    "    year, \n",
    "    date_range.split('~')[1].split('-')[0]\n",
    "])\n",
    "\n",
    "index_list = [x for x in reports.state['list'] if set(x.split('-')).intersection(neddle) == neddle]\n",
    "index_list"
   ]
  },
  {
   "cell_type": "code",
   "execution_count": 25,
   "metadata": {
    "ExecuteTime": {
     "end_time": "2021-04-06T02:00:17.199623Z",
     "start_time": "2021-04-06T02:00:17.177315Z"
    }
   },
   "outputs": [
    {
     "data": {
      "text/html": [
       "<div>\n",
       "<style scoped>\n",
       "    .dataframe tbody tr th:only-of-type {\n",
       "        vertical-align: middle;\n",
       "    }\n",
       "\n",
       "    .dataframe tbody tr th {\n",
       "        vertical-align: top;\n",
       "    }\n",
       "\n",
       "    .dataframe thead th {\n",
       "        text-align: right;\n",
       "    }\n",
       "</style>\n",
       "<table border=\"1\" class=\"dataframe\">\n",
       "  <thead>\n",
       "    <tr style=\"text-align: right;\">\n",
       "      <th></th>\n",
       "      <th></th>\n",
       "      <th>date</th>\n",
       "    </tr>\n",
       "    <tr>\n",
       "      <th>section</th>\n",
       "      <th>category</th>\n",
       "      <th></th>\n",
       "    </tr>\n",
       "  </thead>\n",
       "  <tbody>\n",
       "    <tr>\n",
       "      <th rowspan=\"7\" valign=\"top\">economy</th>\n",
       "      <th>경제/금융/증권</th>\n",
       "      <td>2018-01-01</td>\n",
       "    </tr>\n",
       "    <tr>\n",
       "      <th>경제/경제 일반</th>\n",
       "      <td>2018-01-01</td>\n",
       "    </tr>\n",
       "    <tr>\n",
       "      <th>경제/산업/기업</th>\n",
       "      <td>2018-01-02</td>\n",
       "    </tr>\n",
       "    <tr>\n",
       "      <th>경제/국제경제</th>\n",
       "      <td>2018-01-02</td>\n",
       "    </tr>\n",
       "    <tr>\n",
       "      <th>경제/부동산</th>\n",
       "      <td>2018-01-01</td>\n",
       "    </tr>\n",
       "    <tr>\n",
       "      <th>경제/생활 경제</th>\n",
       "      <td>2018-01-01</td>\n",
       "    </tr>\n",
       "    <tr>\n",
       "      <th>경제/취업/창업</th>\n",
       "      <td>2018-01-02</td>\n",
       "    </tr>\n",
       "  </tbody>\n",
       "</table>\n",
       "</div>"
      ],
      "text/plain": [
       "                        date\n",
       "section category            \n",
       "economy 경제/금융/증권  2018-01-01\n",
       "        경제/경제 일반  2018-01-01\n",
       "        경제/산업/기업  2018-01-02\n",
       "        경제/국제경제   2018-01-02\n",
       "        경제/부동산    2018-01-01\n",
       "        경제/생활 경제  2018-01-01\n",
       "        경제/취업/창업  2018-01-02"
      ]
     },
     "execution_count": 25,
     "metadata": {},
     "output_type": "execute_result"
    }
   ],
   "source": [
    "index_list = ['crawler-nate-economy-2018']\n",
    "data = reports.get_category_min_date(index_list=','.join(index_list))\n",
    "\n",
    "df_backfill_pos = pd.DataFrame(data).set_index(['section', 'category'])\n",
    "\n",
    "df_backfill_pos"
   ]
  },
  {
   "cell_type": "code",
   "execution_count": null,
   "metadata": {},
   "outputs": [],
   "source": []
  }
 ],
 "metadata": {
  "kernelspec": {
   "display_name": "Python 3",
   "language": "python",
   "name": "python3"
  },
  "language_info": {
   "codemirror_mode": {
    "name": "ipython",
    "version": 3
   },
   "file_extension": ".py",
   "mimetype": "text/x-python",
   "name": "python",
   "nbconvert_exporter": "python",
   "pygments_lexer": "ipython3",
   "version": "3.8.5"
  },
  "latex_envs": {
   "LaTeX_envs_menu_present": true,
   "autoclose": false,
   "autocomplete": true,
   "bibliofile": "biblio.bib",
   "cite_by": "apalike",
   "current_citInitial": 1,
   "eqLabelWithNumbers": true,
   "eqNumInitial": 1,
   "hotkeys": {
    "equation": "Ctrl-E",
    "itemize": "Ctrl-I"
   },
   "labels_anchors": false,
   "latex_user_defs": false,
   "report_style_numbering": false,
   "user_envs_cfg": false
  },
  "toc": {
   "base_numbering": 1,
   "nav_menu": {},
   "number_sections": false,
   "sideBar": false,
   "skip_h1_title": false,
   "title_cell": "Table of Contents",
   "title_sidebar": "Contents",
   "toc_cell": false,
   "toc_position": {},
   "toc_section_display": false,
   "toc_window_display": false
  },
  "varInspector": {
   "cols": {
    "lenName": 16,
    "lenType": 16,
    "lenVar": 40
   },
   "kernels_config": {
    "python": {
     "delete_cmd_postfix": "",
     "delete_cmd_prefix": "del ",
     "library": "var_list.py",
     "varRefreshCmd": "print(var_dic_list())"
    },
    "r": {
     "delete_cmd_postfix": ") ",
     "delete_cmd_prefix": "rm(",
     "library": "var_list.r",
     "varRefreshCmd": "cat(var_dic_list()) "
    }
   },
   "types_to_exclude": [
    "module",
    "function",
    "builtin_function_or_method",
    "instance",
    "_Feature"
   ],
   "window_display": false
  }
 },
 "nbformat": 4,
 "nbformat_minor": 4
}
