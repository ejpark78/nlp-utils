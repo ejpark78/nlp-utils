{
 "cells": [
  {
   "cell_type": "code",
   "execution_count": null,
   "metadata": {
    "ExecuteTime": {
     "end_time": "2021-03-19T02:36:33.975941Z",
     "start_time": "2021-03-19T02:36:33.964026Z"
    },
    "execution": {
     "iopub.execute_input": "2021-03-18T10:44:17.732983Z",
     "iopub.status.busy": "2021-03-18T10:44:17.732704Z",
     "iopub.status.idle": "2021-03-18T10:44:17.734450Z",
     "shell.execute_reply": "2021-03-18T10:44:17.734133Z"
    }
   },
   "outputs": [],
   "source": [
    "%load_ext autoreload\n",
    "%autoreload 2"
   ]
  },
  {
   "cell_type": "code",
   "execution_count": null,
   "metadata": {
    "ExecuteTime": {
     "end_time": "2021-03-19T02:36:34.475137Z",
     "start_time": "2021-03-19T02:36:33.977106Z"
    },
    "execution": {
     "iopub.execute_input": "2021-03-18T10:44:17.741740Z",
     "iopub.status.busy": "2021-03-18T10:44:17.741420Z",
     "iopub.status.idle": "2021-03-18T10:44:18.050319Z",
     "shell.execute_reply": "2021-03-18T10:44:18.050547Z"
    },
    "scrolled": true
   },
   "outputs": [],
   "source": [
    "import pandas as pd\n",
    "import warnings\n",
    "\n",
    "warnings.filterwarnings(action='ignore')\n",
    "\n",
    "from crawler.utils.daily_reports import DailyReports\n",
    "\n",
    "%matplotlib inline"
   ]
  },
  {
   "cell_type": "code",
   "execution_count": null,
   "metadata": {
    "ExecuteTime": {
     "end_time": "2021-03-19T02:36:35.536223Z",
     "start_time": "2021-03-19T02:36:34.476282Z"
    },
    "execution": {
     "iopub.execute_input": "2021-03-18T10:44:18.053405Z",
     "iopub.status.busy": "2021-03-18T10:44:18.053061Z",
     "iopub.status.idle": "2021-03-18T10:44:18.054876Z",
     "shell.execute_reply": "2021-03-18T10:44:18.054642Z"
    }
   },
   "outputs": [],
   "source": [
    "# reports = DailyReports(host='https://crawler-es.cloud.ncsoft.com:9200', encoded_auth='ZWxhc3RpYzpzZWFyY2hUMjAyMA==')\n",
    "reports = DailyReports(host='https://corpus.ncsoft.com:9200', encoded_auth='ZWxhc3RpYzpubHBsYWI=')\n",
    "\n",
    "reports.set_plt_font()"
   ]
  },
  {
   "cell_type": "markdown",
   "metadata": {},
   "source": [
    "# 인덱스 수량"
   ]
  },
  {
   "cell_type": "code",
   "execution_count": null,
   "metadata": {
    "ExecuteTime": {
     "end_time": "2021-03-19T02:36:35.545353Z",
     "start_time": "2021-03-19T02:36:35.537451Z"
    }
   },
   "outputs": [],
   "source": [
    "str_year = str(reports.today.year)\n",
    "index_size = [x for x in reports.state['size'] if x['index'].find('crawler-') == 0 and x['index'].find(str_year) > 0]"
   ]
  },
  {
   "cell_type": "code",
   "execution_count": null,
   "metadata": {
    "ExecuteTime": {
     "end_time": "2021-03-19T02:36:35.783992Z",
     "start_time": "2021-03-19T02:36:35.546388Z"
    },
    "execution": {
     "iopub.execute_input": "2021-03-18T10:44:18.145235Z",
     "iopub.status.busy": "2021-03-18T10:44:18.142986Z",
     "iopub.status.idle": "2021-03-18T10:44:18.566847Z",
     "shell.execute_reply": "2021-03-18T10:44:18.567091Z"
    },
    "scrolled": true
   },
   "outputs": [],
   "source": [
    "df_size = pd.DataFrame(index_size).set_index('index')\n",
    "\n",
    "df_size['count'] = df_size['count'].astype(float)\n",
    "\n",
    "reports.custom_display(df_size.describe())"
   ]
  },
  {
   "cell_type": "code",
   "execution_count": null,
   "metadata": {
    "ExecuteTime": {
     "end_time": "2021-03-19T02:36:35.809996Z",
     "start_time": "2021-03-19T02:36:35.785087Z"
    }
   },
   "outputs": [],
   "source": [
    "reports.custom_display(df_size)"
   ]
  },
  {
   "cell_type": "code",
   "execution_count": null,
   "metadata": {
    "ExecuteTime": {
     "end_time": "2021-03-19T02:36:36.272968Z",
     "start_time": "2021-03-19T02:36:35.811553Z"
    }
   },
   "outputs": [],
   "source": [
    "df_size.plot(kind='barh', figsize=(15, 25))"
   ]
  },
  {
   "cell_type": "markdown",
   "metadata": {},
   "source": [
    "# 오늘/어제 수집 기사 "
   ]
  },
  {
   "cell_type": "code",
   "execution_count": null,
   "metadata": {
    "ExecuteTime": {
     "end_time": "2021-03-19T02:36:36.298000Z",
     "start_time": "2021-03-19T02:36:36.274169Z"
    },
    "execution": {
     "iopub.execute_input": "2021-03-18T10:44:18.863986Z",
     "iopub.status.busy": "2021-03-18T10:44:18.863684Z",
     "iopub.status.idle": "2021-03-18T10:44:18.902723Z",
     "shell.execute_reply": "2021-03-18T10:44:18.901310Z"
    }
   },
   "outputs": [],
   "source": [
    "yesterday = reports.yesterday.strftime('%Y-%m-%d')\n",
    "\n",
    "index = f'crawler-*-{str_year}'\n",
    "date_range = f'{yesterday}~{yesterday}'\n",
    "\n",
    "data = reports.get_date_histogram(\n",
    "    index=index, \n",
    "    column='date', \n",
    "    interval='hour', \n",
    "    date_range=date_range, \n",
    "    date_format='MM-dd:HH'\n",
    ")"
   ]
  },
  {
   "cell_type": "code",
   "execution_count": null,
   "metadata": {
    "ExecuteTime": {
     "end_time": "2021-03-19T02:36:36.394476Z",
     "start_time": "2021-03-19T02:36:36.299316Z"
    }
   },
   "outputs": [],
   "source": [
    "df_date = pd.DataFrame(data['rows']).set_index('date')\n",
    "reports.custom_display(df_date.describe())"
   ]
  },
  {
   "cell_type": "code",
   "execution_count": null,
   "metadata": {
    "ExecuteTime": {
     "end_time": "2021-03-19T02:36:36.491822Z",
     "start_time": "2021-03-19T02:36:36.395531Z"
    }
   },
   "outputs": [],
   "source": [
    "reports.custom_display(df_date)"
   ]
  },
  {
   "cell_type": "code",
   "execution_count": null,
   "metadata": {
    "ExecuteTime": {
     "end_time": "2021-03-19T02:36:36.682661Z",
     "start_time": "2021-03-19T02:36:36.493112Z"
    },
    "execution": {
     "iopub.execute_input": "2021-03-18T10:44:18.933011Z",
     "iopub.status.busy": "2021-03-18T10:44:18.932336Z",
     "iopub.status.idle": "2021-03-18T10:44:19.696128Z",
     "shell.execute_reply": "2021-03-18T10:44:19.696374Z"
    }
   },
   "outputs": [],
   "source": [
    "df_date.plot(kind='line', figsize=(15, 10))"
   ]
  },
  {
   "cell_type": "markdown",
   "metadata": {},
   "source": [
    "# 카테고리 수량 "
   ]
  },
  {
   "cell_type": "code",
   "execution_count": null,
   "metadata": {
    "ExecuteTime": {
     "end_time": "2021-03-19T02:36:36.705198Z",
     "start_time": "2021-03-19T02:36:36.683841Z"
    },
    "execution": {
     "iopub.execute_input": "2021-03-18T10:44:19.702480Z",
     "iopub.status.busy": "2021-03-18T10:44:19.702187Z",
     "iopub.status.idle": "2021-03-18T10:44:19.713502Z",
     "shell.execute_reply": "2021-03-18T10:44:19.713752Z"
    }
   },
   "outputs": [],
   "source": [
    "yesterday = reports.yesterday.strftime('%Y-%m-%d')\n",
    "\n",
    "index = f'crawler-*-{str_year}'\n",
    "date_range = f'{yesterday}~{yesterday}'\n",
    "\n",
    "data = reports.get_column_count(index=index, column='category.keyword', date_column='date', date_range=date_range)\n",
    "cnt = reports.merge_category(category_count=data)"
   ]
  },
  {
   "cell_type": "code",
   "execution_count": null,
   "metadata": {
    "ExecuteTime": {
     "end_time": "2021-03-19T02:36:36.786622Z",
     "start_time": "2021-03-19T02:36:36.706249Z"
    },
    "execution": {
     "iopub.execute_input": "2021-03-18T10:44:19.719145Z",
     "iopub.status.busy": "2021-03-18T10:44:19.718847Z",
     "iopub.status.idle": "2021-03-18T10:44:19.866182Z",
     "shell.execute_reply": "2021-03-18T10:44:19.865882Z"
    }
   },
   "outputs": [],
   "source": [
    "df_category = pd.DataFrame([{'category': k, 'count': v} for k, v in cnt.items()]).set_index('category')\n",
    "\n",
    "reports.custom_display(df_category.describe())"
   ]
  },
  {
   "cell_type": "code",
   "execution_count": null,
   "metadata": {
    "ExecuteTime": {
     "end_time": "2021-03-19T02:36:36.890713Z",
     "start_time": "2021-03-19T02:36:36.787559Z"
    }
   },
   "outputs": [],
   "source": [
    "reports.custom_display(df_category)"
   ]
  },
  {
   "cell_type": "code",
   "execution_count": null,
   "metadata": {
    "ExecuteTime": {
     "end_time": "2021-03-19T02:36:56.260214Z",
     "start_time": "2021-03-19T02:36:54.961057Z"
    }
   },
   "outputs": [],
   "source": [
    "df_category.plot(kind='barh', figsize=(20, 40))"
   ]
  }
 ],
 "metadata": {
  "kernelspec": {
   "display_name": "Python 3",
   "language": "python",
   "name": "python3"
  },
  "language_info": {
   "codemirror_mode": {
    "name": "ipython",
    "version": 3
   },
   "file_extension": ".py",
   "mimetype": "text/x-python",
   "name": "python",
   "nbconvert_exporter": "python",
   "pygments_lexer": "ipython3",
   "version": "3.8.5"
  },
  "latex_envs": {
   "LaTeX_envs_menu_present": true,
   "autoclose": false,
   "autocomplete": true,
   "bibliofile": "biblio.bib",
   "cite_by": "apalike",
   "current_citInitial": 1,
   "eqLabelWithNumbers": true,
   "eqNumInitial": 1,
   "hotkeys": {
    "equation": "Ctrl-E",
    "itemize": "Ctrl-I"
   },
   "labels_anchors": false,
   "latex_user_defs": false,
   "report_style_numbering": false,
   "user_envs_cfg": false
  },
  "toc": {
   "base_numbering": 1,
   "nav_menu": {},
   "number_sections": false,
   "sideBar": false,
   "skip_h1_title": false,
   "title_cell": "Table of Contents",
   "title_sidebar": "Contents",
   "toc_cell": false,
   "toc_position": {},
   "toc_section_display": false,
   "toc_window_display": false
  },
  "varInspector": {
   "cols": {
    "lenName": 16,
    "lenType": 16,
    "lenVar": 40
   },
   "kernels_config": {
    "python": {
     "delete_cmd_postfix": "",
     "delete_cmd_prefix": "del ",
     "library": "var_list.py",
     "varRefreshCmd": "print(var_dic_list())"
    },
    "r": {
     "delete_cmd_postfix": ") ",
     "delete_cmd_prefix": "rm(",
     "library": "var_list.r",
     "varRefreshCmd": "cat(var_dic_list()) "
    }
   },
   "types_to_exclude": [
    "module",
    "function",
    "builtin_function_or_method",
    "instance",
    "_Feature"
   ],
   "window_display": false
  }
 },
 "nbformat": 4,
 "nbformat_minor": 4
}
