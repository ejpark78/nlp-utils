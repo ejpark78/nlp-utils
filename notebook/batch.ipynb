{
 "cells": [
  {
   "cell_type": "code",
   "execution_count": null,
   "metadata": {
    "ExecuteTime": {
     "end_time": "2017-03-29T03:04:45.504809Z",
     "start_time": "2017-03-29T12:04:37.920711+09:00"
    },
    "collapsed": false,
    "deletable": true,
    "editable": true,
    "run_control": {
     "frozen": false,
     "read_only": false
    }
   },
   "outputs": [],
   "source": [
    "bzcat data/baseball/nate/2014.json.sentence.bz2 | wc -l"
   ]
  },
  {
   "cell_type": "code",
   "execution_count": null,
   "metadata": {
    "ExecuteTime": {
     "end_time": "2017-03-29T03:05:11.370052Z",
     "start_time": "2017-03-29T12:05:08.974972+09:00"
    },
    "collapsed": false,
    "deletable": true,
    "editable": true,
    "run_control": {
     "frozen": false,
     "read_only": false
    }
   },
   "outputs": [],
   "source": [
    "bzcat data/baseball/nate/2014.json.sentence.bz2 | more\n"
   ]
  },
  {
   "cell_type": "markdown",
   "metadata": {
    "deletable": true,
    "editable": true,
    "run_control": {
     "frozen": false,
     "read_only": false
    }
   },
   "source": [
    "# 분석 결과 디비에 입려"
   ]
  },
  {
   "cell_type": "code",
   "execution_count": null,
   "metadata": {
    "ExecuteTime": {
     "end_time": "2017-03-29T03:45:11.365697Z",
     "start_time": "2017-03-29T12:43:02.504205+09:00"
    },
    "collapsed": false,
    "deletable": true,
    "editable": true,
    "run_control": {
     "frozen": false,
     "read_only": false
    }
   },
   "outputs": [],
   "source": [
    "bzcat data/baseball/nate/2014.json.result.bz2 | mongoimport --host gollum02 --db debug --collection baseball_2014"
   ]
  },
  {
   "cell_type": "code",
   "execution_count": null,
   "metadata": {
    "ExecuteTime": {
     "end_time": "2017-03-29T04:54:22.996217Z",
     "start_time": "2017-03-29T13:54:22.418731+09:00"
    },
    "collapsed": false,
    "deletable": true,
    "editable": true,
    "run_control": {
     "frozen": false,
     "read_only": false
    }
   },
   "outputs": [],
   "source": [
    "mongo gollum02:27017/debug \\\n",
    "    --quiet --eval \"db.getCollection('baseball_2014').find({'_id': 'sports.news.nate.20140914n02235'})\" \\\n",
    "    | perl -ple 's/ISODate\\(\"(.+?)\"\\)/\"$1\"/g;' | NCPreProcess.py -spark_batch | pretty.py\n"
   ]
  },
  {
   "cell_type": "code",
   "execution_count": null,
   "metadata": {
    "collapsed": true,
    "deletable": true,
    "editable": true,
    "run_control": {
     "frozen": false,
     "read_only": false
    }
   },
   "outputs": [],
   "source": [
    "bzcat data/baseball/nate/2014.json.sentence.bz2 | perl -nle 'print if /^#/ || /^[^\"]*[\"]+[^\"]+$/;' | more"
   ]
  },
  {
   "cell_type": "code",
   "execution_count": 39,
   "metadata": {
    "ExecuteTime": {
     "end_time": "2017-03-29T07:56:12.802124Z",
     "start_time": "2017-03-29T16:56:04.691831+09:00"
    },
    "collapsed": false,
    "deletable": true,
    "editable": true,
    "run_control": {
     "frozen": false,
     "read_only": false
    }
   },
   "outputs": [
    {
     "name": "stdout",
     "output_type": "stream",
     "text": [
      "976\n"
     ]
    }
   ],
   "source": [
    "bzcat data/baseball/nate/2014.json.sentence.bz2 \\\n",
    "    | ./scripts/grep_qoute_error.sh | grep error | wc -l\n"
   ]
  },
  {
   "cell_type": "code",
   "execution_count": 38,
   "metadata": {
    "ExecuteTime": {
     "end_time": "2017-03-29T07:34:34.518637Z",
     "start_time": "2017-03-29T16:33:34.047885+09:00"
    },
    "collapsed": false,
    "deletable": true,
    "editable": true,
    "run_control": {
     "frozen": false,
     "read_only": false
    }
   },
   "outputs": [
    {
     "name": "stdout",
     "output_type": "stream",
     "text": [
      "{\"pos_tagged\": [[\"2014/SN 인천/NNP 아시아/NNP+게임/NNG+이/JKS 약/MM 일주일/NNG 앞/NNG+으로/JKB 다가오/VV+았/EP+다/EM+./SF\", \"금메달/NNG+을/JKO 목표/NNG+로/JKB 삼/VV+은/ETM 야구/NNG 대표/NNG+팀/NNG+의/JKG 포부/NNG+가/JKS 크/VA+ㄴ/ETM 상황/NNG+에서/JKB 부상/NNG 선수/NNG+들/XSN+이/JKS 아쉬움/NNG+으로/JKB 크/VA+게/EM 다가오/VV+고/EM 있/VX+다/EM+./SF\", \"무엇/NP+보다/JKB 경기/NNG 감각/NNG+과/JKB 선수/NNG+들/XSN+의/JKG 의지/NNG+가/JKS 문제/NNG+이/VCP+다/EM+./SF\"], [\"류중일/NNP 대표/NNG+팀/NNG 감독/NNG+은/JX 13/SN+일/NNB 선수/NNG+들/XSN+의/JKG 컨디션/NNG+을/JKO 가장/MAG 걱정/NNG+하/XSV+았/EP+다/EM+./SF\", \"특히/MAG 부상/NNG+으로/JKB 인하/VV+아/EM 최근/NNG 경기/NNG+에/JKB 나서/VV+지/EM 못하/VX+ㄴ/ETM 넥센/NNP+의/JKG 강정호/NNP+와/JKB 김민성/NNP+,/SP 롯데/NNP+의/JKG 강민호/NNP+,/SP KIA/SL+의/JKG 나지완/NNP+의/JKG 상태/NNG+에/JKB 대하/VV+아/EM 아쉽/VA+ㄴ/ETM 마음/NNG+을/JKO 드러내/VV+었/EP+다/EM+./SF\"], [\"인천/NNP 아시안/NNG+게임/NNG 야구/NNG 대표/NNG+팀/NNG+의/JKG 목표/NNG+는/JX 금메달/NNG+이/JKS 목표/NNG+이/VCP+다/EM+./SF\", \"하지만/MAJ 아직/MAG+까지/JX 선수/NNG 기용/NNG+에/JKB 대하/VV+ㄴ/ETM 뚜렷하/VA+ㄴ/ETM 해법/NNG+을/JKO 내세우/VV+지/EM 못하/VX+고/EM 있/VX+다/EM+./SF\", \"선수/NNG+들/XSN+의/JKG 의지/NNG+가/JKS 절실하/VA+ㄴ/ETM 때/NNG+이/VCP+다/EM+./SF\", \"ⓒ/SW+News/SL+1/SN DB/SL\"], [\"류중일/NNP 감독/NNG+은/JX 2013/SN+년/NNB 월드베이스볼클래식/NNP+(/SS+WBC/SL+)/SS+의/JKG 악몽/NNG+을/JKO 떠올리/VV+며/EM \\\"/SS+당시/NNG 타자/NNG+들/XSN+이/JKS 못/MAG 치/VV+어서/EM 지/VX+었/EP+다/EM+\\\"/SS+며/EM 아쉬움/NNG+을/JKO 토로/NNG+하/XSV+았/EP+다/EM+./SF\", \"한국/NNP 대표/NNG+팀/NNG+은/JX 1/SN+라운드/NNG+에서/JKB 탈락/NNG+하/XSV+는/ETM 굴욕/NNG+을/JKO 당하/VV+았/EP+다/EM+./SF\"], [\"그러나/MAJ 류중일/NNP 감독/NNG+은/JX 온전히/MAG 선수/NNG+들/XSN 탓/NNG+으로/JKB+만/JX 돌리/VV+지/EM+ㄴ/JX 않/VX+았/EP+다/EM+./SF\", \"선수/NNG+들/XSN+의/JKG 휴식기/NNG+와/JKB 스프링/NNG+캠프/NNG+가/JKS 맞물리/VV+ㄴ/ETM 시기/NNG+,/SP 춥/VA+ㄴ/ETM 날씨/NNG+를/JKO 감안/NNG+하/XSV+아/EM 완전/NNG+하/XSA+ㄴ/ETM 컨디션/NNG+이/JKS 아니/VA+ㄴ/ETM 상태/NNG+에서/JKB 경기/NNG+를/JKO 치르/VV+ㄹ/ETM 수/NNB+밖에/JX 없/VA+었/EP+다고/EM 밑바탕/NNG+을/JKO 깔/VV+았/EP+다/EM+./SF\"], [\"그렇/VA+다고/EM 환경적/NNG+이/VCP+ㄴ/ETM 요인/NNG+만/JX+으로/JKB 문제/NNG+를/JKO 삼/VV+는/ETM 것/NNB+도/JX 뚜렷하/VA+ㄴ/ETM 이유/NNG+로/JKB 내세우/VV+ㄹ/ETM 수/NNB 없/VA+는/ETM 상황/NNG+이/VCP+었/EP+다/EM+./SF\", \"선수/NNG+들/XSN+의/JKG 몸/NNG 상태/NNG+가/JKS 경기/NNG 흐름/NNG+을/JKO 좌지우지/NNG+하/XSV+기/ETN 때문/NNB+이/VCP+었/EP+다/EM+./SF\"], [\"최근/NNG 부상/NNG+과/JKB 부진/NNG+으로/JKB 대표/NNG+팀/NNG 선수/NNG+들/XSN+의/JKG 컨디션/NNG+이/JKS 말/NNG+이/JKS 아니/VA+다/EM+./SF\", \"가장/MAG 믿/VV+었/EP+던/ETM 주전/NNG 유격수/NNG 강정호/NNP+와/JKB 멀티/NNG 플레이어/NNG 김민성/NNP+,/SP '/SS+안방/NNG+'/SS+을/JKO 책임지/VV+어야/EM 하/VX+ㄹ/ETM 강민호/NNP+가/JKS 국내/NNG 리그/NNG+에서/JKB 주전/NNG 선수/NNG+로서/JKB 저/NP+의/JKG 몫/NNG+을/JKO 못/MAG 하/VV+아/EM+주/VX+었/EP+던/ETM 것/NNB+./SF\", \"류중일/NNP 감독/NNG+의/JKG 한/MM 숨/NNG+은/JX 깊/VA+어/EM+지/VX+ㄹ/ETM 수/NNB 밖/NNG+에/JKB 없/VA+었/EP+다/EM+./SF\"], [\"류중일/NNP 감독/NNG+은/JX \\\"/SS+경기/NNP 감각/NNG+이란/JX 경기/NNG+를/JKO 치르/VV+면서/EM 익히/VV+어야/EM 하/VX+는/ETM 것/NNB+\\\"/SS+이라고/JKQ 강조/NNG+하/XSV+았/EP+다/EM+./SF\", \"하지만/MAJ 야수/NNG+로서/JKB 공격/NNG+과/JKB 수비/NNG+를/JKO 책임지/VV+어야/EM 하/VX+ㄹ/ETM 주축/NNG 선수/NNG+들/XSN+이/JKS 최근/NNG 경기/NNG+에/JKB 안/MAG 나서/VV+ㅁ/ETN+으로써/JKB 그/NP+들/XSN+의/JKG 상태/NNG+를/JKO 국내/NNG 전력/NNG 분석/NNG+으로써/JKB+도/JX 파악/NNG+하/XSV+기/ETN 힘들/VA+ㄴ/ETM 실정/NNG+\\\"/SS+이라고/JKQ 솔직하/VA+게/EM 속내/NNG+를/JKO 털어놓/VV+았/EP+다/EM+./SF\"], [\"답답하/VA+ㄴ/ETM 것/NNB+ㄴ/JX 마찬가지/NNG+이/VCP+지만/EM+,/SP 일단/MAG 선수/NNG+들/XSN+을/JKO 믿/VV+기/ETN+로/JKB 하/VV+았/EP+다/EM+./SF\", \"류중일/NNP 감독/NNG+은/JX 이/NP+들/XSN+에/JKB 대하/VV+아/EM \\\"/SS+부상/NNG+을/JKO 안/VV+고/EM 있/VX+는/ETM 선수/NNG+들/XSN+이/VCP+라/EM 가장/MAG 몸/NNG 상태/NNG+에/JKB 대하/VV+아/EM 궁금하/VA+다/EM+\\\"/SS+고/JKQ 여운/NNG+을/JKO 남기/VV+ㄴ/ETM 뒤/NNG \\\"/SS+워낙/MAG 경기/NNG 감각/NNG+이/JKS 있/VV+는/ETM 선수/NNG+들/XSN+이/VCP+라/EM 잘/MAG 하/VV+ㄹ/ETM 것/NNB+\\\"/SS+이/VCP+라며/EM 자신/NNG+하/XSV+았/EP+다/EM+./SF\"], [\"한국/NNP 대표/NNG+팀/NNG+은/JX 15/SN+일/NNB 소집/NNG 후/NNG 16/SN+일/NNB 훈련/NNG+에/JKB 돌입/NNG+하/XSV+ㄴ다/EM+./SF\", \"18/SN+일/NNB+에/JKB+는/JX LG/SL+와/JKB+의/JKG 평가전/NNG+을/JKO 통하/VV+아/EM 선수/NNG+들/XSN+의/JKG 몸/NNG 상태/NNG+를/JKO 꼼꼼히/MAG 점검/NNG+하/XSV+ㄹ/ETM 예정/NNG+이/VCP+다/EM+./SF\", \"류중일/NNP 감독/NNG+은/JX \\\"/SS+만약/NNG 아프/VA+ㄴ/ETM 선수/NNG+가/JKS 있/VV+다면/EM 다른/MM 선수/NNG+로/JKB 교체/NNG+하/XSV+ㄹ/ETM 수/NNB+도/JX 있/VV+다/EM+\\\"/SS+이/VCP+라며/EM 국제/NNG+대회/NNG+를/JKO 향하/VV+ㄴ/ETM 대표/NNG+팀/NNG 선수단/NNG+의/JKG 강하/VA+ㄴ/ETM 승부욕/NNG+을/JKO 드러내/VV+었/EP+다/EM+./SF\"]], \"named_entity\": [[\"2014/SN 인천/NNP[LOC_CIT|1|인천] 아시아/NNP+게임/NNG+이/JKS 약/MM 일주일/NNG 앞/NNG+으로/JKB 다가오/VV+았/EP+다/EM+./SF\", \"금메달/NNG+을/JKO 목표/NNG+로/JKB 삼/VV+은/ETM 야구/NNG 대표/NNG+팀/NNG+의/JKG 포부/NNG+가/JKS 크/VA+ㄴ/ETM 상황/NNG+에서/JKB 부상/NNG 선수/NNG+들/XSN+이/JKS 아쉬움/NNG+으로/JKB 크/VA+게/EM 다가오/VV+고/EM 있/VX+다/EM+./SF\", \"무엇/NP+보다/JKB 경기/NNG 감각/NNG+과/JKB 선수/NNG+들/XSN+의/JKG 의지/NNG+가/JKS 문제/NNG+이/VCP+다/EM+./SF\"], [\"류중일/NNP[PER_MNG|1|류중일] 대표/NNG+팀/NNG 감독/NNG+은/JX 13/SN+일/NNB 선수/NNG+들/XSN+의/JKG 컨디션/NNG+을/JKO 가장/MAG 걱정/NNG+하/XSV+았/EP+다/EM+./SF\", \"특히/MAG 부상/NNG+으로/JKB 인하/VV+아/EM 최근/NNG 경기/NNG+에/JKB 나서/VV+지/EM 못하/VX+ㄴ/ETM 넥센/NNP[ORG_TEAM|1|넥센 히어로즈][ORG_COMP|1|넥센타이어]+의/JKG 강정호/NNP[PER_BAT|1|강정호]+와/JKB 김민성/NNP[PER_BAT|1|김민성]+,/SP 롯데/NNP[ORG_COMP|1|롯데][ORG_TEAM|1|롯데 자이언츠]+의/JKG 강민호/NNP[PER_BAT|1|강민호]+,/SP KIA/SL[ORG_TEAM|1|기아]+의/JKG 나지완/NNP[PER_BAT|1|나지완]+의/JKG 상태/NNG+에/JKB 대하/VV+아/EM 아쉽/VA+ㄴ/ETM 마음/NNG+을/JKO 드러내/VV+었/EP+다/EM+./SF\"], [\"인천/NNP[LOC_CIT|1|인천] 아시안/NNG+게임/NNG 야구/NNG 대표/NNG+팀/NNG+의/JKG 목표/NNG+는/JX 금메달/NNG+이/JKS 목표/NNG+이/VCP+다/EM+./SF\", \"하지만/MAJ 아직/MAG+까지/JX 선수/NNG 기용/NNG+에/JKB 대하/VV+ㄴ/ETM 뚜렷하/VA+ㄴ/ETM 해법/NNG+을/JKO 내세우/VV+지/EM 못하/VX+고/EM 있/VX+다/EM+./SF\", \"선수/NNG+들/XSN+의/JKG 의지/NNG+가/JKS 절실하/VA+ㄴ/ETM 때/NNG+이/VCP+다/EM+./SF\", \"ⓒ/SW+News/SL+1/SN DB/SL\"], [\"류중일/NNP[PER_MNG|1|류중일] 감독/NNG+은/JX 2013/SN+년/NNB 월드베이스볼클래식/NNP+(/SS+WBC/SL+)/SS+의/JKG 악몽/NNG+을/JKO 떠올리/VV+며/EM \\\"/SS+당시/NNG 타자/NNG+들/XSN+이/JKS 못/MAG 치/VV+어서/EM 지/VX+었/EP+다/EM+\\\"/SS+며/EM 아쉬움/NNG+을/JKO 토로/NNG+하/XSV+았/EP+다/EM+./SF\", \"한국/NNP[LOC_NAT|1|대한민국] 대표/NNG+팀/NNG+은/JX 1/SN+라운드/NNG+에서/JKB 탈락/NNG+하/XSV+는/ETM 굴욕/NNG+을/JKO 당하/VV+았/EP+다/EM+./SF\"], [\"그러나/MAJ 류중일/NNP[PER_MNG|1|류중일] 감독/NNG+은/JX 온전히/MAG 선수/NNG+들/XSN 탓/NNG+으로/JKB+만/JX 돌리/VV+지/EM+ㄴ/JX 않/VX+았/EP+다/EM+./SF\", \"선수/NNG+들/XSN+의/JKG 휴식기/NNG+와/JKB 스프링/NNG+캠프/NNG+가/JKS 맞물리/VV+ㄴ/ETM 시기/NNG+,/SP 춥/VA+ㄴ/ETM 날씨/NNG+를/JKO 감안/NNG+하/XSV+아/EM 완전/NNG+하/XSA+ㄴ/ETM 컨디션/NNG+이/JKS 아니/VA+ㄴ/ETM 상태/NNG+에서/JKB 경기/NNG+를/JKO 치르/VV+ㄹ/ETM 수/NNB+밖에/JX 없/VA+었/EP+다고/EM 밑바탕/NNG+을/JKO 깔/VV+았/EP+다/EM+./SF\"], [\"그렇/VA+다고/EM 환경적/NNG+이/VCP+ㄴ/ETM 요인/NNG+만/JX+으로/JKB 문제/NNG+를/JKO 삼/VV+는/ETM 것/NNB+도/JX 뚜렷하/VA+ㄴ/ETM 이유/NNG+로/JKB 내세우/VV+ㄹ/ETM 수/NNB 없/VA+는/ETM 상황/NNG+이/VCP+었/EP+다/EM+./SF\", \"선수/NNG+들/XSN+의/JKG 몸/NNG 상태/NNG+가/JKS 경기/NNG 흐름/NNG+을/JKO 좌지우지/NNG+하/XSV+기/ETN 때문/NNB+이/VCP+었/EP+다/EM+./SF\"], [\"최근/NNG 부상/NNG+과/JKB 부진/NNG+으로/JKB 대표/NNG+팀/NNG 선수/NNG+들/XSN+의/JKG 컨디션/NNG+이/JKS 말/NNG+이/JKS 아니/VA+다/EM+./SF\", \"가장/MAG 믿/VV+었/EP+던/ETM 주전/NNG 유격수/NNG 강정호/NNP[PER_BAT|1|강정호]+와/JKB 멀티/NNG 플레이어/NNG 김민성/NNP[PER_BAT|1|김민성]+,/SP '/SS+안방/NNG+'/SS+을/JKO 책임지/VV+어야/EM 하/VX+ㄹ/ETM 강민호/NNP[PER_BAT|1|강민호]+가/JKS 국내/NNG 리그/NNG+에서/JKB 주전/NNG 선수/NNG+로서/JKB 저/NP+의/JKG 몫/NNG+을/JKO 못/MAG 하/VV+아/EM+주/VX+었/EP+던/ETM 것/NNB+./SF\", \"류중일/NNP[PER_MNG|1|류중일] 감독/NNG+의/JKG 한/MM 숨/NNG+은/JX 깊/VA+어/EM+지/VX+ㄹ/ETM 수/NNB 밖/NNG+에/JKB 없/VA+었/EP+다/EM+./SF\"], [\"류중일/NNP[PER_MNG|1|류중일] 감독/NNG+은/JX \\\"/SS+경기/NNP 감각/NNG+이란/JX[LOC_NAT|1|이란] 경기/NNG+를/JKO 치르/VV+면서/EM 익히/VV+어야/EM 하/VX+는/ETM 것/NNB+\\\"/SS+이라고/JKQ 강조/NNG+하/XSV+았/EP+다/EM+./SF\", \"하지만/MAJ 야수/NNG+로서/JKB 공격/NNG+과/JKB 수비/NNG+를/JKO 책임지/VV+어야/EM 하/VX+ㄹ/ETM 주축/NNG 선수/NNG+들/XSN+이/JKS 최근/NNG 경기/NNG+에/JKB 안/MAG 나서/VV+ㅁ/ETN+으로써/JKB 그/NP+들/XSN+의/JKG 상태/NNG+를/JKO 국내/NNG 전력/NNG 분석/NNG+으로써/JKB+도/JX 파악/NNG+하/XSV+기/ETN 힘들/VA+ㄴ/ETM 실정/NNG+\\\"/SS+이라고/JKQ 솔직하/VA+게/EM 속내/NNG+를/JKO 털어놓/VV+았/EP+다/EM+./SF\"], [\"답답하/VA+ㄴ/ETM 것/NNB+ㄴ/JX 마찬가지/NNG+이/VCP+지만/EM+,/SP 일단/MAG 선수/NNG+들/XSN+을/JKO 믿/VV+기/ETN+로/JKB 하/VV+았/EP+다/EM+./SF\", \"류중일/NNP[PER_MNG|1|류중일] 감독/NNG+은/JX 이/NP+들/XSN+에/JKB 대하/VV+아/EM \\\"/SS+부상/NNG+을/JKO 안/VV+고/EM 있/VX+는/ETM 선수/NNG+들/XSN+이/VCP+라/EM 가장/MAG 몸/NNG 상태/NNG+에/JKB 대하/VV+아/EM 궁금하/VA+다/EM+\\\"/SS+고/JKQ 여운/NNG+을/JKO 남기/VV+ㄴ/ETM 뒤/NNG \\\"/SS+워낙/MAG 경기/NNG 감각/NNG+이/JKS 있/VV+는/ETM 선수/NNG+들/XSN+이/VCP+라/EM 잘/MAG 하/VV+ㄹ/ETM 것/NNB+\\\"/SS+이/VCP+라며/EM 자신/NNG+하/XSV+았/EP+다/EM+./SF\"], [\"한국/NNP[LOC_NAT|1|대한민국] 대표/NNG+팀/NNG+은/JX 15/SN+일/NNB 소집/NNG 후/NNG 16/SN+일/NNB 훈련/NNG+에/JKB 돌입/NNG+하/XSV+ㄴ다/EM+./SF\", \"18/SN+일/NNB+에/JKB+는/JX LG/SL[ORG_COMP|1|LG][ORG_TEAM|1|LG 트윈스]+와/JKB+의/JKG 평가전/NNG+을/JKO 통하/VV+아/EM 선수/NNG+들/XSN+의/JKG 몸/NNG 상태/NNG+를/JKO 꼼꼼히/MAG 점검/NNG+하/XSV+ㄹ/ETM 예정/NNG+이/VCP+다/EM+./SF\", \"류중일/NNP[PER_MNG|1|류중일] 감독/NNG+은/JX \\\"/SS+만약/NNG 아프/VA+ㄴ/ETM 선수/NNG+가/JKS 있/VV+다면/EM 다른/MM 선수/NNG+로/JKB 교체/NNG+하/XSV+ㄹ/ETM 수/NNB+도/JX 있/VV+다/EM+\\\"/SS+이/VCP+라며/EM 국제/NNG+대회/NNG+를/JKO 향하/VV+ㄴ/ETM 대표/NNG+팀/NNG 선수단/NNG+의/JKG 강하/VA+ㄴ/ETM 승부욕/NNG+을/JKO 드러내/VV+었/EP+다/EM+./SF\"]], \"source\": \"뉴스1\", \"url\": \"http://sports.news.nate.com/view/20140914n02404\", \"header\": \"\", \"tail\": \"\", \"section\": \"야구\", \"date\": {\"$date\": \"2014-09-14T07:09:00.000Z\"}, \"keywords\": {\"words\": [\"대표팀\", \"휴식기\", \"경기\", \"전력\", \"공격\", \"상태\", \"롯데\", \"야구\", \"문제\", \"류중일\", \"고려\", \"일주일\", \"흐름\", \"의지\", \"넥센\", \"시기\", \"인천\", \"컨디션\", \"안방\", \"주전\", \"교체\", \"악몽\", \"여운\", \"해법\", \"KIA\", \"감각\", \"훈련\", \"감독\", \"라운드\", \"18일\", \"당시\", \"아시안게임\", \"마음\", \"승부욕\", \"멀티\", \"강정호\", \"굴욕\", \"리그\", \"분석\", \"상황\", \"기용\", \"평가전\", \"금메달\", \"이유\", \"대표\", \"목표\", \"2013년\", \"요인\", \"아쉬움\", \"유격수\", \"주축\", \"수비\", \"강민호\", \"실정\", \"부상\", \"국내\", \"스프링캠프\", \"선수\", \"아시아게임\", \"날씨\", \"속내\", \"김민성\", \"선수단\", \"월드베이스볼클래식\", \"만약\", \"포부\", \"플레이어\", \"15일\", \"야수\", \"16일\", \"LG\", \"13일\", \"국제대회\", \"나지완\", \"소집\", \"최근\", \"밑바탕\", \"한국\", \"부진\"]}, \"content\": \"(서울=뉴스1스포츠) 표권향 기자 = 2014 인천 아시아게임이 약 일주일 앞으로 다가왔다. 금메달을 목표로 삼은 야구 대표팀의 포부가 큰 상황에서 부상 선수들이 아쉬움으로 크게 다가오고 있다. 무엇보다 경기 감각과 선수들의 의지가 문제다.\\n\\n류중일 대표팀 감독은 13일 선수들의 컨디션을 가장 걱정했다. 특히 부상으로 인해 최근 경기에 나서지 못한 넥센의 강정호와 김민성, 롯데의 강민호, KIA의 나지완의 상태에 대해 아쉬운 마음을 드러냈다.\\n\\n\\n\\n인천 아시안게임 야구 대표팀의 목표는 금메달이 목표다. 하지만 아직까지 선수 기용에 대한 뚜렷한 해법을 내세우지 못하고 있다. 선수들의 의지가 절실한 때다. ⓒNews1 DB\\n\\n\\n\\n류중일 감독은 2013년 월드베이스볼클래식(WBC)의 악몽을 떠올리며 \\\"당시 타자들이 못 쳐서 졌다\\\"며 아쉬움을 토로했다. 한국 대표팀은 1라운드에서 탈락하는 굴욕을 당했다.\\n\\n그러나 류중일 감독은 온전히 선수들 탓으로만 돌리진 않았다. 선수들의 휴식기와 스프링캠프가 맞물린 시기, 추운 날씨를 감안해 완전한 컨디션이 아닌 상태에서 경기를 치를 수밖에 없었다고 밑바탕을 깔았다.\\n\\n그렇다고 환경적인 요인만으로 문제를 삼는 것도 뚜렷한 이유로 내세울 수 없는 상황이었다. 선수들의 몸 상태가 경기 흐름을 좌지우지하기 때문이었다.\\n\\n최근 부상과 부진으로 대표팀 선수들의 컨디션이 말이 아니다. 가장 믿었던 주전 유격수 강정호와 멀티 플레이어 김민성, '안방'을 책임져야 할 강민호가 국내 리그에서 주전 선수로서 제 몫을 못 해줬던 것. 류중일 감독의 한 숨은 깊어질 수 밖에 없었다.\\n\\n류중일 감독은 \\\"경기 감각이란 경기를 치르면서 익혀야 하는 것\\\"이라고 강조했다. 하지만 야수로서 공격과 수비를 책임져야 할 주축 선수들이 최근 경기에 안 나섬으로써 그들의 상태를 국내 전력 분석으로써도 파악하기 힘든 실정\\\"이라고 솔직하게 속내를 털어놨다.\\n\\n답답한 건 마찬가지지만, 일단 선수들을 믿기로 했다. 류중일 감독은 이들에 대해 \\\"부상을 안고 있는 선수들이라 가장 몸 상태에 대해 궁금하다\\\"고 여운을 남긴 뒤 \\\"워낙 경기 감각이 있는 선수들이라 잘 할 것\\\"이라며 자신했다.\\n\\n한국 대표팀은 15일 소집 후 16일 훈련에 돌입한다. 18일에는 LG와의 평가전을 통해 선수들의 몸 상태를 꼼꼼히 점검할 예정이다. 류중일 감독은 \\\"만약 아픈 선수가 있다면 다른 선수로 교체할 수도 있다\\\"라며 국제대회를 향한 대표팀 선수단의 강한 승부욕을 드러냈다.\\ngioia@\", \"_id\": \"sports.news.nate.20140914n02404\", \"title_named_entity\": \"류중일/NNP[PER_MNG|1|류중일] 감독/NNG+,/SP AG/SL 대표/NNG 선수/NNG 의지/NNG+에/JKB 따르/VV+ㄴ/ETM 교체/NNG 고려/NNP[LOC_NAT|1|고려]\", \"title\": \"류중일 감독, AG 대표 선수 의지에 따른 교체 고려\", \"title_pos_tagged\": \"류중일/NNP 감독/NNG+,/SP AG/SL 대표/NNG 선수/NNG 의지/NNG+에/JKB 따르/VV+ㄴ/ETM 교체/NNG 고려/NNP\", \"image_list\": [{\"caption_pos_tagged\": \"인천/NNP 아시안/NNG+게임/NNG 야구/NNG 대표/NNG+팀/NNG+의/JKG 목표/NNG+는/JX 금메달/NNG+이/JKS 목표/NNG+이/VCP+다/EM+./SF\", \"caption_named_entity\": \"인천/NNP[LOC_CIT|1|인천] 아시안/NNG+게임/NNG 야구/NNG 대표/NNG+팀/NNG+의/JKG 목표/NNG+는/JX 금메달/NNG+이/JKS 목표/NNG+이/VCP+다/EM+./SF\", \"caption\": \"인천 아시안게임 야구 대표팀의 목표는 금메달이 목표다.\", \"image\": \"http://thumbnews.nateimg.co.kr/view610/http://news.nateimg.co.kr/orgImg/na/2014/09/14/953060_article.jpg\"}, {\"caption_pos_tagged\": \"하지만/MAJ 아직/MAG+까지/JX 선수/NNG 기용/NNG+에/JKB 대하/VV+ㄴ/ETM 뚜렷하/VA+ㄴ/ETM 해법/NNG+을/JKO 내세우/VV+지/EM 못하/VX+고/EM 있/VX+다/EM+./SF\", \"caption_named_entity\": \"하지만/MAJ 아직/MAG+까지/JX 선수/NNG 기용/NNG+에/JKB 대하/VV+ㄴ/ETM 뚜렷하/VA+ㄴ/ETM 해법/NNG+을/JKO 내세우/VV+지/EM 못하/VX+고/EM 있/VX+다/EM+./SF\", \"caption\": \"하지만 아직까지 선수 기용에 대한 뚜렷한 해법을 내세우지 못하고 있다.\", \"image\": \"http://thumbnews.nateimg.co.kr/view610/http://news.nateimg.co.kr/orgImg/na/2014/09/14/953060_article.jpg\"}, {\"caption_pos_tagged\": \"선수/NNG+들/XSN+의/JKG 의지/NNG+가/JKS 절실하/VA+ㄴ/ETM 때/NNG+이/VCP+다/EM+./SF\", \"caption_named_entity\": \"선수/NNG+들/XSN+의/JKG 의지/NNG+가/JKS 절실하/VA+ㄴ/ETM 때/NNG+이/VCP+다/EM+./SF\", \"caption\": \"선수들의 의지가 절실한 때다.\", \"image\": \"http://thumbnews.nateimg.co.kr/view610/http://news.nateimg.co.kr/orgImg/na/2014/09/14/953060_article.jpg\"}, {\"caption_pos_tagged\": \"ⓒ/SW+News/SL+1/SN DB/SL\", \"caption_named_entity\": \"ⓒ/SW+News/SL+1/SN DB/SL\", \"caption\": \"ⓒNews1 DB\", \"image\": \"http://thumbnews.nateimg.co.kr/view610/http://news.nateimg.co.kr/orgImg/na/2014/09/14/953060_article.jpg\"}], \"paragraph\": [[\"2014 인천 아시아게임이 약 일주일 앞으로 다가왔다.\", \"금메달을 목표로 삼은 야구 대표팀의 포부가 큰 상황에서 부상 선수들이 아쉬움으로 크게 다가오고 있다.\", \"무엇보다 경기 감각과 선수들의 의지가 문제다.\"], [\"류중일 대표팀 감독은 13일 선수들의 컨디션을 가장 걱정했다.\", \"특히 부상으로 인해 최근 경기에 나서지 못한 넥센의 강정호와 김민성, 롯데의 강민호, KIA의 나지완의 상태에 대해 아쉬운 마음을 드러냈다.\"], [\"인천 아시안게임 야구 대표팀의 목표는 금메달이 목표다.\", \"하지만 아직까지 선수 기용에 대한 뚜렷한 해법을 내세우지 못하고 있다.\", \"선수들의 의지가 절실한 때다.\", \"ⓒNews1 DB\"], [\"류중일 감독은 2013년 월드베이스볼클래식(WBC)의 악몽을 떠올리며 \\\"당시 타자들이 못 쳐서 졌다\\\"며 아쉬움을 토로했다.\", \"한국 대표팀은 1라운드에서 탈락하는 굴욕을 당했다.\"], [\"그러나 류중일 감독은 온전히 선수들 탓으로만 돌리진 않았다.\", \"선수들의 휴식기와 스프링캠프가 맞물린 시기, 추운 날씨를 감안해 완전한 컨디션이 아닌 상태에서 경기를 치를 수밖에 없었다고 밑바탕을 깔았다.\"], [\"그렇다고 환경적인 요인만으로 문제를 삼는 것도 뚜렷한 이유로 내세울 수 없는 상황이었다.\", \"선수들의 몸 상태가 경기 흐름을 좌지우지하기 때문이었다.\"], [\"최근 부상과 부진으로 대표팀 선수들의 컨디션이 말이 아니다.\", \"가장 믿었던 주전 유격수 강정호와 멀티 플레이어 김민성, '안방'을 책임져야 할 강민호가 국내 리그에서 주전 선수로서 제 몫을 못 해줬던 것.\", \"류중일 감독의 한 숨은 깊어질 수 밖에 없었다.\"], [\"류중일 감독은 \\\"경기 감각이란 경기를 치르면서 익혀야 하는 것\\\"이라고 강조했다.\", \"하지만 야수로서 공격과 수비를 책임져야 할 주축 선수들이 최근 경기에 안 나섬으로써 그들의 상태를 국내 전력 분석으로써도 파악하기 힘든 실정\\\"이라고 솔직하게 속내를 털어놨다.\"], [\"답답한 건 마찬가지지만, 일단 선수들을 믿기로 했다.\", \"류중일 감독은 이들에 대해 \\\"부상을 안고 있는 선수들이라 가장 몸 상태에 대해 궁금하다\\\"고 여운을 남긴 뒤 \\\"워낙 경기 감각이 있는 선수들이라 잘 할 것\\\"이라며 자신했다.\"], [\"한국 대표팀은 15일 소집 후 16일 훈련에 돌입한다.\", \"18일에는 LG와의 평가전을 통해 선수들의 몸 상태를 꼼꼼히 점검할 예정이다.\", \"류중일 감독은 \\\"만약 아픈 선수가 있다면 다른 선수로 교체할 수도 있다\\\"라며 국제대회를 향한 대표팀 선수단의 강한 승부욕을 드러냈다.\"]], \"html_content\": \"<div class=\\\"articleContetns \\\" id=\\\"articleContetns\\\">\\n<table style=\\\"width:100%; table-layout:fixed;\\\" summary=\\\"스포츠 기사 본문 읽기\\\">\\n<caption>스포츠 기사</caption>\\n<tbody>\\n<tr><td>\\n\\n\\n\\t\\n\\t\\t\\t(서울=뉴스1스포츠) 표권향 기자 = 2014 인천 아시아게임이 약 일주일 앞으로 다가왔다. 금메달을 목표로 삼은 야구 대표팀의 포부가 큰 상황에서 부상 선수들이 아쉬움으로 크게 다가오고 있다. 무엇보다 경기 감각과 선수들의 의지가 문제다.<br/><br/>류중일 대표팀 감독은 13일 선수들의 컨디션을 가장 걱정했다. 특히 부상으로 인해 최근 경기에 나서지 못한 넥센의 강정호와 김민성, 롯데의 강민호, KIA의 나지완의 상태에 대해 아쉬운 마음을 드러냈다.<br/><br/><p><br/></p><div><div><span class=\\\"firstImg\\\"><img alt=\\\"기사 이미지\\\" id=\\\"mainimg0\\\" onclick=\\\"GoImg(this.src); return false;\\\" src=\\\"http://thumbnews.nateimg.co.kr/view610/http://news.nateimg.co.kr/orgImg/na/2014/09/14/953060_article.jpg\\\" style=\\\"cursor:hand;\\\" width=\\\"560\\\"/><iframe allowtransparency=\\\"true\\\" class=\\\"ad100\\\" frameborder=\\\"0\\\" height=\\\"0\\\" id=\\\"viewimg_ad\\\" marginheight=\\\"0\\\" marginwidth=\\\"0\\\" noresize=\\\"noresize\\\" scrolling=\\\"no\\\" src=\\\"about:blank\\\" title=\\\"광고\\\" width=\\\"0\\\"></iframe></span></div><div style=\\\"display: block; padding-bottom: 10px; color: #666; font-size: 11px;font-family: '돋움',dotum;\\\">인천 아시안게임 야구 대표팀의 목표는 금메달이 목표다. 하지만 아직까지 선수 기용에 대한 뚜렷한 해법을 내세우지 못하고 있다. 선수들의 의지가 절실한 때다. ⓒNews1 DB</div></div><p><br/></p><p><br/><br/>류중일 감독은 2013년 월드베이스볼클래식(WBC)의 악몽을 떠올리며 “당시 타자들이 못 쳐서 졌다”며 아쉬움을 토로했다. 한국 대표팀은 1라운드에서 탈락하는 굴욕을 당했다.<br/><br/>그러나 류중일 감독은 온전히 선수들 탓으로만 돌리진 않았다. 선수들의 휴식기와 스프링캠프가 맞물린 시기, 추운 날씨를 감안해 완전한 컨디션이 아닌 상태에서 경기를 치를 수밖에 없었다고 밑바탕을 깔았다.<br/><br/>그렇다고 환경적인 요인만으로 문제를 삼는 것도 뚜렷한 이유로 내세울 수 없는 상황이었다. 선수들의 몸 상태가 경기 흐름을 좌지우지하기 때문이었다.<br/><br/>최근 부상과 부진으로 대표팀 선수들의 컨디션이 말이 아니다. 가장 믿었던 주전 유격수 강정호와 멀티 플레이어 김민성, ‘안방’을 책임져야 할 강민호가 국내 리그에서 주전 선수로서 제 몫을 못 해줬던 것. 류중일 감독의 한 숨은 깊어질 수 밖에 없었다.<br/><br/>류중일 감독은 “경기 감각이란 경기를 치르면서 익혀야 하는 것”이라고 강조했다. 하지만 야수로서 공격과 수비를 책임져야 할 주축 선수들이 최근 경기에 안 나섬으로써 그들의 상태를 국내 전력 분석으로써도 파악하기 힘든 실정“이라고 솔직하게 속내를 털어놨다.<br/><br/>답답한 건 마찬가지지만, 일단 선수들을 믿기로 했다. 류중일 감독은 이들에 대해 “부상을 안고 있는 선수들이라 가장 몸 상태에 대해 궁금하다”고 여운을 남긴 뒤 “워낙 경기 감각이 있는 선수들이라 잘 할 것”이라며 자신했다.<br/><br/>한국 대표팀은 15일 소집 후 16일 훈련에 돌입한다. 18일에는 LG와의 평가전을 통해 선수들의 몸 상태를 꼼꼼히 점검할 예정이다. 류중일 감독은 “만약 아픈 선수가 있다면 다른 선수로 교체할 수도 있다”라며 국제대회를 향한 대표팀 선수단의 강한 승부욕을 드러냈다.<br/>gioia@<br/><br/><a href=\\\"http://m2.news1.kr/news/\\\" target=\\\"_blank\\\">내 손안의 모바일 뉴스, 함께하니 더 즐겁다 ☞ NEWS1 모바일 바로가기</a><br/><br/><a href=\\\"http://news1.kr/categories/?109\\\" target=\\\"_blank\\\">[스타핫뉴스 ‘news1 연예’]</a> <a href=\\\"http://news1.kr/categories/?37\\\" target=\\\"_blank\\\">[생생스포츠현장]</a> <a href=\\\"http://www.news1.kr/categories/?&amp;Asian14\\\" target=\\\"_blank\\\">[제17회 인천아시안게임]</a><br/><br/>[ⓒ 뉴스1코리아(<a href=\\\"http://news1.kr\\\" target=\\\"_blank\\\">news1.kr</a>), 무단 전재 및 재배포 금지]<br/><br/></p><div><h3 style=\\\"padding-top:15px;font:bold 15px 굴림;\\\">뉴스1 관련뉴스</h3><ul style=\\\"list-style: none; font:bold 15px 굴림; margin:0; font-weight:bold; margin-top:15px;\\\"><li><a href=\\\"http://news1.kr/articles/?1855140\\\" target=\\\"_blank\\\">써니힐, 찢어진 스커트 입고...아찔하게</a></li><br/><li><a href=\\\"http://news1.kr/articles/?1854790\\\" target=\\\"_blank\\\">이태임 베드신 스틸, 가슴 반쯤 드러내고…'헉'</a></li><br/><li><a href=\\\"http://news1.kr/articles/?1854497\\\" target=\\\"_blank\\\">홍콩 男女배우, 침대 누워 '상체 노출'</a></li><br/><li><a href=\\\"http://news1.kr/articles/?1854074\\\" target=\\\"_blank\\\">슈주, '뮤뱅' 출근길 단체 티셔츠 문구가! '헉' </a></li><br/><li><a href=\\\"http://news1.kr/articles/?1854116\\\" target=\\\"_blank\\\">이민호, 女모델과 야릇 스킨십 '손 위치가…'</a></li><br/></ul></div><br/><br/> \\n\\n</td></tr>\\n</tbody>\\n</table>\\n</div>\"}\t\n"
     ]
    }
   ],
   "source": [
    "bzcat data/baseball/nate/2014.json.result.bz2 | grep \"sports.news.nate.20140914n02404\" | head -n1 | tee error.json"
   ]
  },
  {
   "cell_type": "code",
   "execution_count": null,
   "metadata": {
    "ExecuteTime": {
     "end_time": "2017-03-29T05:56:35.741219Z",
     "start_time": "2017-03-29T14:56:35.338738+09:00"
    },
    "collapsed": false
   },
   "outputs": [],
   "source": [
    "cat error.json | head -n 1 | NCPreProcess.py -spark_batch | pretty.py"
   ]
  },
  {
   "cell_type": "code",
   "execution_count": null,
   "metadata": {
    "collapsed": true
   },
   "outputs": [],
   "source": []
  },
  {
   "cell_type": "code",
   "execution_count": null,
   "metadata": {
    "collapsed": true
   },
   "outputs": [],
   "source": []
  },
  {
   "cell_type": "code",
   "execution_count": null,
   "metadata": {
    "collapsed": true
   },
   "outputs": [],
   "source": []
  },
  {
   "cell_type": "code",
   "execution_count": null,
   "metadata": {
    "ExecuteTime": {
     "end_time": "2017-03-29T00:01:11.058452Z",
     "start_time": "2017-03-29T09:00:12.155664+09:00"
    },
    "collapsed": true,
    "deletable": true,
    "editable": true,
    "run_control": {
     "frozen": false,
     "read_only": false
    }
   },
   "outputs": [],
   "source": [
    "bzcat data/baseball/nate/2014.json.result.bz2 | grep QOUTE | head -n1 | tee error.json"
   ]
  },
  {
   "cell_type": "code",
   "execution_count": null,
   "metadata": {
    "ExecuteTime": {
     "end_time": "2017-03-28T23:28:39.984688Z",
     "start_time": "2017-03-29T08:28:39.839396+09:00"
    },
    "collapsed": false,
    "deletable": true,
    "editable": true,
    "run_control": {
     "frozen": false,
     "read_only": false
    }
   },
   "outputs": [],
   "source": [
    "cat error.json | pretty.py"
   ]
  },
  {
   "cell_type": "code",
   "execution_count": null,
   "metadata": {
    "collapsed": true,
    "deletable": true,
    "editable": true,
    "run_control": {
     "frozen": false,
     "read_only": false
    }
   },
   "outputs": [],
   "source": [
    " bzcat data/baseball/nate/2014.json.result.bz2 | NCCorpus.py -get_korean_baseball > data/baseball/nate/2014.json.result.kbo.bz2"
   ]
  },
  {
   "cell_type": "code",
   "execution_count": null,
   "metadata": {
    "ExecuteTime": {
     "end_time": "2017-03-28T23:43:09.769452Z",
     "start_time": "2017-03-29T08:43:09.424318+09:00"
    },
    "collapsed": false,
    "deletable": true,
    "editable": true,
    "run_control": {
     "frozen": false,
     "read_only": false
    }
   },
   "outputs": [],
   "source": [
    "cat error.json | NCPreProcess.py -spark_batch | pretty.py"
   ]
  },
  {
   "cell_type": "code",
   "execution_count": null,
   "metadata": {
    "ExecuteTime": {
     "end_time": "2017-03-28T23:44:06.758872Z",
     "start_time": "2017-03-29T08:44:06.649450+09:00"
    },
    "collapsed": false,
    "deletable": true,
    "editable": true,
    "run_control": {
     "frozen": false,
     "read_only": false
    }
   },
   "outputs": [],
   "source": [
    "export HDFS_USER=ejpark\n",
    "./scripts/hadoop/streaming.sh \"batch\" \"data/baseball/nate/2014.json.bz2\""
   ]
  },
  {
   "cell_type": "code",
   "execution_count": null,
   "metadata": {
    "collapsed": true,
    "deletable": true,
    "editable": true,
    "run_control": {
     "frozen": false,
     "read_only": false
    }
   },
   "outputs": [],
   "source": [
    "max_line=100000\n",
    "script_path=\"./scripts/multi-core\"\n",
    "data_path=\"data/economy\""
   ]
  },
  {
   "cell_type": "code",
   "execution_count": null,
   "metadata": {
    "collapsed": true,
    "deletable": true,
    "editable": true,
    "run_control": {
     "frozen": false,
     "read_only": false
    }
   },
   "outputs": [],
   "source": [
    "${script_path}/multi.sh \"extract_text\" \"${data_path}/2014.json.bz2\" \"${data_path}/2014.text.bz2\" $(nproc) && sync"
   ]
  },
  {
   "cell_type": "code",
   "execution_count": null,
   "metadata": {
    "collapsed": true,
    "deletable": true,
    "editable": true,
    "run_control": {
     "frozen": false,
     "read_only": false
    }
   },
   "outputs": [],
   "source": [
    "# 02. 월별 분리\n",
    "bzcat \"${data_path}/2014.text.bz2\" | python3 NCPreProcess.py -split_by_month -header \"${data_path}/text.\" && sync"
   ]
  },
  {
   "cell_type": "code",
   "execution_count": null,
   "metadata": {
    "collapsed": true,
    "deletable": true,
    "editable": true,
    "run_control": {
     "frozen": false,
     "read_only": false
    }
   },
   "outputs": [],
   "source": [
    "${script_path}/02.batch.sh \"${data_path}/text.\" \"economy\""
   ]
  },
  {
   "cell_type": "code",
   "execution_count": null,
   "metadata": {
    "collapsed": false,
    "deletable": true,
    "editable": true,
    "run_control": {
     "frozen": false,
     "read_only": false
    }
   },
   "outputs": [],
   "source": [
    "${script_path}/multi.sh \"extract_text\" \"${data_path}/text.2012.bz2\" \"${data_path}/2012.text.bz2\" $(nproc) && sync\n",
    "${script_path}/multi.sh \"extract_text\" \"${data_path}/text.2013.bz2\" \"${data_path}/2013.text.bz2\" $(nproc) && sync"
   ]
  },
  {
   "cell_type": "markdown",
   "metadata": {
    "deletable": true,
    "editable": true,
    "run_control": {
     "frozen": false,
     "read_only": false
    }
   },
   "source": [
    "<h3><a href=\"https://yoma10:18122\" target=\"_blank\">bash</a></h3>"
   ]
  },
  {
   "cell_type": "code",
   "execution_count": null,
   "metadata": {
    "collapsed": false,
    "deletable": true,
    "editable": true,
    "run_control": {
     "frozen": false,
     "read_only": false
    }
   },
   "outputs": [],
   "source": [
    "# 02. 월별 분리\n",
    "mkdir -p data/nate/2012\n",
    "bzcat \"data/nate/2012.text.bz2\" | python3 NCPreProcess.py -split_by_month -header \"data/nate/2012/text.\" && sync"
   ]
  },
  {
   "cell_type": "code",
   "execution_count": null,
   "metadata": {
    "collapsed": true,
    "deletable": true,
    "editable": true,
    "run_control": {
     "frozen": false,
     "read_only": false
    }
   },
   "outputs": [],
   "source": [
    "mkdir -p data/nate/2013\n",
    "bzcat \"data/nate/2013.text.bz2\" | python3 NCPreProcess.py -split_by_month -header \"data/nate/2013/text.\" && sync"
   ]
  },
  {
   "cell_type": "code",
   "execution_count": null,
   "metadata": {
    "collapsed": false,
    "deletable": true,
    "editable": true,
    "run_control": {
     "frozen": false,
     "read_only": false
    }
   },
   "outputs": [],
   "source": [
    "mkdir -p data/nate/2014\n",
    "bzcat \"data/nate/2014.text.bz2\" | python3 NCPreProcess.py -split_by_month -header \"data/nate/2014/text.\" && sync"
   ]
  },
  {
   "cell_type": "code",
   "execution_count": null,
   "metadata": {
    "collapsed": false,
    "deletable": true,
    "editable": true,
    "run_control": {
     "frozen": false,
     "read_only": false
    }
   },
   "outputs": [],
   "source": [
    "echo \"en_US.UTF-8 UTF-8\" >> /etc/locale.gen \\\n",
    "    && echo \"ko_KR.UTF-8 UTF-8\" >> /etc/locale.gen \\\n",
    "    && echo \"ko_KR.EUC-KR EUC-KR\" >> /etc/locale.gen \\\n",
    "    && locale-gen\n",
    "\n",
    "export LANGUAGE=en_US.UTF-8\n",
    "export LANG=en_US.UTF-8\n",
    "export LC_ALL=en_US.UTF-8\n",
    "\n",
    "${script_path}/02.batch.sh \"data/nate/2012/text.\""
   ]
  },
  {
   "cell_type": "code",
   "execution_count": null,
   "metadata": {
    "collapsed": false,
    "deletable": true,
    "editable": true,
    "run_control": {
     "frozen": false,
     "read_only": false
    }
   },
   "outputs": [],
   "source": [
    "${script_path}/02.batch.sh \"data/nate/2013/text.\""
   ]
  },
  {
   "cell_type": "code",
   "execution_count": null,
   "metadata": {
    "collapsed": true,
    "deletable": true,
    "editable": true,
    "run_control": {
     "frozen": false,
     "read_only": false
    }
   },
   "outputs": [],
   "source": [
    "# <iframe src=\"https://yoma10:8122\" width=\"90%\" height=\"400\"></iframe>"
   ]
  },
  {
   "cell_type": "code",
   "execution_count": null,
   "metadata": {
    "collapsed": false,
    "deletable": true,
    "editable": true,
    "run_control": {
     "frozen": false,
     "read_only": false
    }
   },
   "outputs": [],
   "source": [
    "${script_path}/multi.sh \"extract_sentence\" \"data/nate/2012.text.bz2\" \"data/nate/2012.sentence.json.bz2\" $(nproc) && sync"
   ]
  },
  {
   "cell_type": "code",
   "execution_count": null,
   "metadata": {
    "collapsed": false,
    "deletable": true,
    "editable": true,
    "run_control": {
     "frozen": false,
     "read_only": false
    }
   },
   "outputs": [],
   "source": [
    "bzcat \"data/nate/2012.sentence.json.bz2\" \\\n",
    "    | python3 NCCorpus.py -get_json_value -key sentence \\\n",
    "    | LC_COLLATE=\"C\" sort -S 50% --parallel=$(nproc) \\\n",
    "    | uniq -c \\\n",
    "    | bzip2 - > \"data/nate/2012.sentence.text.bz2\""
   ]
  },
  {
   "cell_type": "code",
   "execution_count": null,
   "metadata": {
    "collapsed": false,
    "deletable": true,
    "editable": true,
    "run_control": {
     "frozen": false,
     "read_only": false
    }
   },
   "outputs": [],
   "source": [
    "bzcat \"data/nate/2012.sentence.text.bz2\" \\\n",
    "    | perl -nle '($f, $b)=split(/\\t/, $_); print if $f > 2 && $f < 11;' \\\n",
    "    | grep \"기자\" \\\n",
    "    | sort -rn"
   ]
  },
  {
   "cell_type": "code",
   "execution_count": null,
   "metadata": {
    "collapsed": false,
    "deletable": true,
    "editable": true,
    "run_control": {
     "frozen": false,
     "read_only": false
    }
   },
   "outputs": [],
   "source": [
    "pip3 install https://github.com/ipython-contrib/jupyter_contrib_nbextensions/tarball/master\n",
    "pip3 install jupyter_nbextensions_configurator\n",
    "jupyter contrib nbextension install --user\n",
    "jupyter nbextensions_configurator enable --user"
   ]
  },
  {
   "cell_type": "code",
   "execution_count": null,
   "metadata": {
    "collapsed": false,
    "deletable": true,
    "editable": true,
    "run_control": {
     "frozen": false,
     "read_only": false
    }
   },
   "outputs": [],
   "source": [
    "bzcat \"data/nate/2012.text.bz2\" \\\n",
    "    | grep \"서프라이즈(애리조나주)=김경민 기자\" \\\n",
    "    | head -n1 | pretty.py    "
   ]
  },
  {
   "cell_type": "code",
   "execution_count": null,
   "metadata": {
    "collapsed": false,
    "deletable": true,
    "editable": true,
    "run_control": {
     "frozen": false,
     "read_only": false
    }
   },
   "outputs": [],
   "source": [
    "bzcat \"data/nate/2012.text.bz2\" \\\n",
    "    | grep \"[기자의 눈] 넥센\" \\\n",
    "    | head -n1 > test.json"
   ]
  },
  {
   "cell_type": "code",
   "execution_count": null,
   "metadata": {
    "collapsed": false,
    "deletable": true,
    "editable": true,
    "run_control": {
     "frozen": false,
     "read_only": false
    }
   },
   "outputs": [],
   "source": [
    "cat test.json | python3 NCPreProcess.py -extract_text | pretty.py"
   ]
  },
  {
   "cell_type": "code",
   "execution_count": null,
   "metadata": {
    "collapsed": false,
    "deletable": true,
    "editable": true,
    "run_control": {
     "frozen": false,
     "read_only": false
    }
   },
   "outputs": [],
   "source": [
    "bzcat \"data/nate/2012/2012.01.text_pre_processed.bz2\" | head -n50 | tail -n1 | pretty.py"
   ]
  },
  {
   "cell_type": "code",
   "execution_count": null,
   "metadata": {
    "collapsed": true,
    "deletable": true,
    "editable": true,
    "run_control": {
     "frozen": false,
     "read_only": false
    }
   },
   "outputs": [],
   "source": [
    "scp *.py *.ipynb ejpark@gollum:workspace/crawler/\n",
    "scp scripts/multi-core/* ejpark@gollum:workspace/crawler/scripts/multi-core/"
   ]
  },
  {
   "cell_type": "code",
   "execution_count": null,
   "metadata": {
    "collapsed": true,
    "deletable": true,
    "editable": true,
    "run_control": {
     "frozen": false,
     "read_only": false
    }
   },
   "outputs": [],
   "source": [
    "rm *.log.bz2 *.missing_sentence.bz2 *.pre_processed.bz2 *.sentence.bz2 *.unique_sentence.bz2 text.*.bz2"
   ]
  },
  {
   "cell_type": "code",
   "execution_count": null,
   "metadata": {
    "collapsed": true,
    "deletable": true,
    "editable": true,
    "run_control": {
     "frozen": false,
     "read_only": false
    }
   },
   "outputs": [],
   "source": [
    "for year in {2005..2016} ; do\n",
    "    echo ${year}\n",
    "    cat ${year}.??.text_pre_processed.bz2 > ${year}.text_pre_processed.bz2\n",
    "done"
   ]
  },
  {
   "cell_type": "code",
   "execution_count": null,
   "metadata": {
    "collapsed": true,
    "deletable": true,
    "editable": true,
    "run_control": {
     "frozen": false,
     "read_only": false
    }
   },
   "outputs": [],
   "source": [
    "rm 20??.??.text_pre_processed.bz2"
   ]
  }
 ],
 "metadata": {
  "kernelspec": {
   "display_name": "Bash",
   "language": "bash",
   "name": "bash"
  },
  "language_info": {
   "codemirror_mode": "shell",
   "file_extension": ".sh",
   "mimetype": "text/x-sh",
   "name": "bash"
  },
  "nbTranslate": {
   "displayLangs": [
    "*"
   ],
   "hotkey": "alt-t",
   "langInMainMenu": true,
   "sourceLang": "en",
   "targetLang": "fr",
   "useGoogleTranslate": true
  },
  "toc": {
   "colors": {
    "hover_highlight": "#DAA520",
    "running_highlight": "#FF0000",
    "selected_highlight": "#FFD700"
   },
   "moveMenuLeft": true,
   "nav_menu": {
    "height": "30px",
    "width": "252px"
   },
   "navigate_menu": true,
   "number_sections": true,
   "sideBar": true,
   "threshold": 4,
   "toc_cell": false,
   "toc_section_display": "block",
   "toc_window_display": false,
   "widenNotebook": false
  }
 },
 "nbformat": 4,
 "nbformat_minor": 2
}
