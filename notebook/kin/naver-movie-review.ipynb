{
 "cells": [
  {
   "cell_type": "code",
   "execution_count": 1,
   "metadata": {
    "ExecuteTime": {
     "end_time": "2019-09-09T01:23:27.658359Z",
     "start_time": "2019-09-09T01:23:23.541232Z"
    }
   },
   "outputs": [
    {
     "name": "stderr",
     "output_type": "stream",
     "text": [
      "100%|██████████| 5713963/5713963 [00:02<00:00, 1913893.50it/s]\n"
     ]
    }
   ],
   "source": [
    "import json\n",
    "import pandas as pd\n",
    "from tqdm import tqdm\n",
    "\n",
    "raw = []\n",
    "with open('data/nsmc/raw.json', 'r') as fp:\n",
    "    buf = ''\n",
    "    for line in tqdm(fp.readlines()):\n",
    "        line = line.strip()            \n",
    "        \n",
    "        if line == '][':\n",
    "            buf += ']'\n",
    "            raw += json.loads(buf)\n",
    "            \n",
    "            buf = '['\n",
    "            continue\n",
    "            \n",
    "        buf += line.strip()"
   ]
  },
  {
   "cell_type": "code",
   "execution_count": 7,
   "metadata": {
    "ExecuteTime": {
     "end_time": "2019-09-09T01:24:42.918664Z",
     "start_time": "2019-09-09T01:24:42.312079Z"
    }
   },
   "outputs": [
    {
     "data": {
      "text/html": [
       "<div>\n",
       "<style scoped>\n",
       "    .dataframe tbody tr th:only-of-type {\n",
       "        vertical-align: middle;\n",
       "    }\n",
       "\n",
       "    .dataframe tbody tr th {\n",
       "        vertical-align: top;\n",
       "    }\n",
       "\n",
       "    .dataframe thead th {\n",
       "        text-align: right;\n",
       "    }\n",
       "</style>\n",
       "<table border=\"1\" class=\"dataframe\">\n",
       "  <thead>\n",
       "    <tr style=\"text-align: right;\">\n",
       "      <th></th>\n",
       "      <th>review_id</th>\n",
       "      <th>movie_id</th>\n",
       "      <th>author</th>\n",
       "      <th>review</th>\n",
       "      <th>rating</th>\n",
       "      <th>date</th>\n",
       "    </tr>\n",
       "  </thead>\n",
       "  <tbody>\n",
       "    <tr>\n",
       "      <th>0</th>\n",
       "      <td>10274036</td>\n",
       "      <td>100015</td>\n",
       "      <td>wldu****</td>\n",
       "      <td>Good 완전 재밌어요</td>\n",
       "      <td>10</td>\n",
       "      <td>15.08.25</td>\n",
       "    </tr>\n",
       "    <tr>\n",
       "      <th>1</th>\n",
       "      <td>10227849</td>\n",
       "      <td>100015</td>\n",
       "      <td>nkjh****</td>\n",
       "      <td>재미 만점..아이와함께</td>\n",
       "      <td>9</td>\n",
       "      <td>15.08.14</td>\n",
       "    </tr>\n",
       "    <tr>\n",
       "      <th>2</th>\n",
       "      <td>10226738</td>\n",
       "      <td>100015</td>\n",
       "      <td>alex****</td>\n",
       "      <td>픽사처럼 감동이 있는것도 아니고,,, 솔직히 셔먼이 \"나도 개다\" 하고 다른 사람들...</td>\n",
       "      <td>5</td>\n",
       "      <td>15.08.14</td>\n",
       "    </tr>\n",
       "    <tr>\n",
       "      <th>3</th>\n",
       "      <td>10200946</td>\n",
       "      <td>100015</td>\n",
       "      <td>mj46****</td>\n",
       "      <td>정말 잼있어용 ㅎㅎ 수고하세요</td>\n",
       "      <td>10</td>\n",
       "      <td>15.08.08</td>\n",
       "    </tr>\n",
       "    <tr>\n",
       "      <th>4</th>\n",
       "      <td>10169818</td>\n",
       "      <td>100015</td>\n",
       "      <td>h225****</td>\n",
       "      <td>보면서도 상상을  하게하는 영화였습니다^^</td>\n",
       "      <td>10</td>\n",
       "      <td>15.08.01</td>\n",
       "    </tr>\n",
       "  </tbody>\n",
       "</table>\n",
       "</div>"
      ],
      "text/plain": [
       "  review_id movie_id    author  \\\n",
       "0  10274036   100015  wldu****   \n",
       "1  10227849   100015  nkjh****   \n",
       "2  10226738   100015  alex****   \n",
       "3  10200946   100015  mj46****   \n",
       "4  10169818   100015  h225****   \n",
       "\n",
       "                                              review rating      date  \n",
       "0                                       Good 완전 재밌어요     10  15.08.25  \n",
       "1                                       재미 만점..아이와함께      9  15.08.14  \n",
       "2  픽사처럼 감동이 있는것도 아니고,,, 솔직히 셔먼이 \"나도 개다\" 하고 다른 사람들...      5  15.08.14  \n",
       "3                                   정말 잼있어용 ㅎㅎ 수고하세요     10  15.08.08  \n",
       "4                            보면서도 상상을  하게하는 영화였습니다^^     10  15.08.01  "
      ]
     },
     "execution_count": 7,
     "metadata": {},
     "output_type": "execute_result"
    }
   ],
   "source": [
    "raw_df = pd.DataFrame(raw)\n",
    "raw_df.head()"
   ]
  },
  {
   "cell_type": "code",
   "execution_count": null,
   "metadata": {
    "ExecuteTime": {
     "end_time": "2019-09-09T01:14:52.630975Z",
     "start_time": "2019-09-09T01:14:41.781247Z"
    }
   },
   "outputs": [],
   "source": [
    "raw_df.to_json(\n",
    "    'data/nsmc.json.bz2',\n",
    "    force_ascii=False,\n",
    "    compression='bz2',\n",
    "    orient='records',\n",
    "    lines=True,\n",
    ")"
   ]
  },
  {
   "cell_type": "code",
   "execution_count": null,
   "metadata": {
    "ExecuteTime": {
     "end_time": "2019-09-09T01:16:39.356242Z",
     "start_time": "2019-09-09T01:16:39.323277Z"
    }
   },
   "outputs": [],
   "source": [
    "raw_df[raw_df['review_id'] == '9976970']"
   ]
  },
  {
   "cell_type": "code",
   "execution_count": 2,
   "metadata": {
    "ExecuteTime": {
     "end_time": "2019-09-09T01:23:31.919200Z",
     "start_time": "2019-09-09T01:23:31.712581Z"
    }
   },
   "outputs": [],
   "source": [
    "import pandas as pd\n",
    "\n",
    "filename = {\n",
    "    'test': 'data/nsmc/ratings_test.txt',\n",
    "    'train': 'data/nsmc/ratings_train.txt',\n",
    "} \n",
    "\n",
    "data = {\n",
    "    'test': pd.read_csv(filename['test'], sep='\\t'),\n",
    "    'train': pd.read_csv(filename['train'], sep='\\t'),\n",
    "}"
   ]
  },
  {
   "cell_type": "code",
   "execution_count": 10,
   "metadata": {
    "ExecuteTime": {
     "end_time": "2019-09-09T01:26:08.955943Z",
     "start_time": "2019-09-09T01:25:52.814889Z"
    }
   },
   "outputs": [
    {
     "name": "stderr",
     "output_type": "stream",
     "text": [
      "100%|██████████| 50000/50000 [00:03<00:00, 12501.92it/s]\n",
      "100%|██████████| 150000/150000 [00:12<00:00, 12360.24it/s]\n"
     ]
    }
   ],
   "source": [
    "idx = {}\n",
    "\n",
    "for role in data:\n",
    "    df = data[role]\n",
    "    for i, row, in tqdm(df.iterrows(), total=len(df)):\n",
    "        idx[str(row['id'])] = {\n",
    "            'label': row['label'],\n",
    "            'role': role\n",
    "        }"
   ]
  },
  {
   "cell_type": "code",
   "execution_count": 12,
   "metadata": {
    "ExecuteTime": {
     "end_time": "2019-09-09T01:26:29.546736Z",
     "start_time": "2019-09-09T01:26:29.202823Z"
    }
   },
   "outputs": [
    {
     "name": "stderr",
     "output_type": "stream",
     "text": [
      "100%|██████████| 712371/712371 [00:00<00:00, 2131407.30it/s]\n"
     ]
    }
   ],
   "source": [
    "for item in tqdm(raw):\n",
    "    review_id = item['review_id']\n",
    "    if review_id in idx:\n",
    "        item.update(idx[review_id])"
   ]
  },
  {
   "cell_type": "code",
   "execution_count": 15,
   "metadata": {
    "ExecuteTime": {
     "end_time": "2019-09-09T01:27:03.802891Z",
     "start_time": "2019-09-09T01:27:02.767103Z"
    }
   },
   "outputs": [
    {
     "data": {
      "text/html": [
       "<div>\n",
       "<style scoped>\n",
       "    .dataframe tbody tr th:only-of-type {\n",
       "        vertical-align: middle;\n",
       "    }\n",
       "\n",
       "    .dataframe tbody tr th {\n",
       "        vertical-align: top;\n",
       "    }\n",
       "\n",
       "    .dataframe thead th {\n",
       "        text-align: right;\n",
       "    }\n",
       "</style>\n",
       "<table border=\"1\" class=\"dataframe\">\n",
       "  <thead>\n",
       "    <tr style=\"text-align: right;\">\n",
       "      <th></th>\n",
       "      <th>review_id</th>\n",
       "      <th>movie_id</th>\n",
       "      <th>author</th>\n",
       "      <th>review</th>\n",
       "      <th>rating</th>\n",
       "      <th>date</th>\n",
       "      <th>label</th>\n",
       "      <th>role</th>\n",
       "    </tr>\n",
       "  </thead>\n",
       "  <tbody>\n",
       "    <tr>\n",
       "      <th>0</th>\n",
       "      <td>10274036</td>\n",
       "      <td>100015</td>\n",
       "      <td>wldu****</td>\n",
       "      <td>Good 완전 재밌어요</td>\n",
       "      <td>10</td>\n",
       "      <td>15.08.25</td>\n",
       "      <td></td>\n",
       "      <td></td>\n",
       "    </tr>\n",
       "    <tr>\n",
       "      <th>1</th>\n",
       "      <td>10227849</td>\n",
       "      <td>100015</td>\n",
       "      <td>nkjh****</td>\n",
       "      <td>재미 만점..아이와함께</td>\n",
       "      <td>9</td>\n",
       "      <td>15.08.14</td>\n",
       "      <td>1</td>\n",
       "      <td>test</td>\n",
       "    </tr>\n",
       "    <tr>\n",
       "      <th>2</th>\n",
       "      <td>10226738</td>\n",
       "      <td>100015</td>\n",
       "      <td>alex****</td>\n",
       "      <td>픽사처럼 감동이 있는것도 아니고,,, 솔직히 셔먼이 \"나도 개다\" 하고 다른 사람들...</td>\n",
       "      <td>5</td>\n",
       "      <td>15.08.14</td>\n",
       "      <td></td>\n",
       "      <td></td>\n",
       "    </tr>\n",
       "    <tr>\n",
       "      <th>3</th>\n",
       "      <td>10200946</td>\n",
       "      <td>100015</td>\n",
       "      <td>mj46****</td>\n",
       "      <td>정말 잼있어용 ㅎㅎ 수고하세요</td>\n",
       "      <td>10</td>\n",
       "      <td>15.08.08</td>\n",
       "      <td></td>\n",
       "      <td></td>\n",
       "    </tr>\n",
       "    <tr>\n",
       "      <th>4</th>\n",
       "      <td>10169818</td>\n",
       "      <td>100015</td>\n",
       "      <td>h225****</td>\n",
       "      <td>보면서도 상상을  하게하는 영화였습니다^^</td>\n",
       "      <td>10</td>\n",
       "      <td>15.08.01</td>\n",
       "      <td>1</td>\n",
       "      <td>train</td>\n",
       "    </tr>\n",
       "  </tbody>\n",
       "</table>\n",
       "</div>"
      ],
      "text/plain": [
       "  review_id movie_id    author  \\\n",
       "0  10274036   100015  wldu****   \n",
       "1  10227849   100015  nkjh****   \n",
       "2  10226738   100015  alex****   \n",
       "3  10200946   100015  mj46****   \n",
       "4  10169818   100015  h225****   \n",
       "\n",
       "                                              review rating      date label  \\\n",
       "0                                       Good 완전 재밌어요     10  15.08.25         \n",
       "1                                       재미 만점..아이와함께      9  15.08.14     1   \n",
       "2  픽사처럼 감동이 있는것도 아니고,,, 솔직히 셔먼이 \"나도 개다\" 하고 다른 사람들...      5  15.08.14         \n",
       "3                                   정말 잼있어용 ㅎㅎ 수고하세요     10  15.08.08         \n",
       "4                            보면서도 상상을  하게하는 영화였습니다^^     10  15.08.01     1   \n",
       "\n",
       "    role  \n",
       "0         \n",
       "1   test  \n",
       "2         \n",
       "3         \n",
       "4  train  "
      ]
     },
     "execution_count": 15,
     "metadata": {},
     "output_type": "execute_result"
    }
   ],
   "source": [
    "raw_df = pd.DataFrame(raw)\n",
    "\n",
    "raw_df.fillna('', inplace=True)\n",
    "raw_df.head()"
   ]
  },
  {
   "cell_type": "code",
   "execution_count": 22,
   "metadata": {
    "ExecuteTime": {
     "end_time": "2019-09-09T01:32:42.203480Z",
     "start_time": "2019-09-09T01:32:29.248857Z"
    }
   },
   "outputs": [],
   "source": [
    "raw_df.to_json(\n",
    "    'data/nsmc-all.json.bz2',\n",
    "    force_ascii=False,\n",
    "    compression='bz2',\n",
    "    orient='records',\n",
    "    lines=True,\n",
    ")"
   ]
  },
  {
   "cell_type": "code",
   "execution_count": 21,
   "metadata": {
    "ExecuteTime": {
     "end_time": "2019-09-09T01:32:29.247735Z",
     "start_time": "2019-09-09T01:32:06.449418Z"
    },
    "scrolled": false
   },
   "outputs": [],
   "source": [
    "raw_df[raw_df['role'] != ''].to_excel('data/nsmc-datasets.xlsx', index=False)"
   ]
  },
  {
   "cell_type": "code",
   "execution_count": null,
   "metadata": {},
   "outputs": [],
   "source": []
  },
  {
   "cell_type": "code",
   "execution_count": null,
   "metadata": {},
   "outputs": [],
   "source": []
  }
 ],
 "metadata": {
  "kernelspec": {
   "display_name": "Python 3",
   "language": "python",
   "name": "python3"
  },
  "language_info": {
   "codemirror_mode": {
    "name": "ipython",
    "version": 3
   },
   "file_extension": ".py",
   "mimetype": "text/x-python",
   "name": "python",
   "nbconvert_exporter": "python",
   "pygments_lexer": "ipython3",
   "version": "3.6.9"
  }
 },
 "nbformat": 4,
 "nbformat_minor": 2
}
