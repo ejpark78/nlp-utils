{
 "cells": [
  {
   "cell_type": "code",
   "execution_count": 1,
   "metadata": {
    "ExecuteTime": {
     "end_time": "2020-01-10T00:35:26.714640Z",
     "start_time": "2020-01-10T00:35:26.707174Z"
    }
   },
   "outputs": [],
   "source": [
    "%load_ext autoreload\n",
    "%autoreload 2"
   ]
  },
  {
   "cell_type": "code",
   "execution_count": 2,
   "metadata": {
    "ExecuteTime": {
     "end_time": "2020-01-10T00:35:27.439893Z",
     "start_time": "2020-01-10T00:35:27.082599Z"
    }
   },
   "outputs": [
    {
     "name": "stderr",
     "output_type": "stream",
     "text": [
      "/home/workspace/data-center/utils/elasticsearch_utils.py:21: TqdmExperimentalWarning: Using `tqdm.autonotebook.tqdm` in notebook mode. Use `tqdm.tqdm` instead to force console mode (e.g. in jupyter console)\n",
      "  from tqdm.autonotebook import tqdm\n"
     ]
    }
   ],
   "source": [
    "import numpy as np\n",
    "import pandas as pd\n",
    "from tqdm import tqdm\n",
    "from copy import deepcopy\n",
    "from datetime import datetime\n",
    "from utils.elasticsearch_utils import ElasticSearchUtils"
   ]
  },
  {
   "cell_type": "code",
   "execution_count": 3,
   "metadata": {
    "ExecuteTime": {
     "end_time": "2020-01-10T00:35:27.655351Z",
     "start_time": "2020-01-10T00:35:27.643133Z"
    }
   },
   "outputs": [],
   "source": [
    "def dump_data(index):\n",
    "    \"\"\" \"\"\"\n",
    "    host_info = {\n",
    "        'host': 'https://corpus.ncsoft.com:9200',\n",
    "        'http_auth': 'elastic:nlplab',\n",
    "    }\n",
    "\n",
    "    utils = ElasticSearchUtils(**host_info)\n",
    "\n",
    "    query = {\n",
    "        \"query\": {\n",
    "            \"bool\": {\n",
    "                \"must\": {\n",
    "                    \"match\": {\n",
    "                        'group_name': '잠 안오는 사람들의 모임'\n",
    "                    }\n",
    "                }\n",
    "            }\n",
    "        }\n",
    "    }\n",
    "\n",
    "    doc_list = []\n",
    "    utils.export(index=index, result=doc_list, query=query)\n",
    "\n",
    "    return doc_list\n",
    "\n",
    "\n",
    "def flatten(doc_list, column_list):\n",
    "    \"\"\" \"\"\"\n",
    "    result = []\n",
    "    for doc in doc_list:\n",
    "        if 'reply_list' not in doc or len(doc['reply_list']) == 0:\n",
    "            continue\n",
    "\n",
    "        for reply in doc['reply_list']:\n",
    "            item = {\n",
    "                'category': doc['category'],\n",
    "                'group_name': doc['group_name'],\n",
    "                'curl_date': doc['curl_date'],\n",
    "                'document_id': doc['document_id'],\n",
    "                'content': doc['content'].strip(),\n",
    "\n",
    "                'user_name': reply['user_name'],\n",
    "                'reply_to': reply['reply_to'],\n",
    "                'text': reply['text'].strip(),\n",
    "            }\n",
    "            \n",
    "            if item['text'] != '':\n",
    "                result.append(item)\n",
    "\n",
    "            if 'reply_list' not in reply:\n",
    "                continue\n",
    "\n",
    "            for reply_to in reply['reply_list']:\n",
    "                item = {\n",
    "                    'category': doc['category'],\n",
    "                    'group_name': doc['group_name'],\n",
    "                    'curl_date': doc['curl_date'],\n",
    "                    'document_id': doc['document_id'],\n",
    "                    'content': doc['content'].strip(),\n",
    "\n",
    "                    'user_name': reply_to['user_name'],\n",
    "                    'reply_to': reply_to['reply_to'],\n",
    "                    'text': reply_to['text'].strip(),\n",
    "                }\n",
    "                \n",
    "                if item['text'] != '':\n",
    "                    result.append(item)\n",
    "\n",
    "    return result"
   ]
  },
  {
   "cell_type": "code",
   "execution_count": 4,
   "metadata": {
    "ExecuteTime": {
     "end_time": "2020-01-10T00:35:36.300222Z",
     "start_time": "2020-01-10T00:35:30.081909Z"
    }
   },
   "outputs": [
    {
     "data": {
      "application/vnd.jupyter.widget-view+json": {
       "model_id": "7684633fb7734a43877f6b32ea11a7cc",
       "version_major": 2,
       "version_minor": 0
      },
      "text/plain": [
       "HBox(children=(FloatProgress(value=0.0, description='dump: crawler-facebook', layout=Layout(flex='2'), max=819…"
      ]
     },
     "metadata": {},
     "output_type": "display_data"
    },
    {
     "name": "stdout",
     "output_type": "stream",
     "text": [
      "\n",
      "8,190\n"
     ]
    }
   ],
   "source": [
    "index = 'crawler-facebook'\n",
    "\n",
    "doc_list = dump_data(index=index)\n",
    "\n",
    "print('{:,}'.format(len(doc_list)))"
   ]
  },
  {
   "cell_type": "code",
   "execution_count": 5,
   "metadata": {
    "ExecuteTime": {
     "end_time": "2020-01-10T00:35:36.435856Z",
     "start_time": "2020-01-10T00:35:36.301360Z"
    }
   },
   "outputs": [
    {
     "data": {
      "text/plain": [
       "167425"
      ]
     },
     "execution_count": 5,
     "metadata": {},
     "output_type": "execute_result"
    }
   ],
   "source": [
    "column_list = 'category group_name curl_date document_id reply_to user_name content text reply_list'.split(' ')\n",
    "\n",
    "doc2_list = flatten(doc_list=doc_list, column_list=column_list)\n",
    "\n",
    "len(doc2_list)"
   ]
  },
  {
   "cell_type": "code",
   "execution_count": 6,
   "metadata": {
    "ExecuteTime": {
     "end_time": "2020-01-10T00:35:37.048125Z",
     "start_time": "2020-01-10T00:35:36.436999Z"
    },
    "scrolled": false
   },
   "outputs": [
    {
     "name": "stdout",
     "output_type": "stream",
     "text": [
      "167,393\n"
     ]
    },
    {
     "data": {
      "text/html": [
       "<div>\n",
       "<style scoped>\n",
       "    .dataframe tbody tr th:only-of-type {\n",
       "        vertical-align: middle;\n",
       "    }\n",
       "\n",
       "    .dataframe tbody tr th {\n",
       "        vertical-align: top;\n",
       "    }\n",
       "\n",
       "    .dataframe thead th {\n",
       "        text-align: right;\n",
       "    }\n",
       "</style>\n",
       "<table border=\"1\" class=\"dataframe\">\n",
       "  <thead>\n",
       "    <tr style=\"text-align: right;\">\n",
       "      <th></th>\n",
       "      <th>category</th>\n",
       "      <th>group_name</th>\n",
       "      <th>curl_date</th>\n",
       "      <th>document_id</th>\n",
       "      <th>reply_to</th>\n",
       "      <th>user_name</th>\n",
       "      <th>content</th>\n",
       "      <th>text</th>\n",
       "    </tr>\n",
       "  </thead>\n",
       "  <tbody>\n",
       "    <tr>\n",
       "      <th>0</th>\n",
       "      <td>친목</td>\n",
       "      <td>잠 안오는 사람들의 모임</td>\n",
       "      <td>2020-01-06T15:41:44.288062+09:00</td>\n",
       "      <td>562128621033889-565786914001393</td>\n",
       "      <td></td>\n",
       "      <td>이현수</td>\n",
       "      <td>자야되는데 집 앞 공사중~ 오늘도 강제기상\\n ....</td>\n",
       "      <td>저는 등기우편 왔네요ㅜ</td>\n",
       "    </tr>\n",
       "    <tr>\n",
       "      <th>1</th>\n",
       "      <td>친목</td>\n",
       "      <td>잠 안오는 사람들의 모임</td>\n",
       "      <td>2020-01-06T15:41:44.288062+09:00</td>\n",
       "      <td>562128621033889-565786914001393</td>\n",
       "      <td>이현수</td>\n",
       "      <td>선희</td>\n",
       "      <td>자야되는데 집 앞 공사중~ 오늘도 강제기상\\n ....</td>\n",
       "      <td>엥</td>\n",
       "    </tr>\n",
       "    <tr>\n",
       "      <th>2</th>\n",
       "      <td>친목</td>\n",
       "      <td>잠 안오는 사람들의 모임</td>\n",
       "      <td>2020-01-06T15:41:44.288062+09:00</td>\n",
       "      <td>562128621033889-565786914001393</td>\n",
       "      <td>선희</td>\n",
       "      <td>이현수</td>\n",
       "      <td>자야되는데 집 앞 공사중~ 오늘도 강제기상\\n ....</td>\n",
       "      <td>다른우편이면 그냥 우편함에 넣는데 얘는 서명해야해서 강제기상이에요 겨우잠들었는데</td>\n",
       "    </tr>\n",
       "    <tr>\n",
       "      <th>3</th>\n",
       "      <td>친목</td>\n",
       "      <td>잠 안오는 사람들의 모임</td>\n",
       "      <td>2020-01-06T15:41:44.288062+09:00</td>\n",
       "      <td>562128621033889-565786914001393</td>\n",
       "      <td></td>\n",
       "      <td>서진석</td>\n",
       "      <td>자야되는데 집 앞 공사중~ 오늘도 강제기상\\n ....</td>\n",
       "      <td>ㅋㅋㅋㅋㅋㅋㅋㅋㅋㅋㅋㅋㅋㅋㅋ\\nㅋㅋㅋㅋㅋㅋㅋㅋㅋㅋㅋㅋㅋㅋㅋ</td>\n",
       "    </tr>\n",
       "    <tr>\n",
       "      <th>4</th>\n",
       "      <td>친목</td>\n",
       "      <td>잠 안오는 사람들의 모임</td>\n",
       "      <td>2020-01-06T15:41:44.288062+09:00</td>\n",
       "      <td>562128621033889-565786914001393</td>\n",
       "      <td></td>\n",
       "      <td>서진석</td>\n",
       "      <td>자야되는데 집 앞 공사중~ 오늘도 강제기상\\n ....</td>\n",
       "      <td>역시 가는날이 장날이네욬ㅋㅋㅋㅋ</td>\n",
       "    </tr>\n",
       "  </tbody>\n",
       "</table>\n",
       "</div>"
      ],
      "text/plain": [
       "  category     group_name                         curl_date  \\\n",
       "0       친목  잠 안오는 사람들의 모임  2020-01-06T15:41:44.288062+09:00   \n",
       "1       친목  잠 안오는 사람들의 모임  2020-01-06T15:41:44.288062+09:00   \n",
       "2       친목  잠 안오는 사람들의 모임  2020-01-06T15:41:44.288062+09:00   \n",
       "3       친목  잠 안오는 사람들의 모임  2020-01-06T15:41:44.288062+09:00   \n",
       "4       친목  잠 안오는 사람들의 모임  2020-01-06T15:41:44.288062+09:00   \n",
       "\n",
       "                       document_id reply_to user_name  \\\n",
       "0  562128621033889-565786914001393                이현수   \n",
       "1  562128621033889-565786914001393      이현수        선희   \n",
       "2  562128621033889-565786914001393       선희       이현수   \n",
       "3  562128621033889-565786914001393                서진석   \n",
       "4  562128621033889-565786914001393                서진석   \n",
       "\n",
       "                          content  \\\n",
       "0  자야되는데 집 앞 공사중~ 오늘도 강제기상\\n ....   \n",
       "1  자야되는데 집 앞 공사중~ 오늘도 강제기상\\n ....   \n",
       "2  자야되는데 집 앞 공사중~ 오늘도 강제기상\\n ....   \n",
       "3  자야되는데 집 앞 공사중~ 오늘도 강제기상\\n ....   \n",
       "4  자야되는데 집 앞 공사중~ 오늘도 강제기상\\n ....   \n",
       "\n",
       "                                           text  \n",
       "0                                  저는 등기우편 왔네요ㅜ  \n",
       "1                                             엥  \n",
       "2  다른우편이면 그냥 우편함에 넣는데 얘는 서명해야해서 강제기상이에요 겨우잠들었는데  \n",
       "3              ㅋㅋㅋㅋㅋㅋㅋㅋㅋㅋㅋㅋㅋㅋㅋ\\nㅋㅋㅋㅋㅋㅋㅋㅋㅋㅋㅋㅋㅋㅋㅋ  \n",
       "4                             역시 가는날이 장날이네욬ㅋㅋㅋㅋ  "
      ]
     },
     "execution_count": 6,
     "metadata": {},
     "output_type": "execute_result"
    }
   ],
   "source": [
    "column_list = 'category group_name curl_date document_id reply_to user_name content text'.split(' ')\n",
    "\n",
    "df = pd.DataFrame(doc2_list)\n",
    "\n",
    "df.fillna('', inplace=True)\n",
    "\n",
    "df = df[column_list]\n",
    "df = df[ df['group_name'] == '잠 안오는 사람들의 모임' ]\n",
    "    \n",
    "print('{:,}'.format(len(df)))\n",
    "df.head()"
   ]
  },
  {
   "cell_type": "code",
   "execution_count": 7,
   "metadata": {
    "ExecuteTime": {
     "end_time": "2020-01-10T00:35:43.085408Z",
     "start_time": "2020-01-10T00:35:43.065040Z"
    }
   },
   "outputs": [
    {
     "data": {
      "text/html": [
       "<div>\n",
       "<style scoped>\n",
       "    .dataframe tbody tr th:only-of-type {\n",
       "        vertical-align: middle;\n",
       "    }\n",
       "\n",
       "    .dataframe tbody tr th {\n",
       "        vertical-align: top;\n",
       "    }\n",
       "\n",
       "    .dataframe thead th {\n",
       "        text-align: right;\n",
       "    }\n",
       "</style>\n",
       "<table border=\"1\" class=\"dataframe\">\n",
       "  <thead>\n",
       "    <tr style=\"text-align: right;\">\n",
       "      <th></th>\n",
       "      <th>category</th>\n",
       "      <th>group_name</th>\n",
       "      <th>curl_date</th>\n",
       "      <th>document_id</th>\n",
       "      <th>reply_to</th>\n",
       "      <th>user_name</th>\n",
       "      <th>content</th>\n",
       "      <th>text</th>\n",
       "    </tr>\n",
       "  </thead>\n",
       "  <tbody>\n",
       "    <tr>\n",
       "      <th>0</th>\n",
       "      <td>친목</td>\n",
       "      <td>잠 안오는 사람들의 모임</td>\n",
       "      <td>2020-01-06T15:41:44.288062+09:00</td>\n",
       "      <td>562128621033889-565786914001393</td>\n",
       "      <td></td>\n",
       "      <td>이현수</td>\n",
       "      <td>자야되는데 집 앞 공사중~ 오늘도 강제기상\\n ....</td>\n",
       "      <td>저는 등기우편 왔네요ㅜ</td>\n",
       "    </tr>\n",
       "    <tr>\n",
       "      <th>1</th>\n",
       "      <td>친목</td>\n",
       "      <td>잠 안오는 사람들의 모임</td>\n",
       "      <td>2020-01-06T15:41:44.288062+09:00</td>\n",
       "      <td>562128621033889-565786914001393</td>\n",
       "      <td>이현수</td>\n",
       "      <td>선희</td>\n",
       "      <td>자야되는데 집 앞 공사중~ 오늘도 강제기상\\n ....</td>\n",
       "      <td>엥</td>\n",
       "    </tr>\n",
       "    <tr>\n",
       "      <th>2</th>\n",
       "      <td>친목</td>\n",
       "      <td>잠 안오는 사람들의 모임</td>\n",
       "      <td>2020-01-06T15:41:44.288062+09:00</td>\n",
       "      <td>562128621033889-565786914001393</td>\n",
       "      <td>선희</td>\n",
       "      <td>이현수</td>\n",
       "      <td>자야되는데 집 앞 공사중~ 오늘도 강제기상\\n ....</td>\n",
       "      <td>다른우편이면 그냥 우편함에 넣는데 얘는 서명해야해서 강제기상이에요 겨우잠들었는데</td>\n",
       "    </tr>\n",
       "    <tr>\n",
       "      <th>3</th>\n",
       "      <td>친목</td>\n",
       "      <td>잠 안오는 사람들의 모임</td>\n",
       "      <td>2020-01-06T15:41:44.288062+09:00</td>\n",
       "      <td>562128621033889-565786914001393</td>\n",
       "      <td></td>\n",
       "      <td>서진석</td>\n",
       "      <td>자야되는데 집 앞 공사중~ 오늘도 강제기상\\n ....</td>\n",
       "      <td>ㅋㅋㅋㅋㅋㅋㅋㅋㅋㅋㅋㅋㅋㅋㅋ\\nㅋㅋㅋㅋㅋㅋㅋㅋㅋㅋㅋㅋㅋㅋㅋ</td>\n",
       "    </tr>\n",
       "    <tr>\n",
       "      <th>4</th>\n",
       "      <td>친목</td>\n",
       "      <td>잠 안오는 사람들의 모임</td>\n",
       "      <td>2020-01-06T15:41:44.288062+09:00</td>\n",
       "      <td>562128621033889-565786914001393</td>\n",
       "      <td></td>\n",
       "      <td>서진석</td>\n",
       "      <td>자야되는데 집 앞 공사중~ 오늘도 강제기상\\n ....</td>\n",
       "      <td>역시 가는날이 장날이네욬ㅋㅋㅋㅋ</td>\n",
       "    </tr>\n",
       "    <tr>\n",
       "      <th>5</th>\n",
       "      <td>친목</td>\n",
       "      <td>잠 안오는 사람들의 모임</td>\n",
       "      <td>2020-01-06T15:41:44.288062+09:00</td>\n",
       "      <td>562128621033889-565786914001393</td>\n",
       "      <td></td>\n",
       "      <td>선희</td>\n",
       "      <td>자야되는데 집 앞 공사중~ 오늘도 강제기상\\n ....</td>\n",
       "      <td>ㅋㅋㅋㅋㅋㅋㅋ아</td>\n",
       "    </tr>\n",
       "    <tr>\n",
       "      <th>6</th>\n",
       "      <td>친목</td>\n",
       "      <td>잠 안오는 사람들의 모임</td>\n",
       "      <td>2020-01-06T15:41:44.288062+09:00</td>\n",
       "      <td>562128621033889-565786914001393</td>\n",
       "      <td></td>\n",
       "      <td>박병규</td>\n",
       "      <td>자야되는데 집 앞 공사중~ 오늘도 강제기상\\n ....</td>\n",
       "      <td>요새 잠을 좀 자기는 하셨나요? ㅋㅋㅋㅋ</td>\n",
       "    </tr>\n",
       "    <tr>\n",
       "      <th>7</th>\n",
       "      <td>친목</td>\n",
       "      <td>잠 안오는 사람들의 모임</td>\n",
       "      <td>2020-01-06T15:41:44.288062+09:00</td>\n",
       "      <td>562128621033889-565786914001393</td>\n",
       "      <td>박병규</td>\n",
       "      <td>선희</td>\n",
       "      <td>자야되는데 집 앞 공사중~ 오늘도 강제기상\\n ....</td>\n",
       "      <td>그나마..?</td>\n",
       "    </tr>\n",
       "    <tr>\n",
       "      <th>8</th>\n",
       "      <td>친목</td>\n",
       "      <td>잠 안오는 사람들의 모임</td>\n",
       "      <td>2020-01-06T15:41:44.288062+09:00</td>\n",
       "      <td>562128621033889-565786914001393</td>\n",
       "      <td></td>\n",
       "      <td>이혁진</td>\n",
       "      <td>자야되는데 집 앞 공사중~ 오늘도 강제기상\\n ....</td>\n",
       "      <td>이어플러그 사용해보세요ㅠㅠ</td>\n",
       "    </tr>\n",
       "  </tbody>\n",
       "</table>\n",
       "</div>"
      ],
      "text/plain": [
       "  category     group_name                         curl_date  \\\n",
       "0       친목  잠 안오는 사람들의 모임  2020-01-06T15:41:44.288062+09:00   \n",
       "1       친목  잠 안오는 사람들의 모임  2020-01-06T15:41:44.288062+09:00   \n",
       "2       친목  잠 안오는 사람들의 모임  2020-01-06T15:41:44.288062+09:00   \n",
       "3       친목  잠 안오는 사람들의 모임  2020-01-06T15:41:44.288062+09:00   \n",
       "4       친목  잠 안오는 사람들의 모임  2020-01-06T15:41:44.288062+09:00   \n",
       "5       친목  잠 안오는 사람들의 모임  2020-01-06T15:41:44.288062+09:00   \n",
       "6       친목  잠 안오는 사람들의 모임  2020-01-06T15:41:44.288062+09:00   \n",
       "7       친목  잠 안오는 사람들의 모임  2020-01-06T15:41:44.288062+09:00   \n",
       "8       친목  잠 안오는 사람들의 모임  2020-01-06T15:41:44.288062+09:00   \n",
       "\n",
       "                       document_id reply_to user_name  \\\n",
       "0  562128621033889-565786914001393                이현수   \n",
       "1  562128621033889-565786914001393      이현수        선희   \n",
       "2  562128621033889-565786914001393       선희       이현수   \n",
       "3  562128621033889-565786914001393                서진석   \n",
       "4  562128621033889-565786914001393                서진석   \n",
       "5  562128621033889-565786914001393                 선희   \n",
       "6  562128621033889-565786914001393                박병규   \n",
       "7  562128621033889-565786914001393      박병규        선희   \n",
       "8  562128621033889-565786914001393                이혁진   \n",
       "\n",
       "                          content  \\\n",
       "0  자야되는데 집 앞 공사중~ 오늘도 강제기상\\n ....   \n",
       "1  자야되는데 집 앞 공사중~ 오늘도 강제기상\\n ....   \n",
       "2  자야되는데 집 앞 공사중~ 오늘도 강제기상\\n ....   \n",
       "3  자야되는데 집 앞 공사중~ 오늘도 강제기상\\n ....   \n",
       "4  자야되는데 집 앞 공사중~ 오늘도 강제기상\\n ....   \n",
       "5  자야되는데 집 앞 공사중~ 오늘도 강제기상\\n ....   \n",
       "6  자야되는데 집 앞 공사중~ 오늘도 강제기상\\n ....   \n",
       "7  자야되는데 집 앞 공사중~ 오늘도 강제기상\\n ....   \n",
       "8  자야되는데 집 앞 공사중~ 오늘도 강제기상\\n ....   \n",
       "\n",
       "                                           text  \n",
       "0                                  저는 등기우편 왔네요ㅜ  \n",
       "1                                             엥  \n",
       "2  다른우편이면 그냥 우편함에 넣는데 얘는 서명해야해서 강제기상이에요 겨우잠들었는데  \n",
       "3              ㅋㅋㅋㅋㅋㅋㅋㅋㅋㅋㅋㅋㅋㅋㅋ\\nㅋㅋㅋㅋㅋㅋㅋㅋㅋㅋㅋㅋㅋㅋㅋ  \n",
       "4                             역시 가는날이 장날이네욬ㅋㅋㅋㅋ  \n",
       "5                                      ㅋㅋㅋㅋㅋㅋㅋ아  \n",
       "6                        요새 잠을 좀 자기는 하셨나요? ㅋㅋㅋㅋ  \n",
       "7                                        그나마..?  \n",
       "8                                이어플러그 사용해보세요ㅠㅠ  "
      ]
     },
     "execution_count": 7,
     "metadata": {},
     "output_type": "execute_result"
    }
   ],
   "source": [
    "df[df['document_id'] == '562128621033889-565786914001393']"
   ]
  },
  {
   "cell_type": "code",
   "execution_count": null,
   "metadata": {
    "ExecuteTime": {
     "end_time": "2020-01-10T00:35:03.757049Z",
     "start_time": "2020-01-10T00:35:03.737360Z"
    }
   },
   "outputs": [],
   "source": [
    "df[['content', 'text']]"
   ]
  },
  {
   "cell_type": "code",
   "execution_count": null,
   "metadata": {},
   "outputs": [],
   "source": []
  },
  {
   "cell_type": "code",
   "execution_count": null,
   "metadata": {},
   "outputs": [],
   "source": []
  },
  {
   "cell_type": "code",
   "execution_count": 8,
   "metadata": {
    "ExecuteTime": {
     "end_time": "2020-01-10T00:36:22.338530Z",
     "start_time": "2020-01-10T00:36:08.001779Z"
    }
   },
   "outputs": [],
   "source": [
    "dt = datetime.now().strftime('%Y-%m-%d')\n",
    "\n",
    "df.to_excel('data/{}-{}.xlsx'.format(index, dt), index=False)"
   ]
  },
  {
   "cell_type": "code",
   "execution_count": null,
   "metadata": {},
   "outputs": [],
   "source": []
  }
 ],
 "metadata": {
  "kernelspec": {
   "display_name": "Python 3",
   "language": "python",
   "name": "python3"
  },
  "language_info": {
   "codemirror_mode": {
    "name": "ipython",
    "version": 3
   },
   "file_extension": ".py",
   "mimetype": "text/x-python",
   "name": "python",
   "nbconvert_exporter": "python",
   "pygments_lexer": "ipython3",
   "version": "3.6.9"
  }
 },
 "nbformat": 4,
 "nbformat_minor": 2
}
