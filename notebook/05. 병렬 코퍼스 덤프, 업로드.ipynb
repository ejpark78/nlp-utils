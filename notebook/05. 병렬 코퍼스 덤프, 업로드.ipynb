{
 "cells": [
  {
   "cell_type": "code",
   "execution_count": 1,
   "metadata": {
    "ExecuteTime": {
     "end_time": "2020-02-04T23:16:59.629594Z",
     "start_time": "2020-02-04T23:16:59.607250Z"
    }
   },
   "outputs": [],
   "source": [
    "%load_ext autoreload\n",
    "%autoreload 2"
   ]
  },
  {
   "cell_type": "code",
   "execution_count": 15,
   "metadata": {
    "ExecuteTime": {
     "end_time": "2020-02-04T23:28:55.709084Z",
     "start_time": "2020-02-04T23:28:55.701078Z"
    }
   },
   "outputs": [],
   "source": [
    "from glob import glob\n",
    "from tqdm import tqdm\n",
    "from bitext_exports import BitextExports"
   ]
  },
  {
   "cell_type": "code",
   "execution_count": 3,
   "metadata": {
    "ExecuteTime": {
     "end_time": "2020-02-04T23:17:01.450851Z",
     "start_time": "2020-02-04T23:17:01.418438Z"
    }
   },
   "outputs": [],
   "source": [
    "utils = BitextExports()"
   ]
  },
  {
   "cell_type": "code",
   "execution_count": null,
   "metadata": {
    "ExecuteTime": {
     "end_time": "2020-02-04T06:28:27.670565Z",
     "start_time": "2020-02-04T06:28:26.336303Z"
    }
   },
   "outputs": [],
   "source": [
    "utils.export_today_conversation()"
   ]
  },
  {
   "cell_type": "code",
   "execution_count": null,
   "metadata": {
    "ExecuteTime": {
     "end_time": "2020-02-04T06:42:23.597110Z",
     "start_time": "2020-02-04T06:34:58.685487Z"
    }
   },
   "outputs": [],
   "source": [
    "utils.export_example()"
   ]
  },
  {
   "cell_type": "code",
   "execution_count": null,
   "metadata": {
    "ExecuteTime": {
     "end_time": "2020-02-04T06:33:18.780582Z",
     "start_time": "2020-02-04T06:28:49.633756Z"
    }
   },
   "outputs": [],
   "source": [
    "utils.export_user_translation()"
   ]
  },
  {
   "cell_type": "code",
   "execution_count": null,
   "metadata": {
    "ExecuteTime": {
     "end_time": "2020-02-04T06:56:55.880447Z",
     "start_time": "2020-02-04T06:55:01.428764Z"
    }
   },
   "outputs": [],
   "source": [
    "utils.export_bitext()"
   ]
  },
  {
   "cell_type": "code",
   "execution_count": null,
   "metadata": {},
   "outputs": [],
   "source": []
  },
  {
   "cell_type": "code",
   "execution_count": 24,
   "metadata": {
    "ExecuteTime": {
     "end_time": "2020-02-05T01:01:08.185589Z",
     "start_time": "2020-02-05T01:01:08.177712Z"
    }
   },
   "outputs": [],
   "source": [
    "index = 'corpus-bitext'"
   ]
  },
  {
   "cell_type": "code",
   "execution_count": 25,
   "metadata": {
    "ExecuteTime": {
     "end_time": "2020-02-05T01:30:50.449946Z",
     "start_time": "2020-02-05T01:01:08.186881Z"
    },
    "scrolled": true
   },
   "outputs": [
    {
     "name": "stderr",
     "output_type": "stream",
     "text": [
      "\n",
      "\n",
      "  0%|          | 0/10 [00:00<?, ?it/s]\u001b[A\u001b[A\n",
      "\n",
      "AIHub/문어체.bdc8f.morp.json.bz2:   0%|          | 0/10 [00:00<?, ?it/s]\u001b[A\u001b[A"
     ]
    },
    {
     "data": {
      "application/vnd.jupyter.widget-view+json": {
       "model_id": "68f0afd52ac545a9ae332258bfbe635b",
       "version_major": 2,
       "version_minor": 0
      },
      "text/plain": [
       "HBox(children=(FloatProgress(value=0.0, description='AIHub/문어체.bdc8f.morp.json.bz2', max=100720.0, style=Progr…"
      ]
     },
     "metadata": {},
     "output_type": "display_data"
    },
    {
     "name": "stdout",
     "output_type": "stream",
     "text": [
      "\n"
     ]
    },
    {
     "name": "stderr",
     "output_type": "stream",
     "text": [
      "\n",
      "\n",
      "AIHub/문어체.bdc8f.morp.json.bz2:  10%|█         | 1/10 [01:56<17:26, 116.24s/it]\u001b[A\u001b[A\n",
      "\n",
      "AIHub/대화체.e75f8.morp.json.bz2:  10%|█         | 1/10 [01:56<17:26, 116.24s/it]\u001b[A\u001b[A"
     ]
    },
    {
     "data": {
      "application/vnd.jupyter.widget-view+json": {
       "model_id": "7090c53a9873413092567d52e67d97c9",
       "version_major": 2,
       "version_minor": 0
      },
      "text/plain": [
       "HBox(children=(FloatProgress(value=0.0, description='AIHub/대화체.e75f8.morp.json.bz2', max=100000.0, style=Progr…"
      ]
     },
     "metadata": {},
     "output_type": "display_data"
    },
    {
     "name": "stderr",
     "output_type": "stream",
     "text": [
      "\n",
      "\n",
      "AIHub/대화체.e75f8.morp.json.bz2:  20%|██        | 2/10 [03:19<14:11, 106.44s/it]\u001b[A\u001b[A\n",
      "\n",
      "AIHub/문어체.12db7.morp.json.bz2:  20%|██        | 2/10 [03:19<14:11, 106.44s/it]\u001b[A\u001b[A"
     ]
    },
    {
     "name": "stdout",
     "output_type": "stream",
     "text": [
      "\n"
     ]
    },
    {
     "data": {
      "application/vnd.jupyter.widget-view+json": {
       "model_id": "7eef7f67e2d24d8bbf06935eca771ede",
       "version_major": 2,
       "version_minor": 0
      },
      "text/plain": [
       "HBox(children=(FloatProgress(value=0.0, description='AIHub/문어체.12db7.morp.json.bz2', max=200000.0, style=Progr…"
      ]
     },
     "metadata": {},
     "output_type": "display_data"
    },
    {
     "name": "stderr",
     "output_type": "stream",
     "text": [
      "\n",
      "\n",
      "AIHub/문어체.12db7.morp.json.bz2:  30%|███       | 3/10 [07:14<16:53, 144.81s/it]\u001b[A\u001b[A\n",
      "\n",
      "AIHub/문어체.2d78e.morp.json.bz2:  30%|███       | 3/10 [07:14<16:53, 144.81s/it]\u001b[A\u001b[A"
     ]
    },
    {
     "name": "stdout",
     "output_type": "stream",
     "text": [
      "\n"
     ]
    },
    {
     "data": {
      "application/vnd.jupyter.widget-view+json": {
       "model_id": "f0806aff4b72447c9f10dda605906186",
       "version_major": 2,
       "version_minor": 0
      },
      "text/plain": [
       "HBox(children=(FloatProgress(value=0.0, description='AIHub/문어체.2d78e.morp.json.bz2', max=200000.0, style=Progr…"
      ]
     },
     "metadata": {},
     "output_type": "display_data"
    },
    {
     "name": "stderr",
     "output_type": "stream",
     "text": [
      "\n",
      "\n",
      "AIHub/문어체.2d78e.morp.json.bz2:  40%|████      | 4/10 [11:26<17:41, 176.94s/it]\u001b[A\u001b[A\n",
      "\n",
      "AIHub/문어체.d43ff.morp.json.bz2:  40%|████      | 4/10 [11:26<17:41, 176.94s/it]\u001b[A\u001b[A"
     ]
    },
    {
     "name": "stdout",
     "output_type": "stream",
     "text": [
      "\n"
     ]
    },
    {
     "data": {
      "application/vnd.jupyter.widget-view+json": {
       "model_id": "7f070999e7da48d6955c3166f96b9dd9",
       "version_major": 2,
       "version_minor": 0
      },
      "text/plain": [
       "HBox(children=(FloatProgress(value=0.0, description='AIHub/문어체.d43ff.morp.json.bz2', max=100383.0, style=Progr…"
      ]
     },
     "metadata": {},
     "output_type": "display_data"
    },
    {
     "name": "stdout",
     "output_type": "stream",
     "text": [
      "\n"
     ]
    },
    {
     "name": "stderr",
     "output_type": "stream",
     "text": [
      "\n",
      "\n",
      "AIHub/문어체.d43ff.morp.json.bz2:  50%|█████     | 5/10 [13:30<13:26, 161.30s/it]\u001b[A\u001b[A\n",
      "\n",
      "AIHub/구어체.ecddc.morp.json.bz2:  50%|█████     | 5/10 [13:30<13:26, 161.30s/it]\u001b[A\u001b[A"
     ]
    },
    {
     "data": {
      "application/vnd.jupyter.widget-view+json": {
       "model_id": "3abc15e00a8e454689a4d7664e1ea6cb",
       "version_major": 2,
       "version_minor": 0
      },
      "text/plain": [
       "HBox(children=(FloatProgress(value=0.0, description='AIHub/구어체.ecddc.morp.json.bz2', max=200000.0, style=Progr…"
      ]
     },
     "metadata": {},
     "output_type": "display_data"
    },
    {
     "name": "stderr",
     "output_type": "stream",
     "text": [
      "\n",
      "\n",
      "AIHub/구어체.ecddc.morp.json.bz2:  60%|██████    | 6/10 [16:17<10:52, 163.03s/it]\u001b[A\u001b[A\n",
      "\n",
      "AIHub/문어체.6434d.morp.json.bz2:  60%|██████    | 6/10 [16:17<10:52, 163.03s/it]\u001b[A\u001b[A"
     ]
    },
    {
     "name": "stdout",
     "output_type": "stream",
     "text": [
      "\n"
     ]
    },
    {
     "data": {
      "application/vnd.jupyter.widget-view+json": {
       "model_id": "1ceda0f491b34516b30a928a2787e96c",
       "version_major": 2,
       "version_minor": 0
      },
      "text/plain": [
       "HBox(children=(FloatProgress(value=0.0, description='AIHub/문어체.6434d.morp.json.bz2', max=200835.0, style=Progr…"
      ]
     },
     "metadata": {},
     "output_type": "display_data"
    },
    {
     "name": "stdout",
     "output_type": "stream",
     "text": [
      "\n"
     ]
    },
    {
     "name": "stderr",
     "output_type": "stream",
     "text": [
      "\n",
      "\n",
      "AIHub/문어체.6434d.morp.json.bz2:  70%|███████   | 7/10 [20:46<09:43, 194.59s/it]\u001b[A\u001b[A\n",
      "\n",
      "AIHub/문어체.1d2d6.morp.json.bz2:  70%|███████   | 7/10 [20:46<09:43, 194.59s/it]\u001b[A\u001b[A"
     ]
    },
    {
     "data": {
      "application/vnd.jupyter.widget-view+json": {
       "model_id": "986f44bbb5a04022ba26ede607ea40f4",
       "version_major": 2,
       "version_minor": 0
      },
      "text/plain": [
       "HBox(children=(FloatProgress(value=0.0, description='AIHub/문어체.1d2d6.morp.json.bz2', max=100087.0, style=Progr…"
      ]
     },
     "metadata": {},
     "output_type": "display_data"
    },
    {
     "name": "stdout",
     "output_type": "stream",
     "text": [
      "\n"
     ]
    },
    {
     "name": "stderr",
     "output_type": "stream",
     "text": [
      "\n",
      "\n",
      "AIHub/문어체.1d2d6.morp.json.bz2:  80%|████████  | 8/10 [22:56<05:50, 175.44s/it]\u001b[A\u001b[A\n",
      "\n",
      "AIHub/문어체.2c6b6.morp.json.bz2:  80%|████████  | 8/10 [22:56<05:50, 175.44s/it]\u001b[A\u001b[A"
     ]
    },
    {
     "data": {
      "application/vnd.jupyter.widget-view+json": {
       "model_id": "2be0b8fda72e439a9c293d3f84a3da0f",
       "version_major": 2,
       "version_minor": 0
      },
      "text/plain": [
       "HBox(children=(FloatProgress(value=0.0, description='AIHub/문어체.2c6b6.morp.json.bz2', max=200683.0, style=Progr…"
      ]
     },
     "metadata": {},
     "output_type": "display_data"
    },
    {
     "name": "stdout",
     "output_type": "stream",
     "text": [
      "\n"
     ]
    },
    {
     "name": "stderr",
     "output_type": "stream",
     "text": [
      "\n",
      "\n",
      "AIHub/문어체.2c6b6.morp.json.bz2:  90%|█████████ | 9/10 [26:56<03:14, 194.58s/it]\u001b[A\u001b[A\n",
      "\n",
      "AIHub/구어체.6b4f8.morp.json.bz2:  90%|█████████ | 9/10 [26:56<03:14, 194.58s/it]\u001b[A\u001b[A"
     ]
    },
    {
     "data": {
      "application/vnd.jupyter.widget-view+json": {
       "model_id": "4746bc3f14654444b71cb7e386abe0c0",
       "version_major": 2,
       "version_minor": 0
      },
      "text/plain": [
       "HBox(children=(FloatProgress(value=0.0, description='AIHub/구어체.6b4f8.morp.json.bz2', max=200000.0, style=Progr…"
      ]
     },
     "metadata": {},
     "output_type": "display_data"
    },
    {
     "name": "stderr",
     "output_type": "stream",
     "text": [
      "\n",
      "\n",
      "AIHub/구어체.6b4f8.morp.json.bz2: 100%|██████████| 10/10 [29:42<00:00, 178.21s/it]\u001b[A\u001b[A"
     ]
    },
    {
     "name": "stdout",
     "output_type": "stream",
     "text": [
      "\n"
     ]
    },
    {
     "name": "stderr",
     "output_type": "stream",
     "text": [
      "\n"
     ]
    }
   ],
   "source": [
    "pbar = tqdm(glob('AIHub/*.morp.json.bz2'))\n",
    "for f in pbar:\n",
    "    pbar.set_description_str(f)\n",
    "    utils.import_bitext(filename=f, index=index)"
   ]
  },
  {
   "cell_type": "code",
   "execution_count": 22,
   "metadata": {
    "ExecuteTime": {
     "end_time": "2020-02-05T00:45:26.448908Z",
     "start_time": "2020-02-05T00:21:53.850497Z"
    },
    "scrolled": true
   },
   "outputs": [
    {
     "name": "stderr",
     "output_type": "stream",
     "text": [
      "\n",
      "\n",
      "  0%|          | 0/3 [00:00<?, ?it/s]\u001b[A\u001b[A"
     ]
    },
    {
     "data": {
      "application/vnd.jupyter.widget-view+json": {
       "model_id": "9c5dae8b2962494f82211989dab460fa",
       "version_major": 2,
       "version_minor": 0
      },
      "text/plain": [
       "HBox(children=(FloatProgress(value=0.0, description='dictionary/crawler-naver-conversation.bitext.morp.json.bz…"
      ]
     },
     "metadata": {},
     "output_type": "display_data"
    },
    {
     "name": "stderr",
     "output_type": "stream",
     "text": [
      "\n",
      "\n",
      " 33%|███▎      | 1/3 [00:10<00:21, 10.81s/it]\u001b[A\u001b[A"
     ]
    },
    {
     "name": "stdout",
     "output_type": "stream",
     "text": [
      "\n"
     ]
    },
    {
     "data": {
      "application/vnd.jupyter.widget-view+json": {
       "model_id": "db874f54247f40e18fe451f712ac5d8f",
       "version_major": 2,
       "version_minor": 0
      },
      "text/plain": [
       "HBox(children=(FloatProgress(value=0.0, description='dictionary/crawler-naver-dictionary-example.bitext.morp.j…"
      ]
     },
     "metadata": {},
     "output_type": "display_data"
    },
    {
     "name": "stdout",
     "output_type": "stream",
     "text": [
      "\n"
     ]
    },
    {
     "name": "stderr",
     "output_type": "stream",
     "text": [
      "\n",
      "\n",
      " 67%|██████▋   | 2/3 [15:28<04:42, 282.87s/it]\u001b[A\u001b[A"
     ]
    },
    {
     "data": {
      "application/vnd.jupyter.widget-view+json": {
       "model_id": "d3d5fce447f9473fbd65fa3ca0579f32",
       "version_major": 2,
       "version_minor": 0
      },
      "text/plain": [
       "HBox(children=(FloatProgress(value=0.0, description='dictionary/crawler-naver-dictionary-user-translation.bite…"
      ]
     },
     "metadata": {},
     "output_type": "display_data"
    },
    {
     "name": "stdout",
     "output_type": "stream",
     "text": [
      "\n"
     ]
    },
    {
     "name": "stderr",
     "output_type": "stream",
     "text": [
      "\n",
      "\n",
      "100%|██████████| 3/3 [23:32<00:00, 470.86s/it]\u001b[A\u001b[A\n"
     ]
    }
   ],
   "source": [
    "pbar = tqdm(glob('dictionary/*.morp.json.bz2'))\n",
    "for f in pbar:\n",
    "    pbar.set_description_str(f)\n",
    "    utils.import_bitext(filename=f, index=index)"
   ]
  },
  {
   "cell_type": "code",
   "execution_count": 23,
   "metadata": {
    "ExecuteTime": {
     "end_time": "2020-02-05T01:01:08.171931Z",
     "start_time": "2020-02-05T00:45:26.457492Z"
    },
    "scrolled": true
   },
   "outputs": [
    {
     "name": "stderr",
     "output_type": "stream",
     "text": [
      "\n",
      "\n",
      "  0%|          | 0/4 [00:00<?, ?it/s]\u001b[A\u001b[A\n",
      "\n",
      "news/corpus-bitext-cnn.bitext.morp.json.bz2:   0%|          | 0/4 [00:00<?, ?it/s]\u001b[A\u001b[A"
     ]
    },
    {
     "data": {
      "application/vnd.jupyter.widget-view+json": {
       "model_id": "459cf76099b14055b2c8cf6f84d61838",
       "version_major": 2,
       "version_minor": 0
      },
      "text/plain": [
       "HBox(children=(FloatProgress(value=0.0, description='news/corpus-bitext-cnn.bitext.morp.json.bz2', max=25879.0…"
      ]
     },
     "metadata": {},
     "output_type": "display_data"
    },
    {
     "name": "stdout",
     "output_type": "stream",
     "text": [
      "\n"
     ]
    },
    {
     "name": "stderr",
     "output_type": "stream",
     "text": [
      "\n",
      "\n",
      "news/corpus-bitext-cnn.bitext.morp.json.bz2:  25%|██▌       | 1/4 [00:31<01:35, 31.93s/it]\u001b[A\u001b[A\n",
      "\n",
      "news/corpus-bitext-donga.bitext.morp.json.bz2:  25%|██▌       | 1/4 [00:31<01:35, 31.93s/it]\u001b[A\u001b[A"
     ]
    },
    {
     "data": {
      "application/vnd.jupyter.widget-view+json": {
       "model_id": "e7fb08e597764a659e8705ed7edabd59",
       "version_major": 2,
       "version_minor": 0
      },
      "text/plain": [
       "HBox(children=(FloatProgress(value=0.0, description='news/corpus-bitext-donga.bitext.morp.json.bz2', max=14267…"
      ]
     },
     "metadata": {},
     "output_type": "display_data"
    },
    {
     "name": "stdout",
     "output_type": "stream",
     "text": [
      "\n"
     ]
    },
    {
     "name": "stderr",
     "output_type": "stream",
     "text": [
      "\n",
      "\n",
      "news/corpus-bitext-donga.bitext.morp.json.bz2:  50%|█████     | 2/4 [03:12<02:20, 70.40s/it]\u001b[A\u001b[A\n",
      "\n",
      "news/corpus-bitext-ted.bitext.morp.json.bz2:  50%|█████     | 2/4 [03:12<02:20, 70.40s/it]  \u001b[A\u001b[A"
     ]
    },
    {
     "data": {
      "application/vnd.jupyter.widget-view+json": {
       "model_id": "0b9748bb35aa4714b2f8339a2d5818e9",
       "version_major": 2,
       "version_minor": 0
      },
      "text/plain": [
       "HBox(children=(FloatProgress(value=0.0, description='news/corpus-bitext-ted.bitext.morp.json.bz2', max=355434.…"
      ]
     },
     "metadata": {},
     "output_type": "display_data"
    },
    {
     "name": "stdout",
     "output_type": "stream",
     "text": [
      "\n"
     ]
    },
    {
     "name": "stderr",
     "output_type": "stream",
     "text": [
      "\n",
      "\n",
      "news/corpus-bitext-ted.bitext.morp.json.bz2:  75%|███████▌  | 3/4 [07:34<02:07, 127.94s/it]\u001b[A\u001b[A\n",
      "\n",
      "news/corpus-bitext-kusk.bitext.morp.json.bz2:  75%|███████▌  | 3/4 [07:34<02:07, 127.94s/it]\u001b[A\u001b[A"
     ]
    },
    {
     "data": {
      "application/vnd.jupyter.widget-view+json": {
       "model_id": "305419304df745d6b7452db469cb48ac",
       "version_major": 2,
       "version_minor": 0
      },
      "text/plain": [
       "HBox(children=(FloatProgress(value=0.0, description='news/corpus-bitext-kusk.bitext.morp.json.bz2', max=474675…"
      ]
     },
     "metadata": {},
     "output_type": "display_data"
    },
    {
     "name": "stdout",
     "output_type": "stream",
     "text": [
      "\n"
     ]
    },
    {
     "name": "stderr",
     "output_type": "stream",
     "text": [
      "\n",
      "\n",
      "news/corpus-bitext-kusk.bitext.morp.json.bz2: 100%|██████████| 4/4 [15:41<00:00, 235.41s/it]\u001b[A\u001b[A\n"
     ]
    }
   ],
   "source": [
    "pbar = tqdm(glob('news/*.morp.json.bz2'))\n",
    "for f in pbar:\n",
    "    pbar.set_description_str(f)\n",
    "    utils.import_bitext(filename=f, index=index)"
   ]
  },
  {
   "cell_type": "code",
   "execution_count": null,
   "metadata": {},
   "outputs": [],
   "source": []
  }
 ],
 "metadata": {
  "kernelspec": {
   "display_name": "Python 3",
   "language": "python",
   "name": "python3"
  },
  "language_info": {
   "codemirror_mode": {
    "name": "ipython",
    "version": 3
   },
   "file_extension": ".py",
   "mimetype": "text/x-python",
   "name": "python",
   "nbconvert_exporter": "python",
   "pygments_lexer": "ipython3",
   "version": "3.6.9"
  }
 },
 "nbformat": 4,
 "nbformat_minor": 2
}
