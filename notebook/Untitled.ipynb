{
 "cells": [
  {
   "cell_type": "code",
   "execution_count": 8,
   "metadata": {
    "ExecuteTime": {
     "end_time": "2020-09-17T05:32:05.141645Z",
     "start_time": "2020-09-17T05:32:05.134077Z"
    }
   },
   "outputs": [],
   "source": [
    "import bz2\n",
    "import json\n",
    "from glob import glob\n",
    "from tqdm import tqdm\n",
    "from elasticsearch import Elasticsearch"
   ]
  },
  {
   "cell_type": "code",
   "execution_count": 9,
   "metadata": {
    "ExecuteTime": {
     "end_time": "2020-09-17T05:32:07.091959Z",
     "start_time": "2020-09-17T05:32:07.083041Z"
    }
   },
   "outputs": [],
   "source": [
    "path = 'data/dump/elastic/nlp/crawler/*.json.bz2'\n",
    "\n",
    "f_list = glob(path)"
   ]
  },
  {
   "cell_type": "code",
   "execution_count": 10,
   "metadata": {
    "ExecuteTime": {
     "end_time": "2020-09-17T05:34:22.535642Z",
     "start_time": "2020-09-17T05:32:07.563893Z"
    }
   },
   "outputs": [
    {
     "name": "stdout",
     "output_type": "stream",
     "text": [
      "{'content': '교보증권이 오는 5일까지 제481회 ELS 1종을 발행합니다. \\n\\n삼성SDI 보통주와 현대중공업 보통주를 기초자산으로 삼는 만기 2년형 원금비보장형 상품으로 만기평가일까지 한 번도 최초기준주가대비 50%이상 하락한 적이 없으면 36%의 수익을 지급합니다. \\n\\n또한 매 4개월마다 조기상환기회를 부여해 두 종목 모두 최초기준주가의 90%(4,8개월), 85%(12,16개월), 80%(20개월) 이상인 경우 연 18%의 수익을 얻을 수 있습니다.\\n\\n남진철 교보증권 장외파생상품팀장은 \"기초자산을 우량주로 구성하고 원금손실이 발생하는 구간을 최초기준주가의 50%수준으로 낮춰 안정성을 강조했다\"고 밝혔습니다.\\n\\n최소청약금액은 100만원이며 기타 자세한 사항은 대표전화로 문의하면 됩니다. \\n\\n빠르고, 쉽고, 싼 휴대폰 주가조회 숫자 \\'969\\'+NATE/magicⓝ/SHOW/ez-i>\\n\\nTV를 통한 관심종목 조회 및 주식매매 서비스(데이터방송)>\\n\\n박진규기자 jkyu2002@wowtv.co.kr', 'date': '2010-02-03T19:41:00+09:00', 'document_id': '004-0002001885', 'html_content': '<div id=\"articleBodyContents\">\\n 교보증권이 오는 5일까지 제481회 ELS 1종을 발행합니다.\\n <br/>\\n <br/>\\n 삼성SDI 보통주와 현대중공업 보통주를 기초자산으로 삼는 만기 2년형 원금비보장형 상품으로 만기평가일까지 한 번도 최초기준주가대비 50%이상 하락한 적이 없으면 36%의 수익을 지급합니다.\\n <br/>\\n <br/>\\n 또한 매 4개월마다 조기상환기회를 부여해 두 종목 모두 최초기준주가의 90%(4,8개월), 85%(12,16개월), 80%(20개월) 이상인 경우 연 18%의 수익을 얻을 수 있습니다.\\n <br/>\\n <br/>\\n 남진철 교보증권 장외파생상품팀장은 \"기초자산을 우량주로 구성하고 원금손실이 발생하는 구간을 최초기준주가의 50%수준으로 낮춰 안정성을 강조했다\"고 밝혔습니다.\\n <br/>\\n <br/>\\n 최소청약금액은 100만원이며 기타 자세한 사항은 대표전화로 문의하면 됩니다.\\n <br/>\\n <br/>\\n <u>\\n  빠르고, 쉽고, 싼 휴대폰 주가조회 숫자 \\'969\\'+NATE/magicⓝ/SHOW/ez-i\\n </u>\\n &gt;\\n <br/>\\n <br/>\\n <u>\\n  TV를 통한 관심종목 조회 및 주식매매 서비스(데이터방송)\\n </u>\\n &gt;\\n <br/>\\n <br/>\\n 박진규기자 jkyu2002@wowtv.co.kr\\n <br/>\\n <br/>\\n</div>', 'source': '한국경제TV', 'title': '교보증권, 제481회 ELS 1종 발행', 'url': 'http://news.naver.com/main/read.nhn?sid1=101&oid=004&aid=0002001885'}\n"
     ]
    }
   ],
   "source": [
    "filename = 'data/dump/elastic/nlp/crawler/crawler-naver-economy-2010.json.bz2'\n",
    "with bz2.open(filename) as fp:\n",
    "    for l in fp.readlines():\n",
    "        doc = json.loads(l.decode('utf-8'))\n",
    "        print(doc)\n",
    "        break"
   ]
  },
  {
   "cell_type": "code",
   "execution_count": null,
   "metadata": {},
   "outputs": [],
   "source": []
  },
  {
   "cell_type": "code",
   "execution_count": null,
   "metadata": {},
   "outputs": [],
   "source": []
  },
  {
   "cell_type": "code",
   "execution_count": 10,
   "metadata": {
    "ExecuteTime": {
     "end_time": "2020-08-20T07:41:21.994493Z",
     "start_time": "2020-08-20T07:41:21.990546Z"
    }
   },
   "outputs": [],
   "source": []
  },
  {
   "cell_type": "code",
   "execution_count": 7,
   "metadata": {
    "ExecuteTime": {
     "end_time": "2020-08-20T07:36:57.703782Z",
     "start_time": "2020-08-20T07:36:57.701574Z"
    }
   },
   "outputs": [],
   "source": [
    "elastic = Elasticsearch(hosts='https://corpus.ncsoft.com:9200',\n",
    "                        timeout=120,\n",
    "                        http_auth='elastic:nlplab')"
   ]
  },
  {
   "cell_type": "code",
   "execution_count": 11,
   "metadata": {
    "ExecuteTime": {
     "end_time": "2020-08-20T07:42:43.942169Z",
     "start_time": "2020-08-20T07:42:12.215909Z"
    }
   },
   "outputs": [
    {
     "name": "stderr",
     "output_type": "stream",
     "text": [
      "100%|██████████| 106274/106274 [00:26<00:00, 4025.19it/s]\n"
     ]
    }
   ],
   "source": [
    "from uuid import uuid4\n",
    "\n",
    "index = 'sentence-pool-ko'\n",
    "column = 'expExample2Text'\n",
    "\n",
    "bulk_data = []\n",
    "with bz2.open('data/crawler-dictionary-example-naver-ja.json.bz2', 'rb') as fp:\n",
    "    for l in tqdm(fp.readlines()):\n",
    "        doc = json.loads(l.decode('utf-8'))\n",
    "\n",
    "        item = {\n",
    "            'source': doc['sourceDictnameKO'],\n",
    "            'text': doc[column],\n",
    "        }\n",
    "\n",
    "        bulk_data += [{\n",
    "            'update': {\n",
    "                '_index': index,\n",
    "                '_id': str(uuid4()),\n",
    "            }\n",
    "        }, {\n",
    "            'doc': item,\n",
    "            'doc_as_upsert': True,\n",
    "        }]\n",
    "        \n",
    "        if len(bulk_data) > 1000:\n",
    "            resp = elastic.bulk(\n",
    "                index=index,\n",
    "                body=bulk_data,\n",
    "                refresh=True,\n",
    "                params={'request_timeout': 2 * 60},\n",
    "            )\n",
    "            \n",
    "            bulk_data = []\n",
    "            \n",
    "resp = elastic.bulk(\n",
    "    index=index,\n",
    "    body=bulk_data,\n",
    "    refresh=True,\n",
    "    params={'request_timeout': 2 * 60},\n",
    ")\n",
    "bulk_data = []"
   ]
  },
  {
   "cell_type": "code",
   "execution_count": null,
   "metadata": {},
   "outputs": [],
   "source": []
  }
 ],
 "metadata": {
  "kernelspec": {
   "display_name": "Python 3",
   "language": "python",
   "name": "python3"
  },
  "language_info": {
   "codemirror_mode": {
    "name": "ipython",
    "version": 3
   },
   "file_extension": ".py",
   "mimetype": "text/x-python",
   "name": "python",
   "nbconvert_exporter": "python",
   "pygments_lexer": "ipython3",
   "version": "3.8.2"
  },
  "toc": {
   "base_numbering": 1,
   "nav_menu": {},
   "number_sections": true,
   "sideBar": true,
   "skip_h1_title": false,
   "title_cell": "Table of Contents",
   "title_sidebar": "Contents",
   "toc_cell": false,
   "toc_position": {},
   "toc_section_display": true,
   "toc_window_display": false
  }
 },
 "nbformat": 4,
 "nbformat_minor": 4
}
