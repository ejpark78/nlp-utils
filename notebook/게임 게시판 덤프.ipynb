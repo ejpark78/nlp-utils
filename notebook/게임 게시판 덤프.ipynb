{
 "cells": [
  {
   "cell_type": "code",
   "execution_count": 1,
   "metadata": {
    "ExecuteTime": {
     "end_time": "2020-01-02T05:36:33.738916Z",
     "start_time": "2020-01-02T05:36:33.715003Z"
    }
   },
   "outputs": [],
   "source": [
    "%load_ext autoreload\n",
    "%autoreload 2"
   ]
  },
  {
   "cell_type": "code",
   "execution_count": 2,
   "metadata": {
    "ExecuteTime": {
     "end_time": "2020-01-02T05:36:35.933178Z",
     "start_time": "2020-01-02T05:36:34.138445Z"
    }
   },
   "outputs": [
    {
     "name": "stderr",
     "output_type": "stream",
     "text": [
      "/home/workspace/data-center/utils/elasticsearch_utils.py:21: TqdmExperimentalWarning: Using `tqdm.autonotebook.tqdm` in notebook mode. Use `tqdm.tqdm` instead to force console mode (e.g. in jupyter console)\n",
      "  from tqdm.autonotebook import tqdm\n"
     ]
    }
   ],
   "source": [
    "import numpy as np\n",
    "import pandas as pd\n",
    "\n",
    "from tqdm import tqdm\n",
    "from utils.elasticsearch_utils import ElasticSearchUtils"
   ]
  },
  {
   "cell_type": "code",
   "execution_count": 3,
   "metadata": {
    "ExecuteTime": {
     "end_time": "2020-01-02T05:36:35.949961Z",
     "start_time": "2020-01-02T05:36:35.934793Z"
    }
   },
   "outputs": [],
   "source": [
    "def dump_data(index):\n",
    "    host_info = {\n",
    "        'host': 'https://corpus.ncsoft.com:9200',\n",
    "        'http_auth': 'elastic:nlplab',\n",
    "    }\n",
    "\n",
    "    utils = ElasticSearchUtils(**host_info)\n",
    "\n",
    "    doc_list = []\n",
    "    utils.export(index=index, result=doc_list)\n",
    "\n",
    "    return doc_list"
   ]
  },
  {
   "cell_type": "code",
   "execution_count": 42,
   "metadata": {
    "ExecuteTime": {
     "end_time": "2020-01-02T06:35:15.445155Z",
     "start_time": "2020-01-02T06:34:57.731346Z"
    }
   },
   "outputs": [
    {
     "data": {
      "application/vnd.jupyter.widget-view+json": {
       "model_id": "280b54d9ff5542a4bca96b732ca2f47d",
       "version_major": 2,
       "version_minor": 0
      },
      "text/plain": [
       "HBox(children=(FloatProgress(value=0.0, description='dump: crawler-bbs-game-lineagem-jap', layout=Layout(flex=…"
      ]
     },
     "metadata": {},
     "output_type": "display_data"
    },
    {
     "name": "stdout",
     "output_type": "stream",
     "text": [
      "\n",
      "23,075\n"
     ]
    }
   ],
   "source": [
    "# index = 'crawler-bbs-game-bns-eng'\n",
    "# index = 'crawler-bbs-game-lineagem-eng'\n",
    "index = 'crawler-bbs-game-lineagem-jap'\n",
    "\n",
    "doc_list = dump_data(index=index)\n",
    "\n",
    "print('{:,}'.format(len(doc_list)))"
   ]
  },
  {
   "cell_type": "code",
   "execution_count": 94,
   "metadata": {
    "ExecuteTime": {
     "end_time": "2020-01-02T07:36:31.200601Z",
     "start_time": "2020-01-02T07:36:31.187579Z"
    }
   },
   "outputs": [],
   "source": [
    "def flatten(doc_list, column):\n",
    "    result = []\n",
    "    for doc in doc_list:\n",
    "        if column not in doc or len(doc[column]) == 0:\n",
    "            continue\n",
    "            \n",
    "        for item in doc[column]:\n",
    "            item.update(doc)\n",
    "            \n",
    "            result.append(item)\n",
    "    \n",
    "    for i in range(len(result)):\n",
    "        if column in result[i]:\n",
    "            del result[i][column]\n",
    "        \n",
    "        if 'html_content' in result[i]:\n",
    "            del result[i]['html_content']\n",
    "            \n",
    "    return result"
   ]
  },
  {
   "cell_type": "code",
   "execution_count": 45,
   "metadata": {
    "ExecuteTime": {
     "end_time": "2020-01-02T06:35:48.240075Z",
     "start_time": "2020-01-02T06:35:48.071496Z"
    }
   },
   "outputs": [
    {
     "data": {
      "text/plain": [
       "155511"
      ]
     },
     "execution_count": 45,
     "metadata": {},
     "output_type": "execute_result"
    }
   ],
   "source": [
    "# doc2_list = flatten(doc_list=doc_list, column='articles')\n",
    "doc2_list = flatten(doc_list=doc_list, column='reply_list')\n",
    "\n",
    "len(doc2_list)"
   ]
  },
  {
   "cell_type": "code",
   "execution_count": 47,
   "metadata": {
    "ExecuteTime": {
     "end_time": "2020-01-02T06:36:00.355023Z",
     "start_time": "2020-01-02T06:36:00.013141Z"
    },
    "scrolled": true
   },
   "outputs": [
    {
     "name": "stdout",
     "output_type": "stream",
     "text": [
      "155,511\n"
     ]
    },
    {
     "data": {
      "text/html": [
       "<div>\n",
       "<style scoped>\n",
       "    .dataframe tbody tr th:only-of-type {\n",
       "        vertical-align: middle;\n",
       "    }\n",
       "\n",
       "    .dataframe tbody tr th {\n",
       "        vertical-align: top;\n",
       "    }\n",
       "\n",
       "    .dataframe thead th {\n",
       "        text-align: right;\n",
       "    }\n",
       "</style>\n",
       "<table border=\"1\" class=\"dataframe\">\n",
       "  <thead>\n",
       "    <tr style=\"text-align: right;\">\n",
       "      <th></th>\n",
       "      <th>author</th>\n",
       "      <th>date</th>\n",
       "      <th>content</th>\n",
       "      <th>title</th>\n",
       "      <th>url</th>\n",
       "      <th>views</th>\n",
       "      <th>likes</th>\n",
       "      <th>document_id</th>\n",
       "      <th>curl_date</th>\n",
       "    </tr>\n",
       "  </thead>\n",
       "  <tbody>\n",
       "    <tr>\n",
       "      <th>0</th>\n",
       "      <td>グンダルバウセ</td>\n",
       "      <td>2019-12-15T20:51:00+09:00</td>\n",
       "      <td>落ちた～～落ちた～～ヴァラ鯖落ちた～～～昔は、鯖状況ってのがあったけど・・・今は、スクリティ...</td>\n",
       "      <td>ヴァラ落ちたが、さて</td>\n",
       "      <td>https://www.ncsoft.jp/lineage2/community/linea...</td>\n",
       "      <td>423</td>\n",
       "      <td>423</td>\n",
       "      <td>29142</td>\n",
       "      <td></td>\n",
       "    </tr>\n",
       "    <tr>\n",
       "      <th>1</th>\n",
       "      <td>グンダルバウセ</td>\n",
       "      <td>2019-12-15T20:51:00+09:00</td>\n",
       "      <td>落ちた～～落ちた～～ヴァラ鯖落ちた～～～昔は、鯖状況ってのがあったけど・・・今は、スクリティ...</td>\n",
       "      <td>ヴァラ落ちたが、さて</td>\n",
       "      <td>https://www.ncsoft.jp/lineage2/community/linea...</td>\n",
       "      <td>423</td>\n",
       "      <td>423</td>\n",
       "      <td>29142</td>\n",
       "      <td></td>\n",
       "    </tr>\n",
       "    <tr>\n",
       "      <th>2</th>\n",
       "      <td>よるん</td>\n",
       "      <td>2019-12-15T20:48:00+09:00</td>\n",
       "      <td>ヴァラサバのみ落ちてますか？切断されて点検中ってなってますけど・・\\n\\t\\t\\t\\t\\t\\...</td>\n",
       "      <td>ヴァラサバのみ点検中？</td>\n",
       "      <td>https://www.ncsoft.jp/lineage2/community/linea...</td>\n",
       "      <td>648</td>\n",
       "      <td>648</td>\n",
       "      <td>29141</td>\n",
       "      <td></td>\n",
       "    </tr>\n",
       "    <tr>\n",
       "      <th>3</th>\n",
       "      <td>よるん</td>\n",
       "      <td>2019-12-15T20:48:00+09:00</td>\n",
       "      <td>ヴァラサバのみ落ちてますか？切断されて点検中ってなってますけど・・\\n\\t\\t\\t\\t\\t\\...</td>\n",
       "      <td>ヴァラサバのみ点検中？</td>\n",
       "      <td>https://www.ncsoft.jp/lineage2/community/linea...</td>\n",
       "      <td>648</td>\n",
       "      <td>648</td>\n",
       "      <td>29141</td>\n",
       "      <td></td>\n",
       "    </tr>\n",
       "    <tr>\n",
       "      <th>4</th>\n",
       "      <td>よるん</td>\n",
       "      <td>2019-12-15T20:48:00+09:00</td>\n",
       "      <td>ヴァラサバのみ落ちてますか？切断されて点検中ってなってますけど・・\\n\\t\\t\\t\\t\\t\\...</td>\n",
       "      <td>ヴァラサバのみ点検中？</td>\n",
       "      <td>https://www.ncsoft.jp/lineage2/community/linea...</td>\n",
       "      <td>648</td>\n",
       "      <td>648</td>\n",
       "      <td>29141</td>\n",
       "      <td></td>\n",
       "    </tr>\n",
       "  </tbody>\n",
       "</table>\n",
       "</div>"
      ],
      "text/plain": [
       "    author                       date  \\\n",
       "0  グンダルバウセ  2019-12-15T20:51:00+09:00   \n",
       "1  グンダルバウセ  2019-12-15T20:51:00+09:00   \n",
       "2      よるん  2019-12-15T20:48:00+09:00   \n",
       "3      よるん  2019-12-15T20:48:00+09:00   \n",
       "4      よるん  2019-12-15T20:48:00+09:00   \n",
       "\n",
       "                                             content        title  \\\n",
       "0  落ちた～～落ちた～～ヴァラ鯖落ちた～～～昔は、鯖状況ってのがあったけど・・・今は、スクリティ...   ヴァラ落ちたが、さて   \n",
       "1  落ちた～～落ちた～～ヴァラ鯖落ちた～～～昔は、鯖状況ってのがあったけど・・・今は、スクリティ...   ヴァラ落ちたが、さて   \n",
       "2  ヴァラサバのみ落ちてますか？切断されて点検中ってなってますけど・・\\n\\t\\t\\t\\t\\t\\...  ヴァラサバのみ点検中？   \n",
       "3  ヴァラサバのみ落ちてますか？切断されて点検中ってなってますけど・・\\n\\t\\t\\t\\t\\t\\...  ヴァラサバのみ点検中？   \n",
       "4  ヴァラサバのみ落ちてますか？切断されて点検中ってなってますけど・・\\n\\t\\t\\t\\t\\t\\...  ヴァラサバのみ点検中？   \n",
       "\n",
       "                                                 url  views  likes  \\\n",
       "0  https://www.ncsoft.jp/lineage2/community/linea...    423    423   \n",
       "1  https://www.ncsoft.jp/lineage2/community/linea...    423    423   \n",
       "2  https://www.ncsoft.jp/lineage2/community/linea...    648    648   \n",
       "3  https://www.ncsoft.jp/lineage2/community/linea...    648    648   \n",
       "4  https://www.ncsoft.jp/lineage2/community/linea...    648    648   \n",
       "\n",
       "   document_id curl_date  \n",
       "0        29142            \n",
       "1        29142            \n",
       "2        29141            \n",
       "3        29141            \n",
       "4        29141            "
      ]
     },
     "execution_count": 47,
     "metadata": {},
     "output_type": "execute_result"
    }
   ],
   "source": [
    "df = pd.DataFrame(doc2_list)\n",
    "\n",
    "df.fillna('', inplace=True)\n",
    "    \n",
    "print('{:,}'.format(len(df)))\n",
    "df.head()"
   ]
  },
  {
   "cell_type": "code",
   "execution_count": 48,
   "metadata": {
    "ExecuteTime": {
     "end_time": "2020-01-02T06:36:34.807835Z",
     "start_time": "2020-01-02T06:36:12.532025Z"
    }
   },
   "outputs": [],
   "source": [
    "df.to_excel('data/{}.xlsx'.format(index), index=False)"
   ]
  },
  {
   "cell_type": "code",
   "execution_count": null,
   "metadata": {},
   "outputs": [],
   "source": []
  },
  {
   "cell_type": "code",
   "execution_count": null,
   "metadata": {},
   "outputs": [],
   "source": []
  },
  {
   "cell_type": "code",
   "execution_count": null,
   "metadata": {},
   "outputs": [],
   "source": []
  },
  {
   "cell_type": "code",
   "execution_count": 60,
   "metadata": {
    "ExecuteTime": {
     "end_time": "2020-01-02T06:48:29.275349Z",
     "start_time": "2020-01-02T06:48:29.263424Z"
    }
   },
   "outputs": [],
   "source": [
    "def dump_category(index):\n",
    "    host_info = {\n",
    "        'host': 'https://corpus.ncsoft.com:9200',\n",
    "        'http_auth': 'elastic:nlplab',\n",
    "    }\n",
    "\n",
    "    utils = ElasticSearchUtils(**host_info)\n",
    "    \n",
    "    query = {\n",
    "        '_source': ['cafe_name', 'clubid']\n",
    "    }\n",
    "\n",
    "    doc_list = []\n",
    "    utils.export(index=index, result=doc_list, query=query, size=5000)\n",
    "\n",
    "    return doc_list"
   ]
  },
  {
   "cell_type": "code",
   "execution_count": 61,
   "metadata": {
    "ExecuteTime": {
     "end_time": "2020-01-02T06:50:33.699845Z",
     "start_time": "2020-01-02T06:48:30.516375Z"
    }
   },
   "outputs": [
    {
     "data": {
      "application/vnd.jupyter.widget-view+json": {
       "model_id": "bb2763fa28344d4791d59f28676e936f",
       "version_major": 2,
       "version_minor": 0
      },
      "text/plain": [
       "HBox(children=(FloatProgress(value=0.0, description='dump: crawler-bbs-naver', layout=Layout(flex='2'), max=31…"
      ]
     },
     "metadata": {},
     "output_type": "display_data"
    },
    {
     "name": "stdout",
     "output_type": "stream",
     "text": [
      "\n"
     ]
    },
    {
     "data": {
      "text/plain": [
       "3178589"
      ]
     },
     "execution_count": 61,
     "metadata": {},
     "output_type": "execute_result"
    }
   ],
   "source": [
    "category_list = dump_category(index='crawler-bbs-naver')\n",
    "\n",
    "len(category_list)"
   ]
  },
  {
   "cell_type": "code",
   "execution_count": 74,
   "metadata": {
    "ExecuteTime": {
     "end_time": "2020-01-02T06:55:48.421323Z",
     "start_time": "2020-01-02T06:55:45.117690Z"
    }
   },
   "outputs": [
    {
     "name": "stdout",
     "output_type": "stream",
     "text": [
      "3,178,589\n"
     ]
    },
    {
     "data": {
      "text/html": [
       "<div>\n",
       "<style scoped>\n",
       "    .dataframe tbody tr th:only-of-type {\n",
       "        vertical-align: middle;\n",
       "    }\n",
       "\n",
       "    .dataframe tbody tr th {\n",
       "        vertical-align: top;\n",
       "    }\n",
       "\n",
       "    .dataframe thead th {\n",
       "        text-align: right;\n",
       "    }\n",
       "</style>\n",
       "<table border=\"1\" class=\"dataframe\">\n",
       "  <thead>\n",
       "    <tr style=\"text-align: right;\">\n",
       "      <th></th>\n",
       "      <th>cafe_name</th>\n",
       "      <th>clubid</th>\n",
       "    </tr>\n",
       "  </thead>\n",
       "  <tbody>\n",
       "    <tr>\n",
       "      <th>0</th>\n",
       "      <td>고민상담카페</td>\n",
       "      <td>10577860</td>\n",
       "    </tr>\n",
       "    <tr>\n",
       "      <th>1</th>\n",
       "      <td>고민상담카페</td>\n",
       "      <td>10577860</td>\n",
       "    </tr>\n",
       "    <tr>\n",
       "      <th>2</th>\n",
       "      <td>고민상담카페</td>\n",
       "      <td>10577860</td>\n",
       "    </tr>\n",
       "    <tr>\n",
       "      <th>3</th>\n",
       "      <td>고민상담카페</td>\n",
       "      <td>10577860</td>\n",
       "    </tr>\n",
       "    <tr>\n",
       "      <th>4</th>\n",
       "      <td>고민상담카페</td>\n",
       "      <td>10577860</td>\n",
       "    </tr>\n",
       "  </tbody>\n",
       "</table>\n",
       "</div>"
      ],
      "text/plain": [
       "  cafe_name    clubid\n",
       "0    고민상담카페  10577860\n",
       "1    고민상담카페  10577860\n",
       "2    고민상담카페  10577860\n",
       "3    고민상담카페  10577860\n",
       "4    고민상담카페  10577860"
      ]
     },
     "execution_count": 74,
     "metadata": {},
     "output_type": "execute_result"
    }
   ],
   "source": [
    "df = pd.DataFrame(category_list)\n",
    "\n",
    "df.fillna('', inplace=True)\n",
    "    \n",
    "print('{:,}'.format(len(df)))\n",
    "df.head()"
   ]
  },
  {
   "cell_type": "code",
   "execution_count": 77,
   "metadata": {
    "ExecuteTime": {
     "end_time": "2020-01-02T06:56:16.450239Z",
     "start_time": "2020-01-02T06:56:15.901777Z"
    }
   },
   "outputs": [],
   "source": [
    "df['clubid'] = df['clubid'].astype('str')"
   ]
  },
  {
   "cell_type": "code",
   "execution_count": 78,
   "metadata": {
    "ExecuteTime": {
     "end_time": "2020-01-02T06:56:18.972376Z",
     "start_time": "2020-01-02T06:56:18.474525Z"
    }
   },
   "outputs": [
    {
     "data": {
      "text/html": [
       "<div>\n",
       "<style scoped>\n",
       "    .dataframe tbody tr th:only-of-type {\n",
       "        vertical-align: middle;\n",
       "    }\n",
       "\n",
       "    .dataframe tbody tr th {\n",
       "        vertical-align: top;\n",
       "    }\n",
       "\n",
       "    .dataframe thead th {\n",
       "        text-align: right;\n",
       "    }\n",
       "</style>\n",
       "<table border=\"1\" class=\"dataframe\">\n",
       "  <thead>\n",
       "    <tr style=\"text-align: right;\">\n",
       "      <th></th>\n",
       "      <th>cafe_name</th>\n",
       "      <th>clubid</th>\n",
       "      <th>0</th>\n",
       "    </tr>\n",
       "  </thead>\n",
       "  <tbody>\n",
       "    <tr>\n",
       "      <th>0</th>\n",
       "      <td></td>\n",
       "      <td></td>\n",
       "      <td>1054</td>\n",
       "    </tr>\n",
       "    <tr>\n",
       "      <th>1</th>\n",
       "      <td>::맨사::맨손톱을사랑하는사람들 / No.1 네일아트정보커뮤니티 대표카페</td>\n",
       "      <td>16402471</td>\n",
       "      <td>440</td>\n",
       "    </tr>\n",
       "    <tr>\n",
       "      <th>2</th>\n",
       "      <td>@고고캐나다 컬리지 유학후이민 자녀무상 조기유학 워킹홀리데이</td>\n",
       "      <td>18622317</td>\n",
       "      <td>20</td>\n",
       "    </tr>\n",
       "    <tr>\n",
       "      <th>3</th>\n",
       "      <td>Home Barista Club(Cafe'Espresso)</td>\n",
       "      <td>22853449</td>\n",
       "      <td>9643</td>\n",
       "    </tr>\n",
       "    <tr>\n",
       "      <th>4</th>\n",
       "      <td>No.1 네일 커뮤니티 '셀프네일 놀이터'</td>\n",
       "      <td>14196843</td>\n",
       "      <td>420</td>\n",
       "    </tr>\n",
       "    <tr>\n",
       "      <th>...</th>\n",
       "      <td>...</td>\n",
       "      <td>...</td>\n",
       "      <td>...</td>\n",
       "    </tr>\n",
       "    <tr>\n",
       "      <th>69</th>\n",
       "      <td>킹스레더</td>\n",
       "      <td>17216021</td>\n",
       "      <td>19657</td>\n",
       "    </tr>\n",
       "    <tr>\n",
       "      <th>70</th>\n",
       "      <td>풀잎문화센터/캘리그라피,천연비누,홈패션,배우기,리본공예 강좌</td>\n",
       "      <td>22852656</td>\n",
       "      <td>440</td>\n",
       "    </tr>\n",
       "    <tr>\n",
       "      <th>71</th>\n",
       "      <td>프로페셔널 바리스타 스튜디오 by GCC커피작업실</td>\n",
       "      <td>10386789</td>\n",
       "      <td>200440</td>\n",
       "    </tr>\n",
       "    <tr>\n",
       "      <th>72</th>\n",
       "      <td>해돌(해피돌싱&amp;올드싱글)재혼카페/이혼상담/양육비/상간소송</td>\n",
       "      <td>10450200</td>\n",
       "      <td>440</td>\n",
       "    </tr>\n",
       "    <tr>\n",
       "      <th>73</th>\n",
       "      <td>흥부야 재테크하자(예금/적금/보험/주식/경매/대출/가계부/CMA)</td>\n",
       "      <td>23907142</td>\n",
       "      <td>20</td>\n",
       "    </tr>\n",
       "  </tbody>\n",
       "</table>\n",
       "<p>74 rows × 3 columns</p>\n",
       "</div>"
      ],
      "text/plain": [
       "                                   cafe_name    clubid       0\n",
       "0                                                         1054\n",
       "1   ::맨사::맨손톱을사랑하는사람들 / No.1 네일아트정보커뮤니티 대표카페  16402471     440\n",
       "2          @고고캐나다 컬리지 유학후이민 자녀무상 조기유학 워킹홀리데이  18622317      20\n",
       "3           Home Barista Club(Cafe'Espresso)  22853449    9643\n",
       "4                    No.1 네일 커뮤니티 '셀프네일 놀이터'  14196843     420\n",
       "..                                       ...       ...     ...\n",
       "69                                      킹스레더  17216021   19657\n",
       "70         풀잎문화센터/캘리그라피,천연비누,홈패션,배우기,리본공예 강좌  22852656     440\n",
       "71               프로페셔널 바리스타 스튜디오 by GCC커피작업실  10386789  200440\n",
       "72           해돌(해피돌싱&올드싱글)재혼카페/이혼상담/양육비/상간소송  10450200     440\n",
       "73      흥부야 재테크하자(예금/적금/보험/주식/경매/대출/가계부/CMA)  23907142      20\n",
       "\n",
       "[74 rows x 3 columns]"
      ]
     },
     "execution_count": 78,
     "metadata": {},
     "output_type": "execute_result"
    }
   ],
   "source": [
    "category_df = df.groupby(by=['cafe_name', 'clubid']).size().to_frame().reset_index()\n",
    "\n",
    "category_df"
   ]
  },
  {
   "cell_type": "code",
   "execution_count": 79,
   "metadata": {
    "ExecuteTime": {
     "end_time": "2020-01-02T06:56:27.821052Z",
     "start_time": "2020-01-02T06:56:27.773388Z"
    }
   },
   "outputs": [],
   "source": [
    "category_df.to_excel('data/naver-bbs.category-count.xlsx', index=False)"
   ]
  },
  {
   "cell_type": "code",
   "execution_count": 81,
   "metadata": {
    "ExecuteTime": {
     "end_time": "2020-01-02T06:59:36.770905Z",
     "start_time": "2020-01-02T06:59:36.695946Z"
    }
   },
   "outputs": [
    {
     "data": {
      "text/html": [
       "<div>\n",
       "<style scoped>\n",
       "    .dataframe tbody tr th:only-of-type {\n",
       "        vertical-align: middle;\n",
       "    }\n",
       "\n",
       "    .dataframe tbody tr th {\n",
       "        vertical-align: top;\n",
       "    }\n",
       "\n",
       "    .dataframe thead th {\n",
       "        text-align: right;\n",
       "    }\n",
       "</style>\n",
       "<table border=\"1\" class=\"dataframe\">\n",
       "  <thead>\n",
       "    <tr style=\"text-align: right;\">\n",
       "      <th></th>\n",
       "      <th>cafe_name</th>\n",
       "      <th>clubid</th>\n",
       "      <th>0</th>\n",
       "    </tr>\n",
       "  </thead>\n",
       "  <tbody>\n",
       "    <tr>\n",
       "      <th>0</th>\n",
       "      <td>★ [블소 모바일] 블레이드앤소울 레볼루션 대표 공략 카페</td>\n",
       "      <td>11992273</td>\n",
       "      <td>263629</td>\n",
       "    </tr>\n",
       "    <tr>\n",
       "      <th>1</th>\n",
       "      <td>♦리니지2M 대표 공략카페♦ 모바일 리니지2 m</td>\n",
       "      <td>19494347</td>\n",
       "      <td>87684</td>\n",
       "    </tr>\n",
       "    <tr>\n",
       "      <th>2</th>\n",
       "      <td>리공카</td>\n",
       "      <td>27434888</td>\n",
       "      <td>115319</td>\n",
       "    </tr>\n",
       "    <tr>\n",
       "      <th>3</th>\n",
       "      <td>리공카 모바일 대표 공략 카페</td>\n",
       "      <td>10104140</td>\n",
       "      <td>2</td>\n",
       "    </tr>\n",
       "    <tr>\n",
       "      <th>4</th>\n",
       "      <td>리니지2 레볼루션 공식카페</td>\n",
       "      <td>28487036</td>\n",
       "      <td>200023</td>\n",
       "    </tr>\n",
       "    <tr>\n",
       "      <th>5</th>\n",
       "      <td>리니지2M 대표 공략 카페 [리공카]</td>\n",
       "      <td>10104140</td>\n",
       "      <td>60</td>\n",
       "    </tr>\n",
       "    <tr>\n",
       "      <th>6</th>\n",
       "      <td>리니지2M 대표 공략 카페 ★ [리공카]</td>\n",
       "      <td>29408321</td>\n",
       "      <td>15295</td>\n",
       "    </tr>\n",
       "    <tr>\n",
       "      <th>7</th>\n",
       "      <td>리니지2M 대표 공략 카페 ♦ LINEAGE 2 M ♦</td>\n",
       "      <td>27434888</td>\n",
       "      <td>426105</td>\n",
       "    </tr>\n",
       "    <tr>\n",
       "      <th>8</th>\n",
       "      <td>리니지M 공식카페 [군주/기사/마법사/요정/리니지M 아이템 거래]</td>\n",
       "      <td>12109688</td>\n",
       "      <td>306421</td>\n",
       "    </tr>\n",
       "    <tr>\n",
       "      <th>9</th>\n",
       "      <td>리니지M 트레이드-계정/캐릭터/아이템/다이아/거래/인벤/PC버전</td>\n",
       "      <td>13396623</td>\n",
       "      <td>152236</td>\n",
       "    </tr>\n",
       "    <tr>\n",
       "      <th>10</th>\n",
       "      <td>리지니2M 리공카</td>\n",
       "      <td>29408321</td>\n",
       "      <td>2001</td>\n",
       "    </tr>\n",
       "    <tr>\n",
       "      <th>11</th>\n",
       "      <td>모두의마블 모바일 for kakao</td>\n",
       "      <td>26203446</td>\n",
       "      <td>200430</td>\n",
       "    </tr>\n",
       "    <tr>\n",
       "      <th>12</th>\n",
       "      <td>블소레볼루션 공략카페</td>\n",
       "      <td>11992273</td>\n",
       "      <td>28497</td>\n",
       "    </tr>\n",
       "  </tbody>\n",
       "</table>\n",
       "</div>"
      ],
      "text/plain": [
       "                               cafe_name    clubid       0\n",
       "0       ★ [블소 모바일] 블레이드앤소울 레볼루션 대표 공략 카페  11992273  263629\n",
       "1             ♦리니지2M 대표 공략카페♦ 모바일 리니지2 m  19494347   87684\n",
       "2                                    리공카  27434888  115319\n",
       "3                       리공카 모바일 대표 공략 카페  10104140       2\n",
       "4                         리니지2 레볼루션 공식카페  28487036  200023\n",
       "5                   리니지2M 대표 공략 카페 [리공카]  10104140      60\n",
       "6                 리니지2M 대표 공략 카페 ★ [리공카]  29408321   15295\n",
       "7         리니지2M 대표 공략 카페 ♦ LINEAGE 2 M ♦  27434888  426105\n",
       "8   리니지M 공식카페 [군주/기사/마법사/요정/리니지M 아이템 거래]  12109688  306421\n",
       "9    리니지M 트레이드-계정/캐릭터/아이템/다이아/거래/인벤/PC버전  13396623  152236\n",
       "10                             리지니2M 리공카  29408321    2001\n",
       "11                   모두의마블 모바일 for kakao  26203446  200430\n",
       "12                           블소레볼루션 공략카페  11992273   28497"
      ]
     },
     "execution_count": 81,
     "metadata": {},
     "output_type": "execute_result"
    }
   ],
   "source": [
    "category_df = pd.read_excel('data/naver-bbs.category-count.xlsx')\n",
    "\n",
    "category_df"
   ]
  },
  {
   "cell_type": "code",
   "execution_count": 84,
   "metadata": {
    "ExecuteTime": {
     "end_time": "2020-01-02T07:03:31.364150Z",
     "start_time": "2020-01-02T07:03:31.352757Z"
    }
   },
   "outputs": [],
   "source": [
    "def dump_bbs(index, club_id):\n",
    "    host_info = {\n",
    "        'host': 'https://corpus.ncsoft.com:9200',\n",
    "        'http_auth': 'elastic:nlplab',\n",
    "    }\n",
    "\n",
    "    utils = ElasticSearchUtils(**host_info)\n",
    "    \n",
    "    query = {\n",
    "        'query': {\n",
    "            'match':{\n",
    "                'clubid': club_id\n",
    "            }            \n",
    "        }\n",
    "    }\n",
    "\n",
    "    doc_list = []\n",
    "    utils.export(index=index, result=doc_list, query=query, size=1000)\n",
    "\n",
    "    return doc_list"
   ]
  },
  {
   "cell_type": "code",
   "execution_count": 101,
   "metadata": {
    "ExecuteTime": {
     "end_time": "2020-01-02T08:02:29.426241Z",
     "start_time": "2020-01-02T07:54:50.532327Z"
    }
   },
   "outputs": [
    {
     "data": {
      "application/vnd.jupyter.widget-view+json": {
       "model_id": "e5e0d0d3211f4c39863665184c7eaafe",
       "version_major": 2,
       "version_minor": 0
      },
      "text/plain": [
       "HBox(children=(FloatProgress(value=0.0, description='dump: crawler-bbs-naver', layout=Layout(flex='2'), max=29…"
      ]
     },
     "metadata": {},
     "output_type": "display_data"
    },
    {
     "name": "stdout",
     "output_type": "stream",
     "text": [
      "\n",
      "11992273 7630\n",
      "7,630\n"
     ]
    },
    {
     "data": {
      "application/vnd.jupyter.widget-view+json": {
       "model_id": "a3845c12be0c4c8396b3bb23bd911c7e",
       "version_major": 2,
       "version_minor": 0
      },
      "text/plain": [
       "HBox(children=(FloatProgress(value=0.0, description='dump: crawler-bbs-naver', layout=Layout(flex='2'), max=87…"
      ]
     },
     "metadata": {},
     "output_type": "display_data"
    },
    {
     "name": "stdout",
     "output_type": "stream",
     "text": [
      "\n",
      "19494347 2\n",
      "2\n"
     ]
    },
    {
     "data": {
      "application/vnd.jupyter.widget-view+json": {
       "model_id": "c40c287b85484c4f949e5a205ad5b55f",
       "version_major": 2,
       "version_minor": 0
      },
      "text/plain": [
       "HBox(children=(FloatProgress(value=0.0, description='dump: crawler-bbs-naver', layout=Layout(flex='2'), max=55…"
      ]
     },
     "metadata": {},
     "output_type": "display_data"
    },
    {
     "name": "stdout",
     "output_type": "stream",
     "text": [
      "\n",
      "27434888 1083885\n",
      "1,083,885\n"
     ]
    },
    {
     "data": {
      "application/vnd.jupyter.widget-view+json": {
       "model_id": "70a99d9da6364c50be1beeefc7dff8d8",
       "version_major": 2,
       "version_minor": 0
      },
      "text/plain": [
       "HBox(children=(FloatProgress(value=0.0, description='dump: crawler-bbs-naver', layout=Layout(flex='2'), max=62…"
      ]
     },
     "metadata": {},
     "output_type": "display_data"
    },
    {
     "name": "stdout",
     "output_type": "stream",
     "text": [
      "\n",
      "10104140 3\n",
      "3\n"
     ]
    },
    {
     "data": {
      "application/vnd.jupyter.widget-view+json": {
       "model_id": "2f05d931f2104b7d82a547c8a5a6a2a1",
       "version_major": 2,
       "version_minor": 0
      },
      "text/plain": [
       "HBox(children=(FloatProgress(value=0.0, description='dump: crawler-bbs-naver', layout=Layout(flex='2'), max=20…"
      ]
     },
     "metadata": {},
     "output_type": "display_data"
    },
    {
     "name": "stdout",
     "output_type": "stream",
     "text": [
      "\n",
      "28487036 0\n",
      "0\n"
     ]
    },
    {
     "data": {
      "application/vnd.jupyter.widget-view+json": {
       "model_id": "80f6e05ac4d649d38388796d004eed06",
       "version_major": 2,
       "version_minor": 0
      },
      "text/plain": [
       "HBox(children=(FloatProgress(value=0.0, description='dump: crawler-bbs-naver', layout=Layout(flex='2'), max=62…"
      ]
     },
     "metadata": {},
     "output_type": "display_data"
    },
    {
     "name": "stdout",
     "output_type": "stream",
     "text": [
      "\n",
      "10104140 3\n",
      "3\n"
     ]
    },
    {
     "data": {
      "application/vnd.jupyter.widget-view+json": {
       "model_id": "719fcb52556c4d34b9f428bdd27b3ba3",
       "version_major": 2,
       "version_minor": 0
      },
      "text/plain": [
       "HBox(children=(FloatProgress(value=0.0, description='dump: crawler-bbs-naver', layout=Layout(flex='2'), max=17…"
      ]
     },
     "metadata": {},
     "output_type": "display_data"
    },
    {
     "name": "stdout",
     "output_type": "stream",
     "text": [
      "\n",
      "29408321 1558\n",
      "1,558\n"
     ]
    },
    {
     "data": {
      "application/vnd.jupyter.widget-view+json": {
       "model_id": "f56620cc15744f4582dd0c750f3400fd",
       "version_major": 2,
       "version_minor": 0
      },
      "text/plain": [
       "HBox(children=(FloatProgress(value=0.0, description='dump: crawler-bbs-naver', layout=Layout(flex='2'), max=55…"
      ]
     },
     "metadata": {},
     "output_type": "display_data"
    },
    {
     "name": "stdout",
     "output_type": "stream",
     "text": [
      "\n",
      "27434888 1084090\n",
      "1,084,090\n"
     ]
    },
    {
     "data": {
      "application/vnd.jupyter.widget-view+json": {
       "model_id": "5bfc41319dac4014bd615e52920ad212",
       "version_major": 2,
       "version_minor": 0
      },
      "text/plain": [
       "HBox(children=(FloatProgress(value=0.0, description='dump: crawler-bbs-naver', layout=Layout(flex='2'), max=30…"
      ]
     },
     "metadata": {},
     "output_type": "display_data"
    },
    {
     "name": "stdout",
     "output_type": "stream",
     "text": [
      "\n",
      "12109688 0\n",
      "0\n"
     ]
    },
    {
     "data": {
      "application/vnd.jupyter.widget-view+json": {
       "model_id": "10d75339c2d54e03a92ef515d7c9acc2",
       "version_major": 2,
       "version_minor": 0
      },
      "text/plain": [
       "HBox(children=(FloatProgress(value=0.0, description='dump: crawler-bbs-naver', layout=Layout(flex='2'), max=15…"
      ]
     },
     "metadata": {},
     "output_type": "display_data"
    },
    {
     "name": "stdout",
     "output_type": "stream",
     "text": [
      "\n",
      "13396623 0\n",
      "0\n"
     ]
    },
    {
     "data": {
      "application/vnd.jupyter.widget-view+json": {
       "model_id": "ed8c9c679cb54042ac8c5a135f4ef78a",
       "version_major": 2,
       "version_minor": 0
      },
      "text/plain": [
       "HBox(children=(FloatProgress(value=0.0, description='dump: crawler-bbs-naver', layout=Layout(flex='2'), max=17…"
      ]
     },
     "metadata": {},
     "output_type": "display_data"
    },
    {
     "name": "stdout",
     "output_type": "stream",
     "text": [
      "\n",
      "29408321 1558\n",
      "1,558\n"
     ]
    },
    {
     "data": {
      "application/vnd.jupyter.widget-view+json": {
       "model_id": "57df7e65ce0941b7b651c4b5e4552b62",
       "version_major": 2,
       "version_minor": 0
      },
      "text/plain": [
       "HBox(children=(FloatProgress(value=0.0, description='dump: crawler-bbs-naver', layout=Layout(flex='2'), max=20…"
      ]
     },
     "metadata": {},
     "output_type": "display_data"
    },
    {
     "name": "stdout",
     "output_type": "stream",
     "text": [
      "\n",
      "26203446 0\n",
      "0\n"
     ]
    },
    {
     "data": {
      "application/vnd.jupyter.widget-view+json": {
       "model_id": "4614450a36a34d09ab512e90def15992",
       "version_major": 2,
       "version_minor": 0
      },
      "text/plain": [
       "HBox(children=(FloatProgress(value=0.0, description='dump: crawler-bbs-naver', layout=Layout(flex='2'), max=29…"
      ]
     },
     "metadata": {},
     "output_type": "display_data"
    },
    {
     "name": "stdout",
     "output_type": "stream",
     "text": [
      "\n",
      "11992273 7630\n",
      "7,630\n"
     ]
    }
   ],
   "source": [
    "for i, row in category_df.iterrows():\n",
    "    doc_list = dump_bbs(index=index, club_id=row['clubid'])\n",
    "    \n",
    "    doc2_list = flatten(doc_list=doc_list, column='reply_list')\n",
    "    print(row['clubid'], len(doc2_list))\n",
    "    \n",
    "    df = pd.DataFrame(doc2_list)\n",
    "\n",
    "    df.fillna('', inplace=True)\n",
    "\n",
    "    df.to_json(\n",
    "        'data/naver-bbs.{}.json.bz2'.format(row['clubid']),\n",
    "        force_ascii=False,\n",
    "        compression='bz2',\n",
    "        orient='records',\n",
    "        lines=True,\n",
    "    )    "
   ]
  },
  {
   "cell_type": "code",
   "execution_count": 102,
   "metadata": {
    "ExecuteTime": {
     "end_time": "2020-01-02T08:08:28.059748Z",
     "start_time": "2020-01-02T08:07:42.473767Z"
    }
   },
   "outputs": [
    {
     "data": {
      "application/vnd.jupyter.widget-view+json": {
       "model_id": "2aea2de415694a35941d34f38b92e11b",
       "version_major": 2,
       "version_minor": 0
      },
      "text/plain": [
       "HBox(children=(FloatProgress(value=0.0, description='dump: crawler-bbs-naver', layout=Layout(flex='2'), max=55…"
      ]
     },
     "metadata": {},
     "output_type": "display_data"
    },
    {
     "name": "stdout",
     "output_type": "stream",
     "text": [
      "\n"
     ]
    },
    {
     "data": {
      "text/plain": [
       "559464"
      ]
     },
     "execution_count": 102,
     "metadata": {},
     "output_type": "execute_result"
    }
   ],
   "source": [
    "index = 'crawler-bbs-naver'\n",
    "\n",
    "doc_list = dump_bbs(index=index, club_id='27434888')\n",
    "len(doc_list)"
   ]
  },
  {
   "cell_type": "code",
   "execution_count": 103,
   "metadata": {
    "ExecuteTime": {
     "end_time": "2020-01-02T08:08:29.504759Z",
     "start_time": "2020-01-02T08:08:28.064005Z"
    }
   },
   "outputs": [
    {
     "data": {
      "text/plain": [
       "1084442"
      ]
     },
     "execution_count": 103,
     "metadata": {},
     "output_type": "execute_result"
    }
   ],
   "source": [
    "doc2_list = flatten(doc_list=doc_list, column='reply_list')\n",
    "len(doc2_list)"
   ]
  },
  {
   "cell_type": "code",
   "execution_count": 104,
   "metadata": {
    "ExecuteTime": {
     "end_time": "2020-01-02T08:08:34.100939Z",
     "start_time": "2020-01-02T08:08:29.506523Z"
    },
    "scrolled": true
   },
   "outputs": [
    {
     "name": "stdout",
     "output_type": "stream",
     "text": [
      "1,084,442\n"
     ]
    },
    {
     "data": {
      "text/html": [
       "<div>\n",
       "<style scoped>\n",
       "    .dataframe tbody tr th:only-of-type {\n",
       "        vertical-align: middle;\n",
       "    }\n",
       "\n",
       "    .dataframe tbody tr th {\n",
       "        vertical-align: top;\n",
       "    }\n",
       "\n",
       "    .dataframe thead th {\n",
       "        text-align: right;\n",
       "    }\n",
       "</style>\n",
       "<table border=\"1\" class=\"dataframe\">\n",
       "  <thead>\n",
       "    <tr style=\"text-align: right;\">\n",
       "      <th></th>\n",
       "      <th>date</th>\n",
       "      <th>nick</th>\n",
       "      <th>image</th>\n",
       "      <th>reply_to</th>\n",
       "      <th>text</th>\n",
       "      <th>class</th>\n",
       "      <th>title</th>\n",
       "      <th>view_count</th>\n",
       "      <th>reply_count</th>\n",
       "      <th>url</th>\n",
       "      <th>clubid</th>\n",
       "      <th>articleid</th>\n",
       "      <th>cafe_name</th>\n",
       "      <th>curl_date</th>\n",
       "      <th>document_id</th>\n",
       "      <th>content</th>\n",
       "      <th>bbs_name</th>\n",
       "      <th>replay_count</th>\n",
       "    </tr>\n",
       "  </thead>\n",
       "  <tbody>\n",
       "    <tr>\n",
       "      <th>0</th>\n",
       "      <td>2018-04-30T22:41:00+09:00</td>\n",
       "      <td>여름빛</td>\n",
       "      <td>[https://mcafethumb-phinf.pstatic.net/MjAxODA0...</td>\n",
       "      <td></td>\n",
       "      <td>들어볼게요!</td>\n",
       "      <td>comment</td>\n",
       "      <td>오늘의 추천곡 #162_Chase Me</td>\n",
       "      <td>54</td>\n",
       "      <td>7</td>\n",
       "      <td>https://m.cafe.naver.com/ArticleRead.nhn?clubi...</td>\n",
       "      <td>27434888</td>\n",
       "      <td>750629</td>\n",
       "      <td>리공카</td>\n",
       "      <td>2019-12-24T21:19:23.116369+09:00</td>\n",
       "      <td>27434888-750629</td>\n",
       "      <td>오늘의 추천곡 #162ㄷㄹㅋㅊ 'Chase Me'제가 정말 좋아하는 스타일이면서,한...</td>\n",
       "      <td>.</td>\n",
       "      <td></td>\n",
       "    </tr>\n",
       "    <tr>\n",
       "      <th>1</th>\n",
       "      <td>2018-04-30T22:41:00+09:00</td>\n",
       "      <td>여름빛</td>\n",
       "      <td>[https://mcafethumb-phinf.pstatic.net/MjAxODA0...</td>\n",
       "      <td></td>\n",
       "      <td>ㄷㄹㅋㅊ분들은 다 좋으신데 인지도가 부족하더라구요ㅠ</td>\n",
       "      <td>comment</td>\n",
       "      <td>오늘의 추천곡 #162_Chase Me</td>\n",
       "      <td>54</td>\n",
       "      <td>7</td>\n",
       "      <td>https://m.cafe.naver.com/ArticleRead.nhn?clubi...</td>\n",
       "      <td>27434888</td>\n",
       "      <td>750629</td>\n",
       "      <td>리공카</td>\n",
       "      <td>2019-12-24T21:19:23.116369+09:00</td>\n",
       "      <td>27434888-750629</td>\n",
       "      <td>오늘의 추천곡 #162ㄷㄹㅋㅊ 'Chase Me'제가 정말 좋아하는 스타일이면서,한...</td>\n",
       "      <td>.</td>\n",
       "      <td></td>\n",
       "    </tr>\n",
       "    <tr>\n",
       "      <th>2</th>\n",
       "      <td>2018-04-30T22:41:00+09:00</td>\n",
       "      <td>여름빛</td>\n",
       "      <td>[https://mcafethumb-phinf.pstatic.net/MjAxODA0...</td>\n",
       "      <td></td>\n",
       "      <td>들어볼게용~!!</td>\n",
       "      <td>comment</td>\n",
       "      <td>오늘의 추천곡 #162_Chase Me</td>\n",
       "      <td>54</td>\n",
       "      <td>7</td>\n",
       "      <td>https://m.cafe.naver.com/ArticleRead.nhn?clubi...</td>\n",
       "      <td>27434888</td>\n",
       "      <td>750629</td>\n",
       "      <td>리공카</td>\n",
       "      <td>2019-12-24T21:19:23.116369+09:00</td>\n",
       "      <td>27434888-750629</td>\n",
       "      <td>오늘의 추천곡 #162ㄷㄹㅋㅊ 'Chase Me'제가 정말 좋아하는 스타일이면서,한...</td>\n",
       "      <td>.</td>\n",
       "      <td></td>\n",
       "    </tr>\n",
       "    <tr>\n",
       "      <th>3</th>\n",
       "      <td>2018-04-30T22:41:00+09:00</td>\n",
       "      <td>여름빛</td>\n",
       "      <td>[https://mcafethumb-phinf.pstatic.net/MjAxODA0...</td>\n",
       "      <td></td>\n",
       "      <td>들어볼게요~~</td>\n",
       "      <td>comment</td>\n",
       "      <td>오늘의 추천곡 #162_Chase Me</td>\n",
       "      <td>54</td>\n",
       "      <td>7</td>\n",
       "      <td>https://m.cafe.naver.com/ArticleRead.nhn?clubi...</td>\n",
       "      <td>27434888</td>\n",
       "      <td>750629</td>\n",
       "      <td>리공카</td>\n",
       "      <td>2019-12-24T21:19:23.116369+09:00</td>\n",
       "      <td>27434888-750629</td>\n",
       "      <td>오늘의 추천곡 #162ㄷㄹㅋㅊ 'Chase Me'제가 정말 좋아하는 스타일이면서,한...</td>\n",
       "      <td>.</td>\n",
       "      <td></td>\n",
       "    </tr>\n",
       "    <tr>\n",
       "      <th>4</th>\n",
       "      <td>2018-04-30T22:41:00+09:00</td>\n",
       "      <td>여름빛</td>\n",
       "      <td>[https://mcafethumb-phinf.pstatic.net/MjAxODA0...</td>\n",
       "      <td></td>\n",
       "      <td>ㅍㅍㅇㅇ에 수록되어 있어서 들어봤는데 진짜 좋은 곡이더라구요!</td>\n",
       "      <td>comment</td>\n",
       "      <td>오늘의 추천곡 #162_Chase Me</td>\n",
       "      <td>54</td>\n",
       "      <td>7</td>\n",
       "      <td>https://m.cafe.naver.com/ArticleRead.nhn?clubi...</td>\n",
       "      <td>27434888</td>\n",
       "      <td>750629</td>\n",
       "      <td>리공카</td>\n",
       "      <td>2019-12-24T21:19:23.116369+09:00</td>\n",
       "      <td>27434888-750629</td>\n",
       "      <td>오늘의 추천곡 #162ㄷㄹㅋㅊ 'Chase Me'제가 정말 좋아하는 스타일이면서,한...</td>\n",
       "      <td>.</td>\n",
       "      <td></td>\n",
       "    </tr>\n",
       "  </tbody>\n",
       "</table>\n",
       "</div>"
      ],
      "text/plain": [
       "                        date nick  \\\n",
       "0  2018-04-30T22:41:00+09:00  여름빛   \n",
       "1  2018-04-30T22:41:00+09:00  여름빛   \n",
       "2  2018-04-30T22:41:00+09:00  여름빛   \n",
       "3  2018-04-30T22:41:00+09:00  여름빛   \n",
       "4  2018-04-30T22:41:00+09:00  여름빛   \n",
       "\n",
       "                                               image reply_to  \\\n",
       "0  [https://mcafethumb-phinf.pstatic.net/MjAxODA0...            \n",
       "1  [https://mcafethumb-phinf.pstatic.net/MjAxODA0...            \n",
       "2  [https://mcafethumb-phinf.pstatic.net/MjAxODA0...            \n",
       "3  [https://mcafethumb-phinf.pstatic.net/MjAxODA0...            \n",
       "4  [https://mcafethumb-phinf.pstatic.net/MjAxODA0...            \n",
       "\n",
       "                                 text    class                  title  \\\n",
       "0                              들어볼게요!  comment  오늘의 추천곡 #162_Chase Me   \n",
       "1        ㄷㄹㅋㅊ분들은 다 좋으신데 인지도가 부족하더라구요ㅠ  comment  오늘의 추천곡 #162_Chase Me   \n",
       "2                            들어볼게용~!!  comment  오늘의 추천곡 #162_Chase Me   \n",
       "3                             들어볼게요~~  comment  오늘의 추천곡 #162_Chase Me   \n",
       "4  ㅍㅍㅇㅇ에 수록되어 있어서 들어봤는데 진짜 좋은 곡이더라구요!  comment  오늘의 추천곡 #162_Chase Me   \n",
       "\n",
       "  view_count reply_count                                                url  \\\n",
       "0         54           7  https://m.cafe.naver.com/ArticleRead.nhn?clubi...   \n",
       "1         54           7  https://m.cafe.naver.com/ArticleRead.nhn?clubi...   \n",
       "2         54           7  https://m.cafe.naver.com/ArticleRead.nhn?clubi...   \n",
       "3         54           7  https://m.cafe.naver.com/ArticleRead.nhn?clubi...   \n",
       "4         54           7  https://m.cafe.naver.com/ArticleRead.nhn?clubi...   \n",
       "\n",
       "     clubid articleid cafe_name                         curl_date  \\\n",
       "0  27434888    750629       리공카  2019-12-24T21:19:23.116369+09:00   \n",
       "1  27434888    750629       리공카  2019-12-24T21:19:23.116369+09:00   \n",
       "2  27434888    750629       리공카  2019-12-24T21:19:23.116369+09:00   \n",
       "3  27434888    750629       리공카  2019-12-24T21:19:23.116369+09:00   \n",
       "4  27434888    750629       리공카  2019-12-24T21:19:23.116369+09:00   \n",
       "\n",
       "       document_id                                            content  \\\n",
       "0  27434888-750629  오늘의 추천곡 #162ㄷㄹㅋㅊ 'Chase Me'제가 정말 좋아하는 스타일이면서,한...   \n",
       "1  27434888-750629  오늘의 추천곡 #162ㄷㄹㅋㅊ 'Chase Me'제가 정말 좋아하는 스타일이면서,한...   \n",
       "2  27434888-750629  오늘의 추천곡 #162ㄷㄹㅋㅊ 'Chase Me'제가 정말 좋아하는 스타일이면서,한...   \n",
       "3  27434888-750629  오늘의 추천곡 #162ㄷㄹㅋㅊ 'Chase Me'제가 정말 좋아하는 스타일이면서,한...   \n",
       "4  27434888-750629  오늘의 추천곡 #162ㄷㄹㅋㅊ 'Chase Me'제가 정말 좋아하는 스타일이면서,한...   \n",
       "\n",
       "  bbs_name replay_count  \n",
       "0        .               \n",
       "1        .               \n",
       "2        .               \n",
       "3        .               \n",
       "4        .               "
      ]
     },
     "execution_count": 104,
     "metadata": {},
     "output_type": "execute_result"
    }
   ],
   "source": [
    "df = pd.DataFrame(doc2_list)\n",
    "\n",
    "df.fillna('', inplace=True)\n",
    "    \n",
    "print('{:,}'.format(len(df)))\n",
    "df.head()"
   ]
  },
  {
   "cell_type": "code",
   "execution_count": 93,
   "metadata": {
    "ExecuteTime": {
     "end_time": "2020-01-02T07:34:52.968933Z",
     "start_time": "2020-01-02T07:34:52.821960Z"
    },
    "scrolled": true
   },
   "outputs": [
    {
     "data": {
      "text/html": [
       "<div>\n",
       "<style scoped>\n",
       "    .dataframe tbody tr th:only-of-type {\n",
       "        vertical-align: middle;\n",
       "    }\n",
       "\n",
       "    .dataframe tbody tr th {\n",
       "        vertical-align: top;\n",
       "    }\n",
       "\n",
       "    .dataframe thead th {\n",
       "        text-align: right;\n",
       "    }\n",
       "</style>\n",
       "<table border=\"1\" class=\"dataframe\">\n",
       "  <thead>\n",
       "    <tr style=\"text-align: right;\">\n",
       "      <th></th>\n",
       "      <th>title</th>\n",
       "      <th>nick</th>\n",
       "      <th>view_count</th>\n",
       "      <th>reply_count</th>\n",
       "      <th>url</th>\n",
       "      <th>date</th>\n",
       "      <th>clubid</th>\n",
       "      <th>articleid</th>\n",
       "      <th>cafe_name</th>\n",
       "      <th>curl_date</th>\n",
       "      <th>document_id</th>\n",
       "      <th>image</th>\n",
       "      <th>content</th>\n",
       "      <th>html_content</th>\n",
       "      <th>reply_list</th>\n",
       "      <th>bbs_name</th>\n",
       "      <th>replay_count</th>\n",
       "    </tr>\n",
       "  </thead>\n",
       "  <tbody>\n",
       "    <tr>\n",
       "      <th>160</th>\n",
       "      <td>오늘의 추천곡 #162_Chase Me</td>\n",
       "      <td>여름빛</td>\n",
       "      <td>54</td>\n",
       "      <td>7</td>\n",
       "      <td>https://m.cafe.naver.com/ArticleRead.nhn?clubi...</td>\n",
       "      <td>2018-04-30T22:41:00+09:00</td>\n",
       "      <td>27434888</td>\n",
       "      <td>750629</td>\n",
       "      <td>리공카</td>\n",
       "      <td>2019-12-24T21:19:23.116369+09:00</td>\n",
       "      <td>27434888-750629</td>\n",
       "      <td>[https://mcafethumb-phinf.pstatic.net/MjAxODA0...</td>\n",
       "      <td>오늘의 추천곡 #162ㄷㄹㅋㅊ 'Chase Me'제가 정말 좋아하는 스타일이면서,한...</td>\n",
       "      <td>&lt;div class=\"post_cont font_zoom1\" id=\"postCont...</td>\n",
       "      <td>[{'date': '2018-04-30T22:42:00+09:00', 'nick':...</td>\n",
       "      <td>.</td>\n",
       "      <td></td>\n",
       "    </tr>\n",
       "    <tr>\n",
       "      <th>161</th>\n",
       "      <td>출석수3000</td>\n",
       "      <td>콜롬비아나 아이린</td>\n",
       "      <td>60</td>\n",
       "      <td>54</td>\n",
       "      <td>https://m.cafe.naver.com/ArticleRead.nhn?clubi...</td>\n",
       "      <td>2018-04-30T22:40:00+09:00</td>\n",
       "      <td>27434888</td>\n",
       "      <td>750628</td>\n",
       "      <td>리공카</td>\n",
       "      <td>2019-12-24T21:19:28.610277+09:00</td>\n",
       "      <td>27434888-750628</td>\n",
       "      <td>[https://mcafethumb-phinf.pstatic.net/MjAxODA0...</td>\n",
       "      <td>어찌하다보니 출석수 3000이조금넘었네요 목표가있다면 5자리까지가고싶네요ㅎ</td>\n",
       "      <td>&lt;div class=\"post_cont font_zoom1\" id=\"postCont...</td>\n",
       "      <td>[{'date': '2018-04-30T22:40:00+09:00', 'nick':...</td>\n",
       "      <td>.</td>\n",
       "      <td></td>\n",
       "    </tr>\n",
       "    <tr>\n",
       "      <th>162</th>\n",
       "      <td>[벨나잇]\\n\\n                        \\n           ...</td>\n",
       "      <td>러브배주현</td>\n",
       "      <td>13</td>\n",
       "      <td>24</td>\n",
       "      <td>https://m.cafe.naver.com/ArticleRead.nhn?clubi...</td>\n",
       "      <td>2018-04-30T22:44:00+09:00</td>\n",
       "      <td>27434888</td>\n",
       "      <td>750631</td>\n",
       "      <td>리공카</td>\n",
       "      <td>2019-12-24T21:19:17.660953+09:00</td>\n",
       "      <td>27434888-750631</td>\n",
       "      <td>[]</td>\n",
       "      <td>좋은꿈꾸세여~벨나있!</td>\n",
       "      <td>&lt;div class=\"post_cont font_zoom1\" id=\"postCont...</td>\n",
       "      <td>[{'date': '2018-04-30T22:45:00+09:00', 'nick':...</td>\n",
       "      <td>t</td>\n",
       "      <td></td>\n",
       "    </tr>\n",
       "    <tr>\n",
       "      <th>163</th>\n",
       "      <td>[장편팬픽]\\n\\n                        \\n          ...</td>\n",
       "      <td>levelupforyou</td>\n",
       "      <td>29</td>\n",
       "      <td>0</td>\n",
       "      <td>https://m.cafe.naver.com/ArticleRead.nhn?clubi...</td>\n",
       "      <td>2030-04-18T00:00:00+09:00</td>\n",
       "      <td>27434888</td>\n",
       "      <td>750627</td>\n",
       "      <td>리공카</td>\n",
       "      <td>2019-12-24T21:19:33.786842+09:00</td>\n",
       "      <td>27434888-750627</td>\n",
       "      <td>[]</td>\n",
       "      <td></td>\n",
       "      <td></td>\n",
       "      <td>[]</td>\n",
       "      <td></td>\n",
       "      <td></td>\n",
       "    </tr>\n",
       "    <tr>\n",
       "      <th>244</th>\n",
       "      <td>[벨모닝]\\n\\n                        \\n           ...</td>\n",
       "      <td>레사벨벳</td>\n",
       "      <td>21</td>\n",
       "      <td>7</td>\n",
       "      <td>https://m.cafe.naver.com/ArticleRead.nhn?clubi...</td>\n",
       "      <td>2018-04-30T09:36:00+09:00</td>\n",
       "      <td>27434888</td>\n",
       "      <td>750193</td>\n",
       "      <td>리공카</td>\n",
       "      <td>2019-12-24T21:25:05.083096+09:00</td>\n",
       "      <td>27434888-750193</td>\n",
       "      <td>[https://mcafethumb-phinf.pstatic.net/MjAxODA0...</td>\n",
       "      <td>이 날씨에 감기가 심하게 걸려 출근은 쉬내요 ㅋㅋ 좋은건진 안좋은건지 ㅎㅎ 그래도 ...</td>\n",
       "      <td>&lt;div class=\"post_cont font_zoom1\" id=\"postCont...</td>\n",
       "      <td>[{'date': '2018-04-30T09:42:00+09:00', 'nick':...</td>\n",
       "      <td>t</td>\n",
       "      <td></td>\n",
       "    </tr>\n",
       "    <tr>\n",
       "      <th>...</th>\n",
       "      <td>...</td>\n",
       "      <td>...</td>\n",
       "      <td>...</td>\n",
       "      <td>...</td>\n",
       "      <td>...</td>\n",
       "      <td>...</td>\n",
       "      <td>...</td>\n",
       "      <td>...</td>\n",
       "      <td>...</td>\n",
       "      <td>...</td>\n",
       "      <td>...</td>\n",
       "      <td>...</td>\n",
       "      <td>...</td>\n",
       "      <td>...</td>\n",
       "      <td>...</td>\n",
       "      <td>...</td>\n",
       "      <td>...</td>\n",
       "    </tr>\n",
       "    <tr>\n",
       "      <th>545499</th>\n",
       "      <td>레드벨벳 아이린 무보정 사진 모음 3</td>\n",
       "      <td>가나다레드벨벳</td>\n",
       "      <td>127</td>\n",
       "      <td>1</td>\n",
       "      <td>https://m.cafe.naver.com/ArticleRead.nhn?clubi...</td>\n",
       "      <td>2016-12-30T13:22:00+09:00</td>\n",
       "      <td>27434888</td>\n",
       "      <td>214106</td>\n",
       "      <td>리니지2M 대표 공략 카페 ♦ LINEAGE 2 M ♦</td>\n",
       "      <td>2020-01-02T16:04:38.681050+09:00</td>\n",
       "      <td>27434888-214106</td>\n",
       "      <td>[https://dthumb-phinf.pstatic.net/?src=%22http...</td>\n",
       "      <td>레드벨벳 아이린 무보정 사진 모음 3\\n    레드벨벳 아이린 무보정 사진 공유해요...</td>\n",
       "      <td>&lt;div class=\"post_cont font_zoom1\" id=\"postCont...</td>\n",
       "      <td>[{'date': '2017-01-15T15:08:00+09:00', 'nick':...</td>\n",
       "      <td>.</td>\n",
       "      <td></td>\n",
       "    </tr>\n",
       "    <tr>\n",
       "      <th>545500</th>\n",
       "      <td>지렁이 게임인가 그거 하고 있는데</td>\n",
       "      <td>오늘도 웬디</td>\n",
       "      <td>15</td>\n",
       "      <td>3</td>\n",
       "      <td>https://m.cafe.naver.com/ArticleRead.nhn?clubi...</td>\n",
       "      <td>2016-12-30T13:21:00+09:00</td>\n",
       "      <td>27434888</td>\n",
       "      <td>214105</td>\n",
       "      <td>리니지2M 대표 공략 카페 ♦ LINEAGE 2 M ♦</td>\n",
       "      <td>2020-01-02T16:04:44.321828+09:00</td>\n",
       "      <td>27434888-214105</td>\n",
       "      <td>[]</td>\n",
       "      <td>닉넴이WENDY라고 적혀있었어요ㅋㅋㅋㅋ괜히 기분 좋았어요ㅋㅋ</td>\n",
       "      <td>&lt;div class=\"post_cont font_zoom1\" id=\"postCont...</td>\n",
       "      <td>[{'date': '2016-12-30T13:22:00+09:00', 'nick':...</td>\n",
       "      <td>.</td>\n",
       "      <td></td>\n",
       "    </tr>\n",
       "    <tr>\n",
       "      <th>545501</th>\n",
       "      <td>레흥돋 타임</td>\n",
       "      <td>오늘도 웬디</td>\n",
       "      <td>19</td>\n",
       "      <td>3</td>\n",
       "      <td>https://m.cafe.naver.com/ArticleRead.nhn?clubi...</td>\n",
       "      <td>2030-12-16T00:00:00+09:00</td>\n",
       "      <td>27434888</td>\n",
       "      <td>214107</td>\n",
       "      <td>리니지2M 대표 공략 카페 ♦ LINEAGE 2 M ♦</td>\n",
       "      <td>2020-01-02T16:04:32.755727+09:00</td>\n",
       "      <td>27434888-214107</td>\n",
       "      <td>[]</td>\n",
       "      <td></td>\n",
       "      <td></td>\n",
       "      <td>[]</td>\n",
       "      <td></td>\n",
       "      <td></td>\n",
       "    </tr>\n",
       "    <tr>\n",
       "      <th>545542</th>\n",
       "      <td>맛점되세용</td>\n",
       "      <td>멤버다</td>\n",
       "      <td>18</td>\n",
       "      <td>18</td>\n",
       "      <td>https://m.cafe.naver.com/ArticleRead.nhn?clubi...</td>\n",
       "      <td>2016-12-30T12:53:00+09:00</td>\n",
       "      <td>27434888</td>\n",
       "      <td>214085</td>\n",
       "      <td>리니지2M 대표 공략 카페 ♦ LINEAGE 2 M ♦</td>\n",
       "      <td>2020-01-02T16:06:33.551086+09:00</td>\n",
       "      <td>27434888-214085</td>\n",
       "      <td>[https://mcafethumb-phinf.pstatic.net/MjAxNjEy...</td>\n",
       "      <td></td>\n",
       "      <td>&lt;div class=\"post_cont font_zoom1\" id=\"postCont...</td>\n",
       "      <td>[{'date': '2016-12-30T12:53:00+09:00', 'nick':...</td>\n",
       "      <td>.</td>\n",
       "      <td></td>\n",
       "    </tr>\n",
       "    <tr>\n",
       "      <th>545543</th>\n",
       "      <td>맛점되세요~</td>\n",
       "      <td>레벨 블라썸</td>\n",
       "      <td>9</td>\n",
       "      <td>13</td>\n",
       "      <td>https://m.cafe.naver.com/ArticleRead.nhn?clubi...</td>\n",
       "      <td>2016-12-30T12:52:00+09:00</td>\n",
       "      <td>27434888</td>\n",
       "      <td>214084</td>\n",
       "      <td>리니지2M 대표 공략 카페 ♦ LINEAGE 2 M ♦</td>\n",
       "      <td>2020-01-02T16:06:39.308701+09:00</td>\n",
       "      <td>27434888-214084</td>\n",
       "      <td>[https://mcafethumb-phinf.pstatic.net/MjAxNjEy...</td>\n",
       "      <td>할거없으니깐.. 뒹굴거리다가 게임이나 해야지 ㅋㅋ 맛점되세여!</td>\n",
       "      <td>&lt;div class=\"post_cont font_zoom1\" id=\"postCont...</td>\n",
       "      <td>[{'date': '2016-12-30T12:52:00+09:00', 'nick':...</td>\n",
       "      <td>.</td>\n",
       "      <td></td>\n",
       "    </tr>\n",
       "  </tbody>\n",
       "</table>\n",
       "<p>172193 rows × 17 columns</p>\n",
       "</div>"
      ],
      "text/plain": [
       "                                                    title           nick  \\\n",
       "160                                 오늘의 추천곡 #162_Chase Me            여름빛   \n",
       "161                                               출석수3000      콜롬비아나 아이린   \n",
       "162     [벨나잇]\\n\\n                        \\n           ...          러브배주현   \n",
       "163     [장편팬픽]\\n\\n                        \\n          ...  levelupforyou   \n",
       "244     [벨모닝]\\n\\n                        \\n           ...           레사벨벳   \n",
       "...                                                   ...            ...   \n",
       "545499                               레드벨벳 아이린 무보정 사진 모음 3        가나다레드벨벳   \n",
       "545500                                 지렁이 게임인가 그거 하고 있는데         오늘도 웬디   \n",
       "545501                                             레흥돋 타임         오늘도 웬디   \n",
       "545542                                              맛점되세용            멤버다   \n",
       "545543                                             맛점되세요~         레벨 블라썸   \n",
       "\n",
       "       view_count reply_count  \\\n",
       "160            54           7   \n",
       "161            60          54   \n",
       "162            13          24   \n",
       "163            29           0   \n",
       "244            21           7   \n",
       "...           ...         ...   \n",
       "545499        127           1   \n",
       "545500         15           3   \n",
       "545501         19           3   \n",
       "545542         18          18   \n",
       "545543          9          13   \n",
       "\n",
       "                                                      url  \\\n",
       "160     https://m.cafe.naver.com/ArticleRead.nhn?clubi...   \n",
       "161     https://m.cafe.naver.com/ArticleRead.nhn?clubi...   \n",
       "162     https://m.cafe.naver.com/ArticleRead.nhn?clubi...   \n",
       "163     https://m.cafe.naver.com/ArticleRead.nhn?clubi...   \n",
       "244     https://m.cafe.naver.com/ArticleRead.nhn?clubi...   \n",
       "...                                                   ...   \n",
       "545499  https://m.cafe.naver.com/ArticleRead.nhn?clubi...   \n",
       "545500  https://m.cafe.naver.com/ArticleRead.nhn?clubi...   \n",
       "545501  https://m.cafe.naver.com/ArticleRead.nhn?clubi...   \n",
       "545542  https://m.cafe.naver.com/ArticleRead.nhn?clubi...   \n",
       "545543  https://m.cafe.naver.com/ArticleRead.nhn?clubi...   \n",
       "\n",
       "                             date    clubid articleid  \\\n",
       "160     2018-04-30T22:41:00+09:00  27434888    750629   \n",
       "161     2018-04-30T22:40:00+09:00  27434888    750628   \n",
       "162     2018-04-30T22:44:00+09:00  27434888    750631   \n",
       "163     2030-04-18T00:00:00+09:00  27434888    750627   \n",
       "244     2018-04-30T09:36:00+09:00  27434888    750193   \n",
       "...                           ...       ...       ...   \n",
       "545499  2016-12-30T13:22:00+09:00  27434888    214106   \n",
       "545500  2016-12-30T13:21:00+09:00  27434888    214105   \n",
       "545501  2030-12-16T00:00:00+09:00  27434888    214107   \n",
       "545542  2016-12-30T12:53:00+09:00  27434888    214085   \n",
       "545543  2016-12-30T12:52:00+09:00  27434888    214084   \n",
       "\n",
       "                             cafe_name                         curl_date  \\\n",
       "160                                리공카  2019-12-24T21:19:23.116369+09:00   \n",
       "161                                리공카  2019-12-24T21:19:28.610277+09:00   \n",
       "162                                리공카  2019-12-24T21:19:17.660953+09:00   \n",
       "163                                리공카  2019-12-24T21:19:33.786842+09:00   \n",
       "244                                리공카  2019-12-24T21:25:05.083096+09:00   \n",
       "...                                ...                               ...   \n",
       "545499  리니지2M 대표 공략 카페 ♦ LINEAGE 2 M ♦  2020-01-02T16:04:38.681050+09:00   \n",
       "545500  리니지2M 대표 공략 카페 ♦ LINEAGE 2 M ♦  2020-01-02T16:04:44.321828+09:00   \n",
       "545501  리니지2M 대표 공략 카페 ♦ LINEAGE 2 M ♦  2020-01-02T16:04:32.755727+09:00   \n",
       "545542  리니지2M 대표 공략 카페 ♦ LINEAGE 2 M ♦  2020-01-02T16:06:33.551086+09:00   \n",
       "545543  리니지2M 대표 공략 카페 ♦ LINEAGE 2 M ♦  2020-01-02T16:06:39.308701+09:00   \n",
       "\n",
       "            document_id                                              image  \\\n",
       "160     27434888-750629  [https://mcafethumb-phinf.pstatic.net/MjAxODA0...   \n",
       "161     27434888-750628  [https://mcafethumb-phinf.pstatic.net/MjAxODA0...   \n",
       "162     27434888-750631                                                 []   \n",
       "163     27434888-750627                                                 []   \n",
       "244     27434888-750193  [https://mcafethumb-phinf.pstatic.net/MjAxODA0...   \n",
       "...                 ...                                                ...   \n",
       "545499  27434888-214106  [https://dthumb-phinf.pstatic.net/?src=%22http...   \n",
       "545500  27434888-214105                                                 []   \n",
       "545501  27434888-214107                                                 []   \n",
       "545542  27434888-214085  [https://mcafethumb-phinf.pstatic.net/MjAxNjEy...   \n",
       "545543  27434888-214084  [https://mcafethumb-phinf.pstatic.net/MjAxNjEy...   \n",
       "\n",
       "                                                  content  \\\n",
       "160     오늘의 추천곡 #162ㄷㄹㅋㅊ 'Chase Me'제가 정말 좋아하는 스타일이면서,한...   \n",
       "161             어찌하다보니 출석수 3000이조금넘었네요 목표가있다면 5자리까지가고싶네요ㅎ   \n",
       "162                                           좋은꿈꾸세여~벨나있!   \n",
       "163                                                         \n",
       "244     이 날씨에 감기가 심하게 걸려 출근은 쉬내요 ㅋㅋ 좋은건진 안좋은건지 ㅎㅎ 그래도 ...   \n",
       "...                                                   ...   \n",
       "545499  레드벨벳 아이린 무보정 사진 모음 3\\n    레드벨벳 아이린 무보정 사진 공유해요...   \n",
       "545500                  닉넴이WENDY라고 적혀있었어요ㅋㅋㅋㅋ괜히 기분 좋았어요ㅋㅋ   \n",
       "545501                                                      \n",
       "545542                                                      \n",
       "545543                 할거없으니깐.. 뒹굴거리다가 게임이나 해야지 ㅋㅋ 맛점되세여!   \n",
       "\n",
       "                                             html_content  \\\n",
       "160     <div class=\"post_cont font_zoom1\" id=\"postCont...   \n",
       "161     <div class=\"post_cont font_zoom1\" id=\"postCont...   \n",
       "162     <div class=\"post_cont font_zoom1\" id=\"postCont...   \n",
       "163                                                         \n",
       "244     <div class=\"post_cont font_zoom1\" id=\"postCont...   \n",
       "...                                                   ...   \n",
       "545499  <div class=\"post_cont font_zoom1\" id=\"postCont...   \n",
       "545500  <div class=\"post_cont font_zoom1\" id=\"postCont...   \n",
       "545501                                                      \n",
       "545542  <div class=\"post_cont font_zoom1\" id=\"postCont...   \n",
       "545543  <div class=\"post_cont font_zoom1\" id=\"postCont...   \n",
       "\n",
       "                                               reply_list bbs_name  \\\n",
       "160     [{'date': '2018-04-30T22:42:00+09:00', 'nick':...        .   \n",
       "161     [{'date': '2018-04-30T22:40:00+09:00', 'nick':...        .   \n",
       "162     [{'date': '2018-04-30T22:45:00+09:00', 'nick':...        t   \n",
       "163                                                    []            \n",
       "244     [{'date': '2018-04-30T09:42:00+09:00', 'nick':...        t   \n",
       "...                                                   ...      ...   \n",
       "545499  [{'date': '2017-01-15T15:08:00+09:00', 'nick':...        .   \n",
       "545500  [{'date': '2016-12-30T13:22:00+09:00', 'nick':...        .   \n",
       "545501                                                 []            \n",
       "545542  [{'date': '2016-12-30T12:53:00+09:00', 'nick':...        .   \n",
       "545543  [{'date': '2016-12-30T12:52:00+09:00', 'nick':...        .   \n",
       "\n",
       "       replay_count  \n",
       "160                  \n",
       "161                  \n",
       "162                  \n",
       "163                  \n",
       "244                  \n",
       "...             ...  \n",
       "545499               \n",
       "545500               \n",
       "545501               \n",
       "545542               \n",
       "545543               \n",
       "\n",
       "[172193 rows x 17 columns]"
      ]
     },
     "execution_count": 93,
     "metadata": {},
     "output_type": "execute_result"
    }
   ],
   "source": [
    "df[df['reply_list'] != '']"
   ]
  },
  {
   "cell_type": "code",
   "execution_count": 99,
   "metadata": {
    "ExecuteTime": {
     "end_time": "2020-01-02T07:42:07.004901Z",
     "start_time": "2020-01-02T07:42:06.927981Z"
    },
    "collapsed": true
   },
   "outputs": [
    {
     "ename": "ValueError",
     "evalue": "This sheet is too large! Your sheet size is: 1081171, 18 Max sheet size is: 1048576, 16384",
     "output_type": "error",
     "traceback": [
      "\u001b[0;31m---------------------------------------------------------------------------\u001b[0m",
      "\u001b[0;31mValueError\u001b[0m                                Traceback (most recent call last)",
      "\u001b[0;32m<ipython-input-99-ca9f7a8b9106>\u001b[0m in \u001b[0;36m<module>\u001b[0;34m\u001b[0m\n\u001b[0;32m----> 1\u001b[0;31m \u001b[0mdf\u001b[0m\u001b[0;34m.\u001b[0m\u001b[0mto_excel\u001b[0m\u001b[0;34m(\u001b[0m\u001b[0;34m'data/naver-bbs.19494347.xlsx'\u001b[0m\u001b[0;34m,\u001b[0m \u001b[0mindex\u001b[0m\u001b[0;34m=\u001b[0m\u001b[0;32mFalse\u001b[0m\u001b[0;34m)\u001b[0m\u001b[0;34m\u001b[0m\u001b[0;34m\u001b[0m\u001b[0m\n\u001b[0m",
      "\u001b[0;32m~/.local/lib/python3.6/site-packages/pandas/core/generic.py\u001b[0m in \u001b[0;36mto_excel\u001b[0;34m(self, excel_writer, sheet_name, na_rep, float_format, columns, header, index, index_label, startrow, startcol, engine, merge_cells, encoding, inf_rep, verbose, freeze_panes)\u001b[0m\n\u001b[1;32m   2254\u001b[0m             \u001b[0mstartcol\u001b[0m\u001b[0;34m=\u001b[0m\u001b[0mstartcol\u001b[0m\u001b[0;34m,\u001b[0m\u001b[0;34m\u001b[0m\u001b[0;34m\u001b[0m\u001b[0m\n\u001b[1;32m   2255\u001b[0m             \u001b[0mfreeze_panes\u001b[0m\u001b[0;34m=\u001b[0m\u001b[0mfreeze_panes\u001b[0m\u001b[0;34m,\u001b[0m\u001b[0;34m\u001b[0m\u001b[0;34m\u001b[0m\u001b[0m\n\u001b[0;32m-> 2256\u001b[0;31m             \u001b[0mengine\u001b[0m\u001b[0;34m=\u001b[0m\u001b[0mengine\u001b[0m\u001b[0;34m,\u001b[0m\u001b[0;34m\u001b[0m\u001b[0;34m\u001b[0m\u001b[0m\n\u001b[0m\u001b[1;32m   2257\u001b[0m         )\n\u001b[1;32m   2258\u001b[0m \u001b[0;34m\u001b[0m\u001b[0m\n",
      "\u001b[0;32m~/.local/lib/python3.6/site-packages/pandas/io/formats/excel.py\u001b[0m in \u001b[0;36mwrite\u001b[0;34m(self, writer, sheet_name, startrow, startcol, freeze_panes, engine)\u001b[0m\n\u001b[1;32m    722\u001b[0m                 \u001b[0;34m\"This sheet is too large! Your sheet size is: \"\u001b[0m\u001b[0;34m\u001b[0m\u001b[0;34m\u001b[0m\u001b[0m\n\u001b[1;32m    723\u001b[0m                 \u001b[0;34m+\u001b[0m \u001b[0;34m\"{}, {} \"\u001b[0m\u001b[0;34m.\u001b[0m\u001b[0mformat\u001b[0m\u001b[0;34m(\u001b[0m\u001b[0mnum_rows\u001b[0m\u001b[0;34m,\u001b[0m \u001b[0mnum_cols\u001b[0m\u001b[0;34m)\u001b[0m\u001b[0;34m\u001b[0m\u001b[0;34m\u001b[0m\u001b[0m\n\u001b[0;32m--> 724\u001b[0;31m                 \u001b[0;34m+\u001b[0m \u001b[0;34m\"Max sheet size is: {}, {}\"\u001b[0m\u001b[0;34m.\u001b[0m\u001b[0mformat\u001b[0m\u001b[0;34m(\u001b[0m\u001b[0mself\u001b[0m\u001b[0;34m.\u001b[0m\u001b[0mmax_rows\u001b[0m\u001b[0;34m,\u001b[0m \u001b[0mself\u001b[0m\u001b[0;34m.\u001b[0m\u001b[0mmax_cols\u001b[0m\u001b[0;34m)\u001b[0m\u001b[0;34m\u001b[0m\u001b[0;34m\u001b[0m\u001b[0m\n\u001b[0m\u001b[1;32m    725\u001b[0m             )\n\u001b[1;32m    726\u001b[0m \u001b[0;34m\u001b[0m\u001b[0m\n",
      "\u001b[0;31mValueError\u001b[0m: This sheet is too large! Your sheet size is: 1081171, 18 Max sheet size is: 1048576, 16384"
     ]
    }
   ],
   "source": [
    "df.to_excel('data/naver-bbs.19494347.xlsx', index=False)"
   ]
  },
  {
   "cell_type": "code",
   "execution_count": 100,
   "metadata": {
    "ExecuteTime": {
     "end_time": "2020-01-02T07:48:43.288956Z",
     "start_time": "2020-01-02T07:46:23.467026Z"
    }
   },
   "outputs": [],
   "source": [
    "df.to_json(\n",
    "    'data/naver-bbs.19494347.json.bz2',\n",
    "    force_ascii=False,\n",
    "    compression='bz2',\n",
    "    orient='records',\n",
    "    lines=True,\n",
    ")"
   ]
  }
 ],
 "metadata": {
  "kernelspec": {
   "display_name": "Python 3",
   "language": "python",
   "name": "python3"
  },
  "language_info": {
   "codemirror_mode": {
    "name": "ipython",
    "version": 3
   },
   "file_extension": ".py",
   "mimetype": "text/x-python",
   "name": "python",
   "nbconvert_exporter": "python",
   "pygments_lexer": "ipython3",
   "version": "3.6.9"
  }
 },
 "nbformat": 4,
 "nbformat_minor": 2
}
