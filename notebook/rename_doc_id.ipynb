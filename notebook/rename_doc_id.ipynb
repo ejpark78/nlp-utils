{
 "cells": [
  {
   "cell_type": "markdown",
   "metadata": {},
   "source": [
    "# 중복 문서 점검"
   ]
  },
  {
   "cell_type": "code",
   "execution_count": 1,
   "metadata": {
    "ExecuteTime": {
     "end_time": "2021-05-02T23:52:36.752242Z",
     "start_time": "2021-05-02T23:52:36.727547Z"
    }
   },
   "outputs": [],
   "source": [
    "%load_ext autoreload\n",
    "%autoreload 2"
   ]
  },
  {
   "cell_type": "code",
   "execution_count": 2,
   "metadata": {
    "ExecuteTime": {
     "end_time": "2021-05-02T23:52:40.622325Z",
     "start_time": "2021-05-02T23:52:37.296977Z"
    }
   },
   "outputs": [
    {
     "name": "stderr",
     "output_type": "stream",
     "text": [
      "/usr/lib/python3/dist-packages/requests/__init__.py:89: RequestsDependencyWarning: urllib3 (1.26.2) or chardet (3.0.4) doesn't match a supported version!\n",
      "  warnings.warn(\"urllib3 ({}) or chardet ({}) doesn't match a supported \"\n",
      "/home/ejpark/workspace/dev/crawler/crawler/utils/es.py:26: TqdmExperimentalWarning: Using `tqdm.autonotebook.tqdm` in notebook mode. Use `tqdm.tqdm` instead to force console mode (e.g. in jupyter console)\n",
      "  from tqdm.autonotebook import tqdm\n"
     ]
    }
   ],
   "source": [
    "import re\n",
    "import bz2\n",
    "import json\n",
    "import pandas as pd\n",
    "from tqdm import tqdm\n",
    "from glob import glob\n",
    "from collections import defaultdict\n",
    "from IPython.display import display\n",
    "from crawler.utils.es import ElasticSearchUtils"
   ]
  },
  {
   "cell_type": "code",
   "execution_count": null,
   "metadata": {
    "ExecuteTime": {
     "end_time": "2021-04-30T02:06:14.943429Z",
     "start_time": "2021-04-30T02:06:14.935061Z"
    },
    "code_folding": [
     0
    ]
   },
   "outputs": [],
   "source": [
    "def read_merged_size(filename):\n",
    "    data = defaultdict(dict)\n",
    "    \n",
    "    with open(filename, 'r') as fp:\n",
    "        for l in fp:\n",
    "            if l.strip() == '':\n",
    "                continue\n",
    "\n",
    "            index, count = re.sub('\\s+', '\\t', l.strip()).split('\\t')\n",
    "            count = int(count)\n",
    "\n",
    "            if 'merged' in index:            \n",
    "                data[index.replace('-merged', '')]['backfill'] = count\n",
    "            else:\n",
    "                data[index]['corpus'] = count\n",
    "\n",
    "    count_df = pd.DataFrame(data).T\n",
    "    count_df = count_df[ count_df.index.str.find('2020') > 0 ]\n",
    "\n",
    "    return f\"{count_df['corpus'].sum(axis=0):,}\", f\"{count_df['backfill'].sum(axis=0):,}\", display(count_df)\n",
    "\n",
    "read_merged_size(filename='../data/es_dump/merged-size.txt')"
   ]
  },
  {
   "cell_type": "code",
   "execution_count": 3,
   "metadata": {
    "ExecuteTime": {
     "end_time": "2021-05-02T23:52:40.721557Z",
     "start_time": "2021-05-02T23:52:40.681298Z"
    }
   },
   "outputs": [],
   "source": [
    "es = ElasticSearchUtils(host='https://corpus.ncsoft.com:9200', encoded_auth='ZWxhc3RpYzpubHBsYWI=')"
   ]
  },
  {
   "cell_type": "code",
   "execution_count": 4,
   "metadata": {
    "ExecuteTime": {
     "end_time": "2021-05-02T23:52:43.649403Z",
     "start_time": "2021-05-02T23:52:43.641196Z"
    },
    "code_folding": [
     0
    ]
   },
   "outputs": [],
   "source": [
    "def read_ids(path: str) -> list:\n",
    "    result = []\n",
    "    for filename in tqdm(glob(path)):\n",
    "        with bz2.open(filename, 'r') as fp:\n",
    "            result += [x.decode('utf-8').rstrip().split('\\t') for x in fp if x.decode('utf-8').strip() != '']\n",
    "            \n",
    "    return result"
   ]
  },
  {
   "cell_type": "code",
   "execution_count": 5,
   "metadata": {
    "ExecuteTime": {
     "end_time": "2021-05-02T23:52:44.076673Z",
     "start_time": "2021-05-02T23:52:44.050571Z"
    },
    "code_folding": [
     0
    ]
   },
   "outputs": [],
   "source": [
    "def get_doc_id(url: str) -> str or None:\n",
    "    oid = re.search('oid=(\\d+)', url)\n",
    "    aid = re.search('aid=(\\d+)', url)\n",
    "    \n",
    "    if oid is None and aid is None:\n",
    "        return None\n",
    "        \n",
    "    return f'{oid.groups()[0]}-{aid.groups()[0]}'"
   ]
  },
  {
   "cell_type": "code",
   "execution_count": 24,
   "metadata": {
    "ExecuteTime": {
     "end_time": "2021-05-04T04:57:32.361570Z",
     "start_time": "2021-05-04T04:56:22.603473Z"
    }
   },
   "outputs": [
    {
     "name": "stderr",
     "output_type": "stream",
     "text": [
      "100%|██████████| 19/19 [01:09<00:00,  3.64s/it]\n"
     ]
    },
    {
     "data": {
      "text/plain": [
       "[['crawler-naver-economy-reply-2018',\n",
       "  '015-0004058465',\n",
       "  '[집코노미] \"쪽박 차게 생겼어요\"…전세금 돌려줄 돈 없어 속 타는 갭투자자',\n",
       "  'https://news.naver.com/main/read.nhn?mode=LS2D&mid=shm&sid1=101&sid2=260&oid=015&aid=0004058465'],\n",
       " ['crawler-naver-economy-reply-2018',\n",
       "  '025-0002869153',\n",
       "  '금융위장·금감원장 회동···\"靑 갈등봉합 지시? 아니다\"',\n",
       "  'https://news.naver.com/main/read.nhn?mode=LS2D&mid=shm&sid1=101&sid2=260&oid=025&aid=0002869153'],\n",
       " ['crawler-naver-economy-reply-2018',\n",
       "  '277-0004371608',\n",
       "  '서울 아파트값 4주 연속↓…강남권 이어 영등포·동작·양천·노원도',\n",
       "  'https://news.naver.com/main/read.nhn?mode=LS2D&mid=shm&sid1=101&sid2=260&oid=277&aid=0004371608']]"
      ]
     },
     "execution_count": 24,
     "metadata": {},
     "output_type": "execute_result"
    }
   ],
   "source": [
    "ids = read_ids(path='../data/es_dump/corpus/doc_ids/crawler-naver-*-2018.ids.tsv.bz2')\n",
    "\n",
    "ids[:3]"
   ]
  },
  {
   "cell_type": "code",
   "execution_count": 25,
   "metadata": {
    "ExecuteTime": {
     "end_time": "2021-05-04T04:57:35.682924Z",
     "start_time": "2021-05-04T04:57:32.362835Z"
    }
   },
   "outputs": [
    {
     "data": {
      "text/html": [
       "<div>\n",
       "<style scoped>\n",
       "    .dataframe tbody tr th:only-of-type {\n",
       "        vertical-align: middle;\n",
       "    }\n",
       "\n",
       "    .dataframe tbody tr th {\n",
       "        vertical-align: top;\n",
       "    }\n",
       "\n",
       "    .dataframe thead th {\n",
       "        text-align: right;\n",
       "    }\n",
       "</style>\n",
       "<table border=\"1\" class=\"dataframe\">\n",
       "  <thead>\n",
       "    <tr style=\"text-align: right;\">\n",
       "      <th></th>\n",
       "      <th>index</th>\n",
       "      <th>id</th>\n",
       "      <th>title</th>\n",
       "      <th>url</th>\n",
       "    </tr>\n",
       "  </thead>\n",
       "  <tbody>\n",
       "    <tr>\n",
       "      <th>0</th>\n",
       "      <td>crawler-naver-economy-reply-2018</td>\n",
       "      <td>015-0004058465</td>\n",
       "      <td>[집코노미] \"쪽박 차게 생겼어요\"…전세금 돌려줄 돈 없어 속 타는 갭투자자</td>\n",
       "      <td>https://news.naver.com/main/read.nhn?mode=LS2D...</td>\n",
       "    </tr>\n",
       "    <tr>\n",
       "      <th>1</th>\n",
       "      <td>crawler-naver-economy-reply-2018</td>\n",
       "      <td>025-0002869153</td>\n",
       "      <td>금융위장·금감원장 회동···\"靑 갈등봉합 지시? 아니다\"</td>\n",
       "      <td>https://news.naver.com/main/read.nhn?mode=LS2D...</td>\n",
       "    </tr>\n",
       "    <tr>\n",
       "      <th>2</th>\n",
       "      <td>crawler-naver-economy-reply-2018</td>\n",
       "      <td>277-0004371608</td>\n",
       "      <td>서울 아파트값 4주 연속↓…강남권 이어 영등포·동작·양천·노원도</td>\n",
       "      <td>https://news.naver.com/main/read.nhn?mode=LS2D...</td>\n",
       "    </tr>\n",
       "    <tr>\n",
       "      <th>3</th>\n",
       "      <td>crawler-naver-economy-reply-2018</td>\n",
       "      <td>029-0002496634</td>\n",
       "      <td>수도권 추첨 물량 75% 무주택자에 우선 공급</td>\n",
       "      <td>https://news.naver.com/main/read.nhn?mode=LS2D...</td>\n",
       "    </tr>\n",
       "    <tr>\n",
       "      <th>4</th>\n",
       "      <td>crawler-naver-economy-reply-2018</td>\n",
       "      <td>014-0004140612</td>\n",
       "      <td>‘비산자이아이파크’ 월곶~판교선 수혜단지로 주목</td>\n",
       "      <td>https://news.naver.com/main/read.nhn?mode=LS2D...</td>\n",
       "    </tr>\n",
       "  </tbody>\n",
       "</table>\n",
       "</div>"
      ],
      "text/plain": [
       "                              index              id  \\\n",
       "0  crawler-naver-economy-reply-2018  015-0004058465   \n",
       "1  crawler-naver-economy-reply-2018  025-0002869153   \n",
       "2  crawler-naver-economy-reply-2018  277-0004371608   \n",
       "3  crawler-naver-economy-reply-2018  029-0002496634   \n",
       "4  crawler-naver-economy-reply-2018  014-0004140612   \n",
       "\n",
       "                                        title  \\\n",
       "0  [집코노미] \"쪽박 차게 생겼어요\"…전세금 돌려줄 돈 없어 속 타는 갭투자자   \n",
       "1             금융위장·금감원장 회동···\"靑 갈등봉합 지시? 아니다\"   \n",
       "2         서울 아파트값 4주 연속↓…강남권 이어 영등포·동작·양천·노원도   \n",
       "3                   수도권 추첨 물량 75% 무주택자에 우선 공급   \n",
       "4                  ‘비산자이아이파크’ 월곶~판교선 수혜단지로 주목   \n",
       "\n",
       "                                                 url  \n",
       "0  https://news.naver.com/main/read.nhn?mode=LS2D...  \n",
       "1  https://news.naver.com/main/read.nhn?mode=LS2D...  \n",
       "2  https://news.naver.com/main/read.nhn?mode=LS2D...  \n",
       "3  https://news.naver.com/main/read.nhn?mode=LS2D...  \n",
       "4  https://news.naver.com/main/read.nhn?mode=LS2D...  "
      ]
     },
     "metadata": {},
     "output_type": "display_data"
    },
    {
     "data": {
      "text/plain": [
       "(9131130, None)"
      ]
     },
     "execution_count": 25,
     "metadata": {},
     "output_type": "execute_result"
    }
   ],
   "source": [
    "df = pd.DataFrame(ids, columns=['index', 'id', 'title', 'url'])\n",
    "\n",
    "len(df), display(df.head())"
   ]
  },
  {
   "cell_type": "code",
   "execution_count": 26,
   "metadata": {
    "ExecuteTime": {
     "end_time": "2021-05-04T04:57:47.457075Z",
     "start_time": "2021-05-04T04:57:35.684184Z"
    },
    "scrolled": true
   },
   "outputs": [
    {
     "data": {
      "text/html": [
       "<div>\n",
       "<style scoped>\n",
       "    .dataframe tbody tr th:only-of-type {\n",
       "        vertical-align: middle;\n",
       "    }\n",
       "\n",
       "    .dataframe tbody tr th {\n",
       "        vertical-align: top;\n",
       "    }\n",
       "\n",
       "    .dataframe thead th {\n",
       "        text-align: right;\n",
       "    }\n",
       "</style>\n",
       "<table border=\"1\" class=\"dataframe\">\n",
       "  <thead>\n",
       "    <tr style=\"text-align: right;\">\n",
       "      <th></th>\n",
       "      <th>0</th>\n",
       "    </tr>\n",
       "    <tr>\n",
       "      <th>id</th>\n",
       "      <th></th>\n",
       "    </tr>\n",
       "  </thead>\n",
       "  <tbody>\n",
       "    <tr>\n",
       "      <th>001-0009782792</th>\n",
       "      <td>4</td>\n",
       "    </tr>\n",
       "    <tr>\n",
       "      <th>001-0009782825</th>\n",
       "      <td>3</td>\n",
       "    </tr>\n",
       "    <tr>\n",
       "      <th>001-0009783407</th>\n",
       "      <td>3</td>\n",
       "    </tr>\n",
       "    <tr>\n",
       "      <th>001-0009783455</th>\n",
       "      <td>3</td>\n",
       "    </tr>\n",
       "    <tr>\n",
       "      <th>001-0009783508</th>\n",
       "      <td>3</td>\n",
       "    </tr>\n",
       "    <tr>\n",
       "      <th>...</th>\n",
       "      <td>...</td>\n",
       "    </tr>\n",
       "    <tr>\n",
       "      <th>586-0000004431</th>\n",
       "      <td>4</td>\n",
       "    </tr>\n",
       "    <tr>\n",
       "      <th>586-0000004434</th>\n",
       "      <td>3</td>\n",
       "    </tr>\n",
       "    <tr>\n",
       "      <th>586-0000004435</th>\n",
       "      <td>3</td>\n",
       "    </tr>\n",
       "    <tr>\n",
       "      <th>586-0000004442</th>\n",
       "      <td>3</td>\n",
       "    </tr>\n",
       "    <tr>\n",
       "      <th>586-0000004443</th>\n",
       "      <td>3</td>\n",
       "    </tr>\n",
       "  </tbody>\n",
       "</table>\n",
       "<p>502684 rows × 1 columns</p>\n",
       "</div>"
      ],
      "text/plain": [
       "                0\n",
       "id               \n",
       "001-0009782792  4\n",
       "001-0009782825  3\n",
       "001-0009783407  3\n",
       "001-0009783455  3\n",
       "001-0009783508  3\n",
       "...            ..\n",
       "586-0000004431  4\n",
       "586-0000004434  3\n",
       "586-0000004435  3\n",
       "586-0000004442  3\n",
       "586-0000004443  3\n",
       "\n",
       "[502684 rows x 1 columns]"
      ]
     },
     "metadata": {},
     "output_type": "display_data"
    },
    {
     "data": {
      "text/html": [
       "<div>\n",
       "<style scoped>\n",
       "    .dataframe tbody tr th:only-of-type {\n",
       "        vertical-align: middle;\n",
       "    }\n",
       "\n",
       "    .dataframe tbody tr th {\n",
       "        vertical-align: top;\n",
       "    }\n",
       "\n",
       "    .dataframe thead th {\n",
       "        text-align: right;\n",
       "    }\n",
       "</style>\n",
       "<table border=\"1\" class=\"dataframe\">\n",
       "  <thead>\n",
       "    <tr style=\"text-align: right;\">\n",
       "      <th></th>\n",
       "      <th>0</th>\n",
       "    </tr>\n",
       "    <tr>\n",
       "      <th>id</th>\n",
       "      <th></th>\n",
       "    </tr>\n",
       "  </thead>\n",
       "  <tbody>\n",
       "    <tr>\n",
       "      <th>001-0009781752</th>\n",
       "      <td>2</td>\n",
       "    </tr>\n",
       "    <tr>\n",
       "      <th>001-0009782332</th>\n",
       "      <td>2</td>\n",
       "    </tr>\n",
       "    <tr>\n",
       "      <th>001-0009782415</th>\n",
       "      <td>2</td>\n",
       "    </tr>\n",
       "    <tr>\n",
       "      <th>001-0009782792</th>\n",
       "      <td>4</td>\n",
       "    </tr>\n",
       "    <tr>\n",
       "      <th>001-0009782825</th>\n",
       "      <td>3</td>\n",
       "    </tr>\n",
       "    <tr>\n",
       "      <th>...</th>\n",
       "      <td>...</td>\n",
       "    </tr>\n",
       "    <tr>\n",
       "      <th>607-0000000062</th>\n",
       "      <td>2</td>\n",
       "    </tr>\n",
       "    <tr>\n",
       "      <th>607-0000000109</th>\n",
       "      <td>2</td>\n",
       "    </tr>\n",
       "    <tr>\n",
       "      <th>607-0000000118</th>\n",
       "      <td>2</td>\n",
       "    </tr>\n",
       "    <tr>\n",
       "      <th>607-0000000122</th>\n",
       "      <td>2</td>\n",
       "    </tr>\n",
       "    <tr>\n",
       "      <th>609-0000010487</th>\n",
       "      <td>2</td>\n",
       "    </tr>\n",
       "  </tbody>\n",
       "</table>\n",
       "<p>2186885 rows × 1 columns</p>\n",
       "</div>"
      ],
      "text/plain": [
       "                0\n",
       "id               \n",
       "001-0009781752  2\n",
       "001-0009782332  2\n",
       "001-0009782415  2\n",
       "001-0009782792  4\n",
       "001-0009782825  3\n",
       "...            ..\n",
       "607-0000000062  2\n",
       "607-0000000109  2\n",
       "607-0000000118  2\n",
       "607-0000000122  2\n",
       "609-0000010487  2\n",
       "\n",
       "[2186885 rows x 1 columns]"
      ]
     },
     "metadata": {},
     "output_type": "display_data"
    },
    {
     "data": {
      "text/plain": [
       "(None, None)"
      ]
     },
     "execution_count": 26,
     "metadata": {},
     "output_type": "execute_result"
    }
   ],
   "source": [
    "doc_count = df.groupby(by='id').size().to_frame()\n",
    "\n",
    "display(doc_count[ doc_count[0] > 2 ]), display(doc_count[ doc_count[0] > 1 ])"
   ]
  },
  {
   "cell_type": "code",
   "execution_count": 27,
   "metadata": {
    "ExecuteTime": {
     "end_time": "2021-05-04T04:57:59.276742Z",
     "start_time": "2021-05-04T04:57:47.458139Z"
    },
    "scrolled": true
   },
   "outputs": [
    {
     "data": {
      "text/html": [
       "<div>\n",
       "<style scoped>\n",
       "    .dataframe tbody tr th:only-of-type {\n",
       "        vertical-align: middle;\n",
       "    }\n",
       "\n",
       "    .dataframe tbody tr th {\n",
       "        vertical-align: top;\n",
       "    }\n",
       "\n",
       "    .dataframe thead th {\n",
       "        text-align: right;\n",
       "    }\n",
       "</style>\n",
       "<table border=\"1\" class=\"dataframe\">\n",
       "  <thead>\n",
       "    <tr style=\"text-align: right;\">\n",
       "      <th></th>\n",
       "      <th>0</th>\n",
       "    </tr>\n",
       "    <tr>\n",
       "      <th>url</th>\n",
       "      <th></th>\n",
       "    </tr>\n",
       "  </thead>\n",
       "  <tbody>\n",
       "    <tr>\n",
       "      <th>http://news.naver.com/main/read.nhn?mode=LS2D&amp;mid=shm&amp;sid1=100&amp;sid2=264&amp;oid=001&amp;aid=0009783547</th>\n",
       "      <td>4</td>\n",
       "    </tr>\n",
       "    <tr>\n",
       "      <th>http://news.naver.com/main/read.nhn?mode=LS2D&amp;mid=shm&amp;sid1=100&amp;sid2=264&amp;oid=001&amp;aid=0009797026</th>\n",
       "      <td>3</td>\n",
       "    </tr>\n",
       "    <tr>\n",
       "      <th>http://news.naver.com/main/read.nhn?mode=LS2D&amp;mid=shm&amp;sid1=100&amp;sid2=264&amp;oid=001&amp;aid=0009804903</th>\n",
       "      <td>4</td>\n",
       "    </tr>\n",
       "    <tr>\n",
       "      <th>http://news.naver.com/main/read.nhn?mode=LS2D&amp;mid=shm&amp;sid1=100&amp;sid2=264&amp;oid=001&amp;aid=0009812560</th>\n",
       "      <td>3</td>\n",
       "    </tr>\n",
       "    <tr>\n",
       "      <th>http://news.naver.com/main/read.nhn?mode=LS2D&amp;mid=shm&amp;sid1=100&amp;sid2=264&amp;oid=001&amp;aid=0009823674</th>\n",
       "      <td>3</td>\n",
       "    </tr>\n",
       "    <tr>\n",
       "      <th>...</th>\n",
       "      <td>...</td>\n",
       "    </tr>\n",
       "    <tr>\n",
       "      <th>https://sports.news.naver.com/kbaseball/news/read.nhn?oid=468&amp;aid=0000385287</th>\n",
       "      <td>4</td>\n",
       "    </tr>\n",
       "    <tr>\n",
       "      <th>https://sports.news.naver.com/kbaseball/news/read.nhn?oid=468&amp;aid=0000385296</th>\n",
       "      <td>4</td>\n",
       "    </tr>\n",
       "    <tr>\n",
       "      <th>https://sports.news.naver.com/kbaseball/news/read.nhn?oid=468&amp;aid=0000399871</th>\n",
       "      <td>3</td>\n",
       "    </tr>\n",
       "    <tr>\n",
       "      <th>https://sports.news.naver.com/kbaseball/news/read.nhn?oid=468&amp;aid=0000442661</th>\n",
       "      <td>3</td>\n",
       "    </tr>\n",
       "    <tr>\n",
       "      <th>https://sports.news.naver.com/kbaseball/news/read.nhn?oid=477&amp;aid=0000151843</th>\n",
       "      <td>3</td>\n",
       "    </tr>\n",
       "  </tbody>\n",
       "</table>\n",
       "<p>267294 rows × 1 columns</p>\n",
       "</div>"
      ],
      "text/plain": [
       "                                                    0\n",
       "url                                                  \n",
       "http://news.naver.com/main/read.nhn?mode=LS2D&m...  4\n",
       "http://news.naver.com/main/read.nhn?mode=LS2D&m...  3\n",
       "http://news.naver.com/main/read.nhn?mode=LS2D&m...  4\n",
       "http://news.naver.com/main/read.nhn?mode=LS2D&m...  3\n",
       "http://news.naver.com/main/read.nhn?mode=LS2D&m...  3\n",
       "...                                                ..\n",
       "https://sports.news.naver.com/kbaseball/news/re...  4\n",
       "https://sports.news.naver.com/kbaseball/news/re...  4\n",
       "https://sports.news.naver.com/kbaseball/news/re...  3\n",
       "https://sports.news.naver.com/kbaseball/news/re...  3\n",
       "https://sports.news.naver.com/kbaseball/news/re...  3\n",
       "\n",
       "[267294 rows x 1 columns]"
      ]
     },
     "metadata": {},
     "output_type": "display_data"
    },
    {
     "data": {
      "text/html": [
       "<div>\n",
       "<style scoped>\n",
       "    .dataframe tbody tr th:only-of-type {\n",
       "        vertical-align: middle;\n",
       "    }\n",
       "\n",
       "    .dataframe tbody tr th {\n",
       "        vertical-align: top;\n",
       "    }\n",
       "\n",
       "    .dataframe thead th {\n",
       "        text-align: right;\n",
       "    }\n",
       "</style>\n",
       "<table border=\"1\" class=\"dataframe\">\n",
       "  <thead>\n",
       "    <tr style=\"text-align: right;\">\n",
       "      <th></th>\n",
       "      <th>0</th>\n",
       "    </tr>\n",
       "    <tr>\n",
       "      <th>url</th>\n",
       "      <th></th>\n",
       "    </tr>\n",
       "  </thead>\n",
       "  <tbody>\n",
       "    <tr>\n",
       "      <th>http://news.naver.com/main/read.nhn?mode=LS2D&amp;mid=shm&amp;sid1=100&amp;sid2=264&amp;oid=001&amp;aid=0009783547</th>\n",
       "      <td>4</td>\n",
       "    </tr>\n",
       "    <tr>\n",
       "      <th>http://news.naver.com/main/read.nhn?mode=LS2D&amp;mid=shm&amp;sid1=100&amp;sid2=264&amp;oid=001&amp;aid=0009784098</th>\n",
       "      <td>2</td>\n",
       "    </tr>\n",
       "    <tr>\n",
       "      <th>http://news.naver.com/main/read.nhn?mode=LS2D&amp;mid=shm&amp;sid1=100&amp;sid2=264&amp;oid=001&amp;aid=0009784119</th>\n",
       "      <td>2</td>\n",
       "    </tr>\n",
       "    <tr>\n",
       "      <th>http://news.naver.com/main/read.nhn?mode=LS2D&amp;mid=shm&amp;sid1=100&amp;sid2=264&amp;oid=001&amp;aid=0009784128</th>\n",
       "      <td>2</td>\n",
       "    </tr>\n",
       "    <tr>\n",
       "      <th>http://news.naver.com/main/read.nhn?mode=LS2D&amp;mid=shm&amp;sid1=100&amp;sid2=264&amp;oid=001&amp;aid=0009784130</th>\n",
       "      <td>2</td>\n",
       "    </tr>\n",
       "    <tr>\n",
       "      <th>...</th>\n",
       "      <td>...</td>\n",
       "    </tr>\n",
       "    <tr>\n",
       "      <th>https://sports.news.naver.com/volleyball/news/read.nhn?oid=530&amp;aid=0000002652</th>\n",
       "      <td>2</td>\n",
       "    </tr>\n",
       "    <tr>\n",
       "      <th>https://sports.news.naver.com/volleyball/news/read.nhn?oid=536&amp;aid=0000000103</th>\n",
       "      <td>2</td>\n",
       "    </tr>\n",
       "    <tr>\n",
       "      <th>https://sports.news.naver.com/wfootball/news/read.nhn?oid=091&amp;aid=0006289931</th>\n",
       "      <td>2</td>\n",
       "    </tr>\n",
       "    <tr>\n",
       "      <th>https://sports.news.naver.com/wfootball/news/read.nhn?oid=091&amp;aid=0006321573</th>\n",
       "      <td>2</td>\n",
       "    </tr>\n",
       "    <tr>\n",
       "      <th>https://sports.news.naver.com/wfootball/news/read.nhn?oid=216&amp;aid=0000092840</th>\n",
       "      <td>2</td>\n",
       "    </tr>\n",
       "  </tbody>\n",
       "</table>\n",
       "<p>1598664 rows × 1 columns</p>\n",
       "</div>"
      ],
      "text/plain": [
       "                                                    0\n",
       "url                                                  \n",
       "http://news.naver.com/main/read.nhn?mode=LS2D&m...  4\n",
       "http://news.naver.com/main/read.nhn?mode=LS2D&m...  2\n",
       "http://news.naver.com/main/read.nhn?mode=LS2D&m...  2\n",
       "http://news.naver.com/main/read.nhn?mode=LS2D&m...  2\n",
       "http://news.naver.com/main/read.nhn?mode=LS2D&m...  2\n",
       "...                                                ..\n",
       "https://sports.news.naver.com/volleyball/news/r...  2\n",
       "https://sports.news.naver.com/volleyball/news/r...  2\n",
       "https://sports.news.naver.com/wfootball/news/re...  2\n",
       "https://sports.news.naver.com/wfootball/news/re...  2\n",
       "https://sports.news.naver.com/wfootball/news/re...  2\n",
       "\n",
       "[1598664 rows x 1 columns]"
      ]
     },
     "metadata": {},
     "output_type": "display_data"
    },
    {
     "data": {
      "text/plain": [
       "(None, None)"
      ]
     },
     "execution_count": 27,
     "metadata": {},
     "output_type": "execute_result"
    }
   ],
   "source": [
    "freq = df.groupby(by='url').size().to_frame()\n",
    "\n",
    "display(freq[freq[0] > 2]), display(freq[freq[0] > 1])"
   ]
  },
  {
   "cell_type": "code",
   "execution_count": null,
   "metadata": {
    "ExecuteTime": {
     "end_time": "2021-04-30T01:23:02.872652Z",
     "start_time": "2021-04-30T01:23:02.542996Z"
    }
   },
   "outputs": [],
   "source": [
    "url = 'https://news.naver.com/main/read.nhn?mode=LS2D&mid=shm&sid1=102&sid2=254&oid=001&aid=0012111805'\n",
    "\n",
    "df[ df['url'] == url ]"
   ]
  },
  {
   "cell_type": "code",
   "execution_count": null,
   "metadata": {
    "ExecuteTime": {
     "end_time": "2021-04-30T01:30:21.023082Z",
     "start_time": "2021-04-30T01:30:21.015151Z"
    }
   },
   "outputs": [],
   "source": [
    "len('001-0012111805')"
   ]
  },
  {
   "cell_type": "markdown",
   "metadata": {},
   "source": [
    "# corpus 문서 아이디가 잘못된 것"
   ]
  },
  {
   "cell_type": "code",
   "execution_count": 28,
   "metadata": {
    "ExecuteTime": {
     "end_time": "2021-05-04T04:58:01.915669Z",
     "start_time": "2021-05-04T04:57:59.277810Z"
    }
   },
   "outputs": [
    {
     "data": {
      "text/html": [
       "<div>\n",
       "<style scoped>\n",
       "    .dataframe tbody tr th:only-of-type {\n",
       "        vertical-align: middle;\n",
       "    }\n",
       "\n",
       "    .dataframe tbody tr th {\n",
       "        vertical-align: top;\n",
       "    }\n",
       "\n",
       "    .dataframe thead th {\n",
       "        text-align: right;\n",
       "    }\n",
       "</style>\n",
       "<table border=\"1\" class=\"dataframe\">\n",
       "  <thead>\n",
       "    <tr style=\"text-align: right;\">\n",
       "      <th></th>\n",
       "      <th>index</th>\n",
       "      <th>id</th>\n",
       "      <th>title</th>\n",
       "      <th>url</th>\n",
       "    </tr>\n",
       "  </thead>\n",
       "  <tbody>\n",
       "    <tr>\n",
       "      <th>733955</th>\n",
       "      <td>crawler-naver-politics-2018</td>\n",
       "      <td>2019-09-01T03:30:46.006002+09:00</td>\n",
       "      <td>인사하는 선동열</td>\n",
       "      <td>https://news.naver.com/main/read.nhn?mode=LS2D...</td>\n",
       "    </tr>\n",
       "    <tr>\n",
       "      <th>733956</th>\n",
       "      <td>crawler-naver-politics-2018</td>\n",
       "      <td>2019-09-01T03:31:16.425226+09:00</td>\n",
       "      <td>선서하는 선동열</td>\n",
       "      <td>https://news.naver.com/main/read.nhn?mode=LS2D...</td>\n",
       "    </tr>\n",
       "    <tr>\n",
       "      <th>736754</th>\n",
       "      <td>crawler-naver-politics-2018</td>\n",
       "      <td>2019-09-01T03:34:50.698673+09:00</td>\n",
       "      <td>답변하는 선동열</td>\n",
       "      <td>https://news.naver.com/main/read.nhn?mode=LS2D...</td>\n",
       "    </tr>\n",
       "    <tr>\n",
       "      <th>1146317</th>\n",
       "      <td>crawler-naver-politics-2018</td>\n",
       "      <td>2019-08-31T15:40:45.098423+09:00</td>\n",
       "      <td>[금주 뉴시스 포토④]국정감사에 참석한 선동열</td>\n",
       "      <td>https://news.naver.com/main/read.nhn?mode=LS2D...</td>\n",
       "    </tr>\n",
       "    <tr>\n",
       "      <th>1158805</th>\n",
       "      <td>crawler-naver-politics-2018</td>\n",
       "      <td>2019-09-01T00:24:25.602042+09:00</td>\n",
       "      <td>홈쇼핑 송출 수수료 5년간 35% 증가…\"소비자 부담도 커져”</td>\n",
       "      <td>https://news.naver.com/main/read.nhn?mode=LS2D...</td>\n",
       "    </tr>\n",
       "  </tbody>\n",
       "</table>\n",
       "</div>"
      ],
      "text/plain": [
       "                               index                                id  \\\n",
       "733955   crawler-naver-politics-2018  2019-09-01T03:30:46.006002+09:00   \n",
       "733956   crawler-naver-politics-2018  2019-09-01T03:31:16.425226+09:00   \n",
       "736754   crawler-naver-politics-2018  2019-09-01T03:34:50.698673+09:00   \n",
       "1146317  crawler-naver-politics-2018  2019-08-31T15:40:45.098423+09:00   \n",
       "1158805  crawler-naver-politics-2018  2019-09-01T00:24:25.602042+09:00   \n",
       "\n",
       "                                      title  \\\n",
       "733955                             인사하는 선동열   \n",
       "733956                             선서하는 선동열   \n",
       "736754                             답변하는 선동열   \n",
       "1146317           [금주 뉴시스 포토④]국정감사에 참석한 선동열   \n",
       "1158805  홈쇼핑 송출 수수료 5년간 35% 증가…\"소비자 부담도 커져”   \n",
       "\n",
       "                                                       url  \n",
       "733955   https://news.naver.com/main/read.nhn?mode=LS2D...  \n",
       "733956   https://news.naver.com/main/read.nhn?mode=LS2D...  \n",
       "736754   https://news.naver.com/main/read.nhn?mode=LS2D...  \n",
       "1146317  https://news.naver.com/main/read.nhn?mode=LS2D...  \n",
       "1158805  https://news.naver.com/main/read.nhn?mode=LS2D...  "
      ]
     },
     "metadata": {},
     "output_type": "display_data"
    },
    {
     "data": {
      "text/plain": [
       "(1702620, None)"
      ]
     },
     "execution_count": 28,
     "metadata": {},
     "output_type": "execute_result"
    }
   ],
   "source": [
    "# error_df = df[ df['id'].str.find('2021') == 0 ]\n",
    "error_df = df[ df['id'].str.len() != 14 ]\n",
    "\n",
    "len(error_df), display(error_df.head())"
   ]
  },
  {
   "cell_type": "markdown",
   "metadata": {},
   "source": [
    "# 문서 아이디 변경"
   ]
  },
  {
   "cell_type": "code",
   "execution_count": null,
   "metadata": {
    "ExecuteTime": {
     "start_time": "2021-05-04T05:50:43.226Z"
    }
   },
   "outputs": [],
   "source": [
    "doc_id_list = []\n",
    "for no, row in error_df.iterrows():\n",
    "    if row['url'] is None:\n",
    "        continue\n",
    "        \n",
    "    doc_id_list.append((get_doc_id(url=row['url']), row))"
   ]
  },
  {
   "cell_type": "code",
   "execution_count": 15,
   "metadata": {
    "ExecuteTime": {
     "end_time": "2021-05-02T23:58:45.604299Z",
     "start_time": "2021-05-02T23:58:44.803951Z"
    }
   },
   "outputs": [
    {
     "data": {
      "text/html": [
       "<div>\n",
       "<style scoped>\n",
       "    .dataframe tbody tr th:only-of-type {\n",
       "        vertical-align: middle;\n",
       "    }\n",
       "\n",
       "    .dataframe tbody tr th {\n",
       "        vertical-align: top;\n",
       "    }\n",
       "\n",
       "    .dataframe thead th {\n",
       "        text-align: right;\n",
       "    }\n",
       "</style>\n",
       "<table border=\"1\" class=\"dataframe\">\n",
       "  <thead>\n",
       "    <tr style=\"text-align: right;\">\n",
       "      <th></th>\n",
       "      <th>index</th>\n",
       "      <th>id</th>\n",
       "      <th>title</th>\n",
       "      <th>url</th>\n",
       "    </tr>\n",
       "  </thead>\n",
       "  <tbody>\n",
       "    <tr>\n",
       "      <th>8031</th>\n",
       "      <td>crawler-naver-opinion-2019</td>\n",
       "      <td>088-0000572966</td>\n",
       "      <td>통합신공항으로 대구경북 비상의 날개를 달자</td>\n",
       "      <td>https://news.naver.com/main/read.nhn?mode=LSD&amp;...</td>\n",
       "    </tr>\n",
       "    <tr>\n",
       "      <th>8063</th>\n",
       "      <td>crawler-naver-opinion-2019</td>\n",
       "      <td>001-0010581471</td>\n",
       "      <td>[연합시론] 체육계 잇단 '미투'…우리 모두의 책임이다</td>\n",
       "      <td>https://news.naver.com/main/read.nhn?mode=LSD&amp;...</td>\n",
       "    </tr>\n",
       "    <tr>\n",
       "      <th>9310</th>\n",
       "      <td>crawler-naver-opinion-2019</td>\n",
       "      <td>001-0010733705</td>\n",
       "      <td>[천병혁의 야구세상] 김경문 \"선동열 감독 생각하면 아직 마음 아파\"</td>\n",
       "      <td>https://news.naver.com/main/read.nhn?mode=LSD&amp;...</td>\n",
       "    </tr>\n",
       "    <tr>\n",
       "      <th>10966</th>\n",
       "      <td>crawler-naver-opinion-2019</td>\n",
       "      <td>001-0010606816</td>\n",
       "      <td>[\\\\xec\\\\xb2\\\\x9c\\\\xeb\\\\xb3\\\\x91\\\\xed\\\\x98\\\\x81...</td>\n",
       "      <td>https://news.naver.com/main/read.nhn?mode=LSD&amp;...</td>\n",
       "    </tr>\n",
       "    <tr>\n",
       "      <th>28965</th>\n",
       "      <td>crawler-naver-opinion-2019</td>\n",
       "      <td>003-0009110562</td>\n",
       "      <td>\\\\xed\\\\x94\\\\x84\\\\xeb\\\\xa1\\\\x9c\\\\xec\\\\x95\\\\xbc\\...</td>\n",
       "      <td>https://news.naver.com/main/read.nhn?mode=LSD&amp;...</td>\n",
       "    </tr>\n",
       "    <tr>\n",
       "      <th>...</th>\n",
       "      <td>...</td>\n",
       "      <td>...</td>\n",
       "      <td>...</td>\n",
       "      <td>...</td>\n",
       "    </tr>\n",
       "    <tr>\n",
       "      <th>10902048</th>\n",
       "      <td>crawler-naver-it-2019</td>\n",
       "      <td>001-0010605300</td>\n",
       "      <td>KBS 아이돌 토크쇼 웹예능 '어썸 라이브'</td>\n",
       "      <td>https://news.naver.com/main/read.nhn?mode=LS2D...</td>\n",
       "    </tr>\n",
       "    <tr>\n",
       "      <th>10902058</th>\n",
       "      <td>crawler-naver-it-2019</td>\n",
       "      <td>003-0009407125</td>\n",
       "      <td>'KT 갤럭시노트10 런칭 파티 경품 1등을 축하하며'</td>\n",
       "      <td>https://news.naver.com/main/read.nhn?mode=LS2D...</td>\n",
       "    </tr>\n",
       "    <tr>\n",
       "      <th>10902068</th>\n",
       "      <td>crawler-naver-it-2019</td>\n",
       "      <td>001-0010998053</td>\n",
       "      <td>삼성 반도체 영화 '메모리즈', 개봉 일주일만에 3천만뷰 돌파</td>\n",
       "      <td>https://news.naver.com/main/read.nhn?mode=LS2D...</td>\n",
       "    </tr>\n",
       "    <tr>\n",
       "      <th>10902078</th>\n",
       "      <td>crawler-naver-it-2019</td>\n",
       "      <td>003-0009291570</td>\n",
       "      <td>'베리굿' 조현, 코스프레 선정성 가타부타···시끌시끌</td>\n",
       "      <td>https://news.naver.com/main/read.nhn?mode=LS2D...</td>\n",
       "    </tr>\n",
       "    <tr>\n",
       "      <th>10908806</th>\n",
       "      <td>crawler-naver-it-2019</td>\n",
       "      <td>001-0011154977</td>\n",
       "      <td>과기부, 국제 콘텐츠마켓서 초고화질 한국 콘텐츠 홍보</td>\n",
       "      <td>https://news.naver.com/main/read.nhn?mode=LS2D...</td>\n",
       "    </tr>\n",
       "  </tbody>\n",
       "</table>\n",
       "<p>55236 rows × 4 columns</p>\n",
       "</div>"
      ],
      "text/plain": [
       "                               index              id  \\\n",
       "8031      crawler-naver-opinion-2019  088-0000572966   \n",
       "8063      crawler-naver-opinion-2019  001-0010581471   \n",
       "9310      crawler-naver-opinion-2019  001-0010733705   \n",
       "10966     crawler-naver-opinion-2019  001-0010606816   \n",
       "28965     crawler-naver-opinion-2019  003-0009110562   \n",
       "...                              ...             ...   \n",
       "10902048       crawler-naver-it-2019  001-0010605300   \n",
       "10902058       crawler-naver-it-2019  003-0009407125   \n",
       "10902068       crawler-naver-it-2019  001-0010998053   \n",
       "10902078       crawler-naver-it-2019  003-0009291570   \n",
       "10908806       crawler-naver-it-2019  001-0011154977   \n",
       "\n",
       "                                                      title  \\\n",
       "8031                                통합신공항으로 대구경북 비상의 날개를 달자   \n",
       "8063                         [연합시론] 체육계 잇단 '미투'…우리 모두의 책임이다   \n",
       "9310                 [천병혁의 야구세상] 김경문 \"선동열 감독 생각하면 아직 마음 아파\"   \n",
       "10966     [\\\\xec\\\\xb2\\\\x9c\\\\xeb\\\\xb3\\\\x91\\\\xed\\\\x98\\\\x81...   \n",
       "28965     \\\\xed\\\\x94\\\\x84\\\\xeb\\\\xa1\\\\x9c\\\\xec\\\\x95\\\\xbc\\...   \n",
       "...                                                     ...   \n",
       "10902048                           KBS 아이돌 토크쇼 웹예능 '어썸 라이브'   \n",
       "10902058                     'KT 갤럭시노트10 런칭 파티 경품 1등을 축하하며'   \n",
       "10902068                 삼성 반도체 영화 '메모리즈', 개봉 일주일만에 3천만뷰 돌파   \n",
       "10902078                     '베리굿' 조현, 코스프레 선정성 가타부타···시끌시끌   \n",
       "10908806                      과기부, 국제 콘텐츠마켓서 초고화질 한국 콘텐츠 홍보   \n",
       "\n",
       "                                                        url  \n",
       "8031      https://news.naver.com/main/read.nhn?mode=LSD&...  \n",
       "8063      https://news.naver.com/main/read.nhn?mode=LSD&...  \n",
       "9310      https://news.naver.com/main/read.nhn?mode=LSD&...  \n",
       "10966     https://news.naver.com/main/read.nhn?mode=LSD&...  \n",
       "28965     https://news.naver.com/main/read.nhn?mode=LSD&...  \n",
       "...                                                     ...  \n",
       "10902048  https://news.naver.com/main/read.nhn?mode=LS2D...  \n",
       "10902058  https://news.naver.com/main/read.nhn?mode=LS2D...  \n",
       "10902068  https://news.naver.com/main/read.nhn?mode=LS2D...  \n",
       "10902078  https://news.naver.com/main/read.nhn?mode=LS2D...  \n",
       "10908806  https://news.naver.com/main/read.nhn?mode=LS2D...  \n",
       "\n",
       "[55236 rows x 4 columns]"
      ]
     },
     "execution_count": 15,
     "metadata": {},
     "output_type": "execute_result"
    }
   ],
   "source": [
    "df[ df['id'].isin([x[0] for x in doc_id_list]) ]"
   ]
  },
  {
   "cell_type": "code",
   "execution_count": 16,
   "metadata": {
    "ExecuteTime": {
     "end_time": "2021-05-02T23:58:45.614429Z",
     "start_time": "2021-05-02T23:58:45.605689Z"
    },
    "scrolled": true
   },
   "outputs": [
    {
     "data": {
      "text/plain": [
       "(1574626,\n",
       " [('003-0009091871',\n",
       "   index                           crawler-naver-opinion-2019\n",
       "   id                                  20190304_233315.862944\n",
       "   title                                   [기자수첩]밴드 해체와 1인 가구\n",
       "   url      https://news.naver.com/main/read.nhn?mode=LSD&...\n",
       "   Name: 5435, dtype: object),\n",
       "  ('003-0009091871',\n",
       "   index                           crawler-naver-opinion-2019\n",
       "   id                                  20190304_191051.209450\n",
       "   title                                   [기자수첩]밴드 해체와 1인 가구\n",
       "   url      https://news.naver.com/main/read.nhn?mode=LSD&...\n",
       "   Name: 5436, dtype: object),\n",
       "  ('001-0010705060',\n",
       "   index                           crawler-naver-opinion-2019\n",
       "   id                                  20190320_085108.625709\n",
       "   title               [천병혁의 야구세상] 감독의 팀 운영과 선수의 반발, 문제는 프로의식\n",
       "   url      https://news.naver.com/main/read.nhn?mode=LSD&...\n",
       "   Name: 5536, dtype: object)])"
      ]
     },
     "execution_count": 16,
     "metadata": {},
     "output_type": "execute_result"
    }
   ],
   "source": [
    "len(doc_id_list), doc_id_list[:3]"
   ]
  },
  {
   "cell_type": "code",
   "execution_count": 21,
   "metadata": {
    "ExecuteTime": {
     "end_time": "2021-05-04T02:15:07.775757Z",
     "start_time": "2021-05-04T02:15:07.766647Z"
    },
    "code_folding": []
   },
   "outputs": [],
   "source": [
    "def change_doc_id(id_list: list, index: str) -> None:\n",
    "    doc_list = []\n",
    "    es.get_by_ids(index=index, id_list=id_list, result=doc_list)\n",
    "\n",
    "    bulk = []\n",
    "    for doc in doc_list:\n",
    "        prev_id = doc['document_id']\n",
    "        for k in '_index,_id,document_id'.split(','):\n",
    "            if k not in doc:\n",
    "                continue\n",
    "            del doc[k]\n",
    "\n",
    "        doc_id = get_doc_id(url=doc['url'])\n",
    "        bulk += [{\n",
    "            'delete': {\n",
    "                '_id': prev_id,\n",
    "                '_index': index,\n",
    "            }\n",
    "        }, {\n",
    "            'update': {\n",
    "                '_id': doc_id,\n",
    "                '_index': index,\n",
    "            }\n",
    "        }, {\n",
    "            'doc': doc,\n",
    "            'doc_as_upsert': True,\n",
    "        }]\n",
    "        \n",
    "    if len(bulk) == 0:\n",
    "        return\n",
    "        \n",
    "    try:\n",
    "        es.conn.bulk(\n",
    "            index=index,\n",
    "            body=bulk,\n",
    "            refresh=True,\n",
    "            params={'request_timeout': 620},\n",
    "        )\n",
    "    except Exception as e:\n",
    "        pass\n",
    "    \n",
    "    return"
   ]
  },
  {
   "cell_type": "code",
   "execution_count": 22,
   "metadata": {
    "ExecuteTime": {
     "end_time": "2021-05-04T04:43:45.740183Z",
     "start_time": "2021-05-04T02:15:08.688218Z"
    },
    "code_folding": []
   },
   "outputs": [
    {
     "name": "stderr",
     "output_type": "stream",
     "text": [
      " 52%|█████▏    | 820763/1574626 [00:48<00:43, 17483.55it/s]POST https://corpus.ncsoft.com:9200/crawler-naver-international-2019/_bulk?refresh=true [status:413 request:6.307s]\n",
      "100%|██████████| 1574626/1574626 [2:28:37<00:00, 176.59it/s]  \n"
     ]
    }
   ],
   "source": [
    "buf = defaultdict(list)\n",
    "for doc_id, row in tqdm(doc_id_list):\n",
    "    index = row['index']\n",
    "    buf[index].append(row['id'])\n",
    "\n",
    "    if len(buf[index]) > 500:\n",
    "        change_doc_id(id_list=buf[index], index=index)\n",
    "        del buf[index]"
   ]
  },
  {
   "cell_type": "code",
   "execution_count": 23,
   "metadata": {
    "ExecuteTime": {
     "end_time": "2021-05-04T04:45:15.038637Z",
     "start_time": "2021-05-04T04:43:45.741235Z"
    }
   },
   "outputs": [],
   "source": [
    "for index, id_list in buf.items():\n",
    "    change_doc_id(id_list=id_list, index=index)"
   ]
  },
  {
   "cell_type": "code",
   "execution_count": null,
   "metadata": {},
   "outputs": [],
   "source": []
  }
 ],
 "metadata": {
  "kernelspec": {
   "display_name": "Python 3",
   "language": "python",
   "name": "python3"
  },
  "language_info": {
   "codemirror_mode": {
    "name": "ipython",
    "version": 3
   },
   "file_extension": ".py",
   "mimetype": "text/x-python",
   "name": "python",
   "nbconvert_exporter": "python",
   "pygments_lexer": "ipython3",
   "version": "3.8.5"
  },
  "latex_envs": {
   "LaTeX_envs_menu_present": true,
   "autoclose": false,
   "autocomplete": true,
   "bibliofile": "biblio.bib",
   "cite_by": "apalike",
   "current_citInitial": 1,
   "eqLabelWithNumbers": true,
   "eqNumInitial": 1,
   "hotkeys": {
    "equation": "Ctrl-E",
    "itemize": "Ctrl-I"
   },
   "labels_anchors": false,
   "latex_user_defs": false,
   "report_style_numbering": false,
   "user_envs_cfg": false
  },
  "toc": {
   "base_numbering": 1,
   "nav_menu": {},
   "number_sections": false,
   "sideBar": false,
   "skip_h1_title": false,
   "title_cell": "Table of Contents",
   "title_sidebar": "Contents",
   "toc_cell": false,
   "toc_position": {},
   "toc_section_display": false,
   "toc_window_display": false
  },
  "varInspector": {
   "cols": {
    "lenName": 16,
    "lenType": 16,
    "lenVar": 40
   },
   "kernels_config": {
    "python": {
     "delete_cmd_postfix": "",
     "delete_cmd_prefix": "del ",
     "library": "var_list.py",
     "varRefreshCmd": "print(var_dic_list())"
    },
    "r": {
     "delete_cmd_postfix": ") ",
     "delete_cmd_prefix": "rm(",
     "library": "var_list.r",
     "varRefreshCmd": "cat(var_dic_list()) "
    }
   },
   "types_to_exclude": [
    "module",
    "function",
    "builtin_function_or_method",
    "instance",
    "_Feature"
   ],
   "window_display": false
  }
 },
 "nbformat": 4,
 "nbformat_minor": 2
}
