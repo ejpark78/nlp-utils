{
 "cells": [
  {
   "cell_type": "markdown",
   "metadata": {},
   "source": [
    "# 중복 문서 점검"
   ]
  },
  {
   "cell_type": "code",
   "execution_count": 1,
   "metadata": {
    "ExecuteTime": {
     "end_time": "2021-05-02T23:52:36.752242Z",
     "start_time": "2021-05-02T23:52:36.727547Z"
    }
   },
   "outputs": [],
   "source": [
    "%load_ext autoreload\n",
    "%autoreload 2"
   ]
  },
  {
   "cell_type": "code",
   "execution_count": 2,
   "metadata": {
    "ExecuteTime": {
     "end_time": "2021-05-02T23:52:40.622325Z",
     "start_time": "2021-05-02T23:52:37.296977Z"
    }
   },
   "outputs": [
    {
     "name": "stderr",
     "output_type": "stream",
     "text": [
      "/usr/lib/python3/dist-packages/requests/__init__.py:89: RequestsDependencyWarning: urllib3 (1.26.2) or chardet (3.0.4) doesn't match a supported version!\n",
      "  warnings.warn(\"urllib3 ({}) or chardet ({}) doesn't match a supported \"\n",
      "/home/ejpark/workspace/dev/crawler/crawler/utils/es.py:26: TqdmExperimentalWarning: Using `tqdm.autonotebook.tqdm` in notebook mode. Use `tqdm.tqdm` instead to force console mode (e.g. in jupyter console)\n",
      "  from tqdm.autonotebook import tqdm\n"
     ]
    }
   ],
   "source": [
    "import re\n",
    "import bz2\n",
    "import json\n",
    "import pandas as pd\n",
    "from tqdm import tqdm\n",
    "from glob import glob\n",
    "from collections import defaultdict\n",
    "from IPython.display import display\n",
    "from crawler.utils.es import ElasticSearchUtils"
   ]
  },
  {
   "cell_type": "code",
   "execution_count": null,
   "metadata": {
    "ExecuteTime": {
     "end_time": "2021-04-30T02:06:14.943429Z",
     "start_time": "2021-04-30T02:06:14.935061Z"
    },
    "code_folding": [
     0
    ]
   },
   "outputs": [],
   "source": [
    "def read_merged_size(filename):\n",
    "    data = defaultdict(dict)\n",
    "    \n",
    "    with open(filename, 'r') as fp:\n",
    "        for l in fp:\n",
    "            if l.strip() == '':\n",
    "                continue\n",
    "\n",
    "            index, count = re.sub('\\s+', '\\t', l.strip()).split('\\t')\n",
    "            count = int(count)\n",
    "\n",
    "            if 'merged' in index:            \n",
    "                data[index.replace('-merged', '')]['backfill'] = count\n",
    "            else:\n",
    "                data[index]['corpus'] = count\n",
    "\n",
    "    count_df = pd.DataFrame(data).T\n",
    "    count_df = count_df[ count_df.index.str.find('2020') > 0 ]\n",
    "\n",
    "    return f\"{count_df['corpus'].sum(axis=0):,}\", f\"{count_df['backfill'].sum(axis=0):,}\", display(count_df)\n",
    "\n",
    "read_merged_size(filename='../data/es_dump/merged-size.txt')"
   ]
  },
  {
   "cell_type": "code",
   "execution_count": 3,
   "metadata": {
    "ExecuteTime": {
     "end_time": "2021-05-02T23:52:40.721557Z",
     "start_time": "2021-05-02T23:52:40.681298Z"
    }
   },
   "outputs": [],
   "source": [
    "es = ElasticSearchUtils(host='https://corpus.ncsoft.com:9200', encoded_auth='ZWxhc3RpYzpubHBsYWI=')"
   ]
  },
  {
   "cell_type": "code",
   "execution_count": 4,
   "metadata": {
    "ExecuteTime": {
     "end_time": "2021-05-02T23:52:43.649403Z",
     "start_time": "2021-05-02T23:52:43.641196Z"
    },
    "code_folding": [
     0
    ]
   },
   "outputs": [],
   "source": [
    "def read_ids(path: str) -> list:\n",
    "    result = []\n",
    "    for filename in tqdm(glob(path)):\n",
    "        with bz2.open(filename, 'r') as fp:\n",
    "            result += [x.decode('utf-8').rstrip().split('\\t') for x in fp if x.decode('utf-8').strip() != '']\n",
    "            \n",
    "    return result"
   ]
  },
  {
   "cell_type": "code",
   "execution_count": 5,
   "metadata": {
    "ExecuteTime": {
     "end_time": "2021-05-02T23:52:44.076673Z",
     "start_time": "2021-05-02T23:52:44.050571Z"
    },
    "code_folding": [
     0
    ]
   },
   "outputs": [],
   "source": [
    "def get_doc_id(url: str) -> str or None:\n",
    "    oid = re.search('oid=(\\d+)', url)\n",
    "    aid = re.search('aid=(\\d+)', url)\n",
    "    \n",
    "    if oid is None and aid is None:\n",
    "        return None\n",
    "        \n",
    "    return f'{oid.groups()[0]}-{aid.groups()[0]}'"
   ]
  },
  {
   "cell_type": "code",
   "execution_count": 9,
   "metadata": {
    "ExecuteTime": {
     "end_time": "2021-05-02T23:54:34.561129Z",
     "start_time": "2021-05-02T23:53:17.080263Z"
    }
   },
   "outputs": [
    {
     "name": "stderr",
     "output_type": "stream",
     "text": [
      "100%|██████████| 19/19 [01:17<00:00,  4.08s/it]\n"
     ]
    },
    {
     "data": {
      "text/plain": [
       "[['crawler-naver-weather-2019',\n",
       "  '003-0009578030',\n",
       "  '강원 산간 밤부터 최고 30㎝ 눈…대설특보 발령 예상',\n",
       "  'http://news.naver.com/main/read.nhn?mode=LS2D&mid=sec&sid1=103&sid2=248&oid=003&aid=0009578030'],\n",
       " ['crawler-naver-weather-2019',\n",
       "  '421-0004327964',\n",
       "  \"'최대 30cm 눈' 강원 산지 대설예비특보…찬 북동풍 유입 원인\",\n",
       "  'http://news.naver.com/main/read.nhn?mode=LS2D&mid=sec&sid1=103&sid2=248&oid=421&aid=0004327964'],\n",
       " ['crawler-naver-weather-2019',\n",
       "  '422-0000403077',\n",
       "  '[날씨트리] 내일 기온 다소 내려가…동해안 많은 눈·비',\n",
       "  'http://news.naver.com/main/read.nhn?mode=LS2D&mid=sec&sid1=103&sid2=248&oid=422&aid=0000403077']]"
      ]
     },
     "execution_count": 9,
     "metadata": {},
     "output_type": "execute_result"
    }
   ],
   "source": [
    "ids = read_ids(path='../data/es_dump/corpus/doc_ids/crawler-naver-*-2019.ids.tsv.bz2')\n",
    "\n",
    "ids[:3]"
   ]
  },
  {
   "cell_type": "code",
   "execution_count": 10,
   "metadata": {
    "ExecuteTime": {
     "end_time": "2021-05-02T23:55:49.676803Z",
     "start_time": "2021-05-02T23:55:45.938232Z"
    }
   },
   "outputs": [
    {
     "data": {
      "text/html": [
       "<div>\n",
       "<style scoped>\n",
       "    .dataframe tbody tr th:only-of-type {\n",
       "        vertical-align: middle;\n",
       "    }\n",
       "\n",
       "    .dataframe tbody tr th {\n",
       "        vertical-align: top;\n",
       "    }\n",
       "\n",
       "    .dataframe thead th {\n",
       "        text-align: right;\n",
       "    }\n",
       "</style>\n",
       "<table border=\"1\" class=\"dataframe\">\n",
       "  <thead>\n",
       "    <tr style=\"text-align: right;\">\n",
       "      <th></th>\n",
       "      <th>index</th>\n",
       "      <th>id</th>\n",
       "      <th>title</th>\n",
       "      <th>url</th>\n",
       "    </tr>\n",
       "  </thead>\n",
       "  <tbody>\n",
       "    <tr>\n",
       "      <th>0</th>\n",
       "      <td>crawler-naver-weather-2019</td>\n",
       "      <td>003-0009578030</td>\n",
       "      <td>강원 산간 밤부터 최고 30㎝ 눈…대설특보 발령 예상</td>\n",
       "      <td>http://news.naver.com/main/read.nhn?mode=LS2D&amp;...</td>\n",
       "    </tr>\n",
       "    <tr>\n",
       "      <th>1</th>\n",
       "      <td>crawler-naver-weather-2019</td>\n",
       "      <td>421-0004327964</td>\n",
       "      <td>'최대 30cm 눈' 강원 산지 대설예비특보…찬 북동풍 유입 원인</td>\n",
       "      <td>http://news.naver.com/main/read.nhn?mode=LS2D&amp;...</td>\n",
       "    </tr>\n",
       "    <tr>\n",
       "      <th>2</th>\n",
       "      <td>crawler-naver-weather-2019</td>\n",
       "      <td>422-0000403077</td>\n",
       "      <td>[날씨트리] 내일 기온 다소 내려가…동해안 많은 눈·비</td>\n",
       "      <td>http://news.naver.com/main/read.nhn?mode=LS2D&amp;...</td>\n",
       "    </tr>\n",
       "    <tr>\n",
       "      <th>3</th>\n",
       "      <td>crawler-naver-weather-2019</td>\n",
       "      <td>052-0001370493</td>\n",
       "      <td>[날씨] 낮 동안 맑고 쌀쌀...강원 산간 '대설예비특보'</td>\n",
       "      <td>http://news.naver.com/main/read.nhn?mode=LS2D&amp;...</td>\n",
       "    </tr>\n",
       "    <tr>\n",
       "      <th>4</th>\n",
       "      <td>crawler-naver-weather-2019</td>\n",
       "      <td>422-0000403124</td>\n",
       "      <td>[날씨톡톡] 한낮에도 쌀쌀…동해안 오후부터 비·눈</td>\n",
       "      <td>http://news.naver.com/main/read.nhn?mode=LS2D&amp;...</td>\n",
       "    </tr>\n",
       "  </tbody>\n",
       "</table>\n",
       "</div>"
      ],
      "text/plain": [
       "                        index              id  \\\n",
       "0  crawler-naver-weather-2019  003-0009578030   \n",
       "1  crawler-naver-weather-2019  421-0004327964   \n",
       "2  crawler-naver-weather-2019  422-0000403077   \n",
       "3  crawler-naver-weather-2019  052-0001370493   \n",
       "4  crawler-naver-weather-2019  422-0000403124   \n",
       "\n",
       "                                  title  \\\n",
       "0         강원 산간 밤부터 최고 30㎝ 눈…대설특보 발령 예상   \n",
       "1  '최대 30cm 눈' 강원 산지 대설예비특보…찬 북동풍 유입 원인   \n",
       "2        [날씨트리] 내일 기온 다소 내려가…동해안 많은 눈·비   \n",
       "3      [날씨] 낮 동안 맑고 쌀쌀...강원 산간 '대설예비특보'   \n",
       "4           [날씨톡톡] 한낮에도 쌀쌀…동해안 오후부터 비·눈   \n",
       "\n",
       "                                                 url  \n",
       "0  http://news.naver.com/main/read.nhn?mode=LS2D&...  \n",
       "1  http://news.naver.com/main/read.nhn?mode=LS2D&...  \n",
       "2  http://news.naver.com/main/read.nhn?mode=LS2D&...  \n",
       "3  http://news.naver.com/main/read.nhn?mode=LS2D&...  \n",
       "4  http://news.naver.com/main/read.nhn?mode=LS2D&...  "
      ]
     },
     "metadata": {},
     "output_type": "display_data"
    },
    {
     "data": {
      "text/plain": [
       "(10929873, None)"
      ]
     },
     "execution_count": 10,
     "metadata": {},
     "output_type": "execute_result"
    }
   ],
   "source": [
    "df = pd.DataFrame(ids, columns=['index', 'id', 'title', 'url'])\n",
    "\n",
    "len(df), display(df.head())"
   ]
  },
  {
   "cell_type": "code",
   "execution_count": 11,
   "metadata": {
    "ExecuteTime": {
     "end_time": "2021-05-02T23:56:02.381091Z",
     "start_time": "2021-05-02T23:55:49.677964Z"
    },
    "scrolled": true
   },
   "outputs": [
    {
     "data": {
      "text/html": [
       "<div>\n",
       "<style scoped>\n",
       "    .dataframe tbody tr th:only-of-type {\n",
       "        vertical-align: middle;\n",
       "    }\n",
       "\n",
       "    .dataframe tbody tr th {\n",
       "        vertical-align: top;\n",
       "    }\n",
       "\n",
       "    .dataframe thead th {\n",
       "        text-align: right;\n",
       "    }\n",
       "</style>\n",
       "<table border=\"1\" class=\"dataframe\">\n",
       "  <thead>\n",
       "    <tr style=\"text-align: right;\">\n",
       "      <th></th>\n",
       "      <th>0</th>\n",
       "    </tr>\n",
       "    <tr>\n",
       "      <th>id</th>\n",
       "      <th></th>\n",
       "    </tr>\n",
       "  </thead>\n",
       "  <tbody>\n",
       "    <tr>\n",
       "      <th>001-0010555244</th>\n",
       "      <td>3</td>\n",
       "    </tr>\n",
       "    <tr>\n",
       "      <th>001-0010555245</th>\n",
       "      <td>3</td>\n",
       "    </tr>\n",
       "    <tr>\n",
       "      <th>001-0010555247</th>\n",
       "      <td>3</td>\n",
       "    </tr>\n",
       "    <tr>\n",
       "      <th>001-0010555248</th>\n",
       "      <td>3</td>\n",
       "    </tr>\n",
       "    <tr>\n",
       "      <th>001-0010555372</th>\n",
       "      <td>3</td>\n",
       "    </tr>\n",
       "    <tr>\n",
       "      <th>...</th>\n",
       "      <td>...</td>\n",
       "    </tr>\n",
       "    <tr>\n",
       "      <th>629-0000008395</th>\n",
       "      <td>4</td>\n",
       "    </tr>\n",
       "    <tr>\n",
       "      <th>629-0000008440</th>\n",
       "      <td>4</td>\n",
       "    </tr>\n",
       "    <tr>\n",
       "      <th>629-0000008518</th>\n",
       "      <td>4</td>\n",
       "    </tr>\n",
       "    <tr>\n",
       "      <th>629-0000008574</th>\n",
       "      <td>4</td>\n",
       "    </tr>\n",
       "    <tr>\n",
       "      <th>629-0000008575</th>\n",
       "      <td>4</td>\n",
       "    </tr>\n",
       "  </tbody>\n",
       "</table>\n",
       "<p>839167 rows × 1 columns</p>\n",
       "</div>"
      ],
      "text/plain": [
       "                0\n",
       "id               \n",
       "001-0010555244  3\n",
       "001-0010555245  3\n",
       "001-0010555247  3\n",
       "001-0010555248  3\n",
       "001-0010555372  3\n",
       "...            ..\n",
       "629-0000008395  4\n",
       "629-0000008440  4\n",
       "629-0000008518  4\n",
       "629-0000008574  4\n",
       "629-0000008575  4\n",
       "\n",
       "[839167 rows x 1 columns]"
      ]
     },
     "metadata": {},
     "output_type": "display_data"
    },
    {
     "data": {
      "text/html": [
       "<div>\n",
       "<style scoped>\n",
       "    .dataframe tbody tr th:only-of-type {\n",
       "        vertical-align: middle;\n",
       "    }\n",
       "\n",
       "    .dataframe tbody tr th {\n",
       "        vertical-align: top;\n",
       "    }\n",
       "\n",
       "    .dataframe thead th {\n",
       "        text-align: right;\n",
       "    }\n",
       "</style>\n",
       "<table border=\"1\" class=\"dataframe\">\n",
       "  <thead>\n",
       "    <tr style=\"text-align: right;\">\n",
       "      <th></th>\n",
       "      <th>0</th>\n",
       "    </tr>\n",
       "    <tr>\n",
       "      <th>id</th>\n",
       "      <th></th>\n",
       "    </tr>\n",
       "  </thead>\n",
       "  <tbody>\n",
       "    <tr>\n",
       "      <th>001-0010551768</th>\n",
       "      <td>2</td>\n",
       "    </tr>\n",
       "    <tr>\n",
       "      <th>001-0010551812</th>\n",
       "      <td>2</td>\n",
       "    </tr>\n",
       "    <tr>\n",
       "      <th>001-0010551862</th>\n",
       "      <td>2</td>\n",
       "    </tr>\n",
       "    <tr>\n",
       "      <th>001-0010552077</th>\n",
       "      <td>2</td>\n",
       "    </tr>\n",
       "    <tr>\n",
       "      <th>001-0010552081</th>\n",
       "      <td>2</td>\n",
       "    </tr>\n",
       "    <tr>\n",
       "      <th>...</th>\n",
       "      <td>...</td>\n",
       "    </tr>\n",
       "    <tr>\n",
       "      <th>629-0000008575</th>\n",
       "      <td>4</td>\n",
       "    </tr>\n",
       "    <tr>\n",
       "      <th>629-0000008576</th>\n",
       "      <td>2</td>\n",
       "    </tr>\n",
       "    <tr>\n",
       "      <th>629-0000008577</th>\n",
       "      <td>2</td>\n",
       "    </tr>\n",
       "    <tr>\n",
       "      <th>629-0000008578</th>\n",
       "      <td>2</td>\n",
       "    </tr>\n",
       "    <tr>\n",
       "      <th>629-0000008581</th>\n",
       "      <td>2</td>\n",
       "    </tr>\n",
       "  </tbody>\n",
       "</table>\n",
       "<p>3614978 rows × 1 columns</p>\n",
       "</div>"
      ],
      "text/plain": [
       "                0\n",
       "id               \n",
       "001-0010551768  2\n",
       "001-0010551812  2\n",
       "001-0010551862  2\n",
       "001-0010552077  2\n",
       "001-0010552081  2\n",
       "...            ..\n",
       "629-0000008575  4\n",
       "629-0000008576  2\n",
       "629-0000008577  2\n",
       "629-0000008578  2\n",
       "629-0000008581  2\n",
       "\n",
       "[3614978 rows x 1 columns]"
      ]
     },
     "metadata": {},
     "output_type": "display_data"
    },
    {
     "data": {
      "text/plain": [
       "(None, None)"
      ]
     },
     "execution_count": 11,
     "metadata": {},
     "output_type": "execute_result"
    }
   ],
   "source": [
    "doc_count = df.groupby(by='id').size().to_frame()\n",
    "\n",
    "display(doc_count[ doc_count[0] > 2 ]), display(doc_count[ doc_count[0] > 1 ])"
   ]
  },
  {
   "cell_type": "code",
   "execution_count": 12,
   "metadata": {
    "ExecuteTime": {
     "end_time": "2021-05-02T23:56:15.690938Z",
     "start_time": "2021-05-02T23:56:02.382269Z"
    },
    "scrolled": true
   },
   "outputs": [
    {
     "data": {
      "text/html": [
       "<div>\n",
       "<style scoped>\n",
       "    .dataframe tbody tr th:only-of-type {\n",
       "        vertical-align: middle;\n",
       "    }\n",
       "\n",
       "    .dataframe tbody tr th {\n",
       "        vertical-align: top;\n",
       "    }\n",
       "\n",
       "    .dataframe thead th {\n",
       "        text-align: right;\n",
       "    }\n",
       "</style>\n",
       "<table border=\"1\" class=\"dataframe\">\n",
       "  <thead>\n",
       "    <tr style=\"text-align: right;\">\n",
       "      <th></th>\n",
       "      <th>0</th>\n",
       "    </tr>\n",
       "    <tr>\n",
       "      <th>url</th>\n",
       "      <th></th>\n",
       "    </tr>\n",
       "  </thead>\n",
       "  <tbody>\n",
       "    <tr>\n",
       "      <th>https://news.naver.com/main/read.nhn?mode=LS2D&amp;mid=shm&amp;sid1=100&amp;sid2=264&amp;oid=001&amp;aid=0010555439</th>\n",
       "      <td>3</td>\n",
       "    </tr>\n",
       "    <tr>\n",
       "      <th>https://news.naver.com/main/read.nhn?mode=LS2D&amp;mid=shm&amp;sid1=100&amp;sid2=264&amp;oid=001&amp;aid=0010555572</th>\n",
       "      <td>3</td>\n",
       "    </tr>\n",
       "    <tr>\n",
       "      <th>https://news.naver.com/main/read.nhn?mode=LS2D&amp;mid=shm&amp;sid1=100&amp;sid2=264&amp;oid=001&amp;aid=0010555714</th>\n",
       "      <td>3</td>\n",
       "    </tr>\n",
       "    <tr>\n",
       "      <th>https://news.naver.com/main/read.nhn?mode=LS2D&amp;mid=shm&amp;sid1=100&amp;sid2=264&amp;oid=001&amp;aid=0010555996</th>\n",
       "      <td>3</td>\n",
       "    </tr>\n",
       "    <tr>\n",
       "      <th>https://news.naver.com/main/read.nhn?mode=LS2D&amp;mid=shm&amp;sid1=100&amp;sid2=264&amp;oid=001&amp;aid=0010555997</th>\n",
       "      <td>3</td>\n",
       "    </tr>\n",
       "    <tr>\n",
       "      <th>...</th>\n",
       "      <td>...</td>\n",
       "    </tr>\n",
       "    <tr>\n",
       "      <th>https://sports.news.naver.com/kbaseball/news/read.nhn?oid=529&amp;aid=0000039687</th>\n",
       "      <td>3</td>\n",
       "    </tr>\n",
       "    <tr>\n",
       "      <th>https://sports.news.naver.com/kbaseball/news/read.nhn?oid=529&amp;aid=0000039691</th>\n",
       "      <td>3</td>\n",
       "    </tr>\n",
       "    <tr>\n",
       "      <th>https://sports.news.naver.com/kbaseball/news/read.nhn?oid=529&amp;aid=0000039692</th>\n",
       "      <td>3</td>\n",
       "    </tr>\n",
       "    <tr>\n",
       "      <th>https://sports.news.naver.com/kbaseball/news/read.nhn?oid=529&amp;aid=0000039702</th>\n",
       "      <td>3</td>\n",
       "    </tr>\n",
       "    <tr>\n",
       "      <th>https://sports.news.naver.com/kbaseball/news/read.nhn?oid=529&amp;aid=0000039709</th>\n",
       "      <td>3</td>\n",
       "    </tr>\n",
       "  </tbody>\n",
       "</table>\n",
       "<p>424022 rows × 1 columns</p>\n",
       "</div>"
      ],
      "text/plain": [
       "                                                    0\n",
       "url                                                  \n",
       "https://news.naver.com/main/read.nhn?mode=LS2D&...  3\n",
       "https://news.naver.com/main/read.nhn?mode=LS2D&...  3\n",
       "https://news.naver.com/main/read.nhn?mode=LS2D&...  3\n",
       "https://news.naver.com/main/read.nhn?mode=LS2D&...  3\n",
       "https://news.naver.com/main/read.nhn?mode=LS2D&...  3\n",
       "...                                                ..\n",
       "https://sports.news.naver.com/kbaseball/news/re...  3\n",
       "https://sports.news.naver.com/kbaseball/news/re...  3\n",
       "https://sports.news.naver.com/kbaseball/news/re...  3\n",
       "https://sports.news.naver.com/kbaseball/news/re...  3\n",
       "https://sports.news.naver.com/kbaseball/news/re...  3\n",
       "\n",
       "[424022 rows x 1 columns]"
      ]
     },
     "metadata": {},
     "output_type": "display_data"
    },
    {
     "data": {
      "text/html": [
       "<div>\n",
       "<style scoped>\n",
       "    .dataframe tbody tr th:only-of-type {\n",
       "        vertical-align: middle;\n",
       "    }\n",
       "\n",
       "    .dataframe tbody tr th {\n",
       "        vertical-align: top;\n",
       "    }\n",
       "\n",
       "    .dataframe thead th {\n",
       "        text-align: right;\n",
       "    }\n",
       "</style>\n",
       "<table border=\"1\" class=\"dataframe\">\n",
       "  <thead>\n",
       "    <tr style=\"text-align: right;\">\n",
       "      <th></th>\n",
       "      <th>0</th>\n",
       "    </tr>\n",
       "    <tr>\n",
       "      <th>url</th>\n",
       "      <th></th>\n",
       "    </tr>\n",
       "  </thead>\n",
       "  <tbody>\n",
       "    <tr>\n",
       "      <th>https://entertain.naver.com/read?oid=382&amp;aid=0000720804</th>\n",
       "      <td>2</td>\n",
       "    </tr>\n",
       "    <tr>\n",
       "      <th>https://news.naver.com/main/read.nhn?mode=LS2D&amp;mid=shm&amp;sid1=100&amp;sid2=264&amp;oid=001&amp;aid=0010555244</th>\n",
       "      <td>2</td>\n",
       "    </tr>\n",
       "    <tr>\n",
       "      <th>https://news.naver.com/main/read.nhn?mode=LS2D&amp;mid=shm&amp;sid1=100&amp;sid2=264&amp;oid=001&amp;aid=0010555245</th>\n",
       "      <td>2</td>\n",
       "    </tr>\n",
       "    <tr>\n",
       "      <th>https://news.naver.com/main/read.nhn?mode=LS2D&amp;mid=shm&amp;sid1=100&amp;sid2=264&amp;oid=001&amp;aid=0010555247</th>\n",
       "      <td>2</td>\n",
       "    </tr>\n",
       "    <tr>\n",
       "      <th>https://news.naver.com/main/read.nhn?mode=LS2D&amp;mid=shm&amp;sid1=100&amp;sid2=264&amp;oid=001&amp;aid=0010555248</th>\n",
       "      <td>2</td>\n",
       "    </tr>\n",
       "    <tr>\n",
       "      <th>...</th>\n",
       "      <td>...</td>\n",
       "    </tr>\n",
       "    <tr>\n",
       "      <th>https://sports.news.naver.com/wbaseball/news/read.nhn?oid=023&amp;aid=0003494173</th>\n",
       "      <td>2</td>\n",
       "    </tr>\n",
       "    <tr>\n",
       "      <th>https://sports.news.naver.com/wbaseball/news/read.nhn?oid=468&amp;aid=0000604375</th>\n",
       "      <td>2</td>\n",
       "    </tr>\n",
       "    <tr>\n",
       "      <th>https://sports.news.naver.com/wfootball/news/read.nhn?oid=091&amp;aid=0007053376</th>\n",
       "      <td>2</td>\n",
       "    </tr>\n",
       "    <tr>\n",
       "      <th>https://sports.news.naver.com/wfootball/news/read.nhn?oid=109&amp;aid=0003949291</th>\n",
       "      <td>2</td>\n",
       "    </tr>\n",
       "    <tr>\n",
       "      <th>https://sports.news.naver.com/wfootball/news/read.nhn?oid=382&amp;aid=0000706872</th>\n",
       "      <td>2</td>\n",
       "    </tr>\n",
       "  </tbody>\n",
       "</table>\n",
       "<p>3050743 rows × 1 columns</p>\n",
       "</div>"
      ],
      "text/plain": [
       "                                                    0\n",
       "url                                                  \n",
       "https://entertain.naver.com/read?oid=382&aid=00...  2\n",
       "https://news.naver.com/main/read.nhn?mode=LS2D&...  2\n",
       "https://news.naver.com/main/read.nhn?mode=LS2D&...  2\n",
       "https://news.naver.com/main/read.nhn?mode=LS2D&...  2\n",
       "https://news.naver.com/main/read.nhn?mode=LS2D&...  2\n",
       "...                                                ..\n",
       "https://sports.news.naver.com/wbaseball/news/re...  2\n",
       "https://sports.news.naver.com/wbaseball/news/re...  2\n",
       "https://sports.news.naver.com/wfootball/news/re...  2\n",
       "https://sports.news.naver.com/wfootball/news/re...  2\n",
       "https://sports.news.naver.com/wfootball/news/re...  2\n",
       "\n",
       "[3050743 rows x 1 columns]"
      ]
     },
     "metadata": {},
     "output_type": "display_data"
    },
    {
     "data": {
      "text/plain": [
       "(None, None)"
      ]
     },
     "execution_count": 12,
     "metadata": {},
     "output_type": "execute_result"
    }
   ],
   "source": [
    "freq = df.groupby(by='url').size().to_frame()\n",
    "\n",
    "display(freq[freq[0] > 2]), display(freq[freq[0] > 1])"
   ]
  },
  {
   "cell_type": "code",
   "execution_count": null,
   "metadata": {
    "ExecuteTime": {
     "end_time": "2021-04-30T01:23:02.872652Z",
     "start_time": "2021-04-30T01:23:02.542996Z"
    }
   },
   "outputs": [],
   "source": [
    "url = 'https://news.naver.com/main/read.nhn?mode=LS2D&mid=shm&sid1=102&sid2=254&oid=001&aid=0012111805'\n",
    "\n",
    "df[ df['url'] == url ]"
   ]
  },
  {
   "cell_type": "code",
   "execution_count": null,
   "metadata": {
    "ExecuteTime": {
     "end_time": "2021-04-30T01:30:21.023082Z",
     "start_time": "2021-04-30T01:30:21.015151Z"
    }
   },
   "outputs": [],
   "source": [
    "len('001-0012111805')"
   ]
  },
  {
   "cell_type": "markdown",
   "metadata": {},
   "source": [
    "# corpus 문서 아이디가 잘못된 것"
   ]
  },
  {
   "cell_type": "code",
   "execution_count": 13,
   "metadata": {
    "ExecuteTime": {
     "end_time": "2021-05-02T23:56:35.956206Z",
     "start_time": "2021-05-02T23:56:32.944478Z"
    }
   },
   "outputs": [
    {
     "data": {
      "text/html": [
       "<div>\n",
       "<style scoped>\n",
       "    .dataframe tbody tr th:only-of-type {\n",
       "        vertical-align: middle;\n",
       "    }\n",
       "\n",
       "    .dataframe tbody tr th {\n",
       "        vertical-align: top;\n",
       "    }\n",
       "\n",
       "    .dataframe thead th {\n",
       "        text-align: right;\n",
       "    }\n",
       "</style>\n",
       "<table border=\"1\" class=\"dataframe\">\n",
       "  <thead>\n",
       "    <tr style=\"text-align: right;\">\n",
       "      <th></th>\n",
       "      <th>index</th>\n",
       "      <th>id</th>\n",
       "      <th>title</th>\n",
       "      <th>url</th>\n",
       "    </tr>\n",
       "  </thead>\n",
       "  <tbody>\n",
       "    <tr>\n",
       "      <th>5435</th>\n",
       "      <td>crawler-naver-opinion-2019</td>\n",
       "      <td>20190304_233315.862944</td>\n",
       "      <td>[기자수첩]밴드 해체와 1인 가구</td>\n",
       "      <td>https://news.naver.com/main/read.nhn?mode=LSD&amp;...</td>\n",
       "    </tr>\n",
       "    <tr>\n",
       "      <th>5436</th>\n",
       "      <td>crawler-naver-opinion-2019</td>\n",
       "      <td>20190304_191051.209450</td>\n",
       "      <td>[기자수첩]밴드 해체와 1인 가구</td>\n",
       "      <td>https://news.naver.com/main/read.nhn?mode=LSD&amp;...</td>\n",
       "    </tr>\n",
       "    <tr>\n",
       "      <th>5536</th>\n",
       "      <td>crawler-naver-opinion-2019</td>\n",
       "      <td>20190320_085108.625709</td>\n",
       "      <td>[천병혁의 야구세상] 감독의 팀 운영과 선수의 반발, 문제는 프로의식</td>\n",
       "      <td>https://news.naver.com/main/read.nhn?mode=LSD&amp;...</td>\n",
       "    </tr>\n",
       "    <tr>\n",
       "      <th>5552</th>\n",
       "      <td>crawler-naver-opinion-2019</td>\n",
       "      <td>20190321_002700.982629</td>\n",
       "      <td>[천병혁의 야구세상] 감독의 팀 운영과 선수의 반발, 문제는 프로의식</td>\n",
       "      <td>https://news.naver.com/main/read.nhn?mode=LSD&amp;...</td>\n",
       "    </tr>\n",
       "    <tr>\n",
       "      <th>5686</th>\n",
       "      <td>crawler-naver-opinion-2019</td>\n",
       "      <td>20190212_213241.010000</td>\n",
       "      <td>이에리사휴먼스포츠 'ODA를 통한 스포츠외교 발전 방향' 세미나</td>\n",
       "      <td>https://news.naver.com/main/read.nhn?mode=LSD&amp;...</td>\n",
       "    </tr>\n",
       "  </tbody>\n",
       "</table>\n",
       "</div>"
      ],
      "text/plain": [
       "                           index                      id  \\\n",
       "5435  crawler-naver-opinion-2019  20190304_233315.862944   \n",
       "5436  crawler-naver-opinion-2019  20190304_191051.209450   \n",
       "5536  crawler-naver-opinion-2019  20190320_085108.625709   \n",
       "5552  crawler-naver-opinion-2019  20190321_002700.982629   \n",
       "5686  crawler-naver-opinion-2019  20190212_213241.010000   \n",
       "\n",
       "                                       title  \\\n",
       "5435                      [기자수첩]밴드 해체와 1인 가구   \n",
       "5436                      [기자수첩]밴드 해체와 1인 가구   \n",
       "5536  [천병혁의 야구세상] 감독의 팀 운영과 선수의 반발, 문제는 프로의식   \n",
       "5552  [천병혁의 야구세상] 감독의 팀 운영과 선수의 반발, 문제는 프로의식   \n",
       "5686     이에리사휴먼스포츠 'ODA를 통한 스포츠외교 발전 방향' 세미나   \n",
       "\n",
       "                                                    url  \n",
       "5435  https://news.naver.com/main/read.nhn?mode=LSD&...  \n",
       "5436  https://news.naver.com/main/read.nhn?mode=LSD&...  \n",
       "5536  https://news.naver.com/main/read.nhn?mode=LSD&...  \n",
       "5552  https://news.naver.com/main/read.nhn?mode=LSD&...  \n",
       "5686  https://news.naver.com/main/read.nhn?mode=LSD&...  "
      ]
     },
     "metadata": {},
     "output_type": "display_data"
    },
    {
     "data": {
      "text/plain": [
       "(1574626, None)"
      ]
     },
     "execution_count": 13,
     "metadata": {},
     "output_type": "execute_result"
    }
   ],
   "source": [
    "# error_df = df[ df['id'].str.find('2021') == 0 ]\n",
    "error_df = df[ df['id'].str.len() != 14 ]\n",
    "\n",
    "len(error_df), display(error_df.head())"
   ]
  },
  {
   "cell_type": "markdown",
   "metadata": {},
   "source": [
    "# 문서 아이디 변경"
   ]
  },
  {
   "cell_type": "code",
   "execution_count": 14,
   "metadata": {
    "ExecuteTime": {
     "end_time": "2021-05-02T23:58:44.802642Z",
     "start_time": "2021-05-02T23:57:14.911338Z"
    }
   },
   "outputs": [],
   "source": [
    "doc_id_list = []\n",
    "for no, row in error_df.iterrows():\n",
    "    doc_id_list.append((get_doc_id(url=row['url']), row))"
   ]
  },
  {
   "cell_type": "code",
   "execution_count": 15,
   "metadata": {
    "ExecuteTime": {
     "end_time": "2021-05-02T23:58:45.604299Z",
     "start_time": "2021-05-02T23:58:44.803951Z"
    }
   },
   "outputs": [
    {
     "data": {
      "text/html": [
       "<div>\n",
       "<style scoped>\n",
       "    .dataframe tbody tr th:only-of-type {\n",
       "        vertical-align: middle;\n",
       "    }\n",
       "\n",
       "    .dataframe tbody tr th {\n",
       "        vertical-align: top;\n",
       "    }\n",
       "\n",
       "    .dataframe thead th {\n",
       "        text-align: right;\n",
       "    }\n",
       "</style>\n",
       "<table border=\"1\" class=\"dataframe\">\n",
       "  <thead>\n",
       "    <tr style=\"text-align: right;\">\n",
       "      <th></th>\n",
       "      <th>index</th>\n",
       "      <th>id</th>\n",
       "      <th>title</th>\n",
       "      <th>url</th>\n",
       "    </tr>\n",
       "  </thead>\n",
       "  <tbody>\n",
       "    <tr>\n",
       "      <th>8031</th>\n",
       "      <td>crawler-naver-opinion-2019</td>\n",
       "      <td>088-0000572966</td>\n",
       "      <td>통합신공항으로 대구경북 비상의 날개를 달자</td>\n",
       "      <td>https://news.naver.com/main/read.nhn?mode=LSD&amp;...</td>\n",
       "    </tr>\n",
       "    <tr>\n",
       "      <th>8063</th>\n",
       "      <td>crawler-naver-opinion-2019</td>\n",
       "      <td>001-0010581471</td>\n",
       "      <td>[연합시론] 체육계 잇단 '미투'…우리 모두의 책임이다</td>\n",
       "      <td>https://news.naver.com/main/read.nhn?mode=LSD&amp;...</td>\n",
       "    </tr>\n",
       "    <tr>\n",
       "      <th>9310</th>\n",
       "      <td>crawler-naver-opinion-2019</td>\n",
       "      <td>001-0010733705</td>\n",
       "      <td>[천병혁의 야구세상] 김경문 \"선동열 감독 생각하면 아직 마음 아파\"</td>\n",
       "      <td>https://news.naver.com/main/read.nhn?mode=LSD&amp;...</td>\n",
       "    </tr>\n",
       "    <tr>\n",
       "      <th>10966</th>\n",
       "      <td>crawler-naver-opinion-2019</td>\n",
       "      <td>001-0010606816</td>\n",
       "      <td>[\\\\xec\\\\xb2\\\\x9c\\\\xeb\\\\xb3\\\\x91\\\\xed\\\\x98\\\\x81...</td>\n",
       "      <td>https://news.naver.com/main/read.nhn?mode=LSD&amp;...</td>\n",
       "    </tr>\n",
       "    <tr>\n",
       "      <th>28965</th>\n",
       "      <td>crawler-naver-opinion-2019</td>\n",
       "      <td>003-0009110562</td>\n",
       "      <td>\\\\xed\\\\x94\\\\x84\\\\xeb\\\\xa1\\\\x9c\\\\xec\\\\x95\\\\xbc\\...</td>\n",
       "      <td>https://news.naver.com/main/read.nhn?mode=LSD&amp;...</td>\n",
       "    </tr>\n",
       "    <tr>\n",
       "      <th>...</th>\n",
       "      <td>...</td>\n",
       "      <td>...</td>\n",
       "      <td>...</td>\n",
       "      <td>...</td>\n",
       "    </tr>\n",
       "    <tr>\n",
       "      <th>10902048</th>\n",
       "      <td>crawler-naver-it-2019</td>\n",
       "      <td>001-0010605300</td>\n",
       "      <td>KBS 아이돌 토크쇼 웹예능 '어썸 라이브'</td>\n",
       "      <td>https://news.naver.com/main/read.nhn?mode=LS2D...</td>\n",
       "    </tr>\n",
       "    <tr>\n",
       "      <th>10902058</th>\n",
       "      <td>crawler-naver-it-2019</td>\n",
       "      <td>003-0009407125</td>\n",
       "      <td>'KT 갤럭시노트10 런칭 파티 경품 1등을 축하하며'</td>\n",
       "      <td>https://news.naver.com/main/read.nhn?mode=LS2D...</td>\n",
       "    </tr>\n",
       "    <tr>\n",
       "      <th>10902068</th>\n",
       "      <td>crawler-naver-it-2019</td>\n",
       "      <td>001-0010998053</td>\n",
       "      <td>삼성 반도체 영화 '메모리즈', 개봉 일주일만에 3천만뷰 돌파</td>\n",
       "      <td>https://news.naver.com/main/read.nhn?mode=LS2D...</td>\n",
       "    </tr>\n",
       "    <tr>\n",
       "      <th>10902078</th>\n",
       "      <td>crawler-naver-it-2019</td>\n",
       "      <td>003-0009291570</td>\n",
       "      <td>'베리굿' 조현, 코스프레 선정성 가타부타···시끌시끌</td>\n",
       "      <td>https://news.naver.com/main/read.nhn?mode=LS2D...</td>\n",
       "    </tr>\n",
       "    <tr>\n",
       "      <th>10908806</th>\n",
       "      <td>crawler-naver-it-2019</td>\n",
       "      <td>001-0011154977</td>\n",
       "      <td>과기부, 국제 콘텐츠마켓서 초고화질 한국 콘텐츠 홍보</td>\n",
       "      <td>https://news.naver.com/main/read.nhn?mode=LS2D...</td>\n",
       "    </tr>\n",
       "  </tbody>\n",
       "</table>\n",
       "<p>55236 rows × 4 columns</p>\n",
       "</div>"
      ],
      "text/plain": [
       "                               index              id  \\\n",
       "8031      crawler-naver-opinion-2019  088-0000572966   \n",
       "8063      crawler-naver-opinion-2019  001-0010581471   \n",
       "9310      crawler-naver-opinion-2019  001-0010733705   \n",
       "10966     crawler-naver-opinion-2019  001-0010606816   \n",
       "28965     crawler-naver-opinion-2019  003-0009110562   \n",
       "...                              ...             ...   \n",
       "10902048       crawler-naver-it-2019  001-0010605300   \n",
       "10902058       crawler-naver-it-2019  003-0009407125   \n",
       "10902068       crawler-naver-it-2019  001-0010998053   \n",
       "10902078       crawler-naver-it-2019  003-0009291570   \n",
       "10908806       crawler-naver-it-2019  001-0011154977   \n",
       "\n",
       "                                                      title  \\\n",
       "8031                                통합신공항으로 대구경북 비상의 날개를 달자   \n",
       "8063                         [연합시론] 체육계 잇단 '미투'…우리 모두의 책임이다   \n",
       "9310                 [천병혁의 야구세상] 김경문 \"선동열 감독 생각하면 아직 마음 아파\"   \n",
       "10966     [\\\\xec\\\\xb2\\\\x9c\\\\xeb\\\\xb3\\\\x91\\\\xed\\\\x98\\\\x81...   \n",
       "28965     \\\\xed\\\\x94\\\\x84\\\\xeb\\\\xa1\\\\x9c\\\\xec\\\\x95\\\\xbc\\...   \n",
       "...                                                     ...   \n",
       "10902048                           KBS 아이돌 토크쇼 웹예능 '어썸 라이브'   \n",
       "10902058                     'KT 갤럭시노트10 런칭 파티 경품 1등을 축하하며'   \n",
       "10902068                 삼성 반도체 영화 '메모리즈', 개봉 일주일만에 3천만뷰 돌파   \n",
       "10902078                     '베리굿' 조현, 코스프레 선정성 가타부타···시끌시끌   \n",
       "10908806                      과기부, 국제 콘텐츠마켓서 초고화질 한국 콘텐츠 홍보   \n",
       "\n",
       "                                                        url  \n",
       "8031      https://news.naver.com/main/read.nhn?mode=LSD&...  \n",
       "8063      https://news.naver.com/main/read.nhn?mode=LSD&...  \n",
       "9310      https://news.naver.com/main/read.nhn?mode=LSD&...  \n",
       "10966     https://news.naver.com/main/read.nhn?mode=LSD&...  \n",
       "28965     https://news.naver.com/main/read.nhn?mode=LSD&...  \n",
       "...                                                     ...  \n",
       "10902048  https://news.naver.com/main/read.nhn?mode=LS2D...  \n",
       "10902058  https://news.naver.com/main/read.nhn?mode=LS2D...  \n",
       "10902068  https://news.naver.com/main/read.nhn?mode=LS2D...  \n",
       "10902078  https://news.naver.com/main/read.nhn?mode=LS2D...  \n",
       "10908806  https://news.naver.com/main/read.nhn?mode=LS2D...  \n",
       "\n",
       "[55236 rows x 4 columns]"
      ]
     },
     "execution_count": 15,
     "metadata": {},
     "output_type": "execute_result"
    }
   ],
   "source": [
    "df[ df['id'].isin([x[0] for x in doc_id_list]) ]"
   ]
  },
  {
   "cell_type": "code",
   "execution_count": 16,
   "metadata": {
    "ExecuteTime": {
     "end_time": "2021-05-02T23:58:45.614429Z",
     "start_time": "2021-05-02T23:58:45.605689Z"
    },
    "scrolled": true
   },
   "outputs": [
    {
     "data": {
      "text/plain": [
       "(1574626,\n",
       " [('003-0009091871',\n",
       "   index                           crawler-naver-opinion-2019\n",
       "   id                                  20190304_233315.862944\n",
       "   title                                   [기자수첩]밴드 해체와 1인 가구\n",
       "   url      https://news.naver.com/main/read.nhn?mode=LSD&...\n",
       "   Name: 5435, dtype: object),\n",
       "  ('003-0009091871',\n",
       "   index                           crawler-naver-opinion-2019\n",
       "   id                                  20190304_191051.209450\n",
       "   title                                   [기자수첩]밴드 해체와 1인 가구\n",
       "   url      https://news.naver.com/main/read.nhn?mode=LSD&...\n",
       "   Name: 5436, dtype: object),\n",
       "  ('001-0010705060',\n",
       "   index                           crawler-naver-opinion-2019\n",
       "   id                                  20190320_085108.625709\n",
       "   title               [천병혁의 야구세상] 감독의 팀 운영과 선수의 반발, 문제는 프로의식\n",
       "   url      https://news.naver.com/main/read.nhn?mode=LSD&...\n",
       "   Name: 5536, dtype: object)])"
      ]
     },
     "execution_count": 16,
     "metadata": {},
     "output_type": "execute_result"
    }
   ],
   "source": [
    "len(doc_id_list), doc_id_list[:3]"
   ]
  },
  {
   "cell_type": "code",
   "execution_count": 17,
   "metadata": {
    "ExecuteTime": {
     "end_time": "2021-05-02T23:59:25.104799Z",
     "start_time": "2021-05-02T23:59:25.095629Z"
    },
    "code_folding": [
     0
    ]
   },
   "outputs": [],
   "source": [
    "def change_doc_id(id_list: list, index: str) -> None:\n",
    "    doc_list = []\n",
    "    es.get_by_ids(index=index, id_list=id_list, result=doc_list)\n",
    "\n",
    "    bulk = []\n",
    "    for doc in doc_list:\n",
    "        prev_id = doc['document_id']\n",
    "        for k in '_index,_id,document_id'.split(','):\n",
    "            if k not in doc:\n",
    "                continue\n",
    "            del doc[k]\n",
    "\n",
    "        doc_id = get_doc_id(url=doc['url'])\n",
    "        bulk += [{\n",
    "            'delete': {\n",
    "                '_id': prev_id,\n",
    "                '_index': index,\n",
    "            }\n",
    "        }, {\n",
    "            'update': {\n",
    "                '_id': doc_id,\n",
    "                '_index': index,\n",
    "            }\n",
    "        }, {\n",
    "            'doc': doc,\n",
    "            'doc_as_upsert': True,\n",
    "        }]\n",
    "        \n",
    "    if len(bulk) == 0:\n",
    "        return\n",
    "        \n",
    "    es.conn.bulk(\n",
    "        index=index,\n",
    "        body=bulk,\n",
    "        refresh=True,\n",
    "        params={'request_timeout': 620},\n",
    "    )\n",
    "    return"
   ]
  },
  {
   "cell_type": "code",
   "execution_count": 20,
   "metadata": {
    "ExecuteTime": {
     "end_time": "2021-05-04T01:55:33.641216Z",
     "start_time": "2021-05-04T01:54:33.753461Z"
    },
    "code_folding": []
   },
   "outputs": [
    {
     "name": "stderr",
     "output_type": "stream",
     "text": [
      " 52%|█████▏    | 820855/1574626 [00:43<00:49, 15282.93it/s]POST https://corpus.ncsoft.com:9200/crawler-naver-international-2019/_bulk?refresh=true [status:413 request:6.148s]\n",
      " 52%|█████▏    | 821355/1574626 [00:59<00:54, 13718.66it/s]\n"
     ]
    },
    {
     "ename": "TransportError",
     "evalue": "TransportError(413, '')",
     "output_type": "error",
     "traceback": [
      "\u001b[0;31m---------------------------------------------------------------------------\u001b[0m",
      "\u001b[0;31mTransportError\u001b[0m                            Traceback (most recent call last)",
      "\u001b[0;32m<ipython-input-20-b139b2a52372>\u001b[0m in \u001b[0;36m<module>\u001b[0;34m\u001b[0m\n\u001b[1;32m      5\u001b[0m \u001b[0;34m\u001b[0m\u001b[0m\n\u001b[1;32m      6\u001b[0m     \u001b[0;32mif\u001b[0m \u001b[0mlen\u001b[0m\u001b[0;34m(\u001b[0m\u001b[0mbuf\u001b[0m\u001b[0;34m[\u001b[0m\u001b[0mindex\u001b[0m\u001b[0;34m]\u001b[0m\u001b[0;34m)\u001b[0m \u001b[0;34m>\u001b[0m \u001b[0;36m500\u001b[0m\u001b[0;34m:\u001b[0m\u001b[0;34m\u001b[0m\u001b[0;34m\u001b[0m\u001b[0m\n\u001b[0;32m----> 7\u001b[0;31m         \u001b[0mchange_doc_id\u001b[0m\u001b[0;34m(\u001b[0m\u001b[0mid_list\u001b[0m\u001b[0;34m=\u001b[0m\u001b[0mbuf\u001b[0m\u001b[0;34m[\u001b[0m\u001b[0mindex\u001b[0m\u001b[0;34m]\u001b[0m\u001b[0;34m,\u001b[0m \u001b[0mindex\u001b[0m\u001b[0;34m=\u001b[0m\u001b[0mindex\u001b[0m\u001b[0;34m)\u001b[0m\u001b[0;34m\u001b[0m\u001b[0;34m\u001b[0m\u001b[0m\n\u001b[0m\u001b[1;32m      8\u001b[0m         \u001b[0;32mdel\u001b[0m \u001b[0mbuf\u001b[0m\u001b[0;34m[\u001b[0m\u001b[0mindex\u001b[0m\u001b[0;34m]\u001b[0m\u001b[0;34m\u001b[0m\u001b[0;34m\u001b[0m\u001b[0m\n",
      "\u001b[0;32m<ipython-input-17-6e94230e2f64>\u001b[0m in \u001b[0;36mchange_doc_id\u001b[0;34m(id_list, index)\u001b[0m\n\u001b[1;32m     30\u001b[0m         \u001b[0;32mreturn\u001b[0m\u001b[0;34m\u001b[0m\u001b[0;34m\u001b[0m\u001b[0m\n\u001b[1;32m     31\u001b[0m \u001b[0;34m\u001b[0m\u001b[0m\n\u001b[0;32m---> 32\u001b[0;31m     es.conn.bulk(\n\u001b[0m\u001b[1;32m     33\u001b[0m         \u001b[0mindex\u001b[0m\u001b[0;34m=\u001b[0m\u001b[0mindex\u001b[0m\u001b[0;34m,\u001b[0m\u001b[0;34m\u001b[0m\u001b[0;34m\u001b[0m\u001b[0m\n\u001b[1;32m     34\u001b[0m         \u001b[0mbody\u001b[0m\u001b[0;34m=\u001b[0m\u001b[0mbulk\u001b[0m\u001b[0;34m,\u001b[0m\u001b[0;34m\u001b[0m\u001b[0;34m\u001b[0m\u001b[0m\n",
      "\u001b[0;32m~/.local/lib/python3.8/site-packages/elasticsearch/client/utils.py\u001b[0m in \u001b[0;36m_wrapped\u001b[0;34m(*args, **kwargs)\u001b[0m\n\u001b[1;32m    150\u001b[0m                 \u001b[0;32mif\u001b[0m \u001b[0mp\u001b[0m \u001b[0;32min\u001b[0m \u001b[0mkwargs\u001b[0m\u001b[0;34m:\u001b[0m\u001b[0;34m\u001b[0m\u001b[0;34m\u001b[0m\u001b[0m\n\u001b[1;32m    151\u001b[0m                     \u001b[0mparams\u001b[0m\u001b[0;34m[\u001b[0m\u001b[0mp\u001b[0m\u001b[0;34m]\u001b[0m \u001b[0;34m=\u001b[0m \u001b[0mkwargs\u001b[0m\u001b[0;34m.\u001b[0m\u001b[0mpop\u001b[0m\u001b[0;34m(\u001b[0m\u001b[0mp\u001b[0m\u001b[0;34m)\u001b[0m\u001b[0;34m\u001b[0m\u001b[0;34m\u001b[0m\u001b[0m\n\u001b[0;32m--> 152\u001b[0;31m             \u001b[0;32mreturn\u001b[0m \u001b[0mfunc\u001b[0m\u001b[0;34m(\u001b[0m\u001b[0;34m*\u001b[0m\u001b[0margs\u001b[0m\u001b[0;34m,\u001b[0m \u001b[0mparams\u001b[0m\u001b[0;34m=\u001b[0m\u001b[0mparams\u001b[0m\u001b[0;34m,\u001b[0m \u001b[0mheaders\u001b[0m\u001b[0;34m=\u001b[0m\u001b[0mheaders\u001b[0m\u001b[0;34m,\u001b[0m \u001b[0;34m**\u001b[0m\u001b[0mkwargs\u001b[0m\u001b[0;34m)\u001b[0m\u001b[0;34m\u001b[0m\u001b[0;34m\u001b[0m\u001b[0m\n\u001b[0m\u001b[1;32m    153\u001b[0m \u001b[0;34m\u001b[0m\u001b[0m\n\u001b[1;32m    154\u001b[0m         \u001b[0;32mreturn\u001b[0m \u001b[0m_wrapped\u001b[0m\u001b[0;34m\u001b[0m\u001b[0;34m\u001b[0m\u001b[0m\n",
      "\u001b[0;32m~/.local/lib/python3.8/site-packages/elasticsearch/client/__init__.py\u001b[0m in \u001b[0;36mbulk\u001b[0;34m(self, body, index, doc_type, params, headers)\u001b[0m\n\u001b[1;32m    442\u001b[0m \u001b[0;34m\u001b[0m\u001b[0m\n\u001b[1;32m    443\u001b[0m         \u001b[0mbody\u001b[0m \u001b[0;34m=\u001b[0m \u001b[0m_bulk_body\u001b[0m\u001b[0;34m(\u001b[0m\u001b[0mself\u001b[0m\u001b[0;34m.\u001b[0m\u001b[0mtransport\u001b[0m\u001b[0;34m.\u001b[0m\u001b[0mserializer\u001b[0m\u001b[0;34m,\u001b[0m \u001b[0mbody\u001b[0m\u001b[0;34m)\u001b[0m\u001b[0;34m\u001b[0m\u001b[0;34m\u001b[0m\u001b[0m\n\u001b[0;32m--> 444\u001b[0;31m         return self.transport.perform_request(\n\u001b[0m\u001b[1;32m    445\u001b[0m             \u001b[0;34m\"POST\"\u001b[0m\u001b[0;34m,\u001b[0m\u001b[0;34m\u001b[0m\u001b[0;34m\u001b[0m\u001b[0m\n\u001b[1;32m    446\u001b[0m             \u001b[0m_make_path\u001b[0m\u001b[0;34m(\u001b[0m\u001b[0mindex\u001b[0m\u001b[0;34m,\u001b[0m \u001b[0mdoc_type\u001b[0m\u001b[0;34m,\u001b[0m \u001b[0;34m\"_bulk\"\u001b[0m\u001b[0;34m)\u001b[0m\u001b[0;34m,\u001b[0m\u001b[0;34m\u001b[0m\u001b[0;34m\u001b[0m\u001b[0m\n",
      "\u001b[0;32m~/.local/lib/python3.8/site-packages/elasticsearch/transport.py\u001b[0m in \u001b[0;36mperform_request\u001b[0;34m(self, method, url, headers, params, body)\u001b[0m\n\u001b[1;32m    390\u001b[0m                         \u001b[0;32mraise\u001b[0m \u001b[0me\u001b[0m\u001b[0;34m\u001b[0m\u001b[0;34m\u001b[0m\u001b[0m\n\u001b[1;32m    391\u001b[0m                 \u001b[0;32melse\u001b[0m\u001b[0;34m:\u001b[0m\u001b[0;34m\u001b[0m\u001b[0;34m\u001b[0m\u001b[0m\n\u001b[0;32m--> 392\u001b[0;31m                     \u001b[0;32mraise\u001b[0m \u001b[0me\u001b[0m\u001b[0;34m\u001b[0m\u001b[0;34m\u001b[0m\u001b[0m\n\u001b[0m\u001b[1;32m    393\u001b[0m \u001b[0;34m\u001b[0m\u001b[0m\n\u001b[1;32m    394\u001b[0m             \u001b[0;32melse\u001b[0m\u001b[0;34m:\u001b[0m\u001b[0;34m\u001b[0m\u001b[0;34m\u001b[0m\u001b[0m\n",
      "\u001b[0;32m~/.local/lib/python3.8/site-packages/elasticsearch/transport.py\u001b[0m in \u001b[0;36mperform_request\u001b[0;34m(self, method, url, headers, params, body)\u001b[0m\n\u001b[1;32m    356\u001b[0m \u001b[0;34m\u001b[0m\u001b[0m\n\u001b[1;32m    357\u001b[0m             \u001b[0;32mtry\u001b[0m\u001b[0;34m:\u001b[0m\u001b[0;34m\u001b[0m\u001b[0;34m\u001b[0m\u001b[0m\n\u001b[0;32m--> 358\u001b[0;31m                 status, headers_response, data = connection.perform_request(\n\u001b[0m\u001b[1;32m    359\u001b[0m                     \u001b[0mmethod\u001b[0m\u001b[0;34m,\u001b[0m\u001b[0;34m\u001b[0m\u001b[0;34m\u001b[0m\u001b[0m\n\u001b[1;32m    360\u001b[0m                     \u001b[0murl\u001b[0m\u001b[0;34m,\u001b[0m\u001b[0;34m\u001b[0m\u001b[0;34m\u001b[0m\u001b[0m\n",
      "\u001b[0;32m~/.local/lib/python3.8/site-packages/elasticsearch/connection/http_urllib3.py\u001b[0m in \u001b[0;36mperform_request\u001b[0;34m(self, method, url, params, body, timeout, ignore, headers)\u001b[0m\n\u001b[1;32m    267\u001b[0m                 \u001b[0mmethod\u001b[0m\u001b[0;34m,\u001b[0m \u001b[0mfull_url\u001b[0m\u001b[0;34m,\u001b[0m \u001b[0murl\u001b[0m\u001b[0;34m,\u001b[0m \u001b[0morig_body\u001b[0m\u001b[0;34m,\u001b[0m \u001b[0mduration\u001b[0m\u001b[0;34m,\u001b[0m \u001b[0mresponse\u001b[0m\u001b[0;34m.\u001b[0m\u001b[0mstatus\u001b[0m\u001b[0;34m,\u001b[0m \u001b[0mraw_data\u001b[0m\u001b[0;34m\u001b[0m\u001b[0;34m\u001b[0m\u001b[0m\n\u001b[1;32m    268\u001b[0m             )\n\u001b[0;32m--> 269\u001b[0;31m             \u001b[0mself\u001b[0m\u001b[0;34m.\u001b[0m\u001b[0m_raise_error\u001b[0m\u001b[0;34m(\u001b[0m\u001b[0mresponse\u001b[0m\u001b[0;34m.\u001b[0m\u001b[0mstatus\u001b[0m\u001b[0;34m,\u001b[0m \u001b[0mraw_data\u001b[0m\u001b[0;34m)\u001b[0m\u001b[0;34m\u001b[0m\u001b[0;34m\u001b[0m\u001b[0m\n\u001b[0m\u001b[1;32m    270\u001b[0m \u001b[0;34m\u001b[0m\u001b[0m\n\u001b[1;32m    271\u001b[0m         self.log_request_success(\n",
      "\u001b[0;32m~/.local/lib/python3.8/site-packages/elasticsearch/connection/base.py\u001b[0m in \u001b[0;36m_raise_error\u001b[0;34m(self, status_code, raw_data)\u001b[0m\n\u001b[1;32m    298\u001b[0m             \u001b[0mlogger\u001b[0m\u001b[0;34m.\u001b[0m\u001b[0mwarning\u001b[0m\u001b[0;34m(\u001b[0m\u001b[0;34m\"Undecodable raw error response from server: %s\"\u001b[0m\u001b[0;34m,\u001b[0m \u001b[0merr\u001b[0m\u001b[0;34m)\u001b[0m\u001b[0;34m\u001b[0m\u001b[0;34m\u001b[0m\u001b[0m\n\u001b[1;32m    299\u001b[0m \u001b[0;34m\u001b[0m\u001b[0m\n\u001b[0;32m--> 300\u001b[0;31m         raise HTTP_EXCEPTIONS.get(status_code, TransportError)(\n\u001b[0m\u001b[1;32m    301\u001b[0m             \u001b[0mstatus_code\u001b[0m\u001b[0;34m,\u001b[0m \u001b[0merror_message\u001b[0m\u001b[0;34m,\u001b[0m \u001b[0madditional_info\u001b[0m\u001b[0;34m\u001b[0m\u001b[0;34m\u001b[0m\u001b[0m\n\u001b[1;32m    302\u001b[0m         )\n",
      "\u001b[0;31mTransportError\u001b[0m: TransportError(413, '')"
     ]
    }
   ],
   "source": [
    "buf = defaultdict(list)\n",
    "for doc_id, row in tqdm(doc_id_list):\n",
    "    index = row['index']\n",
    "    buf[index].append(row['id'])\n",
    "\n",
    "    if len(buf[index]) > 500:\n",
    "        change_doc_id(id_list=buf[index], index=index)\n",
    "        del buf[index]"
   ]
  },
  {
   "cell_type": "code",
   "execution_count": null,
   "metadata": {
    "ExecuteTime": {
     "end_time": "2021-05-04T01:55:33.642494Z",
     "start_time": "2021-05-04T01:54:38.120Z"
    }
   },
   "outputs": [],
   "source": [
    "for index, id_list in buf.items():\n",
    "    change_doc_id(id_list=id_list, index=index)"
   ]
  },
  {
   "cell_type": "code",
   "execution_count": null,
   "metadata": {},
   "outputs": [],
   "source": []
  }
 ],
 "metadata": {
  "kernelspec": {
   "display_name": "Python 3",
   "language": "python",
   "name": "python3"
  },
  "language_info": {
   "codemirror_mode": {
    "name": "ipython",
    "version": 3
   },
   "file_extension": ".py",
   "mimetype": "text/x-python",
   "name": "python",
   "nbconvert_exporter": "python",
   "pygments_lexer": "ipython3",
   "version": "3.8.5"
  },
  "latex_envs": {
   "LaTeX_envs_menu_present": true,
   "autoclose": false,
   "autocomplete": true,
   "bibliofile": "biblio.bib",
   "cite_by": "apalike",
   "current_citInitial": 1,
   "eqLabelWithNumbers": true,
   "eqNumInitial": 1,
   "hotkeys": {
    "equation": "Ctrl-E",
    "itemize": "Ctrl-I"
   },
   "labels_anchors": false,
   "latex_user_defs": false,
   "report_style_numbering": false,
   "user_envs_cfg": false
  },
  "toc": {
   "base_numbering": 1,
   "nav_menu": {},
   "number_sections": false,
   "sideBar": false,
   "skip_h1_title": false,
   "title_cell": "Table of Contents",
   "title_sidebar": "Contents",
   "toc_cell": false,
   "toc_position": {},
   "toc_section_display": false,
   "toc_window_display": false
  },
  "varInspector": {
   "cols": {
    "lenName": 16,
    "lenType": 16,
    "lenVar": 40
   },
   "kernels_config": {
    "python": {
     "delete_cmd_postfix": "",
     "delete_cmd_prefix": "del ",
     "library": "var_list.py",
     "varRefreshCmd": "print(var_dic_list())"
    },
    "r": {
     "delete_cmd_postfix": ") ",
     "delete_cmd_prefix": "rm(",
     "library": "var_list.r",
     "varRefreshCmd": "cat(var_dic_list()) "
    }
   },
   "types_to_exclude": [
    "module",
    "function",
    "builtin_function_or_method",
    "instance",
    "_Feature"
   ],
   "window_display": false
  }
 },
 "nbformat": 4,
 "nbformat_minor": 2
}
