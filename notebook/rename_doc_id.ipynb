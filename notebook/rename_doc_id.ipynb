{
 "cells": [
  {
   "cell_type": "markdown",
   "metadata": {},
   "source": [
    "# 중복 문서 점검"
   ]
  },
  {
   "cell_type": "code",
   "execution_count": 1,
   "metadata": {
    "ExecuteTime": {
     "end_time": "2021-04-30T00:08:52.485610Z",
     "start_time": "2021-04-30T00:08:52.466870Z"
    }
   },
   "outputs": [],
   "source": [
    "%load_ext autoreload\n",
    "%autoreload 2"
   ]
  },
  {
   "cell_type": "code",
   "execution_count": 2,
   "metadata": {
    "ExecuteTime": {
     "end_time": "2021-04-30T00:08:54.815742Z",
     "start_time": "2021-04-30T00:08:53.074017Z"
    }
   },
   "outputs": [
    {
     "name": "stderr",
     "output_type": "stream",
     "text": [
      "/home/ejpark/workspace/dev/crawler/crawler/utils/es.py:26: TqdmExperimentalWarning: Using `tqdm.autonotebook.tqdm` in notebook mode. Use `tqdm.tqdm` instead to force console mode (e.g. in jupyter console)\n",
      "  from tqdm.autonotebook import tqdm\n"
     ]
    }
   ],
   "source": [
    "import re\n",
    "import bz2\n",
    "import json\n",
    "import pandas as pd\n",
    "from tqdm import tqdm\n",
    "from glob import glob\n",
    "from collections import defaultdict\n",
    "from IPython.display import display\n",
    "from crawler.utils.es import ElasticSearchUtils"
   ]
  },
  {
   "cell_type": "code",
   "execution_count": 37,
   "metadata": {
    "ExecuteTime": {
     "end_time": "2021-04-30T00:24:25.047279Z",
     "start_time": "2021-04-30T00:24:25.021961Z"
    }
   },
   "outputs": [
    {
     "data": {
      "text/html": [
       "<div>\n",
       "<style scoped>\n",
       "    .dataframe tbody tr th:only-of-type {\n",
       "        vertical-align: middle;\n",
       "    }\n",
       "\n",
       "    .dataframe tbody tr th {\n",
       "        vertical-align: top;\n",
       "    }\n",
       "\n",
       "    .dataframe thead th {\n",
       "        text-align: right;\n",
       "    }\n",
       "</style>\n",
       "<table border=\"1\" class=\"dataframe\">\n",
       "  <thead>\n",
       "    <tr style=\"text-align: right;\">\n",
       "      <th></th>\n",
       "      <th>corpus</th>\n",
       "      <th>backfill</th>\n",
       "    </tr>\n",
       "  </thead>\n",
       "  <tbody>\n",
       "    <tr>\n",
       "      <th>crawler-naver-economy-2020</th>\n",
       "      <td>1447481</td>\n",
       "      <td>1543492</td>\n",
       "    </tr>\n",
       "    <tr>\n",
       "      <th>crawler-naver-international-2020</th>\n",
       "      <td>310060</td>\n",
       "      <td>309111</td>\n",
       "    </tr>\n",
       "    <tr>\n",
       "      <th>crawler-naver-it-2020</th>\n",
       "      <td>277188</td>\n",
       "      <td>277574</td>\n",
       "    </tr>\n",
       "    <tr>\n",
       "      <th>crawler-naver-living-2020</th>\n",
       "      <td>414143</td>\n",
       "      <td>408734</td>\n",
       "    </tr>\n",
       "    <tr>\n",
       "      <th>crawler-naver-opinion-2020</th>\n",
       "      <td>74296</td>\n",
       "      <td>73498</td>\n",
       "    </tr>\n",
       "    <tr>\n",
       "      <th>crawler-naver-politics-2020</th>\n",
       "      <td>1022806</td>\n",
       "      <td>1028159</td>\n",
       "    </tr>\n",
       "    <tr>\n",
       "      <th>crawler-naver-society-2020</th>\n",
       "      <td>2468697</td>\n",
       "      <td>2558538</td>\n",
       "    </tr>\n",
       "    <tr>\n",
       "      <th>crawler-naver-sports-2020</th>\n",
       "      <td>954830</td>\n",
       "      <td>962104</td>\n",
       "    </tr>\n",
       "    <tr>\n",
       "      <th>crawler-naver-tv-2020</th>\n",
       "      <td>436877</td>\n",
       "      <td>432283</td>\n",
       "    </tr>\n",
       "  </tbody>\n",
       "</table>\n",
       "</div>"
      ],
      "text/plain": [
       "                                   corpus  backfill\n",
       "crawler-naver-economy-2020        1447481   1543492\n",
       "crawler-naver-international-2020   310060    309111\n",
       "crawler-naver-it-2020              277188    277574\n",
       "crawler-naver-living-2020          414143    408734\n",
       "crawler-naver-opinion-2020          74296     73498\n",
       "crawler-naver-politics-2020       1022806   1028159\n",
       "crawler-naver-society-2020        2468697   2558538\n",
       "crawler-naver-sports-2020          954830    962104\n",
       "crawler-naver-tv-2020              436877    432283"
      ]
     },
     "metadata": {},
     "output_type": "display_data"
    },
    {
     "data": {
      "text/plain": [
       "('7,406,378', '7,593,493', None)"
      ]
     },
     "execution_count": 37,
     "metadata": {},
     "output_type": "execute_result"
    }
   ],
   "source": [
    "data = defaultdict(dict)\n",
    "\n",
    "filename = '../data/es_dump/merged-size.txt'\n",
    "with open(filename, 'r') as fp:\n",
    "    for l in fp:\n",
    "        if l.strip() == '':\n",
    "            continue\n",
    "            \n",
    "        index, count = re.sub('\\s+', '\\t', l.strip()).split('\\t')\n",
    "        count = int(count)\n",
    "        \n",
    "        if 'merged' in index:            \n",
    "            data[index.replace('-merged', '')]['backfill'] = count\n",
    "        else:\n",
    "            data[index]['corpus'] = count\n",
    "\n",
    "count_df = pd.DataFrame(data).T\n",
    "count_df = count_df[ count_df.index.str.find('2020') > 0 ]\n",
    "\n",
    "f\"{count_df['corpus'].sum(axis=0):,}\", f\"{count_df['backfill'].sum(axis=0):,}\", display(count_df)"
   ]
  },
  {
   "cell_type": "code",
   "execution_count": 3,
   "metadata": {
    "ExecuteTime": {
     "end_time": "2021-04-30T00:08:54.832827Z",
     "start_time": "2021-04-30T00:08:54.816888Z"
    }
   },
   "outputs": [],
   "source": [
    "es = ElasticSearchUtils(host='https://corpus.ncsoft.com:9200', encoded_auth='ZWxhc3RpYzpubHBsYWI=')"
   ]
  },
  {
   "cell_type": "code",
   "execution_count": 4,
   "metadata": {
    "ExecuteTime": {
     "end_time": "2021-04-30T00:08:56.074042Z",
     "start_time": "2021-04-30T00:08:56.066237Z"
    }
   },
   "outputs": [],
   "source": [
    "def read_ids(path: str) -> list:\n",
    "    result = []\n",
    "    for filename in tqdm(glob(path)):\n",
    "        with bz2.open(filename, 'r') as fp:\n",
    "            result += [x.decode('utf-8').rstrip().split('\\t') for x in fp if x.decode('utf-8').strip() != '']\n",
    "            \n",
    "    return result"
   ]
  },
  {
   "cell_type": "code",
   "execution_count": 5,
   "metadata": {
    "ExecuteTime": {
     "end_time": "2021-04-30T00:08:57.121767Z",
     "start_time": "2021-04-30T00:08:57.114216Z"
    }
   },
   "outputs": [],
   "source": [
    "def get_doc_id(url: str) -> str or None:\n",
    "    oid = re.search('oid=(\\d+)', url)\n",
    "    aid = re.search('aid=(\\d+)', url)\n",
    "    \n",
    "    if oid is None and aid is None:\n",
    "        return None\n",
    "        \n",
    "    return f'{oid.groups()[0]}-{aid.groups()[0]}'"
   ]
  },
  {
   "cell_type": "code",
   "execution_count": 38,
   "metadata": {
    "ExecuteTime": {
     "end_time": "2021-04-30T01:20:02.849828Z",
     "start_time": "2021-04-30T01:19:07.382211Z"
    }
   },
   "outputs": [
    {
     "name": "stderr",
     "output_type": "stream",
     "text": [
      "100%|██████████| 9/9 [00:55<00:00,  6.11s/it]\n"
     ]
    },
    {
     "data": {
      "text/plain": [
       "[['crawler-naver-society-2020',\n",
       "  '029-0002583301',\n",
       "  '[속보]검찰, 최강욱 비서관 업무방해 혐의 불구속 기소',\n",
       "  'https://news.naver.com/main/read.nhn?mode=LS2D&mid=shm&sid1=102&sid2=257&oid=029&aid=0002583301'],\n",
       " ['crawler-naver-society-2020',\n",
       "  '082-0000976426',\n",
       "  '설 연휴 ‘우한 폐렴’ 확산 최대 고비… 손 씻기·기침예절 지켜야',\n",
       "  'https://news.naver.com/main/read.nhn?mode=LS2D&mid=shm&sid1=102&sid2=257&oid=082&aid=0000976426'],\n",
       " ['crawler-naver-society-2020',\n",
       "  '029-0002583337',\n",
       "  '[포토] 설 귀성 열차 오르는 가족',\n",
       "  'https://news.naver.com/main/read.nhn?mode=LS2D&mid=shm&sid1=102&sid2=257&oid=029&aid=0002583337']]"
      ]
     },
     "execution_count": 38,
     "metadata": {},
     "output_type": "execute_result"
    }
   ],
   "source": [
    "ids = read_ids(path='../data/es_dump/corpus/crawler-naver-*-2020.*.ids.tsv.bz2')\n",
    "\n",
    "ids[:3]"
   ]
  },
  {
   "cell_type": "code",
   "execution_count": 39,
   "metadata": {
    "ExecuteTime": {
     "end_time": "2021-04-30T01:20:06.104246Z",
     "start_time": "2021-04-30T01:20:02.850868Z"
    }
   },
   "outputs": [
    {
     "data": {
      "text/html": [
       "<div>\n",
       "<style scoped>\n",
       "    .dataframe tbody tr th:only-of-type {\n",
       "        vertical-align: middle;\n",
       "    }\n",
       "\n",
       "    .dataframe tbody tr th {\n",
       "        vertical-align: top;\n",
       "    }\n",
       "\n",
       "    .dataframe thead th {\n",
       "        text-align: right;\n",
       "    }\n",
       "</style>\n",
       "<table border=\"1\" class=\"dataframe\">\n",
       "  <thead>\n",
       "    <tr style=\"text-align: right;\">\n",
       "      <th></th>\n",
       "      <th>index</th>\n",
       "      <th>id</th>\n",
       "      <th>title</th>\n",
       "      <th>url</th>\n",
       "    </tr>\n",
       "  </thead>\n",
       "  <tbody>\n",
       "    <tr>\n",
       "      <th>0</th>\n",
       "      <td>crawler-naver-society-2020</td>\n",
       "      <td>029-0002583301</td>\n",
       "      <td>[속보]검찰, 최강욱 비서관 업무방해 혐의 불구속 기소</td>\n",
       "      <td>https://news.naver.com/main/read.nhn?mode=LS2D...</td>\n",
       "    </tr>\n",
       "    <tr>\n",
       "      <th>1</th>\n",
       "      <td>crawler-naver-society-2020</td>\n",
       "      <td>082-0000976426</td>\n",
       "      <td>설 연휴 ‘우한 폐렴’ 확산 최대 고비… 손 씻기·기침예절 지켜야</td>\n",
       "      <td>https://news.naver.com/main/read.nhn?mode=LS2D...</td>\n",
       "    </tr>\n",
       "    <tr>\n",
       "      <th>2</th>\n",
       "      <td>crawler-naver-society-2020</td>\n",
       "      <td>029-0002583337</td>\n",
       "      <td>[포토] 설 귀성 열차 오르는 가족</td>\n",
       "      <td>https://news.naver.com/main/read.nhn?mode=LS2D...</td>\n",
       "    </tr>\n",
       "    <tr>\n",
       "      <th>3</th>\n",
       "      <td>crawler-naver-society-2020</td>\n",
       "      <td>029-0002583338</td>\n",
       "      <td>[포토] 다녀오겠습니다</td>\n",
       "      <td>https://news.naver.com/main/read.nhn?mode=LS2D...</td>\n",
       "    </tr>\n",
       "    <tr>\n",
       "      <th>4</th>\n",
       "      <td>crawler-naver-society-2020</td>\n",
       "      <td>029-0002583303</td>\n",
       "      <td>김경율 \"조국 의혹 목소리 계속 내는 새 시민단체 만든다\"</td>\n",
       "      <td>https://news.naver.com/main/read.nhn?mode=LS2D...</td>\n",
       "    </tr>\n",
       "  </tbody>\n",
       "</table>\n",
       "</div>"
      ],
      "text/plain": [
       "                        index              id  \\\n",
       "0  crawler-naver-society-2020  029-0002583301   \n",
       "1  crawler-naver-society-2020  082-0000976426   \n",
       "2  crawler-naver-society-2020  029-0002583337   \n",
       "3  crawler-naver-society-2020  029-0002583338   \n",
       "4  crawler-naver-society-2020  029-0002583303   \n",
       "\n",
       "                                  title  \\\n",
       "0        [속보]검찰, 최강욱 비서관 업무방해 혐의 불구속 기소   \n",
       "1  설 연휴 ‘우한 폐렴’ 확산 최대 고비… 손 씻기·기침예절 지켜야   \n",
       "2                   [포토] 설 귀성 열차 오르는 가족   \n",
       "3                          [포토] 다녀오겠습니다   \n",
       "4      김경율 \"조국 의혹 목소리 계속 내는 새 시민단체 만든다\"   \n",
       "\n",
       "                                                 url  \n",
       "0  https://news.naver.com/main/read.nhn?mode=LS2D...  \n",
       "1  https://news.naver.com/main/read.nhn?mode=LS2D...  \n",
       "2  https://news.naver.com/main/read.nhn?mode=LS2D...  \n",
       "3  https://news.naver.com/main/read.nhn?mode=LS2D...  \n",
       "4  https://news.naver.com/main/read.nhn?mode=LS2D...  "
      ]
     },
     "metadata": {},
     "output_type": "display_data"
    },
    {
     "data": {
      "text/plain": [
       "(7406378, None)"
      ]
     },
     "execution_count": 39,
     "metadata": {},
     "output_type": "execute_result"
    }
   ],
   "source": [
    "df = pd.DataFrame(ids, columns=['index', 'id', 'title', 'url'])\n",
    "\n",
    "len(df), display(df.head())"
   ]
  },
  {
   "cell_type": "code",
   "execution_count": 42,
   "metadata": {
    "ExecuteTime": {
     "end_time": "2021-04-30T01:21:22.356801Z",
     "start_time": "2021-04-30T01:21:08.594317Z"
    },
    "scrolled": true
   },
   "outputs": [
    {
     "data": {
      "text/html": [
       "<div>\n",
       "<style scoped>\n",
       "    .dataframe tbody tr th:only-of-type {\n",
       "        vertical-align: middle;\n",
       "    }\n",
       "\n",
       "    .dataframe tbody tr th {\n",
       "        vertical-align: top;\n",
       "    }\n",
       "\n",
       "    .dataframe thead th {\n",
       "        text-align: right;\n",
       "    }\n",
       "</style>\n",
       "<table border=\"1\" class=\"dataframe\">\n",
       "  <thead>\n",
       "    <tr style=\"text-align: right;\">\n",
       "      <th></th>\n",
       "      <th>0</th>\n",
       "    </tr>\n",
       "    <tr>\n",
       "      <th>id</th>\n",
       "      <th></th>\n",
       "    </tr>\n",
       "  </thead>\n",
       "  <tbody>\n",
       "    <tr>\n",
       "      <th>001-0011308253</th>\n",
       "      <td>3</td>\n",
       "    </tr>\n",
       "    <tr>\n",
       "      <th>001-0011308276</th>\n",
       "      <td>3</td>\n",
       "    </tr>\n",
       "    <tr>\n",
       "      <th>001-0011308393</th>\n",
       "      <td>3</td>\n",
       "    </tr>\n",
       "    <tr>\n",
       "      <th>001-0011308396</th>\n",
       "      <td>3</td>\n",
       "    </tr>\n",
       "    <tr>\n",
       "      <th>001-0011308403</th>\n",
       "      <td>3</td>\n",
       "    </tr>\n",
       "    <tr>\n",
       "      <th>...</th>\n",
       "      <td>...</td>\n",
       "    </tr>\n",
       "    <tr>\n",
       "      <th>469-0000563433</th>\n",
       "      <td>3</td>\n",
       "    </tr>\n",
       "    <tr>\n",
       "      <th>469-0000564332</th>\n",
       "      <td>3</td>\n",
       "    </tr>\n",
       "    <tr>\n",
       "      <th>469-0000565646</th>\n",
       "      <td>3</td>\n",
       "    </tr>\n",
       "    <tr>\n",
       "      <th>469-0000566149</th>\n",
       "      <td>3</td>\n",
       "    </tr>\n",
       "    <tr>\n",
       "      <th>469-0000567193</th>\n",
       "      <td>3</td>\n",
       "    </tr>\n",
       "  </tbody>\n",
       "</table>\n",
       "<p>49141 rows × 1 columns</p>\n",
       "</div>"
      ],
      "text/plain": [
       "                0\n",
       "id               \n",
       "001-0011308253  3\n",
       "001-0011308276  3\n",
       "001-0011308393  3\n",
       "001-0011308396  3\n",
       "001-0011308403  3\n",
       "...            ..\n",
       "469-0000563433  3\n",
       "469-0000564332  3\n",
       "469-0000565646  3\n",
       "469-0000566149  3\n",
       "469-0000567193  3\n",
       "\n",
       "[49141 rows x 1 columns]"
      ]
     },
     "metadata": {},
     "output_type": "display_data"
    },
    {
     "data": {
      "text/html": [
       "<div>\n",
       "<style scoped>\n",
       "    .dataframe tbody tr th:only-of-type {\n",
       "        vertical-align: middle;\n",
       "    }\n",
       "\n",
       "    .dataframe tbody tr th {\n",
       "        vertical-align: top;\n",
       "    }\n",
       "\n",
       "    .dataframe thead th {\n",
       "        text-align: right;\n",
       "    }\n",
       "</style>\n",
       "<table border=\"1\" class=\"dataframe\">\n",
       "  <thead>\n",
       "    <tr style=\"text-align: right;\">\n",
       "      <th></th>\n",
       "      <th>0</th>\n",
       "    </tr>\n",
       "    <tr>\n",
       "      <th>id</th>\n",
       "      <th></th>\n",
       "    </tr>\n",
       "  </thead>\n",
       "  <tbody>\n",
       "    <tr>\n",
       "      <th>001-0011307519</th>\n",
       "      <td>2</td>\n",
       "    </tr>\n",
       "    <tr>\n",
       "      <th>001-0011308126</th>\n",
       "      <td>2</td>\n",
       "    </tr>\n",
       "    <tr>\n",
       "      <th>001-0011308128</th>\n",
       "      <td>2</td>\n",
       "    </tr>\n",
       "    <tr>\n",
       "      <th>001-0011308198</th>\n",
       "      <td>2</td>\n",
       "    </tr>\n",
       "    <tr>\n",
       "      <th>001-0011308231</th>\n",
       "      <td>2</td>\n",
       "    </tr>\n",
       "    <tr>\n",
       "      <th>...</th>\n",
       "      <td>...</td>\n",
       "    </tr>\n",
       "    <tr>\n",
       "      <th>629-0000046997</th>\n",
       "      <td>2</td>\n",
       "    </tr>\n",
       "    <tr>\n",
       "      <th>629-0000047098</th>\n",
       "      <td>2</td>\n",
       "    </tr>\n",
       "    <tr>\n",
       "      <th>629-0000047103</th>\n",
       "      <td>2</td>\n",
       "    </tr>\n",
       "    <tr>\n",
       "      <th>629-0000052746</th>\n",
       "      <td>2</td>\n",
       "    </tr>\n",
       "    <tr>\n",
       "      <th>640-0000002090</th>\n",
       "      <td>2</td>\n",
       "    </tr>\n",
       "  </tbody>\n",
       "</table>\n",
       "<p>913685 rows × 1 columns</p>\n",
       "</div>"
      ],
      "text/plain": [
       "                0\n",
       "id               \n",
       "001-0011307519  2\n",
       "001-0011308126  2\n",
       "001-0011308128  2\n",
       "001-0011308198  2\n",
       "001-0011308231  2\n",
       "...            ..\n",
       "629-0000046997  2\n",
       "629-0000047098  2\n",
       "629-0000047103  2\n",
       "629-0000052746  2\n",
       "640-0000002090  2\n",
       "\n",
       "[913685 rows x 1 columns]"
      ]
     },
     "metadata": {},
     "output_type": "display_data"
    },
    {
     "data": {
      "text/plain": [
       "(None, None)"
      ]
     },
     "execution_count": 42,
     "metadata": {},
     "output_type": "execute_result"
    }
   ],
   "source": [
    "doc_count = df.groupby(by='id').size().to_frame()\n",
    "\n",
    "display(doc_count[ doc_count[0] > 2 ]), display(doc_count[ doc_count[0] > 1 ])"
   ]
  },
  {
   "cell_type": "code",
   "execution_count": 43,
   "metadata": {
    "ExecuteTime": {
     "end_time": "2021-04-30T01:22:05.122020Z",
     "start_time": "2021-04-30T01:21:48.378700Z"
    }
   },
   "outputs": [
    {
     "data": {
      "text/html": [
       "<div>\n",
       "<style scoped>\n",
       "    .dataframe tbody tr th:only-of-type {\n",
       "        vertical-align: middle;\n",
       "    }\n",
       "\n",
       "    .dataframe tbody tr th {\n",
       "        vertical-align: top;\n",
       "    }\n",
       "\n",
       "    .dataframe thead th {\n",
       "        text-align: right;\n",
       "    }\n",
       "</style>\n",
       "<table border=\"1\" class=\"dataframe\">\n",
       "  <thead>\n",
       "    <tr style=\"text-align: right;\">\n",
       "      <th></th>\n",
       "      <th>0</th>\n",
       "    </tr>\n",
       "    <tr>\n",
       "      <th>url</th>\n",
       "      <th></th>\n",
       "    </tr>\n",
       "  </thead>\n",
       "  <tbody>\n",
       "    <tr>\n",
       "      <th>https://news.naver.com/main/read.nhn?mode=LS2D&amp;mid=shm&amp;sid1=100&amp;sid2=264&amp;oid=014&amp;aid=0004367064</th>\n",
       "      <td>3</td>\n",
       "    </tr>\n",
       "    <tr>\n",
       "      <th>https://news.naver.com/main/read.nhn?mode=LS2D&amp;mid=shm&amp;sid1=102&amp;sid2=254&amp;oid=001&amp;aid=0012111805</th>\n",
       "      <td>413</td>\n",
       "    </tr>\n",
       "    <tr>\n",
       "      <th>https://news.naver.com/main/read.nhn?mode=LS2D&amp;mid=shm&amp;sid1=102&amp;sid2=254&amp;oid=003&amp;aid=0010271158</th>\n",
       "      <td>356</td>\n",
       "    </tr>\n",
       "    <tr>\n",
       "      <th>https://news.naver.com/main/read.nhn?mode=LS2D&amp;mid=shm&amp;sid1=105&amp;sid2=226&amp;oid=001&amp;aid=0012112595</th>\n",
       "      <td>237</td>\n",
       "    </tr>\n",
       "    <tr>\n",
       "      <th>https://news.naver.com/main/read.nhn?mode=LSD&amp;mid=shm&amp;sid1=115&amp;oid=215&amp;aid=0000926403</th>\n",
       "      <td>3</td>\n",
       "    </tr>\n",
       "  </tbody>\n",
       "</table>\n",
       "</div>"
      ],
      "text/plain": [
       "                                                      0\n",
       "url                                                    \n",
       "https://news.naver.com/main/read.nhn?mode=LS2D&...    3\n",
       "https://news.naver.com/main/read.nhn?mode=LS2D&...  413\n",
       "https://news.naver.com/main/read.nhn?mode=LS2D&...  356\n",
       "https://news.naver.com/main/read.nhn?mode=LS2D&...  237\n",
       "https://news.naver.com/main/read.nhn?mode=LSD&m...    3"
      ]
     },
     "metadata": {},
     "output_type": "display_data"
    },
    {
     "data": {
      "text/html": [
       "<div>\n",
       "<style scoped>\n",
       "    .dataframe tbody tr th:only-of-type {\n",
       "        vertical-align: middle;\n",
       "    }\n",
       "\n",
       "    .dataframe tbody tr th {\n",
       "        vertical-align: top;\n",
       "    }\n",
       "\n",
       "    .dataframe thead th {\n",
       "        text-align: right;\n",
       "    }\n",
       "</style>\n",
       "<table border=\"1\" class=\"dataframe\">\n",
       "  <thead>\n",
       "    <tr style=\"text-align: right;\">\n",
       "      <th></th>\n",
       "      <th>0</th>\n",
       "    </tr>\n",
       "    <tr>\n",
       "      <th>url</th>\n",
       "      <th></th>\n",
       "    </tr>\n",
       "  </thead>\n",
       "  <tbody>\n",
       "    <tr>\n",
       "      <th>https://news.naver.com/main/read.nhn?mode=LS2D&amp;mid=shm&amp;sid1=100&amp;sid2=264&amp;oid=001&amp;aid=0011309168</th>\n",
       "      <td>2</td>\n",
       "    </tr>\n",
       "    <tr>\n",
       "      <th>https://news.naver.com/main/read.nhn?mode=LS2D&amp;mid=shm&amp;sid1=100&amp;sid2=264&amp;oid=001&amp;aid=0011309201</th>\n",
       "      <td>2</td>\n",
       "    </tr>\n",
       "    <tr>\n",
       "      <th>https://news.naver.com/main/read.nhn?mode=LS2D&amp;mid=shm&amp;sid1=100&amp;sid2=264&amp;oid=001&amp;aid=0011309291</th>\n",
       "      <td>2</td>\n",
       "    </tr>\n",
       "    <tr>\n",
       "      <th>https://news.naver.com/main/read.nhn?mode=LS2D&amp;mid=shm&amp;sid1=100&amp;sid2=264&amp;oid=001&amp;aid=0011309412</th>\n",
       "      <td>2</td>\n",
       "    </tr>\n",
       "    <tr>\n",
       "      <th>https://news.naver.com/main/read.nhn?mode=LS2D&amp;mid=shm&amp;sid1=100&amp;sid2=264&amp;oid=001&amp;aid=0011309556</th>\n",
       "      <td>2</td>\n",
       "    </tr>\n",
       "    <tr>\n",
       "      <th>...</th>\n",
       "      <td>...</td>\n",
       "    </tr>\n",
       "    <tr>\n",
       "      <th>https://news.naver.com/main/read.nhn?mode=LSD&amp;mid=shm&amp;sid1=115&amp;oid=215&amp;aid=0000926403</th>\n",
       "      <td>3</td>\n",
       "    </tr>\n",
       "    <tr>\n",
       "      <th>https://news.naver.com/main/read.nhn?mode=LSD&amp;mid=shm&amp;sid1=115&amp;oid=215&amp;aid=0000926409</th>\n",
       "      <td>2</td>\n",
       "    </tr>\n",
       "    <tr>\n",
       "      <th>https://news.naver.com/main/read.nhn?mode=LSD&amp;mid=shm&amp;sid1=115&amp;oid=437&amp;aid=0000255755</th>\n",
       "      <td>2</td>\n",
       "    </tr>\n",
       "    <tr>\n",
       "      <th>https://news.naver.com/main/read.nhn?mode=LSD&amp;mid=shm&amp;sid1=115&amp;oid=437&amp;aid=0000255756</th>\n",
       "      <td>2</td>\n",
       "    </tr>\n",
       "    <tr>\n",
       "      <th>https://news.naver.com/main/read.nhn?mode=LSD&amp;mid=shm&amp;sid1=115&amp;oid=437&amp;aid=0000255757</th>\n",
       "      <td>2</td>\n",
       "    </tr>\n",
       "  </tbody>\n",
       "</table>\n",
       "<p>38204 rows × 1 columns</p>\n",
       "</div>"
      ],
      "text/plain": [
       "                                                    0\n",
       "url                                                  \n",
       "https://news.naver.com/main/read.nhn?mode=LS2D&...  2\n",
       "https://news.naver.com/main/read.nhn?mode=LS2D&...  2\n",
       "https://news.naver.com/main/read.nhn?mode=LS2D&...  2\n",
       "https://news.naver.com/main/read.nhn?mode=LS2D&...  2\n",
       "https://news.naver.com/main/read.nhn?mode=LS2D&...  2\n",
       "...                                                ..\n",
       "https://news.naver.com/main/read.nhn?mode=LSD&m...  3\n",
       "https://news.naver.com/main/read.nhn?mode=LSD&m...  2\n",
       "https://news.naver.com/main/read.nhn?mode=LSD&m...  2\n",
       "https://news.naver.com/main/read.nhn?mode=LSD&m...  2\n",
       "https://news.naver.com/main/read.nhn?mode=LSD&m...  2\n",
       "\n",
       "[38204 rows x 1 columns]"
      ]
     },
     "metadata": {},
     "output_type": "display_data"
    },
    {
     "data": {
      "text/plain": [
       "(None, None)"
      ]
     },
     "execution_count": 43,
     "metadata": {},
     "output_type": "execute_result"
    }
   ],
   "source": [
    "freq = df.groupby(by='url').size().to_frame()\n",
    "\n",
    "display(freq[freq[0] > 2]), display(freq[freq[0] > 1])"
   ]
  },
  {
   "cell_type": "code",
   "execution_count": 44,
   "metadata": {
    "ExecuteTime": {
     "end_time": "2021-04-30T01:23:02.872652Z",
     "start_time": "2021-04-30T01:23:02.542996Z"
    }
   },
   "outputs": [
    {
     "data": {
      "text/html": [
       "<div>\n",
       "<style scoped>\n",
       "    .dataframe tbody tr th:only-of-type {\n",
       "        vertical-align: middle;\n",
       "    }\n",
       "\n",
       "    .dataframe tbody tr th {\n",
       "        vertical-align: top;\n",
       "    }\n",
       "\n",
       "    .dataframe thead th {\n",
       "        text-align: right;\n",
       "    }\n",
       "</style>\n",
       "<table border=\"1\" class=\"dataframe\">\n",
       "  <thead>\n",
       "    <tr style=\"text-align: right;\">\n",
       "      <th></th>\n",
       "      <th>index</th>\n",
       "      <th>id</th>\n",
       "      <th>title</th>\n",
       "      <th>url</th>\n",
       "    </tr>\n",
       "  </thead>\n",
       "  <tbody>\n",
       "    <tr>\n",
       "      <th>2430182</th>\n",
       "      <td>crawler-naver-society-2020</td>\n",
       "      <td>20210120T051427780499</td>\n",
       "      <td>코로나19 시대 속 세계 곳곳에 윤동주의 시가 던지는 위로</td>\n",
       "      <td>https://news.naver.com/main/read.nhn?mode=LS2D...</td>\n",
       "    </tr>\n",
       "    <tr>\n",
       "      <th>2430185</th>\n",
       "      <td>crawler-naver-society-2020</td>\n",
       "      <td>20210120T064610287030</td>\n",
       "      <td>코로나19 시대 속 세계 곳곳에 윤동주의 시가 던지는 위로</td>\n",
       "      <td>https://news.naver.com/main/read.nhn?mode=LS2D...</td>\n",
       "    </tr>\n",
       "    <tr>\n",
       "      <th>2430186</th>\n",
       "      <td>crawler-naver-society-2020</td>\n",
       "      <td>20210120T072656392803</td>\n",
       "      <td>코로나19 시대 속 세계 곳곳에 윤동주의 시가 던지는 위로</td>\n",
       "      <td>https://news.naver.com/main/read.nhn?mode=LS2D...</td>\n",
       "    </tr>\n",
       "    <tr>\n",
       "      <th>2430187</th>\n",
       "      <td>crawler-naver-society-2020</td>\n",
       "      <td>20210120T075729488392</td>\n",
       "      <td>코로나19 시대 속 세계 곳곳에 윤동주의 시가 던지는 위로</td>\n",
       "      <td>https://news.naver.com/main/read.nhn?mode=LS2D...</td>\n",
       "    </tr>\n",
       "    <tr>\n",
       "      <th>2430189</th>\n",
       "      <td>crawler-naver-society-2020</td>\n",
       "      <td>20210120T090852290155</td>\n",
       "      <td>코로나19 시대 속 세계 곳곳에 윤동주의 시가 던지는 위로</td>\n",
       "      <td>https://news.naver.com/main/read.nhn?mode=LS2D...</td>\n",
       "    </tr>\n",
       "    <tr>\n",
       "      <th>...</th>\n",
       "      <td>...</td>\n",
       "      <td>...</td>\n",
       "      <td>...</td>\n",
       "      <td>...</td>\n",
       "    </tr>\n",
       "    <tr>\n",
       "      <th>2452185</th>\n",
       "      <td>crawler-naver-society-2020</td>\n",
       "      <td>2021-01-01T23:11:47.797962+09:00</td>\n",
       "      <td>코로나19 시대 속 세계 곳곳에 윤동주의 시가 던지는 위로</td>\n",
       "      <td>https://news.naver.com/main/read.nhn?mode=LS2D...</td>\n",
       "    </tr>\n",
       "    <tr>\n",
       "      <th>2452186</th>\n",
       "      <td>crawler-naver-society-2020</td>\n",
       "      <td>2021-01-01T23:30:30.201582+09:00</td>\n",
       "      <td>코로나19 시대 속 세계 곳곳에 윤동주의 시가 던지는 위로</td>\n",
       "      <td>https://news.naver.com/main/read.nhn?mode=LS2D...</td>\n",
       "    </tr>\n",
       "    <tr>\n",
       "      <th>2452188</th>\n",
       "      <td>crawler-naver-society-2020</td>\n",
       "      <td>2021-01-01T23:49:22.610914+09:00</td>\n",
       "      <td>코로나19 시대 속 세계 곳곳에 윤동주의 시가 던지는 위로</td>\n",
       "      <td>https://news.naver.com/main/read.nhn?mode=LS2D...</td>\n",
       "    </tr>\n",
       "    <tr>\n",
       "      <th>2452298</th>\n",
       "      <td>crawler-naver-society-2020</td>\n",
       "      <td>2021-01-01T22:53:05.905953+09:00</td>\n",
       "      <td>코로나19 시대 속 세계 곳곳에 윤동주의 시가 던지는 위로</td>\n",
       "      <td>https://news.naver.com/main/read.nhn?mode=LS2D...</td>\n",
       "    </tr>\n",
       "    <tr>\n",
       "      <th>2468696</th>\n",
       "      <td>crawler-naver-society-2020</td>\n",
       "      <td>001-0012111805</td>\n",
       "      <td>코로나19 시대 속 세계 곳곳에 윤동주의 시가 던지는 위로</td>\n",
       "      <td>https://news.naver.com/main/read.nhn?mode=LS2D...</td>\n",
       "    </tr>\n",
       "  </tbody>\n",
       "</table>\n",
       "<p>413 rows × 4 columns</p>\n",
       "</div>"
      ],
      "text/plain": [
       "                              index                                id  \\\n",
       "2430182  crawler-naver-society-2020             20210120T051427780499   \n",
       "2430185  crawler-naver-society-2020             20210120T064610287030   \n",
       "2430186  crawler-naver-society-2020             20210120T072656392803   \n",
       "2430187  crawler-naver-society-2020             20210120T075729488392   \n",
       "2430189  crawler-naver-society-2020             20210120T090852290155   \n",
       "...                             ...                               ...   \n",
       "2452185  crawler-naver-society-2020  2021-01-01T23:11:47.797962+09:00   \n",
       "2452186  crawler-naver-society-2020  2021-01-01T23:30:30.201582+09:00   \n",
       "2452188  crawler-naver-society-2020  2021-01-01T23:49:22.610914+09:00   \n",
       "2452298  crawler-naver-society-2020  2021-01-01T22:53:05.905953+09:00   \n",
       "2468696  crawler-naver-society-2020                    001-0012111805   \n",
       "\n",
       "                                    title  \\\n",
       "2430182  코로나19 시대 속 세계 곳곳에 윤동주의 시가 던지는 위로   \n",
       "2430185  코로나19 시대 속 세계 곳곳에 윤동주의 시가 던지는 위로   \n",
       "2430186  코로나19 시대 속 세계 곳곳에 윤동주의 시가 던지는 위로   \n",
       "2430187  코로나19 시대 속 세계 곳곳에 윤동주의 시가 던지는 위로   \n",
       "2430189  코로나19 시대 속 세계 곳곳에 윤동주의 시가 던지는 위로   \n",
       "...                                   ...   \n",
       "2452185  코로나19 시대 속 세계 곳곳에 윤동주의 시가 던지는 위로   \n",
       "2452186  코로나19 시대 속 세계 곳곳에 윤동주의 시가 던지는 위로   \n",
       "2452188  코로나19 시대 속 세계 곳곳에 윤동주의 시가 던지는 위로   \n",
       "2452298  코로나19 시대 속 세계 곳곳에 윤동주의 시가 던지는 위로   \n",
       "2468696  코로나19 시대 속 세계 곳곳에 윤동주의 시가 던지는 위로   \n",
       "\n",
       "                                                       url  \n",
       "2430182  https://news.naver.com/main/read.nhn?mode=LS2D...  \n",
       "2430185  https://news.naver.com/main/read.nhn?mode=LS2D...  \n",
       "2430186  https://news.naver.com/main/read.nhn?mode=LS2D...  \n",
       "2430187  https://news.naver.com/main/read.nhn?mode=LS2D...  \n",
       "2430189  https://news.naver.com/main/read.nhn?mode=LS2D...  \n",
       "...                                                    ...  \n",
       "2452185  https://news.naver.com/main/read.nhn?mode=LS2D...  \n",
       "2452186  https://news.naver.com/main/read.nhn?mode=LS2D...  \n",
       "2452188  https://news.naver.com/main/read.nhn?mode=LS2D...  \n",
       "2452298  https://news.naver.com/main/read.nhn?mode=LS2D...  \n",
       "2468696  https://news.naver.com/main/read.nhn?mode=LS2D...  \n",
       "\n",
       "[413 rows x 4 columns]"
      ]
     },
     "execution_count": 44,
     "metadata": {},
     "output_type": "execute_result"
    }
   ],
   "source": [
    "url = 'https://news.naver.com/main/read.nhn?mode=LS2D&mid=shm&sid1=102&sid2=254&oid=001&aid=0012111805'\n",
    "\n",
    "df[ df['url'] == url ]"
   ]
  },
  {
   "cell_type": "code",
   "execution_count": 53,
   "metadata": {
    "ExecuteTime": {
     "end_time": "2021-04-30T01:30:21.023082Z",
     "start_time": "2021-04-30T01:30:21.015151Z"
    }
   },
   "outputs": [
    {
     "data": {
      "text/plain": [
       "14"
      ]
     },
     "execution_count": 53,
     "metadata": {},
     "output_type": "execute_result"
    }
   ],
   "source": [
    "len('001-0012111805')"
   ]
  },
  {
   "cell_type": "markdown",
   "metadata": {},
   "source": [
    "# corpus 문서 아이디가 잘못된 것"
   ]
  },
  {
   "cell_type": "code",
   "execution_count": 58,
   "metadata": {
    "ExecuteTime": {
     "end_time": "2021-04-30T01:31:40.595773Z",
     "start_time": "2021-04-30T01:31:38.977601Z"
    }
   },
   "outputs": [
    {
     "data": {
      "text/html": [
       "<div>\n",
       "<style scoped>\n",
       "    .dataframe tbody tr th:only-of-type {\n",
       "        vertical-align: middle;\n",
       "    }\n",
       "\n",
       "    .dataframe tbody tr th {\n",
       "        vertical-align: top;\n",
       "    }\n",
       "\n",
       "    .dataframe thead th {\n",
       "        text-align: right;\n",
       "    }\n",
       "</style>\n",
       "<table border=\"1\" class=\"dataframe\">\n",
       "  <thead>\n",
       "    <tr style=\"text-align: right;\">\n",
       "      <th></th>\n",
       "      <th>index</th>\n",
       "      <th>id</th>\n",
       "      <th>title</th>\n",
       "      <th>url</th>\n",
       "    </tr>\n",
       "  </thead>\n",
       "  <tbody>\n",
       "    <tr>\n",
       "      <th>2427042</th>\n",
       "      <td>crawler-naver-society-2020</td>\n",
       "      <td>20210113T153527991803</td>\n",
       "      <td>SBS 노조 \"윤석민 회장만 이로울뿐\"…지주회사 체제 출범 규탄</td>\n",
       "      <td>https://news.naver.com/main/read.nhn?mode=LS2D...</td>\n",
       "    </tr>\n",
       "    <tr>\n",
       "      <th>2427806</th>\n",
       "      <td>crawler-naver-society-2020</td>\n",
       "      <td>20210113T153526189527</td>\n",
       "      <td>코로나19 증상 목사가 예배 강행 순복음대전우리교회 12명 확진(종합3보)</td>\n",
       "      <td>https://news.naver.com/main/read.nhn?mode=LS2D...</td>\n",
       "    </tr>\n",
       "    <tr>\n",
       "      <th>2427974</th>\n",
       "      <td>crawler-naver-society-2020</td>\n",
       "      <td>20210113T153526376452</td>\n",
       "      <td>KBS 노사, 검언유착 오보 사태 속 수신료 인상 논의</td>\n",
       "      <td>https://news.naver.com/main/read.nhn?mode=LS2D...</td>\n",
       "    </tr>\n",
       "    <tr>\n",
       "      <th>2430179</th>\n",
       "      <td>crawler-naver-society-2020</td>\n",
       "      <td>20210120T032020688635</td>\n",
       "      <td>아리랑TV, 101개국 1억3200만 가구 송출...'국제방송원' 설립되나</td>\n",
       "      <td>https://news.naver.com/main/read.nhn?mode=LS2D...</td>\n",
       "    </tr>\n",
       "    <tr>\n",
       "      <th>2430180</th>\n",
       "      <td>crawler-naver-society-2020</td>\n",
       "      <td>20210120T041110288654</td>\n",
       "      <td>아리랑TV, 101개국 1억3200만 가구 송출...'국제방송원' 설립되나</td>\n",
       "      <td>https://news.naver.com/main/read.nhn?mode=LS2D...</td>\n",
       "    </tr>\n",
       "  </tbody>\n",
       "</table>\n",
       "</div>"
      ],
      "text/plain": [
       "                              index                     id  \\\n",
       "2427042  crawler-naver-society-2020  20210113T153527991803   \n",
       "2427806  crawler-naver-society-2020  20210113T153526189527   \n",
       "2427974  crawler-naver-society-2020  20210113T153526376452   \n",
       "2430179  crawler-naver-society-2020  20210120T032020688635   \n",
       "2430180  crawler-naver-society-2020  20210120T041110288654   \n",
       "\n",
       "                                             title  \\\n",
       "2427042        SBS 노조 \"윤석민 회장만 이로울뿐\"…지주회사 체제 출범 규탄   \n",
       "2427806  코로나19 증상 목사가 예배 강행 순복음대전우리교회 12명 확진(종합3보)   \n",
       "2427974             KBS 노사, 검언유착 오보 사태 속 수신료 인상 논의   \n",
       "2430179  아리랑TV, 101개국 1억3200만 가구 송출...'국제방송원' 설립되나   \n",
       "2430180  아리랑TV, 101개국 1억3200만 가구 송출...'국제방송원' 설립되나   \n",
       "\n",
       "                                                       url  \n",
       "2427042  https://news.naver.com/main/read.nhn?mode=LS2D...  \n",
       "2427806  https://news.naver.com/main/read.nhn?mode=LS2D...  \n",
       "2427974  https://news.naver.com/main/read.nhn?mode=LS2D...  \n",
       "2430179  https://news.naver.com/main/read.nhn?mode=LS2D...  \n",
       "2430180  https://news.naver.com/main/read.nhn?mode=LS2D...  "
      ]
     },
     "metadata": {},
     "output_type": "display_data"
    },
    {
     "data": {
      "text/plain": [
       "(1063, None)"
      ]
     },
     "execution_count": 58,
     "metadata": {},
     "output_type": "execute_result"
    }
   ],
   "source": [
    "# error_df = df[ df['id'].str.find('2021') == 0 ]\n",
    "error_df = df[ df['id'].str.len() != 14 ]\n",
    "\n",
    "len(error_df), display(error_df.head())"
   ]
  },
  {
   "cell_type": "markdown",
   "metadata": {},
   "source": [
    "# 문서 아이디 변경"
   ]
  },
  {
   "cell_type": "code",
   "execution_count": 48,
   "metadata": {
    "ExecuteTime": {
     "end_time": "2021-04-30T01:24:34.152955Z",
     "start_time": "2021-04-30T01:24:34.081526Z"
    }
   },
   "outputs": [],
   "source": [
    "doc_id_list = []\n",
    "for no, row in error_df.iterrows():\n",
    "    doc_id_list.append((get_doc_id(url=row['url']), row))"
   ]
  },
  {
   "cell_type": "code",
   "execution_count": 49,
   "metadata": {
    "ExecuteTime": {
     "end_time": "2021-04-30T01:24:36.265348Z",
     "start_time": "2021-04-30T01:24:36.021457Z"
    }
   },
   "outputs": [
    {
     "data": {
      "text/html": [
       "<div>\n",
       "<style scoped>\n",
       "    .dataframe tbody tr th:only-of-type {\n",
       "        vertical-align: middle;\n",
       "    }\n",
       "\n",
       "    .dataframe tbody tr th {\n",
       "        vertical-align: top;\n",
       "    }\n",
       "\n",
       "    .dataframe thead th {\n",
       "        text-align: right;\n",
       "    }\n",
       "</style>\n",
       "<table border=\"1\" class=\"dataframe\">\n",
       "  <thead>\n",
       "    <tr style=\"text-align: right;\">\n",
       "      <th></th>\n",
       "      <th>index</th>\n",
       "      <th>id</th>\n",
       "      <th>title</th>\n",
       "      <th>url</th>\n",
       "    </tr>\n",
       "  </thead>\n",
       "  <tbody>\n",
       "    <tr>\n",
       "      <th>2462718</th>\n",
       "      <td>crawler-naver-society-2020</td>\n",
       "      <td>001-0011853686</td>\n",
       "      <td>코로나19 증상 목사가 예배 강행 순복음대전우리교회 12명 확진(종합3보)</td>\n",
       "      <td>https://news.naver.com/main/read.nhn?mode=LS2D...</td>\n",
       "    </tr>\n",
       "    <tr>\n",
       "      <th>2468521</th>\n",
       "      <td>crawler-naver-society-2020</td>\n",
       "      <td>003-0009998419</td>\n",
       "      <td>KBS 노사, 검언유착 오보 사태 속 수신료 인상 논의</td>\n",
       "      <td>https://news.naver.com/main/read.nhn?mode=LS2D...</td>\n",
       "    </tr>\n",
       "    <tr>\n",
       "      <th>2468525</th>\n",
       "      <td>crawler-naver-society-2020</td>\n",
       "      <td>003-0010053129</td>\n",
       "      <td>SBS 노조 \"윤석민 회장만 이로울뿐\"…지주회사 체제 출범 규탄</td>\n",
       "      <td>https://news.naver.com/main/read.nhn?mode=LS2D...</td>\n",
       "    </tr>\n",
       "    <tr>\n",
       "      <th>2468526</th>\n",
       "      <td>crawler-naver-society-2020</td>\n",
       "      <td>003-0009945329</td>\n",
       "      <td>KBS \"4년내 직원 1000명 감축, 수신료 올린다\"(종합)</td>\n",
       "      <td>https://news.naver.com/main/read.nhn?mode=LS2D...</td>\n",
       "    </tr>\n",
       "    <tr>\n",
       "      <th>2468685</th>\n",
       "      <td>crawler-naver-society-2020</td>\n",
       "      <td>001-0012113491</td>\n",
       "      <td>무등산국립공원 사회적 거리두기 안내판</td>\n",
       "      <td>https://news.naver.com/main/read.nhn?mode=LS2D...</td>\n",
       "    </tr>\n",
       "    <tr>\n",
       "      <th>...</th>\n",
       "      <td>...</td>\n",
       "      <td>...</td>\n",
       "      <td>...</td>\n",
       "      <td>...</td>\n",
       "    </tr>\n",
       "    <tr>\n",
       "      <th>6640067</th>\n",
       "      <td>crawler-naver-sports-2020</td>\n",
       "      <td>055-0000864825</td>\n",
       "      <td>배혜윤 27점 11리바운드…삼성생명, BNK 누르고 2연패 탈출</td>\n",
       "      <td>https://sports.news.naver.com/general/news/rea...</td>\n",
       "    </tr>\n",
       "    <tr>\n",
       "      <th>6640166</th>\n",
       "      <td>crawler-naver-sports-2020</td>\n",
       "      <td>055-0000864826</td>\n",
       "      <td>'러셀 34점' 한국전력, 대한항공에 짜릿한 승리</td>\n",
       "      <td>https://sports.news.naver.com/volleyball/news/...</td>\n",
       "    </tr>\n",
       "    <tr>\n",
       "      <th>6917936</th>\n",
       "      <td>crawler-naver-it-2020</td>\n",
       "      <td>001-0012112595</td>\n",
       "      <td>올해 미국 OTT 가입자 50% 넘게 증가</td>\n",
       "      <td>https://news.naver.com/main/read.nhn?mode=LS2D...</td>\n",
       "    </tr>\n",
       "    <tr>\n",
       "      <th>7399296</th>\n",
       "      <td>crawler-naver-living-2020</td>\n",
       "      <td>001-0012111805</td>\n",
       "      <td>코로나19 시대 속 세계 곳곳에 윤동주의 시가 던지는 위로</td>\n",
       "      <td>https://news.naver.com/main/read.nhn?mode=LS2D...</td>\n",
       "    </tr>\n",
       "    <tr>\n",
       "      <th>7406100</th>\n",
       "      <td>crawler-naver-living-2020</td>\n",
       "      <td>001-0011853686</td>\n",
       "      <td>코로나19 증상 목사가 예배 강행 순복음대전우리교회 12명 확진(종합3보)</td>\n",
       "      <td>https://news.naver.com/main/read.nhn?mode=LS2D...</td>\n",
       "    </tr>\n",
       "  </tbody>\n",
       "</table>\n",
       "<p>75 rows × 4 columns</p>\n",
       "</div>"
      ],
      "text/plain": [
       "                              index              id  \\\n",
       "2462718  crawler-naver-society-2020  001-0011853686   \n",
       "2468521  crawler-naver-society-2020  003-0009998419   \n",
       "2468525  crawler-naver-society-2020  003-0010053129   \n",
       "2468526  crawler-naver-society-2020  003-0009945329   \n",
       "2468685  crawler-naver-society-2020  001-0012113491   \n",
       "...                             ...             ...   \n",
       "6640067   crawler-naver-sports-2020  055-0000864825   \n",
       "6640166   crawler-naver-sports-2020  055-0000864826   \n",
       "6917936       crawler-naver-it-2020  001-0012112595   \n",
       "7399296   crawler-naver-living-2020  001-0012111805   \n",
       "7406100   crawler-naver-living-2020  001-0011853686   \n",
       "\n",
       "                                             title  \\\n",
       "2462718  코로나19 증상 목사가 예배 강행 순복음대전우리교회 12명 확진(종합3보)   \n",
       "2468521             KBS 노사, 검언유착 오보 사태 속 수신료 인상 논의   \n",
       "2468525        SBS 노조 \"윤석민 회장만 이로울뿐\"…지주회사 체제 출범 규탄   \n",
       "2468526         KBS \"4년내 직원 1000명 감축, 수신료 올린다\"(종합)   \n",
       "2468685                       무등산국립공원 사회적 거리두기 안내판   \n",
       "...                                            ...   \n",
       "6640067        배혜윤 27점 11리바운드…삼성생명, BNK 누르고 2연패 탈출   \n",
       "6640166                '러셀 34점' 한국전력, 대한항공에 짜릿한 승리   \n",
       "6917936                    올해 미국 OTT 가입자 50% 넘게 증가   \n",
       "7399296           코로나19 시대 속 세계 곳곳에 윤동주의 시가 던지는 위로   \n",
       "7406100  코로나19 증상 목사가 예배 강행 순복음대전우리교회 12명 확진(종합3보)   \n",
       "\n",
       "                                                       url  \n",
       "2462718  https://news.naver.com/main/read.nhn?mode=LS2D...  \n",
       "2468521  https://news.naver.com/main/read.nhn?mode=LS2D...  \n",
       "2468525  https://news.naver.com/main/read.nhn?mode=LS2D...  \n",
       "2468526  https://news.naver.com/main/read.nhn?mode=LS2D...  \n",
       "2468685  https://news.naver.com/main/read.nhn?mode=LS2D...  \n",
       "...                                                    ...  \n",
       "6640067  https://sports.news.naver.com/general/news/rea...  \n",
       "6640166  https://sports.news.naver.com/volleyball/news/...  \n",
       "6917936  https://news.naver.com/main/read.nhn?mode=LS2D...  \n",
       "7399296  https://news.naver.com/main/read.nhn?mode=LS2D...  \n",
       "7406100  https://news.naver.com/main/read.nhn?mode=LS2D...  \n",
       "\n",
       "[75 rows x 4 columns]"
      ]
     },
     "execution_count": 49,
     "metadata": {},
     "output_type": "execute_result"
    }
   ],
   "source": [
    "df[ df['id'].isin([x[0] for x in doc_id_list]) ]"
   ]
  },
  {
   "cell_type": "code",
   "execution_count": 50,
   "metadata": {
    "ExecuteTime": {
     "end_time": "2021-04-30T01:24:41.524755Z",
     "start_time": "2021-04-30T01:24:41.515680Z"
    },
    "scrolled": true
   },
   "outputs": [
    {
     "data": {
      "text/plain": [
       "(1063,\n",
       " [('003-0010053129',\n",
       "   index                           crawler-naver-society-2020\n",
       "   id                                   20210113T153527991803\n",
       "   title                  SBS 노조 \"윤석민 회장만 이로울뿐\"…지주회사 체제 출범 규탄\n",
       "   url      https://news.naver.com/main/read.nhn?mode=LS2D...\n",
       "   Name: 2427042, dtype: object),\n",
       "  ('001-0011853686',\n",
       "   index                           crawler-naver-society-2020\n",
       "   id                                   20210113T153526189527\n",
       "   title            코로나19 증상 목사가 예배 강행 순복음대전우리교회 12명 확진(종합3보)\n",
       "   url      https://news.naver.com/main/read.nhn?mode=LS2D...\n",
       "   Name: 2427806, dtype: object),\n",
       "  ('003-0009998419',\n",
       "   index                           crawler-naver-society-2020\n",
       "   id                                   20210113T153526376452\n",
       "   title                       KBS 노사, 검언유착 오보 사태 속 수신료 인상 논의\n",
       "   url      https://news.naver.com/main/read.nhn?mode=LS2D...\n",
       "   Name: 2427974, dtype: object)])"
      ]
     },
     "execution_count": 50,
     "metadata": {},
     "output_type": "execute_result"
    }
   ],
   "source": [
    "len(doc_id_list), doc_id_list[:3]"
   ]
  },
  {
   "cell_type": "code",
   "execution_count": 51,
   "metadata": {
    "ExecuteTime": {
     "end_time": "2021-04-30T01:25:15.125604Z",
     "start_time": "2021-04-30T01:24:53.634142Z"
    }
   },
   "outputs": [
    {
     "name": "stderr",
     "output_type": "stream",
     "text": [
      "100%|██████████| 1063/1063 [00:21<00:00, 49.49it/s]\n"
     ]
    }
   ],
   "source": [
    "def change_doc_id(id_list: list, index: str) -> None:\n",
    "    doc_list = []\n",
    "    es.get_by_ids(index=index, id_list=id_list, result=doc_list)\n",
    "\n",
    "    bulk = []\n",
    "    for doc in doc_list:\n",
    "        prev_id = doc['document_id']\n",
    "        for k in '_index,_id,document_id'.split(','):\n",
    "            if k not in doc:\n",
    "                continue\n",
    "            del doc[k]\n",
    "\n",
    "        doc_id = get_doc_id(url=doc['url'])\n",
    "        bulk += [{\n",
    "            'delete': {\n",
    "                '_id': prev_id,\n",
    "                '_index': index,\n",
    "            }\n",
    "        }, {\n",
    "            'update': {\n",
    "                '_id': doc_id,\n",
    "                '_index': index,\n",
    "            }\n",
    "        }, {\n",
    "            'doc': doc,\n",
    "            'doc_as_upsert': True,\n",
    "        }]\n",
    "        \n",
    "    if len(bulk) == 0:\n",
    "        return\n",
    "        \n",
    "    es.conn.bulk(\n",
    "        index=index,\n",
    "        body=bulk,\n",
    "        refresh=True,\n",
    "        params={'request_timeout': 620},\n",
    "    )\n",
    "    return\n",
    "\n",
    "\n",
    "buf = defaultdict(list)\n",
    "for doc_id, row in tqdm(doc_id_list):\n",
    "    index = row['index']\n",
    "    buf[index].append(row['id'])\n",
    "\n",
    "    if len(buf[index]) > 100:\n",
    "        change_doc_id(id_list=buf[index], index=index)\n",
    "        del buf[index]"
   ]
  },
  {
   "cell_type": "code",
   "execution_count": 52,
   "metadata": {
    "ExecuteTime": {
     "end_time": "2021-04-30T01:25:21.118656Z",
     "start_time": "2021-04-30T01:25:16.592063Z"
    }
   },
   "outputs": [],
   "source": [
    "for index, id_list in buf.items():\n",
    "    change_doc_id(id_list=id_list, index=index)"
   ]
  },
  {
   "cell_type": "code",
   "execution_count": null,
   "metadata": {},
   "outputs": [],
   "source": []
  }
 ],
 "metadata": {
  "kernelspec": {
   "display_name": "Python 3",
   "language": "python",
   "name": "python3"
  },
  "language_info": {
   "codemirror_mode": {
    "name": "ipython",
    "version": 3
   },
   "file_extension": ".py",
   "mimetype": "text/x-python",
   "name": "python",
   "nbconvert_exporter": "python",
   "pygments_lexer": "ipython3",
   "version": "3.8.5"
  },
  "latex_envs": {
   "LaTeX_envs_menu_present": true,
   "autoclose": false,
   "autocomplete": true,
   "bibliofile": "biblio.bib",
   "cite_by": "apalike",
   "current_citInitial": 1,
   "eqLabelWithNumbers": true,
   "eqNumInitial": 1,
   "hotkeys": {
    "equation": "Ctrl-E",
    "itemize": "Ctrl-I"
   },
   "labels_anchors": false,
   "latex_user_defs": false,
   "report_style_numbering": false,
   "user_envs_cfg": false
  },
  "toc": {
   "base_numbering": 1,
   "nav_menu": {},
   "number_sections": false,
   "sideBar": false,
   "skip_h1_title": false,
   "title_cell": "Table of Contents",
   "title_sidebar": "Contents",
   "toc_cell": false,
   "toc_position": {},
   "toc_section_display": false,
   "toc_window_display": false
  },
  "varInspector": {
   "cols": {
    "lenName": 16,
    "lenType": 16,
    "lenVar": 40
   },
   "kernels_config": {
    "python": {
     "delete_cmd_postfix": "",
     "delete_cmd_prefix": "del ",
     "library": "var_list.py",
     "varRefreshCmd": "print(var_dic_list())"
    },
    "r": {
     "delete_cmd_postfix": ") ",
     "delete_cmd_prefix": "rm(",
     "library": "var_list.r",
     "varRefreshCmd": "cat(var_dic_list()) "
    }
   },
   "types_to_exclude": [
    "module",
    "function",
    "builtin_function_or_method",
    "instance",
    "_Feature"
   ],
   "window_display": false
  }
 },
 "nbformat": 4,
 "nbformat_minor": 2
}
