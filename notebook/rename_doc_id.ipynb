{
 "cells": [
  {
   "cell_type": "markdown",
   "metadata": {},
   "source": [
    "# 중복 문서 점검"
   ]
  },
  {
   "cell_type": "code",
   "execution_count": 1,
   "metadata": {
    "ExecuteTime": {
     "end_time": "2021-05-02T23:52:36.752242Z",
     "start_time": "2021-05-02T23:52:36.727547Z"
    }
   },
   "outputs": [],
   "source": [
    "%load_ext autoreload\n",
    "%autoreload 2"
   ]
  },
  {
   "cell_type": "code",
   "execution_count": 2,
   "metadata": {
    "ExecuteTime": {
     "end_time": "2021-05-02T23:52:40.622325Z",
     "start_time": "2021-05-02T23:52:37.296977Z"
    }
   },
   "outputs": [
    {
     "name": "stderr",
     "output_type": "stream",
     "text": [
      "/usr/lib/python3/dist-packages/requests/__init__.py:89: RequestsDependencyWarning: urllib3 (1.26.2) or chardet (3.0.4) doesn't match a supported version!\n",
      "  warnings.warn(\"urllib3 ({}) or chardet ({}) doesn't match a supported \"\n",
      "/home/ejpark/workspace/dev/crawler/crawler/utils/es.py:26: TqdmExperimentalWarning: Using `tqdm.autonotebook.tqdm` in notebook mode. Use `tqdm.tqdm` instead to force console mode (e.g. in jupyter console)\n",
      "  from tqdm.autonotebook import tqdm\n"
     ]
    }
   ],
   "source": [
    "import re\n",
    "import bz2\n",
    "import json\n",
    "import pandas as pd\n",
    "from tqdm import tqdm\n",
    "from glob import glob\n",
    "from collections import defaultdict\n",
    "from IPython.display import display\n",
    "from crawler.utils.es import ElasticSearchUtils"
   ]
  },
  {
   "cell_type": "code",
   "execution_count": null,
   "metadata": {
    "ExecuteTime": {
     "end_time": "2021-04-30T02:06:14.943429Z",
     "start_time": "2021-04-30T02:06:14.935061Z"
    },
    "code_folding": [
     0
    ]
   },
   "outputs": [],
   "source": [
    "def read_merged_size(filename):\n",
    "    data = defaultdict(dict)\n",
    "    \n",
    "    with open(filename, 'r') as fp:\n",
    "        for l in fp:\n",
    "            if l.strip() == '':\n",
    "                continue\n",
    "\n",
    "            index, count = re.sub('\\s+', '\\t', l.strip()).split('\\t')\n",
    "            count = int(count)\n",
    "\n",
    "            if 'merged' in index:            \n",
    "                data[index.replace('-merged', '')]['backfill'] = count\n",
    "            else:\n",
    "                data[index]['corpus'] = count\n",
    "\n",
    "    count_df = pd.DataFrame(data).T\n",
    "    count_df = count_df[ count_df.index.str.find('2020') > 0 ]\n",
    "\n",
    "    return f\"{count_df['corpus'].sum(axis=0):,}\", f\"{count_df['backfill'].sum(axis=0):,}\", display(count_df)\n",
    "\n",
    "read_merged_size(filename='../data/es_dump/merged-size.txt')"
   ]
  },
  {
   "cell_type": "code",
   "execution_count": 3,
   "metadata": {
    "ExecuteTime": {
     "end_time": "2021-05-02T23:52:40.721557Z",
     "start_time": "2021-05-02T23:52:40.681298Z"
    }
   },
   "outputs": [],
   "source": [
    "es = ElasticSearchUtils(host='https://corpus.ncsoft.com:9200', encoded_auth='ZWxhc3RpYzpubHBsYWI=')"
   ]
  },
  {
   "cell_type": "code",
   "execution_count": 4,
   "metadata": {
    "ExecuteTime": {
     "end_time": "2021-05-02T23:52:43.649403Z",
     "start_time": "2021-05-02T23:52:43.641196Z"
    },
    "code_folding": [
     0
    ]
   },
   "outputs": [],
   "source": [
    "def read_ids(path: str) -> list:\n",
    "    result = []\n",
    "    for filename in tqdm(glob(path)):\n",
    "        with bz2.open(filename, 'r') as fp:\n",
    "            result += [x.decode('utf-8').rstrip().split('\\t') for x in fp if x.decode('utf-8').strip() != '']\n",
    "            \n",
    "    return result"
   ]
  },
  {
   "cell_type": "code",
   "execution_count": 5,
   "metadata": {
    "ExecuteTime": {
     "end_time": "2021-05-02T23:52:44.076673Z",
     "start_time": "2021-05-02T23:52:44.050571Z"
    },
    "code_folding": [
     0
    ]
   },
   "outputs": [],
   "source": [
    "def get_doc_id(url: str) -> str or None:\n",
    "    oid = re.search('oid=(\\d+)', url)\n",
    "    aid = re.search('aid=(\\d+)', url)\n",
    "    \n",
    "    if oid is None and aid is None:\n",
    "        return None\n",
    "        \n",
    "    return f'{oid.groups()[0]}-{aid.groups()[0]}'"
   ]
  },
  {
   "cell_type": "code",
   "execution_count": null,
   "metadata": {
    "ExecuteTime": {
     "start_time": "2021-05-04T07:33:25.859Z"
    }
   },
   "outputs": [
    {
     "name": "stderr",
     "output_type": "stream",
     "text": [
      " 91%|█████████ | 10/11 [00:30<00:02,  2.46s/it]"
     ]
    }
   ],
   "source": [
    "ids = read_ids(path='../data/es_dump/corpus/doc_ids/crawler-naver-*-2012.ids.tsv.bz2')"
   ]
  },
  {
   "cell_type": "code",
   "execution_count": null,
   "metadata": {
    "ExecuteTime": {
     "start_time": "2021-05-04T07:33:26.474Z"
    }
   },
   "outputs": [],
   "source": [
    "df = pd.DataFrame(ids, columns=['index', 'id', 'title', 'url'])\n",
    "\n",
    "len(df), display(df.head())"
   ]
  },
  {
   "cell_type": "markdown",
   "metadata": {},
   "source": [
    "# corpus 문서 아이디가 잘못된 것"
   ]
  },
  {
   "cell_type": "code",
   "execution_count": null,
   "metadata": {
    "ExecuteTime": {
     "start_time": "2021-05-04T07:33:28.564Z"
    }
   },
   "outputs": [],
   "source": [
    "error_df = df[ df['id'].str.len() != 14 ]\n",
    "\n",
    "len(error_df), display(error_df.head())"
   ]
  },
  {
   "cell_type": "markdown",
   "metadata": {},
   "source": [
    "# 문서 아이디 변경"
   ]
  },
  {
   "cell_type": "code",
   "execution_count": null,
   "metadata": {
    "ExecuteTime": {
     "start_time": "2021-05-04T07:33:30.930Z"
    }
   },
   "outputs": [],
   "source": [
    "doc_id_list = []\n",
    "for no, row in error_df.iterrows():\n",
    "    if row['url'] is None:\n",
    "        continue\n",
    "        \n",
    "    doc_id_list.append((get_doc_id(url=row['url']), row))"
   ]
  },
  {
   "cell_type": "code",
   "execution_count": null,
   "metadata": {
    "ExecuteTime": {
     "start_time": "2021-05-04T07:33:34.290Z"
    }
   },
   "outputs": [],
   "source": [
    "df[ df['id'].isin([x[0] for x in doc_id_list]) ]"
   ]
  },
  {
   "cell_type": "code",
   "execution_count": 61,
   "metadata": {
    "ExecuteTime": {
     "end_time": "2021-05-04T07:07:13.278538Z",
     "start_time": "2021-05-04T07:07:13.269723Z"
    },
    "code_folding": [
     0
    ]
   },
   "outputs": [],
   "source": [
    "def change_doc_id(id_list: list, index: str) -> None:\n",
    "    doc_list = []\n",
    "    es.get_by_ids(index=index, id_list=id_list, result=doc_list)\n",
    "\n",
    "    bulk = []\n",
    "    for doc in doc_list:\n",
    "        prev_id = doc['document_id']\n",
    "        for k in '_index,_id,document_id'.split(','):\n",
    "            if k not in doc:\n",
    "                continue\n",
    "            del doc[k]\n",
    "\n",
    "        doc_id = get_doc_id(url=doc['url'])\n",
    "        bulk += [{\n",
    "            'delete': {\n",
    "                '_id': prev_id,\n",
    "                '_index': index,\n",
    "            }\n",
    "        }, {\n",
    "            'update': {\n",
    "                '_id': doc_id,\n",
    "                '_index': index,\n",
    "            }\n",
    "        }, {\n",
    "            'doc': doc,\n",
    "            'doc_as_upsert': True,\n",
    "        }]\n",
    "        \n",
    "    if len(bulk) == 0:\n",
    "        return\n",
    "        \n",
    "    try:\n",
    "        es.conn.bulk(\n",
    "            index=index,\n",
    "            body=bulk,\n",
    "            refresh=True,\n",
    "            params={'request_timeout': 620},\n",
    "        )\n",
    "    except Exception as e:\n",
    "        pass\n",
    "    \n",
    "    return"
   ]
  },
  {
   "cell_type": "code",
   "execution_count": 62,
   "metadata": {
    "ExecuteTime": {
     "end_time": "2021-05-04T07:07:13.892007Z",
     "start_time": "2021-05-04T07:07:13.883151Z"
    },
    "code_folding": []
   },
   "outputs": [
    {
     "name": "stderr",
     "output_type": "stream",
     "text": [
      "100%|██████████| 5/5 [00:00<00:00, 48998.88it/s]\n"
     ]
    }
   ],
   "source": [
    "buf = defaultdict(list)\n",
    "for doc_id, row in tqdm(doc_id_list):\n",
    "    index = row['index']\n",
    "    buf[index].append(row['id'])\n",
    "\n",
    "    if len(buf[index]) > 500:\n",
    "        change_doc_id(id_list=buf[index], index=index)\n",
    "        del buf[index]"
   ]
  },
  {
   "cell_type": "code",
   "execution_count": 63,
   "metadata": {
    "ExecuteTime": {
     "end_time": "2021-05-04T07:07:15.704266Z",
     "start_time": "2021-05-04T07:07:15.150754Z"
    }
   },
   "outputs": [],
   "source": [
    "for index, id_list in buf.items():\n",
    "    change_doc_id(id_list=id_list, index=index)"
   ]
  },
  {
   "cell_type": "code",
   "execution_count": null,
   "metadata": {},
   "outputs": [],
   "source": []
  }
 ],
 "metadata": {
  "kernelspec": {
   "display_name": "Python 3",
   "language": "python",
   "name": "python3"
  },
  "language_info": {
   "codemirror_mode": {
    "name": "ipython",
    "version": 3
   },
   "file_extension": ".py",
   "mimetype": "text/x-python",
   "name": "python",
   "nbconvert_exporter": "python",
   "pygments_lexer": "ipython3",
   "version": "3.8.5"
  },
  "latex_envs": {
   "LaTeX_envs_menu_present": true,
   "autoclose": false,
   "autocomplete": true,
   "bibliofile": "biblio.bib",
   "cite_by": "apalike",
   "current_citInitial": 1,
   "eqLabelWithNumbers": true,
   "eqNumInitial": 1,
   "hotkeys": {
    "equation": "Ctrl-E",
    "itemize": "Ctrl-I"
   },
   "labels_anchors": false,
   "latex_user_defs": false,
   "report_style_numbering": false,
   "user_envs_cfg": false
  },
  "toc": {
   "base_numbering": 1,
   "nav_menu": {},
   "number_sections": false,
   "sideBar": false,
   "skip_h1_title": false,
   "title_cell": "Table of Contents",
   "title_sidebar": "Contents",
   "toc_cell": false,
   "toc_position": {},
   "toc_section_display": false,
   "toc_window_display": false
  },
  "varInspector": {
   "cols": {
    "lenName": 16,
    "lenType": 16,
    "lenVar": 40
   },
   "kernels_config": {
    "python": {
     "delete_cmd_postfix": "",
     "delete_cmd_prefix": "del ",
     "library": "var_list.py",
     "varRefreshCmd": "print(var_dic_list())"
    },
    "r": {
     "delete_cmd_postfix": ") ",
     "delete_cmd_prefix": "rm(",
     "library": "var_list.r",
     "varRefreshCmd": "cat(var_dic_list()) "
    }
   },
   "types_to_exclude": [
    "module",
    "function",
    "builtin_function_or_method",
    "instance",
    "_Feature"
   ],
   "window_display": false
  }
 },
 "nbformat": 4,
 "nbformat_minor": 2
}
