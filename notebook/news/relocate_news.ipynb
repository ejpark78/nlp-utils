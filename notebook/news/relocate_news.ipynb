{
 "cells": [
  {
   "cell_type": "code",
   "execution_count": 1,
   "metadata": {
    "ExecuteTime": {
     "end_time": "2020-12-21T05:46:30.501215Z",
     "start_time": "2020-12-21T05:46:30.493751Z"
    }
   },
   "outputs": [],
   "source": [
    "%load_ext autoreload\n",
    "%autoreload 2"
   ]
  },
  {
   "cell_type": "code",
   "execution_count": 2,
   "metadata": {
    "ExecuteTime": {
     "end_time": "2020-12-21T05:46:31.666128Z",
     "start_time": "2020-12-21T05:46:30.502530Z"
    },
    "scrolled": true
   },
   "outputs": [
    {
     "data": {
      "text/plain": [
       "({'Name': 'nlplab',\n",
       "  'Version': '1.19.38',\n",
       "  'Summary': 'nlplab 데이터셋 배포 라이브러리',\n",
       "  'Home-page': 'http://galadriel02.korea.ncsoft.corp/searchtf/pypi/nlplab',\n",
       "  'Author': 'ejpark',\n",
       "  'Author-email': 'ejpark@ncsoft.com',\n",
       "  'License': 'Apache License Version 2.0',\n",
       "  'Location': '/home/ejpark/workspace/crawler_group/crawler/venv/lib/python3.8/site-packages',\n",
       "  'Requires': 'bs4, wheel, webdav, urllib3, requests, setuptools, minio, pandas, twine, tqdm, elasticsearch',\n",
       "  'Required-by': ''},\n",
       " ['/home/ejpark/workspace/crawler_group/crawler/notebook',\n",
       "  '/home/ejpark/workspace/crawler_group/crawler',\n",
       "  '/usr/lib/python38.zip',\n",
       "  '/usr/lib/python3.8',\n",
       "  '/usr/lib/python3.8/lib-dynload',\n",
       "  '',\n",
       "  '/home/ejpark/.local/lib/python3.8/site-packages',\n",
       "  '/usr/local/lib/python3.8/dist-packages',\n",
       "  '/usr/lib/python3/dist-packages',\n",
       "  '/usr/lib/python3.8/dist-packages',\n",
       "  '/home/ejpark/.local/lib/python3.8/site-packages/IPython/extensions',\n",
       "  '/home/ejpark/.ipython',\n",
       "  '/home/ejpark/workspace/crawler_group/crawler/venv/lib/python3.8/site-packages'])"
      ]
     },
     "execution_count": 2,
     "metadata": {},
     "output_type": "execute_result"
    }
   ],
   "source": [
    "import sys\n",
    "\n",
    "pkg_info = !pip3 show nlplab\n",
    "pkg_info = {l.split(':')[0]: l.split(': ')[1]  for l in pkg_info}\n",
    "\n",
    "sys.path.append(pkg_info['Location'])\n",
    "\n",
    "pkg_info, sys.path"
   ]
  },
  {
   "cell_type": "code",
   "execution_count": 3,
   "metadata": {
    "ExecuteTime": {
     "end_time": "2020-12-21T05:46:31.992907Z",
     "start_time": "2020-12-21T05:46:31.667852Z"
    }
   },
   "outputs": [],
   "source": [
    "from module.web_news.relocate import RelocateWebNews"
   ]
  },
  {
   "cell_type": "code",
   "execution_count": 4,
   "metadata": {
    "ExecuteTime": {
     "end_time": "2020-12-21T05:46:32.039318Z",
     "start_time": "2020-12-21T05:46:31.993978Z"
    }
   },
   "outputs": [],
   "source": [
    "m = RelocateWebNews()"
   ]
  },
  {
   "cell_type": "code",
   "execution_count": null,
   "metadata": {
    "ExecuteTime": {
     "start_time": "2020-12-21T05:46:30.475Z"
    }
   },
   "outputs": [],
   "source": [
    "exists = m.relocate()"
   ]
  },
  {
   "cell_type": "code",
   "execution_count": null,
   "metadata": {},
   "outputs": [],
   "source": []
  }
 ],
 "metadata": {
  "kernelspec": {
   "display_name": "Python 3",
   "language": "python",
   "name": "python3"
  },
  "language_info": {
   "codemirror_mode": {
    "name": "ipython",
    "version": 3
   },
   "file_extension": ".py",
   "mimetype": "text/x-python",
   "name": "python",
   "nbconvert_exporter": "python",
   "pygments_lexer": "ipython3",
   "version": "3.8.5"
  },
  "latex_envs": {
   "LaTeX_envs_menu_present": true,
   "autoclose": false,
   "autocomplete": true,
   "bibliofile": "biblio.bib",
   "cite_by": "apalike",
   "current_citInitial": 1,
   "eqLabelWithNumbers": true,
   "eqNumInitial": 1,
   "hotkeys": {
    "equation": "Ctrl-E",
    "itemize": "Ctrl-I"
   },
   "labels_anchors": false,
   "latex_user_defs": false,
   "report_style_numbering": false,
   "user_envs_cfg": false
  },
  "toc": {
   "base_numbering": 1,
   "nav_menu": {},
   "number_sections": true,
   "sideBar": true,
   "skip_h1_title": false,
   "title_cell": "Table of Contents",
   "title_sidebar": "Contents",
   "toc_cell": false,
   "toc_position": {},
   "toc_section_display": true,
   "toc_window_display": false
  }
 },
 "nbformat": 4,
 "nbformat_minor": 4
}
