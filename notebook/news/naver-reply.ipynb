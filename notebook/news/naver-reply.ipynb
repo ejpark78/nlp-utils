{
 "cells": [
  {
   "cell_type": "markdown",
   "metadata": {},
   "source": [
    "# 야구 뉴스 댓글 정보 추출\n",
    "\n",
    "2018, 2019 댓글 덤프\n",
    "댓글에 해당하는 뉴스 원문 덤프\n",
    "원문에서 인터뷰 기사 분리\n",
    "  감독 인터뷰\n",
    "  선수 인터뷰\n",
    "  기타\n",
    "댓글이 달린 기사 원문 분석"
   ]
  },
  {
   "cell_type": "code",
   "execution_count": null,
   "metadata": {
    "ExecuteTime": {
     "end_time": "2019-08-28T05:33:22.804635Z",
     "start_time": "2019-08-28T05:33:22.440607Z"
    }
   },
   "outputs": [],
   "source": [
    "#!/usr/bin/env python3\n",
    "# -*- coding: utf-8 -*-\n",
    "\n",
    "from __future__ import absolute_import\n",
    "from __future__ import division\n",
    "from __future__ import print_function\n",
    "\n",
    "import bz2\n",
    "import pandas as pd\n",
    "\n",
    "from datetime import datetime\n",
    "from io import BufferedWriter\n",
    "from elasticsearch import Elasticsearch\n",
    "from tqdm.autonotebook import tqdm\n",
    "from utils.naver_reply_utils import NaverNewsReplyUtils\n",
    "from utils.elasticsearch_utils import ElasticSearchUtils\n",
    "\n",
    "pd.set_option('display.max_colwidth', -1)"
   ]
  },
  {
   "cell_type": "code",
   "execution_count": null,
   "metadata": {
    "ExecuteTime": {
     "end_time": "2019-08-28T05:33:23.065740Z",
     "start_time": "2019-08-28T05:33:22.962696Z"
    }
   },
   "outputs": [],
   "source": [
    "host = 'https://corpus.ncsoft.com:9200'\n",
    "auth = 'crawler:crawler2019'\n",
    "\n",
    "reply_utils = NaverNewsReplyUtils()\n",
    "\n",
    "reply_utils.init_plt()\n",
    "\n",
    "# 2018, 2019 댓글 덤프\n",
    "news_index = 'crawler-naver-sports-2019'\n",
    "reply_index = 'crawler-naver-sports-reply-2019'"
   ]
  },
  {
   "cell_type": "code",
   "execution_count": null,
   "metadata": {
    "ExecuteTime": {
     "end_time": "2019-08-28T01:44:13.997584Z",
     "start_time": "2019-08-28T01:40:55.165456Z"
    },
    "code_folding": []
   },
   "outputs": [],
   "source": [
    "def dump_data(news_index, reply_index):\n",
    "    \"\"\" \"\"\"\n",
    "    reply_list = reply_utils.dump_data(\n",
    "        host=host,\n",
    "        auth=auth,\n",
    "        doc_type='reply',\n",
    "        index_list=[reply_index],\n",
    "    )\n",
    "\n",
    "    reply_info = reply_utils.flatten_reply(reply_list=reply_list)\n",
    "\n",
    "    news_df = reply_utils.get_news(\n",
    "        host=host,\n",
    "        auth=auth,\n",
    "        index=news_index,\n",
    "        reply_idx=reply_info['index'],\n",
    "        reply_list=reply_info['docs'],\n",
    "    )\n",
    "\n",
    "    reply_df = pd.DataFrame(reply_info['data'])\n",
    "\n",
    "    # 파일로 저장\n",
    "    reply_utils.save_json(df=news_df, filename=news_index + '.json.bz2')\n",
    "    reply_utils.save_json(df=reply_df, filename=reply_index + '.json.bz2')\n",
    "    \n",
    "    return news_df, reply_df\n",
    "\n",
    "news_df, reply_df = dump_data(news_index=news_index, reply_index=reply_index)"
   ]
  },
  {
   "cell_type": "code",
   "execution_count": null,
   "metadata": {
    "ExecuteTime": {
     "end_time": "2019-08-28T05:34:05.612162Z",
     "start_time": "2019-08-28T05:33:26.359897Z"
    }
   },
   "outputs": [],
   "source": [
    "news_df = reply_utils.read_json(filename=news_index + '.json.bz2')\n",
    "reply_df = reply_utils.read_json(filename=reply_index + '.json.bz2')"
   ]
  },
  {
   "cell_type": "markdown",
   "metadata": {},
   "source": [
    "# 전체 인용문 추출 "
   ]
  },
  {
   "cell_type": "code",
   "execution_count": null,
   "metadata": {
    "ExecuteTime": {
     "end_time": "2019-09-04T23:56:07.583241Z",
     "start_time": "2019-09-04T23:56:07.569662Z"
    }
   },
   "outputs": [],
   "source": []
  },
  {
   "cell_type": "code",
   "execution_count": null,
   "metadata": {
    "ExecuteTime": {
     "end_time": "2019-09-04T23:33:57.719207Z",
     "start_time": "2019-09-04T23:33:47.029268Z"
    },
    "scrolled": true
   },
   "outputs": [],
   "source": []
  },
  {
   "cell_type": "code",
   "execution_count": null,
   "metadata": {
    "ExecuteTime": {
     "end_time": "2019-09-04T23:33:57.723097Z",
     "start_time": "2019-09-04T23:33:57.720362Z"
    }
   },
   "outputs": [],
   "source": [
    "len(quote['quote']), len(quote['quote_news']), len(news_df)"
   ]
  },
  {
   "cell_type": "markdown",
   "metadata": {},
   "source": [
    "# 2018: (150,488, 44,633, 305,831)\n",
    "# 2019: (90,869, 26,593, 196,364)"
   ]
  },
  {
   "cell_type": "code",
   "execution_count": null,
   "metadata": {
    "ExecuteTime": {
     "end_time": "2019-08-28T05:06:24.407713Z",
     "start_time": "2019-08-28T05:06:24.406110Z"
    }
   },
   "outputs": [],
   "source": [
    "# 오류 분석"
   ]
  },
  {
   "cell_type": "code",
   "execution_count": null,
   "metadata": {
    "ExecuteTime": {
     "end_time": "2019-08-28T05:34:17.533430Z",
     "start_time": "2019-08-28T05:34:17.486028Z"
    }
   },
   "outputs": [],
   "source": [
    "freq = quote_utils.remove_low_freq(\n",
    "    df=quote_df,\n",
    "    by='who',\n",
    "    min_freq=1,\n",
    ")"
   ]
  },
  {
   "cell_type": "code",
   "execution_count": null,
   "metadata": {
    "ExecuteTime": {
     "end_time": "2019-08-28T05:34:18.625470Z",
     "start_time": "2019-08-28T05:34:18.610760Z"
    },
    "scrolled": true
   },
   "outputs": [],
   "source": [
    "pd.set_option('display.max_rows', 200)\n",
    "\n",
    "freq['freq'].sort_values(0, ascending=False)[\n",
    "    (0 < freq['freq'][0]) & (freq['freq'][0] <= 1)\n",
    "]"
   ]
  },
  {
   "cell_type": "code",
   "execution_count": null,
   "metadata": {
    "ExecuteTime": {
     "end_time": "2019-08-28T05:09:59.662421Z",
     "start_time": "2019-08-28T05:09:59.624623Z"
    },
    "scrolled": true
   },
   "outputs": [],
   "source": [
    "quote_df[\n",
    "    quote_df['who'] == ''\n",
    "]"
   ]
  },
  {
   "cell_type": "code",
   "execution_count": null,
   "metadata": {},
   "outputs": [],
   "source": []
  },
  {
   "cell_type": "code",
   "execution_count": null,
   "metadata": {
    "ExecuteTime": {
     "end_time": "2019-08-28T05:34:34.573241Z",
     "start_time": "2019-08-28T05:34:34.522248Z"
    },
    "scrolled": true
   },
   "outputs": [],
   "source": [
    "clean = quote_utils.remove_low_freq(\n",
    "    df=quote_df,\n",
    "    by='who',\n",
    "    min_freq=1,\n",
    ")\n",
    "\n",
    "quote_df = clean['clean_df']\n",
    "clean['low_freq']"
   ]
  },
  {
   "cell_type": "code",
   "execution_count": null,
   "metadata": {
    "ExecuteTime": {
     "end_time": "2019-08-28T05:34:39.401918Z",
     "start_time": "2019-08-28T05:34:39.341739Z"
    },
    "scrolled": true
   },
   "outputs": [],
   "source": [
    "clean = quote_utils.remove_low_freq(\n",
    "    df=quote_df,\n",
    "    by='verb',\n",
    "    min_freq=1,\n",
    ")\n",
    "\n",
    "quote_df = clean['clean_df']\n",
    "clean['low_freq']"
   ]
  },
  {
   "cell_type": "code",
   "execution_count": null,
   "metadata": {
    "ExecuteTime": {
     "end_time": "2019-08-28T05:34:45.817351Z",
     "start_time": "2019-08-28T05:34:44.385689Z"
    }
   },
   "outputs": [],
   "source": [
    "quote_utils.save_json(df=quote_df, filename=news_index + '.quote.json.bz2')\n",
    "# quote_df.to_excel('naver-sport-quote.2019.xlsx')"
   ]
  },
  {
   "cell_type": "code",
   "execution_count": null,
   "metadata": {
    "ExecuteTime": {
     "end_time": "2019-08-28T05:34:53.164674Z",
     "start_time": "2019-08-28T05:34:53.121213Z"
    }
   },
   "outputs": [],
   "source": [
    "quote_utils.info(\n",
    "    news_df=news_df,\n",
    "    reply_df=reply_df,\n",
    "    quote_df=quote_df,\n",
    ")"
   ]
  },
  {
   "cell_type": "code",
   "execution_count": null,
   "metadata": {
    "ExecuteTime": {
     "end_time": "2019-08-27T01:01:30.791274Z",
     "start_time": "2019-08-27T01:01:30.745591Z"
    },
    "scrolled": true
   },
   "outputs": [],
   "source": [
    "column = 'text'\n",
    "text = '미세먼지'\n",
    "\n",
    "quote_df[ quote_df[column].apply(lambda x: '\\n'.join(x)).str.contains(text) ]"
   ]
  },
  {
   "cell_type": "code",
   "execution_count": null,
   "metadata": {
    "ExecuteTime": {
     "end_time": "2019-08-27T01:03:18.099970Z",
     "start_time": "2019-08-27T01:03:18.088503Z"
    }
   },
   "outputs": [],
   "source": [
    "news_df[news_df['doc_id'] == '468-0000480959']"
   ]
  },
  {
   "cell_type": "code",
   "execution_count": null,
   "metadata": {},
   "outputs": [],
   "source": []
  },
  {
   "cell_type": "code",
   "execution_count": null,
   "metadata": {
    "ExecuteTime": {
     "end_time": "2019-08-27T00:34:48.057561Z",
     "start_time": "2019-08-27T00:34:48.029063Z"
    }
   },
   "outputs": [],
   "source": [
    "utils.get_quote(news_df[news_df['doc_id'] == doc_id])"
   ]
  },
  {
   "cell_type": "code",
   "execution_count": null,
   "metadata": {},
   "outputs": [],
   "source": []
  },
  {
   "cell_type": "code",
   "execution_count": null,
   "metadata": {
    "ExecuteTime": {
     "end_time": "2019-08-26T05:51:31.668690Z",
     "start_time": "2019-08-26T05:51:31.633599Z"
    }
   },
   "outputs": [],
   "source": [
    "pd.set_option('display.max_colwidth', -1)\n",
    "\n",
    "# quote_df[quote_df['who'] == '그']\n",
    "news_df[news_df['doc_id'] == '477-0000191360']"
   ]
  },
  {
   "cell_type": "code",
   "execution_count": null,
   "metadata": {},
   "outputs": [],
   "source": []
  },
  {
   "cell_type": "code",
   "execution_count": null,
   "metadata": {},
   "outputs": [],
   "source": []
  },
  {
   "cell_type": "code",
   "execution_count": null,
   "metadata": {},
   "outputs": [],
   "source": []
  },
  {
   "cell_type": "code",
   "execution_count": null,
   "metadata": {
    "ExecuteTime": {
     "end_time": "2019-08-26T05:26:15.830779Z",
     "start_time": "2019-08-26T05:26:15.808670Z"
    }
   },
   "outputs": [],
   "source": [
    "pd.set_option('display.max_colwidth', -1)\n",
    "\n",
    "# quote_df[quote_df['who'].str.contains('씨')]\n",
    "quote_df[quote_df['who'] == '씨']"
   ]
  },
  {
   "cell_type": "code",
   "execution_count": null,
   "metadata": {
    "ExecuteTime": {
     "end_time": "2019-08-26T05:11:01.033224Z",
     "start_time": "2019-08-26T05:11:01.021214Z"
    }
   },
   "outputs": [],
   "source": [
    "quote_df[quote_df['doc_id'] == '109-0003944965']"
   ]
  },
  {
   "cell_type": "code",
   "execution_count": null,
   "metadata": {
    "ExecuteTime": {
     "end_time": "2019-08-26T04:41:54.393575Z",
     "start_time": "2019-08-26T04:41:54.367981Z"
    }
   },
   "outputs": [],
   "source": [
    "tmp_df = news_df[news_df['doc_id'] == '144-0000607710']\n",
    "\n",
    "utils.get_quote(\n",
    "    news_df=tmp_df,\n",
    "    who_stop_list=who_stop_list,\n",
    "    verb_stop_list=verb_stop_list,\n",
    ")"
   ]
  },
  {
   "cell_type": "code",
   "execution_count": null,
   "metadata": {
    "ExecuteTime": {
     "end_time": "2019-08-26T04:41:15.630135Z",
     "start_time": "2019-08-26T04:41:15.620800Z"
    }
   },
   "outputs": [],
   "source": [
    "quote_df[quote_df['doc_id'] == '144-0000607710']"
   ]
  },
  {
   "cell_type": "code",
   "execution_count": null,
   "metadata": {
    "ExecuteTime": {
     "end_time": "2019-08-26T01:07:37.160802Z",
     "start_time": "2019-08-26T01:07:37.151106Z"
    }
   },
   "outputs": [],
   "source": []
  },
  {
   "cell_type": "code",
   "execution_count": null,
   "metadata": {},
   "outputs": [],
   "source": []
  },
  {
   "cell_type": "code",
   "execution_count": null,
   "metadata": {
    "ExecuteTime": {
     "end_time": "2019-08-23T04:16:39.387466Z",
     "start_time": "2019-08-23T04:16:36.435207Z"
    }
   },
   "outputs": [],
   "source": []
  },
  {
   "cell_type": "code",
   "execution_count": null,
   "metadata": {
    "ExecuteTime": {
     "end_time": "2019-08-23T04:39:35.861308Z",
     "start_time": "2019-08-23T04:39:35.845829Z"
    }
   },
   "outputs": [],
   "source": [
    "quote_df[['doc_id', 'who', 'text', 'verb']]"
   ]
  },
  {
   "cell_type": "code",
   "execution_count": null,
   "metadata": {
    "ExecuteTime": {
     "end_time": "2019-08-23T04:39:40.843398Z",
     "start_time": "2019-08-23T04:39:40.821028Z"
    }
   },
   "outputs": [],
   "source": [
    "tmp = quote_df[['doc_id', 'verb']].groupby(by='verb').size().to_frame()\n",
    "tmp[ tmp[0] > 4 ].sort_values(by=0, ascending=False)[:50]"
   ]
  },
  {
   "cell_type": "code",
   "execution_count": null,
   "metadata": {},
   "outputs": [],
   "source": []
  },
  {
   "cell_type": "code",
   "execution_count": null,
   "metadata": {},
   "outputs": [],
   "source": []
  },
  {
   "cell_type": "code",
   "execution_count": null,
   "metadata": {
    "ExecuteTime": {
     "end_time": "2019-08-23T00:30:25.456843Z",
     "start_time": "2019-08-23T00:30:25.451612Z"
    }
   },
   "outputs": [],
   "source": [
    "# lda\n",
    "\n",
    "import matplotlib.pyplot as plt\n",
    "import gensim\n",
    "import numpy as np\n",
    "\n",
    "from gensim.models import CoherenceModel, LdaModel, LsiModel, HdpModel\n",
    "from gensim.models.wrappers import LdaMallet\n",
    "from gensim.corpora import Dictionary\n",
    "import pyLDAvis.gensim\n",
    "\n",
    "import sklearn\n",
    "from sklearn.feature_extraction.text import TfidfVectorizer, CountVectorizer\n",
    "from sklearn.datasets import fetch_20newsgroups\n",
    "from sklearn.decomposition import NMF, LatentDirichletAllocation\n",
    "\n",
    "import os, re, operator, warnings\n",
    "warnings.filterwarnings('ignore')\n",
    "\n",
    "%matplotlib inline"
   ]
  },
  {
   "cell_type": "code",
   "execution_count": null,
   "metadata": {
    "ExecuteTime": {
     "end_time": "2019-08-23T00:30:26.141597Z",
     "start_time": "2019-08-23T00:30:26.130437Z"
    }
   },
   "outputs": [],
   "source": [
    "n_topics = 100\n",
    "n_features = 1024\n",
    "\n",
    "texts = []\n",
    "for text in df['content'][:10000]:\n",
    "    texts.append(text.replace('\\n', ' '))\n",
    "\n",
    "texts[1]"
   ]
  },
  {
   "cell_type": "code",
   "execution_count": null,
   "metadata": {
    "ExecuteTime": {
     "end_time": "2019-08-23T00:32:05.887652Z",
     "start_time": "2019-08-23T00:30:26.738535Z"
    },
    "scrolled": true
   },
   "outputs": [],
   "source": [
    "stop_words = '10개 15일 1루수 1사 1승 1위 1패 2019 21일 22일 23일 24 24일 28일 29 2루수 2승 31 3루 3루수 3월 4월 5월 Copyright b컷 car chosun co com copyright copyrights donga goodnews http jtbc kbo kbo리그 khan kia kia의 kmib kr kt kt의 kyunghyang lg lg의 maekyung mk mk스포츠 mk스포츠배 mlb mtstarnews my mydaily nc news news1 now ops osen paper sk sk가 sk의 sports sportschosun sportsseoul sportsworldi spotv ufc vs www xportsnews x파일 yskim ⓒ 가장 개막 개막전 결과 공동 공식 광주 구단 구독하기 국민일보 그러나 그리고 금지 기록 기록했다 기사입니다 기사제보 기자 네이버 눈으로 뉴스 뉴스1 뉴스는 뉴시스 다만 단독 대전 독 동영상 두산 두산은 라고 롯데 리그 리얼타임 마이데일리 매경닷컴 메인에서 모든 모음전 무단 무단전재 무료만화 미리 및 바로가기 보기 보는 보도자료 부문 빨리 사주로 사진 사진=뉴시스 삼성은 생생 서울 속보 스타 스타뉴스 스타의 스포츠경향 스포츠서울 스포츠월드 스포츠조선 스포츠타임 스포탈코리아. 스포티비뉴스 시즌 신한은행 아이돌 안타를 않았다 알아보는 야구 야구대회 엑스포츠뉴스 엔트리에 엠스플뉴스 여기 역시 연속 연예스포츠 연합뉴스 열린 영상 오마이뉴스 올스타 올스타전 올시즌 올해 와이번스 운명의 웃음 유튜브 의뢰하세요 이번 인기 인기영상 일간스포츠 있는 있다 자료 작년 작성된 잠실 잠실구장에서 재배포 재배포금지 저작권자 전재 정규시즌 제2회 좋은 지금 지난 지난해 채널 쳤다 취재대행소 취재문의 취향저격 케이비리포트 클릭 타이거즈 팟캐스트 페이스북 평균 퓨처스 하다 하지만 한다 핫템 현장 현장에서'.split()\n",
    "\n",
    "stop_words = list(set(stop_words))\n",
    "print(' '.join(sorted(stop_words)))\n",
    "\n",
    "tf_vectorizer = CountVectorizer(\n",
    "    max_df=0.9,\n",
    "    min_df=2,\n",
    "    stop_words=stop_words,\n",
    "    max_features=n_features,\n",
    ")\n",
    "\n",
    "tf = tf_vectorizer.fit_transform(texts)\n",
    "tf_feature_names = tf_vectorizer.get_feature_names()\n",
    "\n",
    "lda = LatentDirichletAllocation(\n",
    "    n_topics,\n",
    "    max_iter=10,\n",
    "    learning_method='online',\n",
    "    learning_offset=50.,\n",
    "    random_state=0,\n",
    ").fit(tf)"
   ]
  },
  {
   "cell_type": "code",
   "execution_count": null,
   "metadata": {
    "ExecuteTime": {
     "end_time": "2019-08-23T00:18:46.301559Z",
     "start_time": "2019-08-23T00:18:46.286362Z"
    },
    "scrolled": true
   },
   "outputs": [],
   "source": [
    "def display_topics(model, feature_names, no_top_words):\n",
    "    for topic_idx, topic in enumerate(model.components_):\n",
    "        words = [feature_names[i] for i in topic.argsort()[:-no_top_words - 1:-1]]\n",
    "\n",
    "        print(\"Topic %d:\\n\" % (topic_idx))\n",
    "        print(\" \".join(words))\n",
    "    return\n",
    "\n",
    "\n",
    "display_topics(lda, tf_feature_names, 20)"
   ]
  },
  {
   "cell_type": "code",
   "execution_count": null,
   "metadata": {},
   "outputs": [],
   "source": []
  },
  {
   "cell_type": "code",
   "execution_count": null,
   "metadata": {},
   "outputs": [],
   "source": []
  },
  {
   "cell_type": "code",
   "execution_count": null,
   "metadata": {
    "ExecuteTime": {
     "end_time": "2019-08-22T23:43:42.149261Z",
     "start_time": "2019-08-22T23:40:24.578479Z"
    }
   },
   "outputs": [],
   "source": [
    "pyLDAvis.enable_notebook()\n",
    "pyLDAvis.gensim.prepare(ldamodel, corpus, dictionary)"
   ]
  },
  {
   "cell_type": "code",
   "execution_count": null,
   "metadata": {},
   "outputs": [],
   "source": []
  },
  {
   "cell_type": "code",
   "execution_count": null,
   "metadata": {},
   "outputs": [],
   "source": []
  },
  {
   "cell_type": "code",
   "execution_count": null,
   "metadata": {},
   "outputs": [],
   "source": []
  },
  {
   "cell_type": "code",
   "execution_count": null,
   "metadata": {
    "ExecuteTime": {
     "end_time": "2019-08-23T01:40:17.626644Z",
     "start_time": "2019-08-23T01:40:17.585397Z"
    }
   },
   "outputs": [],
   "source": []
  },
  {
   "cell_type": "code",
   "execution_count": null,
   "metadata": {
    "ExecuteTime": {
     "start_time": "2019-08-23T01:58:31.874Z"
    }
   },
   "outputs": [],
   "source": []
  },
  {
   "cell_type": "code",
   "execution_count": null,
   "metadata": {},
   "outputs": [],
   "source": []
  },
  {
   "cell_type": "code",
   "execution_count": null,
   "metadata": {
    "ExecuteTime": {
     "end_time": "2019-08-22T23:22:04.476813Z",
     "start_time": "2019-08-22T23:22:04.404893Z"
    }
   },
   "outputs": [],
   "source": [
    "# df[ df['title'].str.contains('감독') ] \n",
    "\n",
    "search = df[ \n",
    "    (df['content'].str.contains('말했다.')) \n",
    "    | \n",
    "    (df['content'].str.contains('인터뷰')) \n",
    "]\n",
    "search.info()"
   ]
  },
  {
   "cell_type": "code",
   "execution_count": null,
   "metadata": {},
   "outputs": [],
   "source": []
  },
  {
   "cell_type": "code",
   "execution_count": null,
   "metadata": {},
   "outputs": [],
   "source": []
  },
  {
   "cell_type": "code",
   "execution_count": null,
   "metadata": {},
   "outputs": [],
   "source": []
  },
  {
   "cell_type": "markdown",
   "metadata": {},
   "source": [
    "# 데이터 덤프"
   ]
  },
  {
   "cell_type": "code",
   "execution_count": null,
   "metadata": {
    "ExecuteTime": {
     "end_time": "2019-08-22T08:24:32.649429Z",
     "start_time": "2019-08-22T08:03:25.623197Z"
    }
   },
   "outputs": [],
   "source": [
    "news_list = utils.dump_data(\n",
    "    host=host,\n",
    "    auth=auth,\n",
    "    doc_type='news',\n",
    "    index_list=utils.index['news'], \n",
    ")\n",
    "\n",
    "reply_list = utils.dump_data(\n",
    "    host=host,\n",
    "    auth=auth,\n",
    "    doc_type='reply',\n",
    "    index_list=utils.index['reply'], \n",
    ")"
   ]
  },
  {
   "cell_type": "code",
   "execution_count": null,
   "metadata": {
    "ExecuteTime": {
     "end_time": "2019-08-22T08:25:49.356369Z",
     "start_time": "2019-08-22T08:25:11.043267Z"
    }
   },
   "outputs": [],
   "source": [
    "utils.save_doc(index='naver-sports-news', data=news_list)\n",
    "utils.save_doc(index='naver-sports-reply', data=reply_list)"
   ]
  },
  {
   "cell_type": "markdown",
   "metadata": {},
   "source": [
    "# 데이터 변환"
   ]
  },
  {
   "cell_type": "code",
   "execution_count": null,
   "metadata": {
    "ExecuteTime": {
     "end_time": "2019-08-11T23:42:18.648033Z",
     "start_time": "2019-08-11T23:41:46.827575Z"
    }
   },
   "outputs": [],
   "source": [
    "# 데이터를 로딩한다.\n",
    "news_list = utils.read_doc('naver-sports-news')\n",
    "reply_list = utils.read_doc('naver-sports-reply')"
   ]
  },
  {
   "cell_type": "code",
   "execution_count": null,
   "metadata": {
    "ExecuteTime": {
     "end_time": "2019-08-11T23:12:05.645492Z",
     "start_time": "2019-08-11T23:11:58.026274Z"
    }
   },
   "outputs": [],
   "source": [
    "utils.get_simple_reply(doc_list=reply_list)\n",
    "utils.merge_reply(news_list=news_list, reply_list=reply_list)"
   ]
  },
  {
   "cell_type": "code",
   "execution_count": null,
   "metadata": {
    "ExecuteTime": {
     "end_time": "2019-08-11T23:12:05.957681Z",
     "start_time": "2019-08-11T23:12:05.646953Z"
    }
   },
   "outputs": [],
   "source": [
    "reply_df = pd.DataFrame(reply_list)\n",
    "reply_df.head()"
   ]
  },
  {
   "cell_type": "code",
   "execution_count": null,
   "metadata": {
    "ExecuteTime": {
     "end_time": "2019-08-11T23:15:20.082331Z",
     "start_time": "2019-08-11T23:15:20.017388Z"
    }
   },
   "outputs": [],
   "source": [
    "reply_df.info()"
   ]
  },
  {
   "cell_type": "code",
   "execution_count": null,
   "metadata": {
    "ExecuteTime": {
     "end_time": "2019-08-11T23:15:30.040530Z",
     "start_time": "2019-08-11T23:15:27.408810Z"
    },
    "scrolled": true
   },
   "outputs": [],
   "source": [
    "news_df = pd.DataFrame(news_list)\n",
    "\n",
    "news_df['date'].fillna(value='', inplace=True)\n",
    "news_df['category'].fillna(value='', inplace=True)\n",
    "news_df['reply_count'].fillna(value=0, inplace=True)\n",
    "\n",
    "news_df.head()"
   ]
  },
  {
   "cell_type": "code",
   "execution_count": null,
   "metadata": {
    "ExecuteTime": {
     "end_time": "2019-08-11T23:15:33.767087Z",
     "start_time": "2019-08-11T23:15:33.760907Z"
    }
   },
   "outputs": [],
   "source": [
    "news_df.info()"
   ]
  },
  {
   "cell_type": "code",
   "execution_count": null,
   "metadata": {
    "ExecuteTime": {
     "end_time": "2019-08-11T23:16:30.512879Z",
     "start_time": "2019-08-11T23:15:37.487746Z"
    }
   },
   "outputs": [],
   "source": [
    "# 야구 분야만 추출한다.\n",
    "kbo_df = news_df[news_df['category'].str.contains('야구')]\n",
    "\n",
    "kbo_df['date'] = pd.to_datetime(kbo_df['date'])    \n",
    "\n",
    "kbo_df.info()"
   ]
  },
  {
   "cell_type": "markdown",
   "metadata": {},
   "source": [
    "# 통계 추출"
   ]
  },
  {
   "cell_type": "code",
   "execution_count": null,
   "metadata": {
    "ExecuteTime": {
     "end_time": "2019-08-11T23:21:21.819467Z",
     "start_time": "2019-08-11T23:17:27.839906Z"
    }
   },
   "outputs": [],
   "source": [
    "import numpy as np\n",
    "\n",
    "utils.init_plt()\n",
    "\n",
    "pd.set_option('precision', 2)\n",
    "pd.set_option('display.float_format', '{:,.2f}'.format)\n",
    "\n",
    "dt_range = None\n",
    "# dt_range = {\n",
    "#     'start': '2018-06-01',\n",
    "#     'end': '2018-10-01',\n",
    "# }\n",
    "\n",
    "info = utils.get_reply_info(kbo_df=kbo_df, dt_range=dt_range)"
   ]
  },
  {
   "cell_type": "code",
   "execution_count": null,
   "metadata": {
    "ExecuteTime": {
     "end_time": "2019-08-11T23:21:21.824338Z",
     "start_time": "2019-08-11T23:21:21.821154Z"
    }
   },
   "outputs": [],
   "source": [
    "info['dt_range']"
   ]
  },
  {
   "cell_type": "code",
   "execution_count": null,
   "metadata": {
    "ExecuteTime": {
     "end_time": "2019-08-11T23:21:22.041670Z",
     "start_time": "2019-08-11T23:21:21.825971Z"
    },
    "scrolled": true
   },
   "outputs": [],
   "source": [
    "info['reply_info'].head()"
   ]
  },
  {
   "cell_type": "code",
   "execution_count": null,
   "metadata": {
    "ExecuteTime": {
     "end_time": "2019-08-11T23:21:22.166450Z",
     "start_time": "2019-08-11T23:21:22.042885Z"
    }
   },
   "outputs": [],
   "source": [
    "info['reply_info'].loc['합계/평균'].to_frame().T"
   ]
  },
  {
   "cell_type": "code",
   "execution_count": null,
   "metadata": {
    "ExecuteTime": {
     "end_time": "2019-08-11T23:21:29.959731Z",
     "start_time": "2019-08-11T23:21:22.171280Z"
    }
   },
   "outputs": [],
   "source": [
    "info['reply_info'].drop(['합계/평균'])[['기사수', '댓글이 있는 기사']].plot(kind='barh', figsize=(15, 120))"
   ]
  },
  {
   "cell_type": "code",
   "execution_count": null,
   "metadata": {
    "ExecuteTime": {
     "end_time": "2019-08-11T23:32:14.615756Z",
     "start_time": "2019-08-11T23:32:12.456248Z"
    },
    "scrolled": true
   },
   "outputs": [],
   "source": [
    "year = '2018'\n",
    "\n",
    "date_df = info['reply_info'].drop(['합계/평균'])[['기사수', '댓글이 있는 기사']].reset_index()\n",
    "for i in range(1, 7):\n",
    "    st_date = '{}-{:02d}-01'.format(year, i)\n",
    "    en_date = '{}-{:02d}-31'.format(year, i)\n",
    "    \n",
    "    mask = (date_df['date'] >= st_date) & (date_df['date'] <= en_date)\n",
    "    date_df[mask].set_index('date').plot(kind='barh', figsize=(10, 10))"
   ]
  },
  {
   "cell_type": "code",
   "execution_count": null,
   "metadata": {
    "ExecuteTime": {
     "end_time": "2019-08-11T23:34:26.804244Z",
     "start_time": "2019-08-11T23:34:26.783027Z"
    }
   },
   "outputs": [],
   "source": [
    "info['reply_info'].drop(['합계/평균']).describe()"
   ]
  },
  {
   "cell_type": "code",
   "execution_count": null,
   "metadata": {},
   "outputs": [],
   "source": []
  },
  {
   "cell_type": "code",
   "execution_count": null,
   "metadata": {},
   "outputs": [],
   "source": []
  },
  {
   "cell_type": "code",
   "execution_count": null,
   "metadata": {
    "ExecuteTime": {
     "end_time": "2019-08-11T23:46:31.692297Z",
     "start_time": "2019-08-11T23:46:14.472888Z"
    }
   },
   "outputs": [],
   "source": [
    "# 데이터를 로딩한다.\n",
    "news_list = utils.read_doc(utils.index['news'])\n",
    "reply_list = utils.dump_reply(utils.index['reply'])"
   ]
  },
  {
   "cell_type": "code",
   "execution_count": null,
   "metadata": {
    "ExecuteTime": {
     "end_time": "2019-08-22T08:33:11.732151Z",
     "start_time": "2019-08-22T08:33:10.765867Z"
    }
   },
   "outputs": [],
   "source": [
    "reply_list = utils.dump_data(\n",
    "    doc_type='reply',\n",
    "    index_list=['crawler-naver-sports-reply'], \n",
    ")"
   ]
  },
  {
   "cell_type": "code",
   "execution_count": null,
   "metadata": {
    "ExecuteTime": {
     "end_time": "2019-08-22T08:26:52.855048Z",
     "start_time": "2019-08-22T08:26:51.154410Z"
    }
   },
   "outputs": [],
   "source": [
    "# 댓글에 날짜 삽입\n",
    "reply_list = utils.insert_date(\n",
    "    news_list=news_list, \n",
    "    reply_list=reply_list,\n",
    ")"
   ]
  },
  {
   "cell_type": "code",
   "execution_count": null,
   "metadata": {
    "ExecuteTime": {
     "end_time": "2019-08-11T23:44:41.674777Z",
     "start_time": "2019-08-11T23:44:41.671979Z"
    }
   },
   "outputs": [],
   "source": [
    "doc = reply_list[1]\n",
    "doc.keys()"
   ]
  },
  {
   "cell_type": "code",
   "execution_count": null,
   "metadata": {
    "ExecuteTime": {
     "end_time": "2019-08-11T23:44:46.071080Z",
     "start_time": "2019-08-11T23:44:46.043669Z"
    }
   },
   "outputs": [],
   "source": [
    "doc"
   ]
  },
  {
   "cell_type": "code",
   "execution_count": null,
   "metadata": {
    "ExecuteTime": {
     "end_time": "2019-08-22T08:46:46.736091Z",
     "start_time": "2019-08-22T08:46:46.645293Z"
    }
   },
   "outputs": [],
   "source": [
    "index = 'crawler-naver-sports-reply'\n",
    "\n",
    "elastic_utils = ElasticSearchUtils(\n",
    "    host='https://corpus.ncsoft.com:9200',\n",
    "    index=index,\n",
    "    bulk_size=100,\n",
    "    http_auth='elastic:nlplab',\n",
    ")"
   ]
  },
  {
   "cell_type": "code",
   "execution_count": null,
   "metadata": {
    "ExecuteTime": {
     "end_time": "2019-08-22T08:27:35.506009Z",
     "start_time": "2019-08-22T08:27:34.810173Z"
    },
    "scrolled": true
   },
   "outputs": [],
   "source": [
    "for doc in tqdm(reply_list):\n",
    "    if 'date' not in doc:\n",
    "        continue\n",
    "\n",
    "    elastic_utils.save_document(\n",
    "        index=index,\n",
    "        document={\n",
    "            '_id': '{oid}-{aid}'.format(**doc),\n",
    "            'date': doc['date'],\n",
    "        }\n",
    "    )\n",
    "    \n",
    "elastic_utils.flush()"
   ]
  },
  {
   "cell_type": "code",
   "execution_count": null,
   "metadata": {
    "ExecuteTime": {
     "end_time": "2019-08-22T08:50:07.102177Z",
     "start_time": "2019-08-22T08:50:05.372327Z"
    }
   },
   "outputs": [],
   "source": [
    "from elasticsearch import Elasticsearch\n",
    "\n",
    "host = 'https://nlp.ncsoft.com:9200'\n",
    "index = 'crawler-naver-sports-2018'\n",
    "http_auth = 'crawler:crawler2019'\n",
    "\n",
    "nlp_elastic = ElasticSearchUtils(\n",
    "    host=host,\n",
    "    index=index,\n",
    "    bulk_size=100,\n",
    "    http_auth=http_auth,\n",
    ")\n",
    "\n",
    "import pytz\n",
    "from pprint import pprint\n",
    "from dateutil.parser import parse as parse_date\n",
    "\n",
    "timezone = pytz.timezone('Asia/Seoul')\n",
    "\n",
    "for doc in tqdm(reply_list):\n",
    "    if 'date' in doc:\n",
    "        continue\n",
    "    \n",
    "    doc_id = '{oid}-{aid}'.format(**doc)\n",
    "        \n",
    "    flag = nlp_elastic.elastic.exists(\n",
    "        id=doc_id,\n",
    "        index=index,\n",
    "    )\n",
    "\n",
    "#     print(flag)\n",
    "    if flag is True:\n",
    "        news = nlp_elastic.elastic.get(\n",
    "            id=doc_id,\n",
    "            index=index,\n",
    "        )['_source']\n",
    "        \n",
    "        if 'date' not in news and 'datetime' in news:\n",
    "            dt = parse_date(news['datetime'])\n",
    "            doc['date'] = timezone.localize(dt)\n",
    "        \n",
    "            elastic_utils.save_document(\n",
    "                index='crawler-naver-sports-reply',\n",
    "                document={\n",
    "                    '_id': doc_id,\n",
    "                    'date': doc['date'],\n",
    "                }\n",
    "            )\n",
    "    \n",
    "elastic_utils.flush()"
   ]
  },
  {
   "cell_type": "code",
   "execution_count": null,
   "metadata": {},
   "outputs": [],
   "source": []
  },
  {
   "cell_type": "code",
   "execution_count": null,
   "metadata": {},
   "outputs": [],
   "source": []
  },
  {
   "cell_type": "code",
   "execution_count": null,
   "metadata": {
    "ExecuteTime": {
     "end_time": "2019-09-05T05:02:14.694648Z",
     "start_time": "2019-09-05T05:01:51.170799Z"
    },
    "code_folding": []
   },
   "outputs": [],
   "source": [
    "import pandas as pd\n",
    "from utils.elasticsearch_utils import ElasticSearchUtils\n",
    "\n",
    "host = 'https://nlp.ncsoft.com:9200'\n",
    "index = 'crawler-naver-sports-2018'\n",
    "http_auth = 'crawler:crawler2019'\n",
    "\n",
    "elastic = ElasticSearchUtils(\n",
    "    host=host,\n",
    "    index=index,\n",
    "    bulk_size=100,\n",
    "    http_auth=http_auth,\n",
    ")\n",
    "\n",
    "query = {\n",
    "    \"_source\": [\n",
    "        \"aid\", \"oid\", \"section\", \"category\", \"title\", \"date\", \"datetime\", \"url\", \"content\"\n",
    "    ],\n",
    "    \"query\": {\n",
    "        \"bool\": {\n",
    "            \"must\": {\n",
    "                \"exists\": {\n",
    "                    \"field\": \"category\"\n",
    "                }\n",
    "            }\n",
    "        }\n",
    "    }\n",
    "}\n",
    "\n",
    "result = []\n",
    "elastic.export(\n",
    "    index=index,\n",
    "    query=query,\n",
    "    result=result,\n",
    ")\n",
    "\n",
    "df = pd.DataFrame(result)\n",
    "df.head()"
   ]
  },
  {
   "cell_type": "code",
   "execution_count": null,
   "metadata": {},
   "outputs": [],
   "source": []
  },
  {
   "cell_type": "code",
   "execution_count": null,
   "metadata": {},
   "outputs": [],
   "source": []
  },
  {
   "cell_type": "code",
   "execution_count": null,
   "metadata": {},
   "outputs": [],
   "source": []
  }
 ],
 "metadata": {
  "kernelspec": {
   "display_name": "Python 3",
   "language": "python",
   "name": "python3"
  },
  "language_info": {
   "codemirror_mode": {
    "name": "ipython",
    "version": 3
   },
   "file_extension": ".py",
   "mimetype": "text/x-python",
   "name": "python",
   "nbconvert_exporter": "python",
   "pygments_lexer": "ipython3",
   "version": "3.6.8"
  },
  "toc": {
   "base_numbering": 1,
   "nav_menu": {},
   "number_sections": false,
   "sideBar": false,
   "skip_h1_title": false,
   "title_cell": "Table of Contents",
   "title_sidebar": "Contents",
   "toc_cell": false,
   "toc_position": {},
   "toc_section_display": false,
   "toc_window_display": false
  },
  "varInspector": {
   "cols": {
    "lenName": 16,
    "lenType": 16,
    "lenVar": 40
   },
   "kernels_config": {
    "python": {
     "delete_cmd_postfix": "",
     "delete_cmd_prefix": "del ",
     "library": "var_list.py",
     "varRefreshCmd": "print(var_dic_list())"
    },
    "r": {
     "delete_cmd_postfix": ") ",
     "delete_cmd_prefix": "rm(",
     "library": "var_list.r",
     "varRefreshCmd": "cat(var_dic_list()) "
    }
   },
   "position": {
    "height": "431px",
    "left": "937px",
    "right": "20px",
    "top": "109px",
    "width": "577px"
   },
   "types_to_exclude": [
    "module",
    "function",
    "builtin_function_or_method",
    "instance",
    "_Feature"
   ],
   "window_display": false
  }
 },
 "nbformat": 4,
 "nbformat_minor": 2
}
