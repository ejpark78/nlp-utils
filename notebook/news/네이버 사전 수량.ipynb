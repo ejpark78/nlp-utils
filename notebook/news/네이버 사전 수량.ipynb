{
 "cells": [
  {
   "cell_type": "code",
   "execution_count": 1,
   "metadata": {
    "ExecuteTime": {
     "end_time": "2020-02-13T00:04:55.529974Z",
     "start_time": "2020-02-13T00:04:55.522328Z"
    }
   },
   "outputs": [],
   "source": [
    "%load_ext autoreload\n",
    "%autoreload 2"
   ]
  },
  {
   "cell_type": "code",
   "execution_count": 2,
   "metadata": {
    "ExecuteTime": {
     "end_time": "2020-02-13T00:04:56.283426Z",
     "start_time": "2020-02-13T00:04:55.920615Z"
    }
   },
   "outputs": [
    {
     "name": "stderr",
     "output_type": "stream",
     "text": [
      "/home/workspace/data-center/utils/elasticsearch_utils.py:21: TqdmExperimentalWarning: Using `tqdm.autonotebook.tqdm` in notebook mode. Use `tqdm.tqdm` instead to force console mode (e.g. in jupyter console)\n",
      "  from tqdm.autonotebook import tqdm\n"
     ]
    }
   ],
   "source": [
    "import pandas as pd\n",
    "from tqdm import tqdm\n",
    "from datetime import datetime\n",
    "from dictionary_utils import DictionaryUtils"
   ]
  },
  {
   "cell_type": "code",
   "execution_count": 3,
   "metadata": {
    "ExecuteTime": {
     "end_time": "2020-02-13T00:04:57.226811Z",
     "start_time": "2020-02-13T00:04:57.216750Z"
    }
   },
   "outputs": [],
   "source": [
    "utils = DictionaryUtils()"
   ]
  },
  {
   "cell_type": "code",
   "execution_count": 4,
   "metadata": {
    "ExecuteTime": {
     "end_time": "2020-02-13T00:04:58.400697Z",
     "start_time": "2020-02-13T00:04:58.392289Z"
    }
   },
   "outputs": [],
   "source": [
    "utils.set_plt_font()"
   ]
  },
  {
   "cell_type": "code",
   "execution_count": 5,
   "metadata": {
    "ExecuteTime": {
     "end_time": "2020-02-13T00:04:59.161610Z",
     "start_time": "2020-02-13T00:04:59.152862Z"
    }
   },
   "outputs": [],
   "source": [
    "count_list = []"
   ]
  },
  {
   "cell_type": "code",
   "execution_count": 6,
   "metadata": {
    "ExecuteTime": {
     "end_time": "2020-02-13T00:06:51.120690Z",
     "start_time": "2020-02-13T00:05:00.520576Z"
    }
   },
   "outputs": [
    {
     "data": {
      "application/vnd.jupyter.widget-view+json": {
       "model_id": "4b73045bfb5f496384fe384d43a1f297",
       "version_major": 2,
       "version_minor": 0
      },
      "text/plain": [
       "HBox(children=(FloatProgress(value=0.0, description='dump: crawler-naver-dictionary', layout=Layout(flex='2'),…"
      ]
     },
     "metadata": {},
     "output_type": "display_data"
    },
    {
     "name": "stdout",
     "output_type": "stream",
     "text": [
      "\n"
     ]
    }
   ],
   "source": [
    "index = 'crawler-naver-dictionary'\n",
    "\n",
    "doc_list = utils.dump_data(index=index, category='')"
   ]
  },
  {
   "cell_type": "code",
   "execution_count": 7,
   "metadata": {
    "ExecuteTime": {
     "end_time": "2020-02-13T00:06:53.783154Z",
     "start_time": "2020-02-13T00:06:51.121857Z"
    }
   },
   "outputs": [],
   "source": [
    "df = pd.DataFrame(doc_list).fillna('').groupby(by=['category', 'entry_search']).size().to_frame()\n",
    "\n",
    "count_list.append(df.rename(columns={0: datetime.now().strftime('%Y-%m-%d %H:%M:%S')}))"
   ]
  },
  {
   "cell_type": "code",
   "execution_count": 8,
   "metadata": {
    "ExecuteTime": {
     "end_time": "2020-02-13T00:06:54.081907Z",
     "start_time": "2020-02-13T00:06:53.784239Z"
    }
   },
   "outputs": [
    {
     "data": {
      "text/html": [
       "<style  type=\"text/css\" >\n",
       "    #T_bdd9f2e2_4df4_11ea_955a_b42e99c32101row0_col0 {\n",
       "            text-align:  right;\n",
       "        }    #T_bdd9f2e2_4df4_11ea_955a_b42e99c32101row1_col0 {\n",
       "            text-align:  right;\n",
       "        }    #T_bdd9f2e2_4df4_11ea_955a_b42e99c32101row2_col0 {\n",
       "            text-align:  right;\n",
       "        }    #T_bdd9f2e2_4df4_11ea_955a_b42e99c32101row3_col0 {\n",
       "            text-align:  right;\n",
       "        }    #T_bdd9f2e2_4df4_11ea_955a_b42e99c32101row4_col0 {\n",
       "            text-align:  right;\n",
       "        }    #T_bdd9f2e2_4df4_11ea_955a_b42e99c32101row5_col0 {\n",
       "            text-align:  right;\n",
       "        }    #T_bdd9f2e2_4df4_11ea_955a_b42e99c32101row6_col0 {\n",
       "            text-align:  right;\n",
       "        }    #T_bdd9f2e2_4df4_11ea_955a_b42e99c32101row7_col0 {\n",
       "            text-align:  right;\n",
       "        }    #T_bdd9f2e2_4df4_11ea_955a_b42e99c32101row8_col0 {\n",
       "            text-align:  right;\n",
       "        }    #T_bdd9f2e2_4df4_11ea_955a_b42e99c32101row9_col0 {\n",
       "            text-align:  right;\n",
       "        }    #T_bdd9f2e2_4df4_11ea_955a_b42e99c32101row10_col0 {\n",
       "            text-align:  right;\n",
       "        }    #T_bdd9f2e2_4df4_11ea_955a_b42e99c32101row11_col0 {\n",
       "            text-align:  right;\n",
       "        }    #T_bdd9f2e2_4df4_11ea_955a_b42e99c32101row12_col0 {\n",
       "            text-align:  right;\n",
       "        }    #T_bdd9f2e2_4df4_11ea_955a_b42e99c32101row13_col0 {\n",
       "            text-align:  right;\n",
       "        }    #T_bdd9f2e2_4df4_11ea_955a_b42e99c32101row14_col0 {\n",
       "            text-align:  right;\n",
       "        }    #T_bdd9f2e2_4df4_11ea_955a_b42e99c32101row15_col0 {\n",
       "            text-align:  right;\n",
       "        }    #T_bdd9f2e2_4df4_11ea_955a_b42e99c32101row16_col0 {\n",
       "            text-align:  right;\n",
       "        }    #T_bdd9f2e2_4df4_11ea_955a_b42e99c32101row17_col0 {\n",
       "            text-align:  right;\n",
       "        }    #T_bdd9f2e2_4df4_11ea_955a_b42e99c32101row18_col0 {\n",
       "            text-align:  right;\n",
       "        }    #T_bdd9f2e2_4df4_11ea_955a_b42e99c32101row19_col0 {\n",
       "            text-align:  right;\n",
       "        }    #T_bdd9f2e2_4df4_11ea_955a_b42e99c32101row20_col0 {\n",
       "            text-align:  right;\n",
       "        }    #T_bdd9f2e2_4df4_11ea_955a_b42e99c32101row21_col0 {\n",
       "            text-align:  right;\n",
       "        }    #T_bdd9f2e2_4df4_11ea_955a_b42e99c32101row22_col0 {\n",
       "            text-align:  right;\n",
       "        }    #T_bdd9f2e2_4df4_11ea_955a_b42e99c32101row23_col0 {\n",
       "            text-align:  right;\n",
       "        }    #T_bdd9f2e2_4df4_11ea_955a_b42e99c32101row24_col0 {\n",
       "            text-align:  right;\n",
       "        }    #T_bdd9f2e2_4df4_11ea_955a_b42e99c32101row25_col0 {\n",
       "            text-align:  right;\n",
       "        }    #T_bdd9f2e2_4df4_11ea_955a_b42e99c32101row26_col0 {\n",
       "            text-align:  right;\n",
       "        }    #T_bdd9f2e2_4df4_11ea_955a_b42e99c32101row27_col0 {\n",
       "            text-align:  right;\n",
       "        }    #T_bdd9f2e2_4df4_11ea_955a_b42e99c32101row28_col0 {\n",
       "            text-align:  right;\n",
       "        }    #T_bdd9f2e2_4df4_11ea_955a_b42e99c32101row29_col0 {\n",
       "            text-align:  right;\n",
       "        }    #T_bdd9f2e2_4df4_11ea_955a_b42e99c32101row30_col0 {\n",
       "            text-align:  right;\n",
       "        }    #T_bdd9f2e2_4df4_11ea_955a_b42e99c32101row31_col0 {\n",
       "            text-align:  right;\n",
       "        }</style><table id=\"T_bdd9f2e2_4df4_11ea_955a_b42e99c32101\" ><thead>    <tr>        <th class=\"blank\" ></th>        <th class=\"blank level0\" ></th>        <th class=\"col_heading level0 col0\" >2020-02-13 09:06:53</th>    </tr>    <tr>        <th class=\"index_name level0\" >category</th>        <th class=\"index_name level1\" >entry_search</th>        <th class=\"blank\" ></th>    </tr></thead><tbody>\n",
       "                <tr>\n",
       "                        <th id=\"T_bdd9f2e2_4df4_11ea_955a_b42e99c32101level0_row0\" class=\"row_heading level0 row0\" ></th>\n",
       "                        <th id=\"T_bdd9f2e2_4df4_11ea_955a_b42e99c32101level1_row0\" class=\"row_heading level1 row0\" ></th>\n",
       "                        <td id=\"T_bdd9f2e2_4df4_11ea_955a_b42e99c32101row0_col0\" class=\"data row0 col0\" >22,639</td>\n",
       "            </tr>\n",
       "            <tr>\n",
       "                        <th id=\"T_bdd9f2e2_4df4_11ea_955a_b42e99c32101level0_row1\" class=\"row_heading level0 row1\" rowspan=2>독일어</th>\n",
       "                        <th id=\"T_bdd9f2e2_4df4_11ea_955a_b42e99c32101level1_row1\" class=\"row_heading level1 row1\" ></th>\n",
       "                        <td id=\"T_bdd9f2e2_4df4_11ea_955a_b42e99c32101row1_col0\" class=\"data row1 col0\" >66,836</td>\n",
       "            </tr>\n",
       "            <tr>\n",
       "                                <th id=\"T_bdd9f2e2_4df4_11ea_955a_b42e99c32101level1_row2\" class=\"row_heading level1 row2\" >done</th>\n",
       "                        <td id=\"T_bdd9f2e2_4df4_11ea_955a_b42e99c32101row2_col0\" class=\"data row2 col0\" >27,482</td>\n",
       "            </tr>\n",
       "            <tr>\n",
       "                        <th id=\"T_bdd9f2e2_4df4_11ea_955a_b42e99c32101level0_row3\" class=\"row_heading level0 row3\" rowspan=2>러시아어</th>\n",
       "                        <th id=\"T_bdd9f2e2_4df4_11ea_955a_b42e99c32101level1_row3\" class=\"row_heading level1 row3\" ></th>\n",
       "                        <td id=\"T_bdd9f2e2_4df4_11ea_955a_b42e99c32101row3_col0\" class=\"data row3 col0\" >16,542</td>\n",
       "            </tr>\n",
       "            <tr>\n",
       "                                <th id=\"T_bdd9f2e2_4df4_11ea_955a_b42e99c32101level1_row4\" class=\"row_heading level1 row4\" >done</th>\n",
       "                        <td id=\"T_bdd9f2e2_4df4_11ea_955a_b42e99c32101row4_col0\" class=\"data row4 col0\" >54,171</td>\n",
       "            </tr>\n",
       "            <tr>\n",
       "                        <th id=\"T_bdd9f2e2_4df4_11ea_955a_b42e99c32101level0_row5\" class=\"row_heading level0 row5\" >루마니아어</th>\n",
       "                        <th id=\"T_bdd9f2e2_4df4_11ea_955a_b42e99c32101level1_row5\" class=\"row_heading level1 row5\" >done</th>\n",
       "                        <td id=\"T_bdd9f2e2_4df4_11ea_955a_b42e99c32101row5_col0\" class=\"data row5 col0\" >21,845</td>\n",
       "            </tr>\n",
       "            <tr>\n",
       "                        <th id=\"T_bdd9f2e2_4df4_11ea_955a_b42e99c32101level0_row6\" class=\"row_heading level0 row6\" rowspan=2>베트남어</th>\n",
       "                        <th id=\"T_bdd9f2e2_4df4_11ea_955a_b42e99c32101level1_row6\" class=\"row_heading level1 row6\" ></th>\n",
       "                        <td id=\"T_bdd9f2e2_4df4_11ea_955a_b42e99c32101row6_col0\" class=\"data row6 col0\" >39,568</td>\n",
       "            </tr>\n",
       "            <tr>\n",
       "                                <th id=\"T_bdd9f2e2_4df4_11ea_955a_b42e99c32101level1_row7\" class=\"row_heading level1 row7\" >done</th>\n",
       "                        <td id=\"T_bdd9f2e2_4df4_11ea_955a_b42e99c32101row7_col0\" class=\"data row7 col0\" >32,195</td>\n",
       "            </tr>\n",
       "            <tr>\n",
       "                        <th id=\"T_bdd9f2e2_4df4_11ea_955a_b42e99c32101level0_row8\" class=\"row_heading level0 row8\" rowspan=2>스페인어</th>\n",
       "                        <th id=\"T_bdd9f2e2_4df4_11ea_955a_b42e99c32101level1_row8\" class=\"row_heading level1 row8\" ></th>\n",
       "                        <td id=\"T_bdd9f2e2_4df4_11ea_955a_b42e99c32101row8_col0\" class=\"data row8 col0\" >53,709</td>\n",
       "            </tr>\n",
       "            <tr>\n",
       "                                <th id=\"T_bdd9f2e2_4df4_11ea_955a_b42e99c32101level1_row9\" class=\"row_heading level1 row9\" >done</th>\n",
       "                        <td id=\"T_bdd9f2e2_4df4_11ea_955a_b42e99c32101row9_col0\" class=\"data row9 col0\" >39,529</td>\n",
       "            </tr>\n",
       "            <tr>\n",
       "                        <th id=\"T_bdd9f2e2_4df4_11ea_955a_b42e99c32101level0_row10\" class=\"row_heading level0 row10\" rowspan=2>영어</th>\n",
       "                        <th id=\"T_bdd9f2e2_4df4_11ea_955a_b42e99c32101level1_row10\" class=\"row_heading level1 row10\" ></th>\n",
       "                        <td id=\"T_bdd9f2e2_4df4_11ea_955a_b42e99c32101row10_col0\" class=\"data row10 col0\" >576,466</td>\n",
       "            </tr>\n",
       "            <tr>\n",
       "                                <th id=\"T_bdd9f2e2_4df4_11ea_955a_b42e99c32101level1_row11\" class=\"row_heading level1 row11\" >done</th>\n",
       "                        <td id=\"T_bdd9f2e2_4df4_11ea_955a_b42e99c32101row11_col0\" class=\"data row11 col0\" >23,848</td>\n",
       "            </tr>\n",
       "            <tr>\n",
       "                        <th id=\"T_bdd9f2e2_4df4_11ea_955a_b42e99c32101level0_row12\" class=\"row_heading level0 row12\" rowspan=2>우크라이나어</th>\n",
       "                        <th id=\"T_bdd9f2e2_4df4_11ea_955a_b42e99c32101level1_row12\" class=\"row_heading level1 row12\" ></th>\n",
       "                        <td id=\"T_bdd9f2e2_4df4_11ea_955a_b42e99c32101row12_col0\" class=\"data row12 col0\" >4,411</td>\n",
       "            </tr>\n",
       "            <tr>\n",
       "                                <th id=\"T_bdd9f2e2_4df4_11ea_955a_b42e99c32101level1_row13\" class=\"row_heading level1 row13\" >done</th>\n",
       "                        <td id=\"T_bdd9f2e2_4df4_11ea_955a_b42e99c32101row13_col0\" class=\"data row13 col0\" >47,176</td>\n",
       "            </tr>\n",
       "            <tr>\n",
       "                        <th id=\"T_bdd9f2e2_4df4_11ea_955a_b42e99c32101level0_row14\" class=\"row_heading level0 row14\" rowspan=2>이탈리아어</th>\n",
       "                        <th id=\"T_bdd9f2e2_4df4_11ea_955a_b42e99c32101level1_row14\" class=\"row_heading level1 row14\" ></th>\n",
       "                        <td id=\"T_bdd9f2e2_4df4_11ea_955a_b42e99c32101row14_col0\" class=\"data row14 col0\" >24,879</td>\n",
       "            </tr>\n",
       "            <tr>\n",
       "                                <th id=\"T_bdd9f2e2_4df4_11ea_955a_b42e99c32101level1_row15\" class=\"row_heading level1 row15\" >done</th>\n",
       "                        <td id=\"T_bdd9f2e2_4df4_11ea_955a_b42e99c32101row15_col0\" class=\"data row15 col0\" >32,413</td>\n",
       "            </tr>\n",
       "            <tr>\n",
       "                        <th id=\"T_bdd9f2e2_4df4_11ea_955a_b42e99c32101level0_row16\" class=\"row_heading level0 row16\" rowspan=2>인도네시아어</th>\n",
       "                        <th id=\"T_bdd9f2e2_4df4_11ea_955a_b42e99c32101level1_row16\" class=\"row_heading level1 row16\" ></th>\n",
       "                        <td id=\"T_bdd9f2e2_4df4_11ea_955a_b42e99c32101row16_col0\" class=\"data row16 col0\" >21,054</td>\n",
       "            </tr>\n",
       "            <tr>\n",
       "                                <th id=\"T_bdd9f2e2_4df4_11ea_955a_b42e99c32101level1_row17\" class=\"row_heading level1 row17\" >done</th>\n",
       "                        <td id=\"T_bdd9f2e2_4df4_11ea_955a_b42e99c32101row17_col0\" class=\"data row17 col0\" >47,773</td>\n",
       "            </tr>\n",
       "            <tr>\n",
       "                        <th id=\"T_bdd9f2e2_4df4_11ea_955a_b42e99c32101level0_row18\" class=\"row_heading level0 row18\" rowspan=2>일본어</th>\n",
       "                        <th id=\"T_bdd9f2e2_4df4_11ea_955a_b42e99c32101level1_row18\" class=\"row_heading level1 row18\" ></th>\n",
       "                        <td id=\"T_bdd9f2e2_4df4_11ea_955a_b42e99c32101row18_col0\" class=\"data row18 col0\" >280,057</td>\n",
       "            </tr>\n",
       "            <tr>\n",
       "                                <th id=\"T_bdd9f2e2_4df4_11ea_955a_b42e99c32101level1_row19\" class=\"row_heading level1 row19\" >done</th>\n",
       "                        <td id=\"T_bdd9f2e2_4df4_11ea_955a_b42e99c32101row19_col0\" class=\"data row19 col0\" >29,379</td>\n",
       "            </tr>\n",
       "            <tr>\n",
       "                        <th id=\"T_bdd9f2e2_4df4_11ea_955a_b42e99c32101level0_row20\" class=\"row_heading level0 row20\" rowspan=2>중국어</th>\n",
       "                        <th id=\"T_bdd9f2e2_4df4_11ea_955a_b42e99c32101level1_row20\" class=\"row_heading level1 row20\" ></th>\n",
       "                        <td id=\"T_bdd9f2e2_4df4_11ea_955a_b42e99c32101row20_col0\" class=\"data row20 col0\" >479,680</td>\n",
       "            </tr>\n",
       "            <tr>\n",
       "                                <th id=\"T_bdd9f2e2_4df4_11ea_955a_b42e99c32101level1_row21\" class=\"row_heading level1 row21\" >done</th>\n",
       "                        <td id=\"T_bdd9f2e2_4df4_11ea_955a_b42e99c32101row21_col0\" class=\"data row21 col0\" >33,934</td>\n",
       "            </tr>\n",
       "            <tr>\n",
       "                        <th id=\"T_bdd9f2e2_4df4_11ea_955a_b42e99c32101level0_row22\" class=\"row_heading level0 row22\" rowspan=2>태국어</th>\n",
       "                        <th id=\"T_bdd9f2e2_4df4_11ea_955a_b42e99c32101level1_row22\" class=\"row_heading level1 row22\" ></th>\n",
       "                        <td id=\"T_bdd9f2e2_4df4_11ea_955a_b42e99c32101row22_col0\" class=\"data row22 col0\" >15,618</td>\n",
       "            </tr>\n",
       "            <tr>\n",
       "                                <th id=\"T_bdd9f2e2_4df4_11ea_955a_b42e99c32101level1_row23\" class=\"row_heading level1 row23\" >done</th>\n",
       "                        <td id=\"T_bdd9f2e2_4df4_11ea_955a_b42e99c32101row23_col0\" class=\"data row23 col0\" >53,731</td>\n",
       "            </tr>\n",
       "            <tr>\n",
       "                        <th id=\"T_bdd9f2e2_4df4_11ea_955a_b42e99c32101level0_row24\" class=\"row_heading level0 row24\" rowspan=2>터키어</th>\n",
       "                        <th id=\"T_bdd9f2e2_4df4_11ea_955a_b42e99c32101level1_row24\" class=\"row_heading level1 row24\" ></th>\n",
       "                        <td id=\"T_bdd9f2e2_4df4_11ea_955a_b42e99c32101row24_col0\" class=\"data row24 col0\" >35,090</td>\n",
       "            </tr>\n",
       "            <tr>\n",
       "                                <th id=\"T_bdd9f2e2_4df4_11ea_955a_b42e99c32101level1_row25\" class=\"row_heading level1 row25\" >done</th>\n",
       "                        <td id=\"T_bdd9f2e2_4df4_11ea_955a_b42e99c32101row25_col0\" class=\"data row25 col0\" >30,185</td>\n",
       "            </tr>\n",
       "            <tr>\n",
       "                        <th id=\"T_bdd9f2e2_4df4_11ea_955a_b42e99c32101level0_row26\" class=\"row_heading level0 row26\" rowspan=2>폴란드어</th>\n",
       "                        <th id=\"T_bdd9f2e2_4df4_11ea_955a_b42e99c32101level1_row26\" class=\"row_heading level1 row26\" ></th>\n",
       "                        <td id=\"T_bdd9f2e2_4df4_11ea_955a_b42e99c32101row26_col0\" class=\"data row26 col0\" >8,131</td>\n",
       "            </tr>\n",
       "            <tr>\n",
       "                                <th id=\"T_bdd9f2e2_4df4_11ea_955a_b42e99c32101level1_row27\" class=\"row_heading level1 row27\" >done</th>\n",
       "                        <td id=\"T_bdd9f2e2_4df4_11ea_955a_b42e99c32101row27_col0\" class=\"data row27 col0\" >39,847</td>\n",
       "            </tr>\n",
       "            <tr>\n",
       "                        <th id=\"T_bdd9f2e2_4df4_11ea_955a_b42e99c32101level0_row28\" class=\"row_heading level0 row28\" rowspan=2>프랑스어</th>\n",
       "                        <th id=\"T_bdd9f2e2_4df4_11ea_955a_b42e99c32101level1_row28\" class=\"row_heading level1 row28\" ></th>\n",
       "                        <td id=\"T_bdd9f2e2_4df4_11ea_955a_b42e99c32101row28_col0\" class=\"data row28 col0\" >110,785</td>\n",
       "            </tr>\n",
       "            <tr>\n",
       "                                <th id=\"T_bdd9f2e2_4df4_11ea_955a_b42e99c32101level1_row29\" class=\"row_heading level1 row29\" >done</th>\n",
       "                        <td id=\"T_bdd9f2e2_4df4_11ea_955a_b42e99c32101row29_col0\" class=\"data row29 col0\" >19,427</td>\n",
       "            </tr>\n",
       "            <tr>\n",
       "                        <th id=\"T_bdd9f2e2_4df4_11ea_955a_b42e99c32101level0_row30\" class=\"row_heading level0 row30\" rowspan=2>한국어</th>\n",
       "                        <th id=\"T_bdd9f2e2_4df4_11ea_955a_b42e99c32101level1_row30\" class=\"row_heading level1 row30\" ></th>\n",
       "                        <td id=\"T_bdd9f2e2_4df4_11ea_955a_b42e99c32101row30_col0\" class=\"data row30 col0\" >279,784</td>\n",
       "            </tr>\n",
       "            <tr>\n",
       "                                <th id=\"T_bdd9f2e2_4df4_11ea_955a_b42e99c32101level1_row31\" class=\"row_heading level1 row31\" >done</th>\n",
       "                        <td id=\"T_bdd9f2e2_4df4_11ea_955a_b42e99c32101row31_col0\" class=\"data row31 col0\" >39,386</td>\n",
       "            </tr>\n",
       "    </tbody></table>"
      ],
      "text/plain": [
       "<pandas.io.formats.style.Styler at 0x7f2f87cbb8d0>"
      ]
     },
     "execution_count": 8,
     "metadata": {},
     "output_type": "execute_result"
    }
   ],
   "source": [
    "df = pd.concat(\n",
    "    count_list,\n",
    "    axis=1\n",
    ")\n",
    "\n",
    "df.style.format('{:,}').set_properties(**{'text-align': 'right'})"
   ]
  },
  {
   "cell_type": "code",
   "execution_count": 9,
   "metadata": {
    "ExecuteTime": {
     "end_time": "2020-02-13T00:06:54.315668Z",
     "start_time": "2020-02-13T00:06:54.082886Z"
    }
   },
   "outputs": [
    {
     "data": {
      "application/vnd.jupyter.widget-view+json": {
       "model_id": "a8587b2049d34b4d981f1c677f9d90dd",
       "version_major": 2,
       "version_minor": 0
      },
      "text/plain": [
       "HBox(children=(FloatProgress(value=0.0, max=32.0), HTML(value='')))"
      ]
     },
     "metadata": {},
     "output_type": "display_data"
    },
    {
     "name": "stdout",
     "output_type": "stream",
     "text": [
      "\n"
     ]
    },
    {
     "data": {
      "text/html": [
       "<style  type=\"text/css\" >\n",
       "    #T_bdfde328_4df4_11ea_955a_b42e99c32101row0_col0 {\n",
       "            text-align:  right;\n",
       "        }    #T_bdfde328_4df4_11ea_955a_b42e99c32101row0_col1 {\n",
       "            text-align:  right;\n",
       "        }    #T_bdfde328_4df4_11ea_955a_b42e99c32101row0_col2 {\n",
       "            text-align:  right;\n",
       "        }    #T_bdfde328_4df4_11ea_955a_b42e99c32101row1_col0 {\n",
       "            text-align:  right;\n",
       "        }    #T_bdfde328_4df4_11ea_955a_b42e99c32101row1_col1 {\n",
       "            text-align:  right;\n",
       "        }    #T_bdfde328_4df4_11ea_955a_b42e99c32101row1_col2 {\n",
       "            text-align:  right;\n",
       "        }    #T_bdfde328_4df4_11ea_955a_b42e99c32101row2_col0 {\n",
       "            text-align:  right;\n",
       "        }    #T_bdfde328_4df4_11ea_955a_b42e99c32101row2_col1 {\n",
       "            text-align:  right;\n",
       "        }    #T_bdfde328_4df4_11ea_955a_b42e99c32101row2_col2 {\n",
       "            text-align:  right;\n",
       "        }    #T_bdfde328_4df4_11ea_955a_b42e99c32101row3_col0 {\n",
       "            text-align:  right;\n",
       "        }    #T_bdfde328_4df4_11ea_955a_b42e99c32101row3_col1 {\n",
       "            text-align:  right;\n",
       "        }    #T_bdfde328_4df4_11ea_955a_b42e99c32101row3_col2 {\n",
       "            text-align:  right;\n",
       "        }    #T_bdfde328_4df4_11ea_955a_b42e99c32101row4_col0 {\n",
       "            text-align:  right;\n",
       "        }    #T_bdfde328_4df4_11ea_955a_b42e99c32101row4_col1 {\n",
       "            text-align:  right;\n",
       "        }    #T_bdfde328_4df4_11ea_955a_b42e99c32101row4_col2 {\n",
       "            text-align:  right;\n",
       "        }    #T_bdfde328_4df4_11ea_955a_b42e99c32101row5_col0 {\n",
       "            text-align:  right;\n",
       "        }    #T_bdfde328_4df4_11ea_955a_b42e99c32101row5_col1 {\n",
       "            text-align:  right;\n",
       "        }    #T_bdfde328_4df4_11ea_955a_b42e99c32101row5_col2 {\n",
       "            text-align:  right;\n",
       "        }    #T_bdfde328_4df4_11ea_955a_b42e99c32101row6_col0 {\n",
       "            text-align:  right;\n",
       "        }    #T_bdfde328_4df4_11ea_955a_b42e99c32101row6_col1 {\n",
       "            text-align:  right;\n",
       "        }    #T_bdfde328_4df4_11ea_955a_b42e99c32101row6_col2 {\n",
       "            text-align:  right;\n",
       "        }    #T_bdfde328_4df4_11ea_955a_b42e99c32101row7_col0 {\n",
       "            text-align:  right;\n",
       "        }    #T_bdfde328_4df4_11ea_955a_b42e99c32101row7_col1 {\n",
       "            text-align:  right;\n",
       "        }    #T_bdfde328_4df4_11ea_955a_b42e99c32101row7_col2 {\n",
       "            text-align:  right;\n",
       "        }    #T_bdfde328_4df4_11ea_955a_b42e99c32101row8_col0 {\n",
       "            text-align:  right;\n",
       "        }    #T_bdfde328_4df4_11ea_955a_b42e99c32101row8_col1 {\n",
       "            text-align:  right;\n",
       "        }    #T_bdfde328_4df4_11ea_955a_b42e99c32101row8_col2 {\n",
       "            text-align:  right;\n",
       "        }    #T_bdfde328_4df4_11ea_955a_b42e99c32101row9_col0 {\n",
       "            text-align:  right;\n",
       "        }    #T_bdfde328_4df4_11ea_955a_b42e99c32101row9_col1 {\n",
       "            text-align:  right;\n",
       "        }    #T_bdfde328_4df4_11ea_955a_b42e99c32101row9_col2 {\n",
       "            text-align:  right;\n",
       "        }    #T_bdfde328_4df4_11ea_955a_b42e99c32101row10_col0 {\n",
       "            text-align:  right;\n",
       "        }    #T_bdfde328_4df4_11ea_955a_b42e99c32101row10_col1 {\n",
       "            text-align:  right;\n",
       "        }    #T_bdfde328_4df4_11ea_955a_b42e99c32101row10_col2 {\n",
       "            text-align:  right;\n",
       "        }    #T_bdfde328_4df4_11ea_955a_b42e99c32101row11_col0 {\n",
       "            text-align:  right;\n",
       "        }    #T_bdfde328_4df4_11ea_955a_b42e99c32101row11_col1 {\n",
       "            text-align:  right;\n",
       "        }    #T_bdfde328_4df4_11ea_955a_b42e99c32101row11_col2 {\n",
       "            text-align:  right;\n",
       "        }    #T_bdfde328_4df4_11ea_955a_b42e99c32101row12_col0 {\n",
       "            text-align:  right;\n",
       "        }    #T_bdfde328_4df4_11ea_955a_b42e99c32101row12_col1 {\n",
       "            text-align:  right;\n",
       "        }    #T_bdfde328_4df4_11ea_955a_b42e99c32101row12_col2 {\n",
       "            text-align:  right;\n",
       "        }    #T_bdfde328_4df4_11ea_955a_b42e99c32101row13_col0 {\n",
       "            text-align:  right;\n",
       "        }    #T_bdfde328_4df4_11ea_955a_b42e99c32101row13_col1 {\n",
       "            text-align:  right;\n",
       "        }    #T_bdfde328_4df4_11ea_955a_b42e99c32101row13_col2 {\n",
       "            text-align:  right;\n",
       "        }    #T_bdfde328_4df4_11ea_955a_b42e99c32101row14_col0 {\n",
       "            text-align:  right;\n",
       "        }    #T_bdfde328_4df4_11ea_955a_b42e99c32101row14_col1 {\n",
       "            text-align:  right;\n",
       "        }    #T_bdfde328_4df4_11ea_955a_b42e99c32101row14_col2 {\n",
       "            text-align:  right;\n",
       "        }    #T_bdfde328_4df4_11ea_955a_b42e99c32101row15_col0 {\n",
       "            text-align:  right;\n",
       "        }    #T_bdfde328_4df4_11ea_955a_b42e99c32101row15_col1 {\n",
       "            text-align:  right;\n",
       "        }    #T_bdfde328_4df4_11ea_955a_b42e99c32101row15_col2 {\n",
       "            text-align:  right;\n",
       "        }    #T_bdfde328_4df4_11ea_955a_b42e99c32101row16_col0 {\n",
       "            text-align:  right;\n",
       "        }    #T_bdfde328_4df4_11ea_955a_b42e99c32101row16_col1 {\n",
       "            text-align:  right;\n",
       "        }    #T_bdfde328_4df4_11ea_955a_b42e99c32101row16_col2 {\n",
       "            text-align:  right;\n",
       "        }    #T_bdfde328_4df4_11ea_955a_b42e99c32101row17_col0 {\n",
       "            text-align:  right;\n",
       "        }    #T_bdfde328_4df4_11ea_955a_b42e99c32101row17_col1 {\n",
       "            text-align:  right;\n",
       "        }    #T_bdfde328_4df4_11ea_955a_b42e99c32101row17_col2 {\n",
       "            text-align:  right;\n",
       "        }</style><table id=\"T_bdfde328_4df4_11ea_955a_b42e99c32101\" ><thead>    <tr>        <th class=\"blank level0\" ></th>        <th class=\"col_heading level0 col0\" >검색 전</th>        <th class=\"col_heading level0 col1\" >검색 완료</th>        <th class=\"col_heading level0 col2\" >합계</th>    </tr></thead><tbody>\n",
       "                <tr>\n",
       "                        <th id=\"T_bdfde328_4df4_11ea_955a_b42e99c32101level0_row0\" class=\"row_heading level0 row0\" ></th>\n",
       "                        <td id=\"T_bdfde328_4df4_11ea_955a_b42e99c32101row0_col0\" class=\"data row0 col0\" >22,639</td>\n",
       "                        <td id=\"T_bdfde328_4df4_11ea_955a_b42e99c32101row0_col1\" class=\"data row0 col1\" >0</td>\n",
       "                        <td id=\"T_bdfde328_4df4_11ea_955a_b42e99c32101row0_col2\" class=\"data row0 col2\" >22,639</td>\n",
       "            </tr>\n",
       "            <tr>\n",
       "                        <th id=\"T_bdfde328_4df4_11ea_955a_b42e99c32101level0_row1\" class=\"row_heading level0 row1\" >독일어</th>\n",
       "                        <td id=\"T_bdfde328_4df4_11ea_955a_b42e99c32101row1_col0\" class=\"data row1 col0\" >66,836</td>\n",
       "                        <td id=\"T_bdfde328_4df4_11ea_955a_b42e99c32101row1_col1\" class=\"data row1 col1\" >27,482</td>\n",
       "                        <td id=\"T_bdfde328_4df4_11ea_955a_b42e99c32101row1_col2\" class=\"data row1 col2\" >94,318</td>\n",
       "            </tr>\n",
       "            <tr>\n",
       "                        <th id=\"T_bdfde328_4df4_11ea_955a_b42e99c32101level0_row2\" class=\"row_heading level0 row2\" >러시아어</th>\n",
       "                        <td id=\"T_bdfde328_4df4_11ea_955a_b42e99c32101row2_col0\" class=\"data row2 col0\" >16,542</td>\n",
       "                        <td id=\"T_bdfde328_4df4_11ea_955a_b42e99c32101row2_col1\" class=\"data row2 col1\" >54,171</td>\n",
       "                        <td id=\"T_bdfde328_4df4_11ea_955a_b42e99c32101row2_col2\" class=\"data row2 col2\" >70,713</td>\n",
       "            </tr>\n",
       "            <tr>\n",
       "                        <th id=\"T_bdfde328_4df4_11ea_955a_b42e99c32101level0_row3\" class=\"row_heading level0 row3\" >루마니아어</th>\n",
       "                        <td id=\"T_bdfde328_4df4_11ea_955a_b42e99c32101row3_col0\" class=\"data row3 col0\" >0</td>\n",
       "                        <td id=\"T_bdfde328_4df4_11ea_955a_b42e99c32101row3_col1\" class=\"data row3 col1\" >21,845</td>\n",
       "                        <td id=\"T_bdfde328_4df4_11ea_955a_b42e99c32101row3_col2\" class=\"data row3 col2\" >21,845</td>\n",
       "            </tr>\n",
       "            <tr>\n",
       "                        <th id=\"T_bdfde328_4df4_11ea_955a_b42e99c32101level0_row4\" class=\"row_heading level0 row4\" >베트남어</th>\n",
       "                        <td id=\"T_bdfde328_4df4_11ea_955a_b42e99c32101row4_col0\" class=\"data row4 col0\" >39,568</td>\n",
       "                        <td id=\"T_bdfde328_4df4_11ea_955a_b42e99c32101row4_col1\" class=\"data row4 col1\" >32,195</td>\n",
       "                        <td id=\"T_bdfde328_4df4_11ea_955a_b42e99c32101row4_col2\" class=\"data row4 col2\" >71,763</td>\n",
       "            </tr>\n",
       "            <tr>\n",
       "                        <th id=\"T_bdfde328_4df4_11ea_955a_b42e99c32101level0_row5\" class=\"row_heading level0 row5\" >스페인어</th>\n",
       "                        <td id=\"T_bdfde328_4df4_11ea_955a_b42e99c32101row5_col0\" class=\"data row5 col0\" >53,709</td>\n",
       "                        <td id=\"T_bdfde328_4df4_11ea_955a_b42e99c32101row5_col1\" class=\"data row5 col1\" >39,529</td>\n",
       "                        <td id=\"T_bdfde328_4df4_11ea_955a_b42e99c32101row5_col2\" class=\"data row5 col2\" >93,238</td>\n",
       "            </tr>\n",
       "            <tr>\n",
       "                        <th id=\"T_bdfde328_4df4_11ea_955a_b42e99c32101level0_row6\" class=\"row_heading level0 row6\" >영어</th>\n",
       "                        <td id=\"T_bdfde328_4df4_11ea_955a_b42e99c32101row6_col0\" class=\"data row6 col0\" >576,466</td>\n",
       "                        <td id=\"T_bdfde328_4df4_11ea_955a_b42e99c32101row6_col1\" class=\"data row6 col1\" >23,848</td>\n",
       "                        <td id=\"T_bdfde328_4df4_11ea_955a_b42e99c32101row6_col2\" class=\"data row6 col2\" >600,314</td>\n",
       "            </tr>\n",
       "            <tr>\n",
       "                        <th id=\"T_bdfde328_4df4_11ea_955a_b42e99c32101level0_row7\" class=\"row_heading level0 row7\" >우크라이나어</th>\n",
       "                        <td id=\"T_bdfde328_4df4_11ea_955a_b42e99c32101row7_col0\" class=\"data row7 col0\" >4,411</td>\n",
       "                        <td id=\"T_bdfde328_4df4_11ea_955a_b42e99c32101row7_col1\" class=\"data row7 col1\" >47,176</td>\n",
       "                        <td id=\"T_bdfde328_4df4_11ea_955a_b42e99c32101row7_col2\" class=\"data row7 col2\" >51,587</td>\n",
       "            </tr>\n",
       "            <tr>\n",
       "                        <th id=\"T_bdfde328_4df4_11ea_955a_b42e99c32101level0_row8\" class=\"row_heading level0 row8\" >이탈리아어</th>\n",
       "                        <td id=\"T_bdfde328_4df4_11ea_955a_b42e99c32101row8_col0\" class=\"data row8 col0\" >24,879</td>\n",
       "                        <td id=\"T_bdfde328_4df4_11ea_955a_b42e99c32101row8_col1\" class=\"data row8 col1\" >32,413</td>\n",
       "                        <td id=\"T_bdfde328_4df4_11ea_955a_b42e99c32101row8_col2\" class=\"data row8 col2\" >57,292</td>\n",
       "            </tr>\n",
       "            <tr>\n",
       "                        <th id=\"T_bdfde328_4df4_11ea_955a_b42e99c32101level0_row9\" class=\"row_heading level0 row9\" >인도네시아어</th>\n",
       "                        <td id=\"T_bdfde328_4df4_11ea_955a_b42e99c32101row9_col0\" class=\"data row9 col0\" >21,054</td>\n",
       "                        <td id=\"T_bdfde328_4df4_11ea_955a_b42e99c32101row9_col1\" class=\"data row9 col1\" >47,773</td>\n",
       "                        <td id=\"T_bdfde328_4df4_11ea_955a_b42e99c32101row9_col2\" class=\"data row9 col2\" >68,827</td>\n",
       "            </tr>\n",
       "            <tr>\n",
       "                        <th id=\"T_bdfde328_4df4_11ea_955a_b42e99c32101level0_row10\" class=\"row_heading level0 row10\" >일본어</th>\n",
       "                        <td id=\"T_bdfde328_4df4_11ea_955a_b42e99c32101row10_col0\" class=\"data row10 col0\" >280,057</td>\n",
       "                        <td id=\"T_bdfde328_4df4_11ea_955a_b42e99c32101row10_col1\" class=\"data row10 col1\" >29,379</td>\n",
       "                        <td id=\"T_bdfde328_4df4_11ea_955a_b42e99c32101row10_col2\" class=\"data row10 col2\" >309,436</td>\n",
       "            </tr>\n",
       "            <tr>\n",
       "                        <th id=\"T_bdfde328_4df4_11ea_955a_b42e99c32101level0_row11\" class=\"row_heading level0 row11\" >중국어</th>\n",
       "                        <td id=\"T_bdfde328_4df4_11ea_955a_b42e99c32101row11_col0\" class=\"data row11 col0\" >479,680</td>\n",
       "                        <td id=\"T_bdfde328_4df4_11ea_955a_b42e99c32101row11_col1\" class=\"data row11 col1\" >33,934</td>\n",
       "                        <td id=\"T_bdfde328_4df4_11ea_955a_b42e99c32101row11_col2\" class=\"data row11 col2\" >513,614</td>\n",
       "            </tr>\n",
       "            <tr>\n",
       "                        <th id=\"T_bdfde328_4df4_11ea_955a_b42e99c32101level0_row12\" class=\"row_heading level0 row12\" >태국어</th>\n",
       "                        <td id=\"T_bdfde328_4df4_11ea_955a_b42e99c32101row12_col0\" class=\"data row12 col0\" >15,618</td>\n",
       "                        <td id=\"T_bdfde328_4df4_11ea_955a_b42e99c32101row12_col1\" class=\"data row12 col1\" >53,731</td>\n",
       "                        <td id=\"T_bdfde328_4df4_11ea_955a_b42e99c32101row12_col2\" class=\"data row12 col2\" >69,349</td>\n",
       "            </tr>\n",
       "            <tr>\n",
       "                        <th id=\"T_bdfde328_4df4_11ea_955a_b42e99c32101level0_row13\" class=\"row_heading level0 row13\" >터키어</th>\n",
       "                        <td id=\"T_bdfde328_4df4_11ea_955a_b42e99c32101row13_col0\" class=\"data row13 col0\" >35,090</td>\n",
       "                        <td id=\"T_bdfde328_4df4_11ea_955a_b42e99c32101row13_col1\" class=\"data row13 col1\" >30,185</td>\n",
       "                        <td id=\"T_bdfde328_4df4_11ea_955a_b42e99c32101row13_col2\" class=\"data row13 col2\" >65,275</td>\n",
       "            </tr>\n",
       "            <tr>\n",
       "                        <th id=\"T_bdfde328_4df4_11ea_955a_b42e99c32101level0_row14\" class=\"row_heading level0 row14\" >폴란드어</th>\n",
       "                        <td id=\"T_bdfde328_4df4_11ea_955a_b42e99c32101row14_col0\" class=\"data row14 col0\" >8,131</td>\n",
       "                        <td id=\"T_bdfde328_4df4_11ea_955a_b42e99c32101row14_col1\" class=\"data row14 col1\" >39,847</td>\n",
       "                        <td id=\"T_bdfde328_4df4_11ea_955a_b42e99c32101row14_col2\" class=\"data row14 col2\" >47,978</td>\n",
       "            </tr>\n",
       "            <tr>\n",
       "                        <th id=\"T_bdfde328_4df4_11ea_955a_b42e99c32101level0_row15\" class=\"row_heading level0 row15\" >프랑스어</th>\n",
       "                        <td id=\"T_bdfde328_4df4_11ea_955a_b42e99c32101row15_col0\" class=\"data row15 col0\" >110,785</td>\n",
       "                        <td id=\"T_bdfde328_4df4_11ea_955a_b42e99c32101row15_col1\" class=\"data row15 col1\" >19,427</td>\n",
       "                        <td id=\"T_bdfde328_4df4_11ea_955a_b42e99c32101row15_col2\" class=\"data row15 col2\" >130,212</td>\n",
       "            </tr>\n",
       "            <tr>\n",
       "                        <th id=\"T_bdfde328_4df4_11ea_955a_b42e99c32101level0_row16\" class=\"row_heading level0 row16\" >한국어</th>\n",
       "                        <td id=\"T_bdfde328_4df4_11ea_955a_b42e99c32101row16_col0\" class=\"data row16 col0\" >279,784</td>\n",
       "                        <td id=\"T_bdfde328_4df4_11ea_955a_b42e99c32101row16_col1\" class=\"data row16 col1\" >39,386</td>\n",
       "                        <td id=\"T_bdfde328_4df4_11ea_955a_b42e99c32101row16_col2\" class=\"data row16 col2\" >319,170</td>\n",
       "            </tr>\n",
       "            <tr>\n",
       "                        <th id=\"T_bdfde328_4df4_11ea_955a_b42e99c32101level0_row17\" class=\"row_heading level0 row17\" >합계</th>\n",
       "                        <td id=\"T_bdfde328_4df4_11ea_955a_b42e99c32101row17_col0\" class=\"data row17 col0\" >2,035,249</td>\n",
       "                        <td id=\"T_bdfde328_4df4_11ea_955a_b42e99c32101row17_col1\" class=\"data row17 col1\" >572,321</td>\n",
       "                        <td id=\"T_bdfde328_4df4_11ea_955a_b42e99c32101row17_col2\" class=\"data row17 col2\" >2,607,570</td>\n",
       "            </tr>\n",
       "    </tbody></table>"
      ],
      "text/plain": [
       "<pandas.io.formats.style.Styler at 0x7f30111aa128>"
      ]
     },
     "execution_count": 9,
     "metadata": {},
     "output_type": "execute_result"
    }
   ],
   "source": [
    "df = utils.flatten(df=count_list[-1])\n",
    "df"
   ]
  },
  {
   "cell_type": "code",
   "execution_count": null,
   "metadata": {
    "ExecuteTime": {
     "end_time": "2020-02-11T23:07:50.749714Z",
     "start_time": "2020-02-11T23:07:49.665695Z"
    }
   },
   "outputs": [],
   "source": [
    "df.plot(kind='barh', figsize=(20, 20))"
   ]
  },
  {
   "cell_type": "code",
   "execution_count": null,
   "metadata": {
    "ExecuteTime": {
     "end_time": "2020-02-11T23:08:00.464471Z",
     "start_time": "2020-02-11T23:08:00.370562Z"
    }
   },
   "outputs": [],
   "source": [
    "df = utils.flatten(df=count_list[-2])\n",
    "df"
   ]
  },
  {
   "cell_type": "code",
   "execution_count": null,
   "metadata": {},
   "outputs": [],
   "source": []
  }
 ],
 "metadata": {
  "kernelspec": {
   "display_name": "Python 3",
   "language": "python",
   "name": "python3"
  },
  "language_info": {
   "codemirror_mode": {
    "name": "ipython",
    "version": 3
   },
   "file_extension": ".py",
   "mimetype": "text/x-python",
   "name": "python",
   "nbconvert_exporter": "python",
   "pygments_lexer": "ipython3",
   "version": "3.6.9"
  }
 },
 "nbformat": 4,
 "nbformat_minor": 2
}
