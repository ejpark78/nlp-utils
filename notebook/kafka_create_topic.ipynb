{
 "cells": [
  {
   "cell_type": "code",
   "execution_count": null,
   "metadata": {
    "collapsed": false,
    "deletable": true,
    "editable": true
   },
   "outputs": [],
   "source": [
    "kafka-topics.sh --create --zookeeper gollum:2181 --replication-factor 1 --partitions 1 --topic crawler"
   ]
  },
  {
   "cell_type": "code",
   "execution_count": 1,
   "metadata": {
    "collapsed": false,
    "deletable": true,
    "editable": true
   },
   "outputs": [
    {
     "name": "stdout",
     "output_type": "stream",
     "text": [
      "__consumer_offsets\n",
      "crawler.chosun_daemon\n",
      "crawler.daum_crawler\n",
      "crawler.daum_daemon\n",
      "crawler.mlbpark_crawler\n",
      "crawler.mlbpark_daemon\n",
      "crawler.nate_daemon\n",
      "crawler.naver_crawler\n",
      "crawler.naver_daemon\n"
     ]
    }
   ],
   "source": [
    "kafka-topics.sh --list --zookeeper gollum:2181"
   ]
  },
  {
   "cell_type": "code",
   "execution_count": null,
   "metadata": {
    "collapsed": false,
    "deletable": true,
    "editable": true
   },
   "outputs": [],
   "source": [
    "# 컨슈머 실행\n",
    "kafka-console-consumer.sh --bootstrap-server gollum:9092 --topic crawler --from-beginning"
   ]
  },
  {
   "cell_type": "code",
   "execution_count": null,
   "metadata": {
    "collapsed": false,
    "deletable": true,
    "editable": true
   },
   "outputs": [],
   "source": [
    "kafka-topics.sh --describe --zookeeper gollum:2181 --topic crawler"
   ]
  },
  {
   "cell_type": "markdown",
   "metadata": {
    "deletable": true,
    "editable": true
   },
   "source": [
    "토픽 삭제"
   ]
  },
  {
   "cell_type": "code",
   "execution_count": null,
   "metadata": {
    "collapsed": false,
    "deletable": true,
    "editable": true
   },
   "outputs": [],
   "source": [
    "kafka-topics.sh --delete --zookeeper gollum:2181 --topic crawler"
   ]
  },
  {
   "cell_type": "code",
   "execution_count": null,
   "metadata": {
    "collapsed": true,
    "deletable": true,
    "editable": true
   },
   "outputs": [],
   "source": [
    "zkCli.sh  -server gollum:2181 rmr /brokers/topics/crawler"
   ]
  }
 ],
 "metadata": {
  "kernelspec": {
   "display_name": "Bash",
   "language": "bash",
   "name": "bash"
  },
  "language_info": {
   "codemirror_mode": "shell",
   "file_extension": ".sh",
   "mimetype": "text/x-sh",
   "name": "bash"
  }
 },
 "nbformat": 4,
 "nbformat_minor": 0
}