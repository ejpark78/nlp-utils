{
 "cells": [
  {
   "cell_type": "code",
   "execution_count": null,
   "metadata": {},
   "outputs": [],
   "source": []
  },
  {
   "cell_type": "code",
   "execution_count": null,
   "metadata": {},
   "outputs": [],
   "source": []
  },
  {
   "cell_type": "code",
   "execution_count": 20,
   "metadata": {
    "ExecuteTime": {
     "end_time": "2019-08-13T07:25:40.705275Z",
     "start_time": "2019-08-13T07:25:40.701907Z"
    }
   },
   "outputs": [],
   "source": [
    "#!./venv/bin/python3\n",
    "# -*- coding: utf-8 -*-\n",
    "\n",
    "from __future__ import absolute_import\n",
    "from __future__ import division\n",
    "from __future__ import print_function\n",
    "\n",
    "import json\n",
    "import requests\n",
    "\n",
    "from time import sleep, time\n",
    "from datetime import datetime"
   ]
  },
  {
   "cell_type": "code",
   "execution_count": 24,
   "metadata": {
    "ExecuteTime": {
     "end_time": "2019-08-13T07:27:28.601081Z",
     "start_time": "2019-08-13T07:27:28.597543Z"
    }
   },
   "outputs": [],
   "source": [
    "access_token = 'EAACBRrCNUOwBAABVzTeRCtaGlETI3jz9n7uNEkSOZBiCPhF8I14g4VLNCZC5AQ9rxKR2b4j8j15vTF8Pi8wmiSSN8zS6Srw2q0eZAD7ZCLVW8XFySHTuxagCYArYCtrGUv6xKsBGa6un9fYMUrQ1Tfow9TZBBjKkcNZC05J1wjVP39f50pR1M3Nw2wCllrFJnQVblTBEW3MAZDZD'\n",
    "\n",
    "fields= 'id,name,posts,groups,likes'\n",
    "url = 'https://graph.facebook.com/v4.0/me?fields={fields}&access_token={access_token}'.format(fields=fields, access_token=access_token)\n",
    "\n",
    "# url = 'https://graph.facebook.com/v4.0/{page_id}/feed/?fields={fields}&access_token={access_token}'.format(fields=fields, access_token=access_token)\n"
   ]
  },
  {
   "cell_type": "code",
   "execution_count": 25,
   "metadata": {
    "ExecuteTime": {
     "end_time": "2019-08-13T07:27:30.562876Z",
     "start_time": "2019-08-13T07:27:29.843957Z"
    }
   },
   "outputs": [
    {
     "data": {
      "text/plain": [
       "<Response [200]>"
      ]
     },
     "execution_count": 25,
     "metadata": {},
     "output_type": "execute_result"
    }
   ],
   "source": [
    "resp = requests.get(url)\n",
    "resp"
   ]
  },
  {
   "cell_type": "code",
   "execution_count": 26,
   "metadata": {
    "ExecuteTime": {
     "end_time": "2019-08-13T07:27:32.774706Z",
     "start_time": "2019-08-13T07:27:32.772186Z"
    }
   },
   "outputs": [
    {
     "data": {
      "text/plain": [
       "{'id': '1500855749963737', 'name': '박은진'}"
      ]
     },
     "execution_count": 26,
     "metadata": {},
     "output_type": "execute_result"
    }
   ],
   "source": [
    "resp.json()"
   ]
  },
  {
   "cell_type": "code",
   "execution_count": null,
   "metadata": {},
   "outputs": [],
   "source": []
  }
 ],
 "metadata": {
  "kernelspec": {
   "display_name": "Python 3",
   "language": "python",
   "name": "python3"
  },
  "language_info": {
   "codemirror_mode": {
    "name": "ipython",
    "version": 3
   },
   "file_extension": ".py",
   "mimetype": "text/x-python",
   "name": "python",
   "nbconvert_exporter": "python",
   "pygments_lexer": "ipython3",
   "version": "3.6.8"
  }
 },
 "nbformat": 4,
 "nbformat_minor": 2
}
