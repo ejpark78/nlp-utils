{
 "cells": [
  {
   "cell_type": "code",
   "execution_count": null,
   "metadata": {},
   "outputs": [],
   "source": [
    "!pip3 install git+http://galadriel02.korea.ncsoft.corp/searchtf/pypi/nlplab.git"
   ]
  },
  {
   "cell_type": "code",
   "execution_count": 1,
   "metadata": {},
   "outputs": [
    {
     "data": {
      "text/plain": [
       "({'Name': 'nlplab',\n",
       "  'Version': '1.2.21',\n",
       "  'Summary': 'nlplab 데이터셋 배포 라이브러리',\n",
       "  'Home-page': 'http://galadriel02.korea.ncsoft.corp/searchtf/pypi/nlplab',\n",
       "  'Author': 'ejpark',\n",
       "  'Author-email': 'ejpark@ncsoft.com',\n",
       "  'License': 'Apache License Version 2.0',\n",
       "  'Location': '/home/ejpark/workspace/nlplab/venv/lib/python3.8/site-packages',\n",
       "  'Requires': 'setuptools, wheel, pandas, urllib3, webdav, bs4, tqdm, twine, elasticsearch, minio, requests',\n",
       "  'Required-by': ''},\n",
       " ['/home/ejpark/workspace/nlplab/test',\n",
       "  '/home/ejpark/workspace/nlplab',\n",
       "  '/usr/lib/python38.zip',\n",
       "  '/usr/lib/python3.8',\n",
       "  '/usr/lib/python3.8/lib-dynload',\n",
       "  '',\n",
       "  '/home/ejpark/.local/lib/python3.8/site-packages',\n",
       "  '/usr/local/lib/python3.8/dist-packages',\n",
       "  '/usr/lib/python3/dist-packages',\n",
       "  '/usr/lib/python3.8/dist-packages',\n",
       "  '/home/ejpark/.local/lib/python3.8/site-packages/IPython/extensions',\n",
       "  '/home/ejpark/.ipython',\n",
       "  '/home/ejpark/workspace/nlplab/venv/lib/python3.8/site-packages'])"
      ]
     },
     "execution_count": 1,
     "metadata": {},
     "output_type": "execute_result"
    }
   ],
   "source": [
    "import sys\n",
    "\n",
    "pkg_info = !pip3 show nlplab\n",
    "pkg_info = {l.split(':')[0]: l.split(': ')[1]  for l in pkg_info}\n",
    "\n",
    "sys.path.append(pkg_info['Location'])\n",
    "\n",
    "pkg_info, sys.path"
   ]
  },
  {
   "cell_type": "code",
   "execution_count": 2,
   "metadata": {},
   "outputs": [],
   "source": [
    "import pandas as pd\n",
    "from nlplab.models import Models"
   ]
  },
  {
   "cell_type": "code",
   "execution_count": 3,
   "metadata": {},
   "outputs": [],
   "source": [
    "m = Models()"
   ]
  },
  {
   "cell_type": "code",
   "execution_count": 5,
   "metadata": {},
   "outputs": [
    {
     "data": {
      "text/plain": [
       "{'bert': {'name': 'bert',\n",
       "  'format': 'tar.bz2',\n",
       "  'desc': '버트 모델',\n",
       "  'location': 'minio',\n",
       "  'local_path': 'bert',\n",
       "  'remote_path': 'bert',\n",
       "  'tags': ['002_bert_morp_tensorflow', '004_bert_eojeol_tensorflow']}}"
      ]
     },
     "execution_count": 5,
     "metadata": {},
     "output_type": "execute_result"
    }
   ],
   "source": [
    "m.meta"
   ]
  },
  {
   "cell_type": "code",
   "execution_count": 6,
   "metadata": {},
   "outputs": [],
   "source": [
    "m.pull(name='bert', tag='002_bert_morp_tensorflow')\n",
    "m.pull(name='bert', tag='004_bert_eojeol_tensorflow')"
   ]
  },
  {
   "cell_type": "code",
   "execution_count": null,
   "metadata": {},
   "outputs": [],
   "source": []
  }
 ],
 "metadata": {
  "kernelspec": {
   "display_name": "Python 3",
   "language": "python",
   "name": "python3"
  },
  "language_info": {
   "codemirror_mode": {
    "name": "ipython",
    "version": 3
   },
   "file_extension": ".py",
   "mimetype": "text/x-python",
   "name": "python",
   "nbconvert_exporter": "python",
   "pygments_lexer": "ipython3",
   "version": "3.8.5"
  }
 },
 "nbformat": 4,
 "nbformat_minor": 4
}
