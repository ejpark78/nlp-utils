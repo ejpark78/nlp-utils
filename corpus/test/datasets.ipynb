{
 "cells": [
  {
   "cell_type": "markdown",
   "metadata": {},
   "source": [
    "# 설치 방법"
   ]
  },
  {
   "cell_type": "markdown",
   "metadata": {},
   "source": [
    "```bash\n",
    "python3 -m venv --copies venv  \n",
    "\n",
    "source venv/bin/activate\n",
    "\n",
    "pip3 install git+http://galadriel02.korea.ncsoft.corp/crawler-dev/corpus.git@dev\n",
    "\n",
    "`which jupyter` notebook --ip 0.0.0.0 --port=8888  --LabApp.token='' --LabApp.password='' \n",
    "```"
   ]
  },
  {
   "cell_type": "markdown",
   "metadata": {},
   "source": [
    "## corpus 라이브러리를 찾을 수 없는 경우: jupyter lab 으로 실행하는 경우 \n",
    "\n",
    "```python\n",
    "import sys\n",
    "\n",
    "pkg_info = !pip3 show corpus\n",
    "pkg_info = {l.split(':')[0]: l.split(': ')[1]  for l in pkg_info}\n",
    "\n",
    "sys.path.append(pkg_info['Location'])\n",
    "\n",
    "print([pkg_info, sys.path])\n",
    "```"
   ]
  },
  {
   "cell_type": "code",
   "execution_count": 1,
   "metadata": {
    "ExecuteTime": {
     "end_time": "2021-04-07T23:20:10.637624Z",
     "start_time": "2021-04-07T23:20:10.403666Z"
    }
   },
   "outputs": [],
   "source": [
    "import json\n",
    "import pandas as pd\n",
    "from corpus.datasets import DataSets"
   ]
  },
  {
   "cell_type": "markdown",
   "metadata": {},
   "source": [
    "# archived corpus"
   ]
  },
  {
   "cell_type": "code",
   "execution_count": 2,
   "metadata": {
    "ExecuteTime": {
     "end_time": "2021-04-07T23:20:10.737555Z",
     "start_time": "2021-04-07T23:20:10.638592Z"
    }
   },
   "outputs": [
    {
     "data": {
      "text/html": [
       "<div>\n",
       "<style scoped>\n",
       "    .dataframe tbody tr th:only-of-type {\n",
       "        vertical-align: middle;\n",
       "    }\n",
       "\n",
       "    .dataframe tbody tr th {\n",
       "        vertical-align: top;\n",
       "    }\n",
       "\n",
       "    .dataframe thead th {\n",
       "        text-align: right;\n",
       "    }\n",
       "</style>\n",
       "<table border=\"1\" class=\"dataframe\">\n",
       "  <thead>\n",
       "    <tr style=\"text-align: right;\">\n",
       "      <th></th>\n",
       "      <th>name</th>\n",
       "      <th>desc</th>\n",
       "      <th>category</th>\n",
       "      <th>local_path</th>\n",
       "      <th>remote_path</th>\n",
       "      <th>files</th>\n",
       "    </tr>\n",
       "  </thead>\n",
       "  <tbody>\n",
       "    <tr>\n",
       "      <th>daum_movie_reviews</th>\n",
       "      <td>daum_movie_reviews</td>\n",
       "      <td>다음 영화 리뷰</td>\n",
       "      <td>daum_movie_reviews</td>\n",
       "      <td>movie_reviews</td>\n",
       "      <td>movie_reviews</td>\n",
       "      <td>[{'name': 'daum.reviews.json.bz2'}, {'name': '...</td>\n",
       "    </tr>\n",
       "    <tr>\n",
       "      <th>facebook-stock</th>\n",
       "      <td>facebook-stock</td>\n",
       "      <td>페이스북 주식 채널/그룹</td>\n",
       "      <td>facebook/stock</td>\n",
       "      <td>facebook</td>\n",
       "      <td>facebook</td>\n",
       "      <td>[{'name': 'stock.posts.json.bz2'}]</td>\n",
       "    </tr>\n",
       "    <tr>\n",
       "      <th>facebook</th>\n",
       "      <td>facebook</td>\n",
       "      <td>페이스북 그룹</td>\n",
       "      <td>facebook</td>\n",
       "      <td>facebook</td>\n",
       "      <td>facebook</td>\n",
       "      <td>[{'name': 'facebook.posts.json.bz2'}, {'name':...</td>\n",
       "    </tr>\n",
       "    <tr>\n",
       "      <th>kbsec</th>\n",
       "      <td>kbsec</td>\n",
       "      <td>KB리서치 보고서</td>\n",
       "      <td>stock/reports</td>\n",
       "      <td>kbsec</td>\n",
       "      <td>kbsec</td>\n",
       "      <td>[{'name': 'kbsec.reports.json.bz2'}, {'name': ...</td>\n",
       "    </tr>\n",
       "    <tr>\n",
       "      <th>naver_movie_reviews</th>\n",
       "      <td>naver_movie_reviews</td>\n",
       "      <td>네이버 영화 리뷰</td>\n",
       "      <td>naver_movie_reviews</td>\n",
       "      <td>movie_reviews</td>\n",
       "      <td>movie_reviews</td>\n",
       "      <td>[{'name': 'naver.reviews.json.bz2'}, {'name': ...</td>\n",
       "    </tr>\n",
       "    <tr>\n",
       "      <th>youtube_bns</th>\n",
       "      <td>youtube_bns</td>\n",
       "      <td>유튜브 댓글</td>\n",
       "      <td>youtube/games/bns</td>\n",
       "      <td>youtube</td>\n",
       "      <td>youtube</td>\n",
       "      <td>[{'name': 'bns.replies.json.bz2'}, {'name': 'b...</td>\n",
       "    </tr>\n",
       "    <tr>\n",
       "      <th>youtube_mtd</th>\n",
       "      <td>youtube_mtd</td>\n",
       "      <td>유튜브 댓글</td>\n",
       "      <td>youtube/mtd</td>\n",
       "      <td>youtube</td>\n",
       "      <td>youtube</td>\n",
       "      <td>[{'name': 'mtd.replies.json.bz2'}, {'name': 'm...</td>\n",
       "    </tr>\n",
       "    <tr>\n",
       "      <th>youtube_news</th>\n",
       "      <td>youtube_news</td>\n",
       "      <td>유튜브 댓글</td>\n",
       "      <td>youtube/news</td>\n",
       "      <td>youtube</td>\n",
       "      <td>youtube</td>\n",
       "      <td>[{'name': 'news.replies.json.bz2'}, {'name': '...</td>\n",
       "    </tr>\n",
       "  </tbody>\n",
       "</table>\n",
       "</div>"
      ],
      "text/plain": [
       "                                    name           desc             category  \\\n",
       "daum_movie_reviews    daum_movie_reviews       다음 영화 리뷰   daum_movie_reviews   \n",
       "facebook-stock            facebook-stock  페이스북 주식 채널/그룹       facebook/stock   \n",
       "facebook                        facebook        페이스북 그룹             facebook   \n",
       "kbsec                              kbsec      KB리서치 보고서        stock/reports   \n",
       "naver_movie_reviews  naver_movie_reviews      네이버 영화 리뷰  naver_movie_reviews   \n",
       "youtube_bns                  youtube_bns         유튜브 댓글    youtube/games/bns   \n",
       "youtube_mtd                  youtube_mtd         유튜브 댓글          youtube/mtd   \n",
       "youtube_news                youtube_news         유튜브 댓글         youtube/news   \n",
       "\n",
       "                        local_path    remote_path  \\\n",
       "daum_movie_reviews   movie_reviews  movie_reviews   \n",
       "facebook-stock            facebook       facebook   \n",
       "facebook                  facebook       facebook   \n",
       "kbsec                        kbsec          kbsec   \n",
       "naver_movie_reviews  movie_reviews  movie_reviews   \n",
       "youtube_bns                youtube        youtube   \n",
       "youtube_mtd                youtube        youtube   \n",
       "youtube_news               youtube        youtube   \n",
       "\n",
       "                                                                 files  \n",
       "daum_movie_reviews   [{'name': 'daum.reviews.json.bz2'}, {'name': '...  \n",
       "facebook-stock                      [{'name': 'stock.posts.json.bz2'}]  \n",
       "facebook             [{'name': 'facebook.posts.json.bz2'}, {'name':...  \n",
       "kbsec                [{'name': 'kbsec.reports.json.bz2'}, {'name': ...  \n",
       "naver_movie_reviews  [{'name': 'naver.reviews.json.bz2'}, {'name': ...  \n",
       "youtube_bns          [{'name': 'bns.replies.json.bz2'}, {'name': 'b...  \n",
       "youtube_mtd          [{'name': 'mtd.replies.json.bz2'}, {'name': 'm...  \n",
       "youtube_news         [{'name': 'news.replies.json.bz2'}, {'name': '...  "
      ]
     },
     "execution_count": 2,
     "metadata": {},
     "output_type": "execute_result"
    }
   ],
   "source": [
    "ds = DataSets()\n",
    "\n",
    "pd.DataFrame(ds.meta).T"
   ]
  },
  {
   "cell_type": "code",
   "execution_count": 3,
   "metadata": {
    "ExecuteTime": {
     "end_time": "2021-04-07T23:20:10.741156Z",
     "start_time": "2021-04-07T23:20:10.738686Z"
    }
   },
   "outputs": [
    {
     "name": "stdout",
     "output_type": "stream",
     "text": [
      "[\n",
      "    {\n",
      "        \"name\": \"naver.reviews.json.bz2\"\n",
      "    },\n",
      "    {\n",
      "        \"name\": \"naver.movie_code.json.bz2\"\n",
      "    }\n",
      "]\n"
     ]
    }
   ],
   "source": [
    "# files\n",
    "\n",
    "print(json.dumps(ds.meta['naver_movie_reviews']['files'], indent=4))"
   ]
  },
  {
   "cell_type": "code",
   "execution_count": 10,
   "metadata": {
    "ExecuteTime": {
     "end_time": "2021-04-07T23:31:54.805554Z",
     "start_time": "2021-04-07T23:30:27.932265Z"
    }
   },
   "outputs": [
    {
     "name": "stdout",
     "output_type": "stream",
     "text": [
      "size: 7,880,198\n"
     ]
    }
   ],
   "source": [
    "data = ds.load(name='naver_movie_reviews', filename='naver.reviews.json.bz2')\n",
    "print(f'size: {len(data):,}')"
   ]
  },
  {
   "cell_type": "code",
   "execution_count": 11,
   "metadata": {
    "ExecuteTime": {
     "end_time": "2021-04-07T23:32:10.973058Z",
     "start_time": "2021-04-07T23:31:54.806710Z"
    }
   },
   "outputs": [
    {
     "data": {
      "text/html": [
       "<div>\n",
       "<style scoped>\n",
       "    .dataframe tbody tr th:only-of-type {\n",
       "        vertical-align: middle;\n",
       "    }\n",
       "\n",
       "    .dataframe tbody tr th {\n",
       "        vertical-align: top;\n",
       "    }\n",
       "\n",
       "    .dataframe thead th {\n",
       "        text-align: right;\n",
       "    }\n",
       "</style>\n",
       "<table border=\"1\" class=\"dataframe\">\n",
       "  <thead>\n",
       "    <tr style=\"text-align: right;\">\n",
       "      <th></th>\n",
       "      <th>rating</th>\n",
       "      <th>movie_code</th>\n",
       "      <th>dislike</th>\n",
       "      <th>date</th>\n",
       "      <th>text</th>\n",
       "      <th>like</th>\n",
       "      <th>username</th>\n",
       "      <th>title</th>\n",
       "    </tr>\n",
       "  </thead>\n",
       "  <tbody>\n",
       "    <tr>\n",
       "      <th>0</th>\n",
       "      <td>1</td>\n",
       "      <td>193996</td>\n",
       "      <td>1</td>\n",
       "      <td>2020-06-11T00:29:00+09:00</td>\n",
       "      <td>미포린 이젠 막나가는구나</td>\n",
       "      <td>1</td>\n",
       "      <td>bai(bain****)</td>\n",
       "      <td>108명의 여자와 섹스하는 방법 (108: REVENGE AND ADVENTURE ...</td>\n",
       "    </tr>\n",
       "    <tr>\n",
       "      <th>1</th>\n",
       "      <td>1</td>\n",
       "      <td>193996</td>\n",
       "      <td>1</td>\n",
       "      <td>2020-06-11T00:29:00+09:00</td>\n",
       "      <td>미포린 이젠 막나가는구나</td>\n",
       "      <td>1</td>\n",
       "      <td>bai(bain****)</td>\n",
       "      <td>108명의 여자와 섹스하는 방법 (108: REVENGE AND ADVENTURE ...</td>\n",
       "    </tr>\n",
       "    <tr>\n",
       "      <th>2</th>\n",
       "      <td>6</td>\n",
       "      <td>194004</td>\n",
       "      <td>0</td>\n",
       "      <td>2020-07-30T14:20:00+09:00</td>\n",
       "      <td>공감성 수치를 불러일으키는 16세의 기억들</td>\n",
       "      <td>0</td>\n",
       "      <td>민경(jenn****)</td>\n",
       "      <td>16세의 사운드트랙 (Soundtrack to Sixteen)</td>\n",
       "    </tr>\n",
       "    <tr>\n",
       "      <th>3</th>\n",
       "      <td>9</td>\n",
       "      <td>194004</td>\n",
       "      <td>2</td>\n",
       "      <td>2020-07-05T16:00:00+09:00</td>\n",
       "      <td>독일식 영어에 때묻지않은 이팔청춘에 조으네</td>\n",
       "      <td>1</td>\n",
       "      <td>초전동삼촌(whit****)</td>\n",
       "      <td>16세의 사운드트랙 (Soundtrack to Sixteen)</td>\n",
       "    </tr>\n",
       "    <tr>\n",
       "      <th>4</th>\n",
       "      <td>9</td>\n",
       "      <td>194004</td>\n",
       "      <td>2</td>\n",
       "      <td>2020-07-02T21:03:00+09:00</td>\n",
       "      <td>저격당했다 내 취향도 내 과거도난 왜 이렇게 이 영화가 사랑스럽지ㅠ?하나부터 열까지...</td>\n",
       "      <td>1</td>\n",
       "      <td>ㅇㅇ(toal****)</td>\n",
       "      <td>16세의 사운드트랙 (Soundtrack to Sixteen)</td>\n",
       "    </tr>\n",
       "  </tbody>\n",
       "</table>\n",
       "</div>"
      ],
      "text/plain": [
       "  rating movie_code dislike                       date  \\\n",
       "0      1     193996       1  2020-06-11T00:29:00+09:00   \n",
       "1      1     193996       1  2020-06-11T00:29:00+09:00   \n",
       "2      6     194004       0  2020-07-30T14:20:00+09:00   \n",
       "3      9     194004       2  2020-07-05T16:00:00+09:00   \n",
       "4      9     194004       2  2020-07-02T21:03:00+09:00   \n",
       "\n",
       "                                                text like         username  \\\n",
       "0                                      미포린 이젠 막나가는구나    1    bai(bain****)   \n",
       "1                                      미포린 이젠 막나가는구나    1    bai(bain****)   \n",
       "2                            공감성 수치를 불러일으키는 16세의 기억들    0     민경(jenn****)   \n",
       "3                            독일식 영어에 때묻지않은 이팔청춘에 조으네    1  초전동삼촌(whit****)   \n",
       "4  저격당했다 내 취향도 내 과거도난 왜 이렇게 이 영화가 사랑스럽지ㅠ?하나부터 열까지...    1     ㅇㅇ(toal****)   \n",
       "\n",
       "                                               title  \n",
       "0  108명의 여자와 섹스하는 방법 (108: REVENGE AND ADVENTURE ...  \n",
       "1  108명의 여자와 섹스하는 방법 (108: REVENGE AND ADVENTURE ...  \n",
       "2                 16세의 사운드트랙 (Soundtrack to Sixteen)  \n",
       "3                 16세의 사운드트랙 (Soundtrack to Sixteen)  \n",
       "4                 16세의 사운드트랙 (Soundtrack to Sixteen)  "
      ]
     },
     "execution_count": 11,
     "metadata": {},
     "output_type": "execute_result"
    }
   ],
   "source": [
    "df = pd.DataFrame(data).fillna('')\n",
    "df.head()"
   ]
  },
  {
   "cell_type": "markdown",
   "metadata": {},
   "source": [
    "# elasticsearch datasets"
   ]
  },
  {
   "cell_type": "code",
   "execution_count": 6,
   "metadata": {
    "ExecuteTime": {
     "end_time": "2021-04-07T23:22:06.168421Z",
     "start_time": "2021-04-07T23:22:04.756339Z"
    },
    "scrolled": false
   },
   "outputs": [
    {
     "data": {
      "text/html": [
       "<div>\n",
       "<style scoped>\n",
       "    .dataframe tbody tr th:only-of-type {\n",
       "        vertical-align: middle;\n",
       "    }\n",
       "\n",
       "    .dataframe tbody tr th {\n",
       "        vertical-align: top;\n",
       "    }\n",
       "\n",
       "    .dataframe thead th {\n",
       "        text-align: right;\n",
       "    }\n",
       "</style>\n",
       "<table border=\"1\" class=\"dataframe\">\n",
       "  <thead>\n",
       "    <tr style=\"text-align: right;\">\n",
       "      <th></th>\n",
       "      <th>name</th>\n",
       "      <th>count</th>\n",
       "      <th>columns</th>\n",
       "      <th>location</th>\n",
       "      <th>local_path</th>\n",
       "    </tr>\n",
       "  </thead>\n",
       "  <tbody>\n",
       "    <tr>\n",
       "      <th>crawler-bbs-game-bns-eng</th>\n",
       "      <td>crawler-bbs-game-bns-eng</td>\n",
       "      <td>18022</td>\n",
       "      <td>{'articles': 'object', 'author': 'text', 'curl...</td>\n",
       "      <td>elasticsearch</td>\n",
       "      <td>elasticsearch</td>\n",
       "    </tr>\n",
       "    <tr>\n",
       "      <th>crawler-bbs-game-lineage-vi</th>\n",
       "      <td>crawler-bbs-game-lineage-vi</td>\n",
       "      <td>120663</td>\n",
       "      <td>{'contents': 'text', 'curl_date': 'date', 'dat...</td>\n",
       "      <td>elasticsearch</td>\n",
       "      <td>elasticsearch</td>\n",
       "    </tr>\n",
       "    <tr>\n",
       "      <th>crawler-bbs-game-lineage2-eng</th>\n",
       "      <td>crawler-bbs-game-lineage2-eng</td>\n",
       "      <td>11016</td>\n",
       "      <td>{'articles': 'object', 'author': 'text', 'cate...</td>\n",
       "      <td>elasticsearch</td>\n",
       "      <td>elasticsearch</td>\n",
       "    </tr>\n",
       "    <tr>\n",
       "      <th>crawler-bbs-game-lineagem-jap</th>\n",
       "      <td>crawler-bbs-game-lineagem-jap</td>\n",
       "      <td>23075</td>\n",
       "      <td>{'author': 'text', 'content': 'text', 'curl_da...</td>\n",
       "      <td>elasticsearch</td>\n",
       "      <td>elasticsearch</td>\n",
       "    </tr>\n",
       "    <tr>\n",
       "      <th>crawler-bbs-inven</th>\n",
       "      <td>crawler-bbs-inven</td>\n",
       "      <td>7951</td>\n",
       "      <td>{'@timestamp': 'date', 'article_id': 'text', '...</td>\n",
       "      <td>elasticsearch</td>\n",
       "      <td>elasticsearch</td>\n",
       "    </tr>\n",
       "    <tr>\n",
       "      <th>...</th>\n",
       "      <td>...</td>\n",
       "      <td>...</td>\n",
       "      <td>...</td>\n",
       "      <td>...</td>\n",
       "      <td>...</td>\n",
       "    </tr>\n",
       "    <tr>\n",
       "      <th>raw-zdnet-2021</th>\n",
       "      <td>raw-zdnet-2021</td>\n",
       "      <td>12</td>\n",
       "      <td>{'@curl_date': 'date', 'category': 'keyword', ...</td>\n",
       "      <td>elasticsearch</td>\n",
       "      <td>elasticsearch</td>\n",
       "    </tr>\n",
       "    <tr>\n",
       "      <th>sample-dcinside-2021</th>\n",
       "      <td>sample-dcinside-2021</td>\n",
       "      <td>274968</td>\n",
       "      <td>{'@curl_date': 'date', 'category': 'text', 'co...</td>\n",
       "      <td>elasticsearch</td>\n",
       "      <td>elasticsearch</td>\n",
       "    </tr>\n",
       "    <tr>\n",
       "      <th>temp_yhnews_tv_sports_2020</th>\n",
       "      <td>temp_yhnews_tv_sports_2020</td>\n",
       "      <td>867643</td>\n",
       "      <td>{'CAP': 'text', 'CAT': 'text', 'CID': 'text', ...</td>\n",
       "      <td>elasticsearch</td>\n",
       "      <td>elasticsearch</td>\n",
       "    </tr>\n",
       "    <tr>\n",
       "      <th>test-economy-2021-02</th>\n",
       "      <td>test-economy-2021-02</td>\n",
       "      <td>62022</td>\n",
       "      <td>{'@curl_date': 'date', '@timestamp': 'date', '...</td>\n",
       "      <td>elasticsearch</td>\n",
       "      <td>elasticsearch</td>\n",
       "    </tr>\n",
       "    <tr>\n",
       "      <th>yh_economy_search_test</th>\n",
       "      <td>yh_economy_search_test</td>\n",
       "      <td>67646</td>\n",
       "      <td>{'contents': 'text', 'id': 'keyword', 'raw': '...</td>\n",
       "      <td>elasticsearch</td>\n",
       "      <td>elasticsearch</td>\n",
       "    </tr>\n",
       "  </tbody>\n",
       "</table>\n",
       "<p>951 rows × 5 columns</p>\n",
       "</div>"
      ],
      "text/plain": [
       "                                                        name   count  \\\n",
       "crawler-bbs-game-bns-eng            crawler-bbs-game-bns-eng   18022   \n",
       "crawler-bbs-game-lineage-vi      crawler-bbs-game-lineage-vi  120663   \n",
       "crawler-bbs-game-lineage2-eng  crawler-bbs-game-lineage2-eng   11016   \n",
       "crawler-bbs-game-lineagem-jap  crawler-bbs-game-lineagem-jap   23075   \n",
       "crawler-bbs-inven                          crawler-bbs-inven    7951   \n",
       "...                                                      ...     ...   \n",
       "raw-zdnet-2021                                raw-zdnet-2021      12   \n",
       "sample-dcinside-2021                    sample-dcinside-2021  274968   \n",
       "temp_yhnews_tv_sports_2020        temp_yhnews_tv_sports_2020  867643   \n",
       "test-economy-2021-02                    test-economy-2021-02   62022   \n",
       "yh_economy_search_test                yh_economy_search_test   67646   \n",
       "\n",
       "                                                                         columns  \\\n",
       "crawler-bbs-game-bns-eng       {'articles': 'object', 'author': 'text', 'curl...   \n",
       "crawler-bbs-game-lineage-vi    {'contents': 'text', 'curl_date': 'date', 'dat...   \n",
       "crawler-bbs-game-lineage2-eng  {'articles': 'object', 'author': 'text', 'cate...   \n",
       "crawler-bbs-game-lineagem-jap  {'author': 'text', 'content': 'text', 'curl_da...   \n",
       "crawler-bbs-inven              {'@timestamp': 'date', 'article_id': 'text', '...   \n",
       "...                                                                          ...   \n",
       "raw-zdnet-2021                 {'@curl_date': 'date', 'category': 'keyword', ...   \n",
       "sample-dcinside-2021           {'@curl_date': 'date', 'category': 'text', 'co...   \n",
       "temp_yhnews_tv_sports_2020     {'CAP': 'text', 'CAT': 'text', 'CID': 'text', ...   \n",
       "test-economy-2021-02           {'@curl_date': 'date', '@timestamp': 'date', '...   \n",
       "yh_economy_search_test         {'contents': 'text', 'id': 'keyword', 'raw': '...   \n",
       "\n",
       "                                    location     local_path  \n",
       "crawler-bbs-game-bns-eng       elasticsearch  elasticsearch  \n",
       "crawler-bbs-game-lineage-vi    elasticsearch  elasticsearch  \n",
       "crawler-bbs-game-lineage2-eng  elasticsearch  elasticsearch  \n",
       "crawler-bbs-game-lineagem-jap  elasticsearch  elasticsearch  \n",
       "crawler-bbs-inven              elasticsearch  elasticsearch  \n",
       "...                                      ...            ...  \n",
       "raw-zdnet-2021                 elasticsearch  elasticsearch  \n",
       "sample-dcinside-2021           elasticsearch  elasticsearch  \n",
       "temp_yhnews_tv_sports_2020     elasticsearch  elasticsearch  \n",
       "test-economy-2021-02           elasticsearch  elasticsearch  \n",
       "yh_economy_search_test         elasticsearch  elasticsearch  \n",
       "\n",
       "[951 rows x 5 columns]"
      ]
     },
     "execution_count": 6,
     "metadata": {},
     "output_type": "execute_result"
    }
   ],
   "source": [
    "meta = ds.pull_elastic_meta()\n",
    "pd.DataFrame(meta).T"
   ]
  },
  {
   "cell_type": "code",
   "execution_count": 7,
   "metadata": {
    "ExecuteTime": {
     "end_time": "2021-04-07T23:22:06.172553Z",
     "start_time": "2021-04-07T23:22:06.170472Z"
    },
    "scrolled": true
   },
   "outputs": [
    {
     "name": "stdout",
     "output_type": "stream",
     "text": [
      "{\n",
      "    \"@curl_date\": \"date\",\n",
      "    \"@curl_list\": \"date\",\n",
      "    \"@timestamp\": \"date\",\n",
      "    \"category\": \"text\",\n",
      "    \"content\": \"text\",\n",
      "    \"contents\": \"text\",\n",
      "    \"curl_date\": \"date\",\n",
      "    \"date\": \"date\",\n",
      "    \"document_id\": \"text\",\n",
      "    \"html\": \"text\",\n",
      "    \"html_content\": \"text\",\n",
      "    \"image_list\": \"object\",\n",
      "    \"paper\": \"text\",\n",
      "    \"parser_version\": \"text\",\n",
      "    \"parsing_error\": \"boolean\",\n",
      "    \"raw\": \"text\",\n",
      "    \"raw_html\": \"text\",\n",
      "    \"raw_list\": \"text\",\n",
      "    \"source\": \"text\",\n",
      "    \"source_section\": \"text\",\n",
      "    \"source_url\": \"text\",\n",
      "    \"status\": \"text\",\n",
      "    \"title\": \"text\",\n",
      "    \"url\": \"text\",\n",
      "    \"vod\": \"text\"\n",
      "}\n"
     ]
    }
   ],
   "source": [
    "# columns\n",
    "\n",
    "print(json.dumps(meta['crawler-naver-economy-2021']['columns'], indent=4))"
   ]
  },
  {
   "cell_type": "code",
   "execution_count": 8,
   "metadata": {
    "ExecuteTime": {
     "end_time": "2021-04-07T23:28:43.335142Z",
     "start_time": "2021-04-07T23:22:06.173623Z"
    }
   },
   "outputs": [
    {
     "name": "stderr",
     "output_type": "stream",
     "text": [
      "downloading: crawler-naver-economy-2021: 100%|██████████| 331687/331687 [06:02<00:00, 914.68it/s] \n"
     ]
    },
    {
     "name": "stdout",
     "output_type": "stream",
     "text": [
      "size: 331,687\n"
     ]
    }
   ],
   "source": [
    "# data loading\n",
    "\n",
    "data = ds.load(\n",
    "    meta=meta,\n",
    "    name='crawler-naver-economy-2021', \n",
    "    source='title,date,category,content'.split(','), \n",
    "    use_cache=False,\n",
    ")\n",
    "print(f'size: {len(data):,}')"
   ]
  },
  {
   "cell_type": "code",
   "execution_count": 9,
   "metadata": {
    "ExecuteTime": {
     "end_time": "2021-04-07T23:28:43.742938Z",
     "start_time": "2021-04-07T23:28:43.336490Z"
    }
   },
   "outputs": [
    {
     "data": {
      "text/html": [
       "<div>\n",
       "<style scoped>\n",
       "    .dataframe tbody tr th:only-of-type {\n",
       "        vertical-align: middle;\n",
       "    }\n",
       "\n",
       "    .dataframe tbody tr th {\n",
       "        vertical-align: top;\n",
       "    }\n",
       "\n",
       "    .dataframe thead th {\n",
       "        text-align: right;\n",
       "    }\n",
       "</style>\n",
       "<table border=\"1\" class=\"dataframe\">\n",
       "  <thead>\n",
       "    <tr style=\"text-align: right;\">\n",
       "      <th></th>\n",
       "      <th>_id</th>\n",
       "      <th>_index</th>\n",
       "      <th>category</th>\n",
       "      <th>content</th>\n",
       "      <th>date</th>\n",
       "      <th>title</th>\n",
       "    </tr>\n",
       "  </thead>\n",
       "  <tbody>\n",
       "    <tr>\n",
       "      <th>0</th>\n",
       "      <td>022-0003552944</td>\n",
       "      <td>crawler-naver-economy-2021</td>\n",
       "      <td>경제/산업/재계</td>\n",
       "      <td>홀가 게어만(오른쪽) 포르쉐코리아 대표가 지난 15일 서울 중구 삼일로창고극장에서 ...</td>\n",
       "      <td>2021-02-17T03:41:04.349834+09:00</td>\n",
       "      <td>포르쉐코리아, 사회공헌 캠페인 문화예술 분야 5억원 기부</td>\n",
       "    </tr>\n",
       "    <tr>\n",
       "      <th>1</th>\n",
       "      <td>022-0003552939</td>\n",
       "      <td>crawler-naver-economy-2021</td>\n",
       "      <td>경제/산업/재계</td>\n",
       "      <td>한국철도(코레일)가 근로자 권익보호 강화를 위해 공공발주자 임금직접지급제와 근로자 ...</td>\n",
       "      <td>2021-02-17T03:41:04.350909+09:00</td>\n",
       "      <td>한국철도, 근로자 권익보호 위해 임금직접지급제 확대</td>\n",
       "    </tr>\n",
       "    <tr>\n",
       "      <th>2</th>\n",
       "      <td>022-0003552937</td>\n",
       "      <td>crawler-naver-economy-2021</td>\n",
       "      <td>경제/산업/재계</td>\n",
       "      <td>카카오는 재단 카카오임팩트가 올해 첫 프로젝트로 더 나은 세상을 만들기 위해 노력하...</td>\n",
       "      <td>2021-02-17T03:41:04.352573+09:00</td>\n",
       "      <td>카카오, 사회혁신가 지원하는 ‘카카오임팩트 펠로우십’ 시즌1 시동</td>\n",
       "    </tr>\n",
       "    <tr>\n",
       "      <th>3</th>\n",
       "      <td>421-0005169616</td>\n",
       "      <td>crawler-naver-economy-2021</td>\n",
       "      <td>경제/경제 일반</td>\n",
       "      <td>文대통령 \"역대급 고용위기…특단 대책마련\" 지시\\n정부 \"비상대응\"…핵심은 이번에도...</td>\n",
       "      <td>2021-02-17T05:00:00+09:00</td>\n",
       "      <td>실업 110만 '고용참사'에…대통령 이어 장관도 \"상황 엄중\"</td>\n",
       "    </tr>\n",
       "    <tr>\n",
       "      <th>4</th>\n",
       "      <td>421-0005169631</td>\n",
       "      <td>crawler-naver-economy-2021</td>\n",
       "      <td>경제/경제 일반</td>\n",
       "      <td>홍남기 \"소상공인 정의, 매출 10억이하\"…전체 338만명에 혜택\\n10조원+α에 ...</td>\n",
       "      <td>2021-02-17T05:00:00+09:00</td>\n",
       "      <td>\"연매출 10억까지 지원\" 4차 재난금 편성 최대 15조원 이를듯</td>\n",
       "    </tr>\n",
       "  </tbody>\n",
       "</table>\n",
       "</div>"
      ],
      "text/plain": [
       "              _id                      _index  category  \\\n",
       "0  022-0003552944  crawler-naver-economy-2021  경제/산업/재계   \n",
       "1  022-0003552939  crawler-naver-economy-2021  경제/산업/재계   \n",
       "2  022-0003552937  crawler-naver-economy-2021  경제/산업/재계   \n",
       "3  421-0005169616  crawler-naver-economy-2021  경제/경제 일반   \n",
       "4  421-0005169631  crawler-naver-economy-2021  경제/경제 일반   \n",
       "\n",
       "                                             content  \\\n",
       "0  홀가 게어만(오른쪽) 포르쉐코리아 대표가 지난 15일 서울 중구 삼일로창고극장에서 ...   \n",
       "1  한국철도(코레일)가 근로자 권익보호 강화를 위해 공공발주자 임금직접지급제와 근로자 ...   \n",
       "2  카카오는 재단 카카오임팩트가 올해 첫 프로젝트로 더 나은 세상을 만들기 위해 노력하...   \n",
       "3  文대통령 \"역대급 고용위기…특단 대책마련\" 지시\\n정부 \"비상대응\"…핵심은 이번에도...   \n",
       "4  홍남기 \"소상공인 정의, 매출 10억이하\"…전체 338만명에 혜택\\n10조원+α에 ...   \n",
       "\n",
       "                               date                                 title  \n",
       "0  2021-02-17T03:41:04.349834+09:00       포르쉐코리아, 사회공헌 캠페인 문화예술 분야 5억원 기부  \n",
       "1  2021-02-17T03:41:04.350909+09:00          한국철도, 근로자 권익보호 위해 임금직접지급제 확대  \n",
       "2  2021-02-17T03:41:04.352573+09:00  카카오, 사회혁신가 지원하는 ‘카카오임팩트 펠로우십’ 시즌1 시동  \n",
       "3         2021-02-17T05:00:00+09:00    실업 110만 '고용참사'에…대통령 이어 장관도 \"상황 엄중\"  \n",
       "4         2021-02-17T05:00:00+09:00  \"연매출 10억까지 지원\" 4차 재난금 편성 최대 15조원 이를듯  "
      ]
     },
     "execution_count": 9,
     "metadata": {},
     "output_type": "execute_result"
    }
   ],
   "source": [
    "df = pd.DataFrame(data)\n",
    "df.head()"
   ]
  },
  {
   "cell_type": "code",
   "execution_count": null,
   "metadata": {},
   "outputs": [],
   "source": []
  }
 ],
 "metadata": {
  "kernelspec": {
   "display_name": "Python 3",
   "language": "python",
   "name": "python3"
  },
  "language_info": {
   "codemirror_mode": {
    "name": "ipython",
    "version": 3
   },
   "file_extension": ".py",
   "mimetype": "text/x-python",
   "name": "python",
   "nbconvert_exporter": "python",
   "pygments_lexer": "ipython3",
   "version": "3.8.2"
  },
  "latex_envs": {
   "LaTeX_envs_menu_present": true,
   "autoclose": false,
   "autocomplete": true,
   "bibliofile": "biblio.bib",
   "cite_by": "apalike",
   "current_citInitial": 1,
   "eqLabelWithNumbers": true,
   "eqNumInitial": 1,
   "hotkeys": {
    "equation": "Ctrl-E",
    "itemize": "Ctrl-I"
   },
   "labels_anchors": false,
   "latex_user_defs": false,
   "report_style_numbering": false,
   "user_envs_cfg": false
  },
  "toc": {
   "base_numbering": 1,
   "nav_menu": {},
   "number_sections": true,
   "sideBar": true,
   "skip_h1_title": false,
   "title_cell": "Table of Contents",
   "title_sidebar": "Contents",
   "toc_cell": false,
   "toc_position": {},
   "toc_section_display": true,
   "toc_window_display": false
  }
 },
 "nbformat": 4,
 "nbformat_minor": 4
}
