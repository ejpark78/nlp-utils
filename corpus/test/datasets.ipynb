{
 "cells": [
  {
   "cell_type": "code",
   "execution_count": null,
   "metadata": {
    "ExecuteTime": {
     "end_time": "2021-04-07T01:40:43.246081Z",
     "start_time": "2021-04-07T01:40:39.909383Z"
    },
    "scrolled": true
   },
   "outputs": [],
   "source": [
    "!pip3 install git+http://galadriel02.korea.ncsoft.corp/crawler-dev/corpus.git@dev"
   ]
  },
  {
   "cell_type": "code",
   "execution_count": 1,
   "metadata": {
    "ExecuteTime": {
     "end_time": "2021-04-07T02:00:54.782086Z",
     "start_time": "2021-04-07T02:00:52.667403Z"
    }
   },
   "outputs": [
    {
     "name": "stdout",
     "output_type": "stream",
     "text": [
      "[{'Name': 'corpus', 'Version': '2.862.1267', 'Summary': 'nlplab 데이터셋 배포 라이브러리', 'Home-page': 'http://galadriel02.korea.ncsoft.corp/corpus-dev/corpus', 'Author': 'ejpark', 'Author-email': 'ejpark@ncsoft.com', 'License': 'Apache License Version 2.0', 'Location': '/home/ejpark/workspace/crawler_group/crawler/venv/lib/python3.8/site-packages/corpus-2.862.1267-py3.8.egg', 'Requires': 'wheel, setuptools, twine, pandas, requests, urllib3, bs4, tqdm, webdav, minio, elasticsearch', 'Required-by': ''}, ['/home/ejpark/workspace/crawler_group/crawler/corpus/test', '/home/ejpark/workspace/crawler_group/crawler', '/usr/lib/python38.zip', '/usr/lib/python3.8', '/usr/lib/python3.8/lib-dynload', '', '/home/ejpark/.local/lib/python3.8/site-packages', '/usr/local/lib/python3.8/dist-packages', '/usr/lib/python3/dist-packages', '/usr/lib/python3.8/dist-packages', '/home/ejpark/.local/lib/python3.8/site-packages/IPython/extensions', '/home/ejpark/.ipython', '/home/ejpark/workspace/crawler_group/crawler/venv/lib/python3.8/site-packages/corpus-2.862.1267-py3.8.egg']]\n"
     ]
    }
   ],
   "source": [
    "import sys\n",
    "\n",
    "pkg_info = !pip3 show corpus\n",
    "pkg_info = {l.split(':')[0]: l.split(': ')[1]  for l in pkg_info}\n",
    "\n",
    "sys.path.append(pkg_info['Location'])\n",
    "\n",
    "print([pkg_info, sys.path])"
   ]
  },
  {
   "cell_type": "code",
   "execution_count": 2,
   "metadata": {
    "ExecuteTime": {
     "end_time": "2021-04-07T02:00:55.065728Z",
     "start_time": "2021-04-07T02:00:54.783457Z"
    }
   },
   "outputs": [
    {
     "name": "stderr",
     "output_type": "stream",
     "text": [
      "/usr/lib/python3/dist-packages/requests/__init__.py:89: RequestsDependencyWarning: urllib3 (1.26.2) or chardet (3.0.4) doesn't match a supported version!\n",
      "  warnings.warn(\"urllib3 ({}) or chardet ({}) doesn't match a supported \"\n"
     ]
    }
   ],
   "source": [
    "import pandas as pd\n",
    "from corpus.datasets import DataSets"
   ]
  },
  {
   "cell_type": "markdown",
   "metadata": {},
   "source": [
    "# minio datasets"
   ]
  },
  {
   "cell_type": "code",
   "execution_count": 5,
   "metadata": {
    "ExecuteTime": {
     "end_time": "2021-04-07T02:02:03.131877Z",
     "start_time": "2021-04-07T02:02:03.033230Z"
    }
   },
   "outputs": [
    {
     "data": {
      "text/html": [
       "<div>\n",
       "<style scoped>\n",
       "    .dataframe tbody tr th:only-of-type {\n",
       "        vertical-align: middle;\n",
       "    }\n",
       "\n",
       "    .dataframe tbody tr th {\n",
       "        vertical-align: top;\n",
       "    }\n",
       "\n",
       "    .dataframe thead th {\n",
       "        text-align: right;\n",
       "    }\n",
       "</style>\n",
       "<table border=\"1\" class=\"dataframe\">\n",
       "  <thead>\n",
       "    <tr style=\"text-align: right;\">\n",
       "      <th></th>\n",
       "      <th>name</th>\n",
       "      <th>desc</th>\n",
       "      <th>category</th>\n",
       "      <th>local_path</th>\n",
       "      <th>remote_path</th>\n",
       "      <th>files</th>\n",
       "    </tr>\n",
       "  </thead>\n",
       "  <tbody>\n",
       "    <tr>\n",
       "      <th>daum_movie_reviews</th>\n",
       "      <td>daum_movie_reviews</td>\n",
       "      <td>다음 영화 리뷰</td>\n",
       "      <td>daum_movie_reviews</td>\n",
       "      <td>movie_reviews</td>\n",
       "      <td>movie_reviews</td>\n",
       "      <td>[{'name': 'daum.reviews.json.bz2'}, {'name': '...</td>\n",
       "    </tr>\n",
       "    <tr>\n",
       "      <th>facebook-stock</th>\n",
       "      <td>facebook-stock</td>\n",
       "      <td>페이스북 주식 채널/그룹</td>\n",
       "      <td>facebook/stock</td>\n",
       "      <td>facebook</td>\n",
       "      <td>facebook</td>\n",
       "      <td>[{'name': 'stock.posts.json.bz2'}]</td>\n",
       "    </tr>\n",
       "    <tr>\n",
       "      <th>facebook</th>\n",
       "      <td>facebook</td>\n",
       "      <td>페이스북 그룹</td>\n",
       "      <td>facebook</td>\n",
       "      <td>facebook</td>\n",
       "      <td>facebook</td>\n",
       "      <td>[{'name': 'facebook.posts.json.bz2'}, {'name':...</td>\n",
       "    </tr>\n",
       "    <tr>\n",
       "      <th>kbsec</th>\n",
       "      <td>kbsec</td>\n",
       "      <td>KB리서치 보고서</td>\n",
       "      <td>stock/reports</td>\n",
       "      <td>kbsec</td>\n",
       "      <td>kbsec</td>\n",
       "      <td>[{'name': 'kbsec.reports.json.bz2'}, {'name': ...</td>\n",
       "    </tr>\n",
       "    <tr>\n",
       "      <th>naver_movie_reviews</th>\n",
       "      <td>naver_movie_reviews</td>\n",
       "      <td>네이버 영화 리뷰</td>\n",
       "      <td>naver_movie_reviews</td>\n",
       "      <td>movie_reviews</td>\n",
       "      <td>movie_reviews</td>\n",
       "      <td>[{'name': 'naver.reviews.json.bz2'}, {'name': ...</td>\n",
       "    </tr>\n",
       "    <tr>\n",
       "      <th>youtube_bns</th>\n",
       "      <td>youtube_bns</td>\n",
       "      <td>유튜브 댓글</td>\n",
       "      <td>youtube/games/bns</td>\n",
       "      <td>youtube</td>\n",
       "      <td>youtube</td>\n",
       "      <td>[{'name': 'bns.replies.json.bz2'}, {'name': 'b...</td>\n",
       "    </tr>\n",
       "    <tr>\n",
       "      <th>youtube_mtd</th>\n",
       "      <td>youtube_mtd</td>\n",
       "      <td>유튜브 댓글</td>\n",
       "      <td>youtube/mtd</td>\n",
       "      <td>youtube</td>\n",
       "      <td>youtube</td>\n",
       "      <td>[{'name': 'mtd.replies.json.bz2'}, {'name': 'm...</td>\n",
       "    </tr>\n",
       "    <tr>\n",
       "      <th>youtube_news</th>\n",
       "      <td>youtube_news</td>\n",
       "      <td>유튜브 댓글</td>\n",
       "      <td>youtube/news</td>\n",
       "      <td>youtube</td>\n",
       "      <td>youtube</td>\n",
       "      <td>[{'name': 'news.replies.json.bz2'}, {'name': '...</td>\n",
       "    </tr>\n",
       "  </tbody>\n",
       "</table>\n",
       "</div>"
      ],
      "text/plain": [
       "                                    name           desc             category  \\\n",
       "daum_movie_reviews    daum_movie_reviews       다음 영화 리뷰   daum_movie_reviews   \n",
       "facebook-stock            facebook-stock  페이스북 주식 채널/그룹       facebook/stock   \n",
       "facebook                        facebook        페이스북 그룹             facebook   \n",
       "kbsec                              kbsec      KB리서치 보고서        stock/reports   \n",
       "naver_movie_reviews  naver_movie_reviews      네이버 영화 리뷰  naver_movie_reviews   \n",
       "youtube_bns                  youtube_bns         유튜브 댓글    youtube/games/bns   \n",
       "youtube_mtd                  youtube_mtd         유튜브 댓글          youtube/mtd   \n",
       "youtube_news                youtube_news         유튜브 댓글         youtube/news   \n",
       "\n",
       "                        local_path    remote_path  \\\n",
       "daum_movie_reviews   movie_reviews  movie_reviews   \n",
       "facebook-stock            facebook       facebook   \n",
       "facebook                  facebook       facebook   \n",
       "kbsec                        kbsec          kbsec   \n",
       "naver_movie_reviews  movie_reviews  movie_reviews   \n",
       "youtube_bns                youtube        youtube   \n",
       "youtube_mtd                youtube        youtube   \n",
       "youtube_news               youtube        youtube   \n",
       "\n",
       "                                                                 files  \n",
       "daum_movie_reviews   [{'name': 'daum.reviews.json.bz2'}, {'name': '...  \n",
       "facebook-stock                      [{'name': 'stock.posts.json.bz2'}]  \n",
       "facebook             [{'name': 'facebook.posts.json.bz2'}, {'name':...  \n",
       "kbsec                [{'name': 'kbsec.reports.json.bz2'}, {'name': ...  \n",
       "naver_movie_reviews  [{'name': 'naver.reviews.json.bz2'}, {'name': ...  \n",
       "youtube_bns          [{'name': 'bns.replies.json.bz2'}, {'name': 'b...  \n",
       "youtube_mtd          [{'name': 'mtd.replies.json.bz2'}, {'name': 'm...  \n",
       "youtube_news         [{'name': 'news.replies.json.bz2'}, {'name': '...  "
      ]
     },
     "execution_count": 5,
     "metadata": {},
     "output_type": "execute_result"
    }
   ],
   "source": [
    "ds = DataSets()\n",
    "\n",
    "pd.DataFrame(ds.meta).T"
   ]
  },
  {
   "cell_type": "markdown",
   "metadata": {},
   "source": [
    "# elasticsearch datasets"
   ]
  },
  {
   "cell_type": "code",
   "execution_count": 6,
   "metadata": {
    "ExecuteTime": {
     "end_time": "2021-04-07T02:02:08.322779Z",
     "start_time": "2021-04-07T02:02:07.511017Z"
    },
    "scrolled": false
   },
   "outputs": [
    {
     "data": {
      "text/html": [
       "<div>\n",
       "<style scoped>\n",
       "    .dataframe tbody tr th:only-of-type {\n",
       "        vertical-align: middle;\n",
       "    }\n",
       "\n",
       "    .dataframe tbody tr th {\n",
       "        vertical-align: top;\n",
       "    }\n",
       "\n",
       "    .dataframe thead th {\n",
       "        text-align: right;\n",
       "    }\n",
       "</style>\n",
       "<table border=\"1\" class=\"dataframe\">\n",
       "  <thead>\n",
       "    <tr style=\"text-align: right;\">\n",
       "      <th></th>\n",
       "      <th>name</th>\n",
       "      <th>count</th>\n",
       "      <th>desc</th>\n",
       "      <th>source</th>\n",
       "      <th>local_path</th>\n",
       "    </tr>\n",
       "  </thead>\n",
       "  <tbody>\n",
       "    <tr>\n",
       "      <th>corpus-bbs-lineagem</th>\n",
       "      <td>corpus-bbs-lineagem</td>\n",
       "      <td>3390921</td>\n",
       "      <td>elasticsearch 코퍼스</td>\n",
       "      <td>https://corpus.ncsoft.com:9200</td>\n",
       "      <td>elasticsearch</td>\n",
       "    </tr>\n",
       "    <tr>\n",
       "      <th>corpus-bitext</th>\n",
       "      <td>corpus-bitext</td>\n",
       "      <td>4371417</td>\n",
       "      <td>elasticsearch 코퍼스</td>\n",
       "      <td>https://corpus.ncsoft.com:9200</td>\n",
       "      <td>elasticsearch</td>\n",
       "    </tr>\n",
       "    <tr>\n",
       "      <th>corpus-bitext-aspec-jaen</th>\n",
       "      <td>corpus-bitext-aspec-jaen</td>\n",
       "      <td>3013886</td>\n",
       "      <td>elasticsearch 코퍼스</td>\n",
       "      <td>https://corpus.ncsoft.com:9200</td>\n",
       "      <td>elasticsearch</td>\n",
       "    </tr>\n",
       "    <tr>\n",
       "      <th>corpus-bitext-aspec-jazh</th>\n",
       "      <td>corpus-bitext-aspec-jazh</td>\n",
       "      <td>678660</td>\n",
       "      <td>elasticsearch 코퍼스</td>\n",
       "      <td>https://corpus.ncsoft.com:9200</td>\n",
       "      <td>elasticsearch</td>\n",
       "    </tr>\n",
       "    <tr>\n",
       "      <th>corpus-bitext-koen</th>\n",
       "      <td>corpus-bitext-koen</td>\n",
       "      <td>4371417</td>\n",
       "      <td>elasticsearch 코퍼스</td>\n",
       "      <td>https://corpus.ncsoft.com:9200</td>\n",
       "      <td>elasticsearch</td>\n",
       "    </tr>\n",
       "    <tr>\n",
       "      <th>...</th>\n",
       "      <td>...</td>\n",
       "      <td>...</td>\n",
       "      <td>...</td>\n",
       "      <td>...</td>\n",
       "      <td>...</td>\n",
       "    </tr>\n",
       "    <tr>\n",
       "      <th>script_example</th>\n",
       "      <td>script_example</td>\n",
       "      <td>0</td>\n",
       "      <td>elasticsearch 코퍼스</td>\n",
       "      <td>https://corpus.ncsoft.com:9200</td>\n",
       "      <td>elasticsearch</td>\n",
       "    </tr>\n",
       "    <tr>\n",
       "      <th>soccer</th>\n",
       "      <td>soccer</td>\n",
       "      <td>0</td>\n",
       "      <td>elasticsearch 코퍼스</td>\n",
       "      <td>https://corpus.ncsoft.com:9200</td>\n",
       "      <td>elasticsearch</td>\n",
       "    </tr>\n",
       "    <tr>\n",
       "      <th>temp_yhnews_tv_sports_2020</th>\n",
       "      <td>temp_yhnews_tv_sports_2020</td>\n",
       "      <td>867643</td>\n",
       "      <td>elasticsearch 코퍼스</td>\n",
       "      <td>https://corpus.ncsoft.com:9200</td>\n",
       "      <td>elasticsearch</td>\n",
       "    </tr>\n",
       "    <tr>\n",
       "      <th>test-economy-2021-02</th>\n",
       "      <td>test-economy-2021-02</td>\n",
       "      <td>62022</td>\n",
       "      <td>elasticsearch 코퍼스</td>\n",
       "      <td>https://corpus.ncsoft.com:9200</td>\n",
       "      <td>elasticsearch</td>\n",
       "    </tr>\n",
       "    <tr>\n",
       "      <th>yh_economy_search_test</th>\n",
       "      <td>yh_economy_search_test</td>\n",
       "      <td>67646</td>\n",
       "      <td>elasticsearch 코퍼스</td>\n",
       "      <td>https://corpus.ncsoft.com:9200</td>\n",
       "      <td>elasticsearch</td>\n",
       "    </tr>\n",
       "  </tbody>\n",
       "</table>\n",
       "<p>1043 rows × 5 columns</p>\n",
       "</div>"
      ],
      "text/plain": [
       "                                                  name    count  \\\n",
       "corpus-bbs-lineagem                corpus-bbs-lineagem  3390921   \n",
       "corpus-bitext                            corpus-bitext  4371417   \n",
       "corpus-bitext-aspec-jaen      corpus-bitext-aspec-jaen  3013886   \n",
       "corpus-bitext-aspec-jazh      corpus-bitext-aspec-jazh   678660   \n",
       "corpus-bitext-koen                  corpus-bitext-koen  4371417   \n",
       "...                                                ...      ...   \n",
       "script_example                          script_example        0   \n",
       "soccer                                          soccer        0   \n",
       "temp_yhnews_tv_sports_2020  temp_yhnews_tv_sports_2020   867643   \n",
       "test-economy-2021-02              test-economy-2021-02    62022   \n",
       "yh_economy_search_test          yh_economy_search_test    67646   \n",
       "\n",
       "                                         desc                          source  \\\n",
       "corpus-bbs-lineagem         elasticsearch 코퍼스  https://corpus.ncsoft.com:9200   \n",
       "corpus-bitext               elasticsearch 코퍼스  https://corpus.ncsoft.com:9200   \n",
       "corpus-bitext-aspec-jaen    elasticsearch 코퍼스  https://corpus.ncsoft.com:9200   \n",
       "corpus-bitext-aspec-jazh    elasticsearch 코퍼스  https://corpus.ncsoft.com:9200   \n",
       "corpus-bitext-koen          elasticsearch 코퍼스  https://corpus.ncsoft.com:9200   \n",
       "...                                       ...                             ...   \n",
       "script_example              elasticsearch 코퍼스  https://corpus.ncsoft.com:9200   \n",
       "soccer                      elasticsearch 코퍼스  https://corpus.ncsoft.com:9200   \n",
       "temp_yhnews_tv_sports_2020  elasticsearch 코퍼스  https://corpus.ncsoft.com:9200   \n",
       "test-economy-2021-02        elasticsearch 코퍼스  https://corpus.ncsoft.com:9200   \n",
       "yh_economy_search_test      elasticsearch 코퍼스  https://corpus.ncsoft.com:9200   \n",
       "\n",
       "                               local_path  \n",
       "corpus-bbs-lineagem         elasticsearch  \n",
       "corpus-bitext               elasticsearch  \n",
       "corpus-bitext-aspec-jaen    elasticsearch  \n",
       "corpus-bitext-aspec-jazh    elasticsearch  \n",
       "corpus-bitext-koen          elasticsearch  \n",
       "...                                   ...  \n",
       "script_example              elasticsearch  \n",
       "soccer                      elasticsearch  \n",
       "temp_yhnews_tv_sports_2020  elasticsearch  \n",
       "test-economy-2021-02        elasticsearch  \n",
       "yh_economy_search_test      elasticsearch  \n",
       "\n",
       "[1043 rows x 5 columns]"
      ]
     },
     "execution_count": 6,
     "metadata": {},
     "output_type": "execute_result"
    }
   ],
   "source": [
    "meta = ds.pull_elastic_meta()\n",
    "\n",
    "pd.DataFrame(meta).T"
   ]
  },
  {
   "cell_type": "markdown",
   "metadata": {},
   "source": [
    "# datasets"
   ]
  },
  {
   "cell_type": "code",
   "execution_count": 15,
   "metadata": {
    "ExecuteTime": {
     "end_time": "2021-04-07T02:09:42.480054Z",
     "start_time": "2021-04-07T02:09:42.477954Z"
    }
   },
   "outputs": [],
   "source": [
    "data = ds.load(name='movie_reviews')\n",
    "data"
   ]
  },
  {
   "cell_type": "code",
   "execution_count": null,
   "metadata": {},
   "outputs": [],
   "source": [
    "df = pd.DataFrame(data)\n",
    "\n",
    "df.columns"
   ]
  },
  {
   "cell_type": "code",
   "execution_count": null,
   "metadata": {},
   "outputs": [],
   "source": [
    "df[['username', 'rating', 'content']]"
   ]
  },
  {
   "cell_type": "code",
   "execution_count": null,
   "metadata": {},
   "outputs": [],
   "source": []
  }
 ],
 "metadata": {
  "kernelspec": {
   "display_name": "Python 3",
   "language": "python",
   "name": "python3"
  },
  "language_info": {
   "codemirror_mode": {
    "name": "ipython",
    "version": 3
   },
   "file_extension": ".py",
   "mimetype": "text/x-python",
   "name": "python",
   "nbconvert_exporter": "python",
   "pygments_lexer": "ipython3",
   "version": "3.8.5"
  },
  "latex_envs": {
   "LaTeX_envs_menu_present": true,
   "autoclose": false,
   "autocomplete": true,
   "bibliofile": "biblio.bib",
   "cite_by": "apalike",
   "current_citInitial": 1,
   "eqLabelWithNumbers": true,
   "eqNumInitial": 1,
   "hotkeys": {
    "equation": "Ctrl-E",
    "itemize": "Ctrl-I"
   },
   "labels_anchors": false,
   "latex_user_defs": false,
   "report_style_numbering": false,
   "user_envs_cfg": false
  },
  "toc": {
   "base_numbering": 1,
   "nav_menu": {},
   "number_sections": true,
   "sideBar": true,
   "skip_h1_title": false,
   "title_cell": "Table of Contents",
   "title_sidebar": "Contents",
   "toc_cell": false,
   "toc_position": {},
   "toc_section_display": true,
   "toc_window_display": false
  }
 },
 "nbformat": 4,
 "nbformat_minor": 4
}
