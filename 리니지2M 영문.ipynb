{
 "cells": [
  {
   "cell_type": "code",
   "execution_count": 1,
   "metadata": {
    "ExecuteTime": {
     "end_time": "2019-12-17T04:48:25.554688Z",
     "start_time": "2019-12-17T04:48:25.528712Z"
    }
   },
   "outputs": [],
   "source": [
    "%load_ext autoreload\n",
    "%autoreload 2"
   ]
  },
  {
   "cell_type": "code",
   "execution_count": 2,
   "metadata": {
    "ExecuteTime": {
     "end_time": "2019-12-17T04:48:28.440954Z",
     "start_time": "2019-12-17T04:48:25.826636Z"
    }
   },
   "outputs": [
    {
     "name": "stderr",
     "output_type": "stream",
     "text": [
      "/home/.local/lib/python3.6/site-packages/ipykernel_launcher.py:8: TqdmExperimentalWarning: Using `tqdm.autonotebook.tqdm` in notebook mode. Use `tqdm.tqdm` instead to force console mode (e.g. in jupyter console)\n",
      "  \n"
     ]
    }
   ],
   "source": [
    "import requests\n",
    "import pandas as pd\n",
    "import pytz\n",
    "from bs4 import BeautifulSoup \n",
    "from time import sleep\n",
    "from datetime import datetime\n",
    "from urllib.parse import urljoin\n",
    "from tqdm.autonotebook import tqdm"
   ]
  },
  {
   "cell_type": "code",
   "execution_count": 3,
   "metadata": {
    "ExecuteTime": {
     "end_time": "2019-12-17T04:49:05.330210Z",
     "start_time": "2019-12-17T04:48:59.061165Z"
    }
   },
   "outputs": [],
   "source": []
  },
  {
   "cell_type": "code",
   "execution_count": 5,
   "metadata": {
    "ExecuteTime": {
     "end_time": "2019-12-17T04:53:38.519154Z",
     "start_time": "2019-12-17T04:53:37.284939Z"
    }
   },
   "outputs": [
    {
     "data": {
      "text/plain": [
       "[{'forum_title': 'News and Announcements',\n",
       "  'forum_url': 'https://forums.bladeandsoul.com/forum/412-news-and-announcements/'},\n",
       " {'forum_title': 'General Discussion',\n",
       "  'forum_url': 'https://forums.bladeandsoul.com/forum/421-general-discussion/'},\n",
       " {'forum_title': 'PvE',\n",
       "  'forum_url': 'https://forums.bladeandsoul.com/forum/423-pve/'},\n",
       " {'forum_title': 'PvP',\n",
       "  'forum_url': 'https://forums.bladeandsoul.com/forum/430-pvp/'},\n",
       " {'forum_title': 'Fall Comic Contest Submissions',\n",
       "  'forum_url': 'https://forums.bladeandsoul.com/forum/692-fall-comic-contest-submissions/'},\n",
       " {'forum_title': 'Esports',\n",
       "  'forum_url': 'https://forums.bladeandsoul.com/forum/662-esports/'},\n",
       " {'forum_title': 'Player to Player Support',\n",
       "  'forum_url': 'https://forums.bladeandsoul.com/forum/419-player-to-player-support/'},\n",
       " {'forum_title': 'Fan Creations',\n",
       "  'forum_url': 'https://forums.bladeandsoul.com/forum/438-fan-creations/'},\n",
       " {'forum_title': 'Bug Reports',\n",
       "  'forum_url': 'https://forums.bladeandsoul.com/forum/439-bug-reports/'},\n",
       " {'forum_title': 'Classes',\n",
       "  'forum_url': 'https://forums.bladeandsoul.com/forum/631-classes/'},\n",
       " {'forum_title': 'Servers',\n",
       "  'forum_url': 'https://forums.bladeandsoul.com/forum/440-servers/'}]"
      ]
     },
     "execution_count": 5,
     "metadata": {},
     "output_type": "execute_result"
    }
   ],
   "source": [
    "url = 'https://forums.bladeandsoul.com/en/'\n",
    "\n",
    "resp = requests.get(url)\n",
    "\n",
    "soup = BeautifulSoup(resp.text, 'html5lib')\n",
    "\n",
    "result = []\n",
    "for forum in soup.select('ol li.cForumRow'):\n",
    "    doc = {\n",
    "        'forum_title': ''.join([v.get_text().strip() for v in forum.select('h4.ipsDataItem_title a')]),\n",
    "        'forum_url': ''.join([v['href'] for v in forum.select('h4.ipsDataItem_title a')]),\n",
    "    }\n",
    "\n",
    "    result.append(doc)\n",
    "    \n",
    "result\n"
   ]
  }
 ],
 "metadata": {
  "kernelspec": {
   "display_name": "Python 3",
   "language": "python",
   "name": "python3"
  },
  "language_info": {
   "codemirror_mode": {
    "name": "ipython",
    "version": 3
   },
   "file_extension": ".py",
   "mimetype": "text/x-python",
   "name": "python",
   "nbconvert_exporter": "python",
   "pygments_lexer": "ipython3",
   "version": "3.6.9"
  }
 },
 "nbformat": 4,
 "nbformat_minor": 2
}
